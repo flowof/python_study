{
 "cells": [
  {
   "cell_type": "code",
   "execution_count": null,
   "metadata": {},
   "outputs": [],
   "source": []
  },
  {
   "cell_type": "code",
   "execution_count": null,
   "metadata": {},
   "outputs": [],
   "source": []
  },
  {
   "cell_type": "code",
   "execution_count": null,
   "metadata": {},
   "outputs": [],
   "source": []
  },
  {
   "cell_type": "code",
   "execution_count": null,
   "metadata": {},
   "outputs": [],
   "source": []
  },
  {
   "cell_type": "markdown",
   "metadata": {},
   "source": [
    "## UNIT34 클래스 사용하기 --- p.493"
   ]
  },
  {
   "cell_type": "code",
   "execution_count": null,
   "metadata": {},
   "outputs": [],
   "source": [
    "# student : 이름, 학년, 성적, 학번, 출력,\n",
    "def info_print(s):\n",
    "    print('이름 : ', s[0])\n",
    "    print('학년 : ', s[1])\n",
    "    print('성적 : ', s[2])\n",
    "    \n",
    "def update_sungkuk(s, val):\n",
    "    s[2] = val\n",
    "    \n",
    "s1 = ['철수', 2, 4.0, 0.1234]\n",
    "s2 = ['영희', 2, 4.0, 0.1234]\n",
    "\n",
    "info_print(s1)\n",
    "update_sungkuk(s1, 4.5)\n",
    "info_print(s1)\n",
    "\n",
    "type(s1)"
   ]
  },
  {
   "cell_type": "code",
   "execution_count": null,
   "metadata": {},
   "outputs": [],
   "source": [
    "a = ['철수', 2, 4.0, 0.1234]\n"
   ]
  },
  {
   "cell_type": "code",
   "execution_count": 1,
   "metadata": {},
   "outputs": [
    {
     "data": {
      "text/plain": [
       "{'__name__': '__main__',\n",
       " '__doc__': 'Automatically created module for IPython interactive environment',\n",
       " '__package__': None,\n",
       " '__loader__': None,\n",
       " '__spec__': None,\n",
       " '__builtin__': <module 'builtins' (built-in)>,\n",
       " '__builtins__': <module 'builtins' (built-in)>,\n",
       " '_ih': ['', 'globals()'],\n",
       " '_oh': {},\n",
       " '_dh': ['C:\\\\project\\\\Part_1'],\n",
       " 'In': ['', 'globals()'],\n",
       " 'Out': {},\n",
       " 'get_ipython': <bound method InteractiveShell.get_ipython of <ipykernel.zmqshell.ZMQInteractiveShell object at 0x000001D15C16AE80>>,\n",
       " 'exit': <IPython.core.autocall.ZMQExitAutocall at 0x1d15e9d4908>,\n",
       " 'quit': <IPython.core.autocall.ZMQExitAutocall at 0x1d15e9d4908>,\n",
       " '_': '',\n",
       " '__': '',\n",
       " '___': '',\n",
       " '_i': '',\n",
       " '_ii': '',\n",
       " '_iii': '',\n",
       " '_i1': 'globals()'}"
      ]
     },
     "execution_count": 1,
     "metadata": {},
     "output_type": "execute_result"
    }
   ],
   "source": [
    "globals()"
   ]
  },
  {
   "cell_type": "code",
   "execution_count": 18,
   "metadata": {},
   "outputs": [],
   "source": [
    "# 34.1 클래스와 메서드 만들기 --- p.495\n",
    "class Person:\n",
    "    def greeting(self):\n",
    "        print('Hello')\n",
    "        \n",
    "# 인스턴스 = 클래스()\n",
    "james = Person() # 변수 james가 Person의 인스턴스"
   ]
  },
  {
   "cell_type": "code",
   "execution_count": 37,
   "metadata": {
    "scrolled": true
   },
   "outputs": [
    {
     "data": {
      "text/plain": [
       "{'__name__': '__main__',\n",
       " '__doc__': 'Automatically created module for IPython interactive environment',\n",
       " '__package__': None,\n",
       " '__loader__': None,\n",
       " '__spec__': None,\n",
       " '__builtin__': <module 'builtins' (built-in)>,\n",
       " '__builtins__': <module 'builtins' (built-in)>,\n",
       " '_ih': ['',\n",
       "  \"# 34.1 클래스와 메서드 만들기 --- p.495\\nclass Person:\\n    def greeting(self):\\n        print('Hello')\\n        \\n        \\n# 인스턴스 = 클래스()\\njames = Person()\\n\\nprint(Person.__dict__)\",\n",
       "  \"# 34.1 클래스와 메서드 만들기 --- p.495\\nclass Person:\\n    def greeting(self):\\n        print('Hello')\\n        \\n        \\n# 인스턴스 = 클래스()\\njames = Person()\\n\\nprint(Person.__dict__)\\nprint(james.__dict__)\",\n",
       "  \"# 34.1 클래스와 메서드 만들기 --- p.495\\nclass Person:\\n    def greeting(self):\\n        print('Hello')\\n        \\n        \\n# 인스턴스 = 클래스()\\njames = Person() # 변수 james가 Person의 인스턴스\\n\\nprint(Person.__dict__, end=' ')\\nprint(james.__dict__)\",\n",
       "  \"# 34.1 클래스와 메서드 만들기 --- p.495\\nclass Person:\\n    def greeting(self):\\n        print('Hello')\\n        \\n        \\n# 인스턴스 = 클래스()\\njames = Person() # 변수 james가 Person의 인스턴스\\n\\nprint(Person.__dict__, end='\\\\n')\\nprint(james.__dict__)\",\n",
       "  \"# 34.1 클래스와 메서드 만들기 --- p.495\\nclass Person:\\n    def greeting(self):\\n        print('Hello')\\n        \\n        \\n# 인스턴스 = 클래스()\\njames = Person() # 변수 james가 Person의 인스턴스\\n\\nprint(Person.__dict__)\\nprint('\\\\n')\\nprint(james.__dict__)\",\n",
       "  \"# 34.1 클래스와 메서드 만들기 --- p.495\\nclass Person:\\n    def greeting(self):\\n        print('Hello')\\n        \\n# 인스턴스 = 클래스()\\njames = Person() # 변수 james가 Person의 인스턴스\\n\\nprint('Person.__dict__ :', Person.__dict__)\\nprint('\\\\n')\\nprint('james.__dict__ :', james.__dict__)\",\n",
       "  'james.greeting()',\n",
       "  'a = Person()\\na.greeting()\\n\\nprint(id(james))\\nprint(id(a))',\n",
       "  '# 34.1.1 메서드 호출하기 --- p.496\\njames.greeting()\\n\\na = Person()\\na.greeting()',\n",
       "  'Person.__dict__',\n",
       "  'a.__dict__',\n",
       "  'james.__dict__',\n",
       "  'a.aaa=10\\na.aaa',\n",
       "  'a.__dict__ # 10은 단독으로 a에게 가는 것 ',\n",
       "  'james.aaa # 10은 단독으로 a에게 가는 것 james는 에러',\n",
       "  '#globals()',\n",
       "  \"# 34.1 클래스와 메서드 만들기 --- p.495\\nclass Person:\\n    def greeting(self):\\n        print('Hello')\\n        \\n# 인스턴스 = 클래스()\\njames = Person() # 변수 james가 Person의 인스턴스\",\n",
       "  \"# 34.1 클래스와 메서드 만들기 --- p.495\\nclass Person:\\n    def greeting(self):\\n        print('Hello')\\n        \\n# 인스턴스 = 클래스()\\njames = Person() # 변수 james가 Person의 인스턴스\",\n",
       "  '#globals()',\n",
       "  '# 34.1.1 메서드 호출하기 --- p.496\\njames.greeting()\\n\\na = Person()\\na.greeting()',\n",
       "  'print(id(james))\\nprint(id(a))',\n",
       "  \"print('Person.__dict__ :', Person.__dict__)\\nprint('\\\\n')\\nprint('james.__dict__ :', james.__dict__)\\nprint('\\\\n')\\nprint('a.__dict__ :', a.__dict__)\",\n",
       "  \"james.test = 'test'\\nprint('james.__dict__ :', james.__dict__)\\nprint(james)\",\n",
       "  \"james.test = 'test'\\nprint('james.__dict__ :', james.__dict__)\\njames\",\n",
       "  \"james.test = 'test'\\nprint('james.__dict__ :', james.__dict__)\\nprint(james)\",\n",
       "  'a.aaa=10\\na.aaa',\n",
       "  'a = Person()\\na.greeting()',\n",
       "  '# 34.1.1 메서드 호출하기 --- p.496\\njames.greeting()',\n",
       "  \"a.aaa=10\\nprint('a.__dict__ :', a.__dict__)\\nprint(a)\\na.aaa\",\n",
       "  \"a.aaa=10\\nprint('a.__dict__ :', a.__dict__)#10은 단독으로 a에게 감 \\na.aaa\",\n",
       "  \"james.test = 'test'\\n\\nprint('james.__dict__ :', james.__dict__)\\njames.test\",\n",
       "  \"james.test = 'test'\\n\\nprint(james.__dict__)\\njames.test\",\n",
       "  \"james.test = 'test'\\n\\nprint(james.__dict__)\\nprint(james.test)\",\n",
       "  \"james.test = 'test'\\n\\nprint('james.__dict__ :', james.__dict__)\\nprint('james.test :', james.test)\",\n",
       "  \"a.aaa=10\\n\\nprint('a.__dict__ :', a.__dict__)#10은 단독으로 a에게 감 \\nprint('a.aaa :', a.aaa)\",\n",
       "  'james.aaa # 10은 단독으로 a에게 가는 것 james는 에러',\n",
       "  'globals()'],\n",
       " '_oh': {10: mappingproxy({'__module__': '__main__',\n",
       "                'greeting': <function __main__.Person.greeting(self)>,\n",
       "                '__dict__': <attribute '__dict__' of 'Person' objects>,\n",
       "                '__weakref__': <attribute '__weakref__' of 'Person' objects>,\n",
       "                '__doc__': None}),\n",
       "  11: {'aaa': 10},\n",
       "  12: {},\n",
       "  13: 10,\n",
       "  14: {'aaa': 10},\n",
       "  24: <__main__.Person at 0x242fdcaee48>,\n",
       "  26: 10,\n",
       "  29: 10,\n",
       "  30: 10,\n",
       "  31: 'test',\n",
       "  32: 'test'},\n",
       " '_dh': ['C:\\\\project\\\\Part_1'],\n",
       " 'In': ['',\n",
       "  \"# 34.1 클래스와 메서드 만들기 --- p.495\\nclass Person:\\n    def greeting(self):\\n        print('Hello')\\n        \\n        \\n# 인스턴스 = 클래스()\\njames = Person()\\n\\nprint(Person.__dict__)\",\n",
       "  \"# 34.1 클래스와 메서드 만들기 --- p.495\\nclass Person:\\n    def greeting(self):\\n        print('Hello')\\n        \\n        \\n# 인스턴스 = 클래스()\\njames = Person()\\n\\nprint(Person.__dict__)\\nprint(james.__dict__)\",\n",
       "  \"# 34.1 클래스와 메서드 만들기 --- p.495\\nclass Person:\\n    def greeting(self):\\n        print('Hello')\\n        \\n        \\n# 인스턴스 = 클래스()\\njames = Person() # 변수 james가 Person의 인스턴스\\n\\nprint(Person.__dict__, end=' ')\\nprint(james.__dict__)\",\n",
       "  \"# 34.1 클래스와 메서드 만들기 --- p.495\\nclass Person:\\n    def greeting(self):\\n        print('Hello')\\n        \\n        \\n# 인스턴스 = 클래스()\\njames = Person() # 변수 james가 Person의 인스턴스\\n\\nprint(Person.__dict__, end='\\\\n')\\nprint(james.__dict__)\",\n",
       "  \"# 34.1 클래스와 메서드 만들기 --- p.495\\nclass Person:\\n    def greeting(self):\\n        print('Hello')\\n        \\n        \\n# 인스턴스 = 클래스()\\njames = Person() # 변수 james가 Person의 인스턴스\\n\\nprint(Person.__dict__)\\nprint('\\\\n')\\nprint(james.__dict__)\",\n",
       "  \"# 34.1 클래스와 메서드 만들기 --- p.495\\nclass Person:\\n    def greeting(self):\\n        print('Hello')\\n        \\n# 인스턴스 = 클래스()\\njames = Person() # 변수 james가 Person의 인스턴스\\n\\nprint('Person.__dict__ :', Person.__dict__)\\nprint('\\\\n')\\nprint('james.__dict__ :', james.__dict__)\",\n",
       "  'james.greeting()',\n",
       "  'a = Person()\\na.greeting()\\n\\nprint(id(james))\\nprint(id(a))',\n",
       "  '# 34.1.1 메서드 호출하기 --- p.496\\njames.greeting()\\n\\na = Person()\\na.greeting()',\n",
       "  'Person.__dict__',\n",
       "  'a.__dict__',\n",
       "  'james.__dict__',\n",
       "  'a.aaa=10\\na.aaa',\n",
       "  'a.__dict__ # 10은 단독으로 a에게 가는 것 ',\n",
       "  'james.aaa # 10은 단독으로 a에게 가는 것 james는 에러',\n",
       "  '#globals()',\n",
       "  \"# 34.1 클래스와 메서드 만들기 --- p.495\\nclass Person:\\n    def greeting(self):\\n        print('Hello')\\n        \\n# 인스턴스 = 클래스()\\njames = Person() # 변수 james가 Person의 인스턴스\",\n",
       "  \"# 34.1 클래스와 메서드 만들기 --- p.495\\nclass Person:\\n    def greeting(self):\\n        print('Hello')\\n        \\n# 인스턴스 = 클래스()\\njames = Person() # 변수 james가 Person의 인스턴스\",\n",
       "  '#globals()',\n",
       "  '# 34.1.1 메서드 호출하기 --- p.496\\njames.greeting()\\n\\na = Person()\\na.greeting()',\n",
       "  'print(id(james))\\nprint(id(a))',\n",
       "  \"print('Person.__dict__ :', Person.__dict__)\\nprint('\\\\n')\\nprint('james.__dict__ :', james.__dict__)\\nprint('\\\\n')\\nprint('a.__dict__ :', a.__dict__)\",\n",
       "  \"james.test = 'test'\\nprint('james.__dict__ :', james.__dict__)\\nprint(james)\",\n",
       "  \"james.test = 'test'\\nprint('james.__dict__ :', james.__dict__)\\njames\",\n",
       "  \"james.test = 'test'\\nprint('james.__dict__ :', james.__dict__)\\nprint(james)\",\n",
       "  'a.aaa=10\\na.aaa',\n",
       "  'a = Person()\\na.greeting()',\n",
       "  '# 34.1.1 메서드 호출하기 --- p.496\\njames.greeting()',\n",
       "  \"a.aaa=10\\nprint('a.__dict__ :', a.__dict__)\\nprint(a)\\na.aaa\",\n",
       "  \"a.aaa=10\\nprint('a.__dict__ :', a.__dict__)#10은 단독으로 a에게 감 \\na.aaa\",\n",
       "  \"james.test = 'test'\\n\\nprint('james.__dict__ :', james.__dict__)\\njames.test\",\n",
       "  \"james.test = 'test'\\n\\nprint(james.__dict__)\\njames.test\",\n",
       "  \"james.test = 'test'\\n\\nprint(james.__dict__)\\nprint(james.test)\",\n",
       "  \"james.test = 'test'\\n\\nprint('james.__dict__ :', james.__dict__)\\nprint('james.test :', james.test)\",\n",
       "  \"a.aaa=10\\n\\nprint('a.__dict__ :', a.__dict__)#10은 단독으로 a에게 감 \\nprint('a.aaa :', a.aaa)\",\n",
       "  'james.aaa # 10은 단독으로 a에게 가는 것 james는 에러',\n",
       "  'globals()'],\n",
       " 'Out': {10: mappingproxy({'__module__': '__main__',\n",
       "                'greeting': <function __main__.Person.greeting(self)>,\n",
       "                '__dict__': <attribute '__dict__' of 'Person' objects>,\n",
       "                '__weakref__': <attribute '__weakref__' of 'Person' objects>,\n",
       "                '__doc__': None}),\n",
       "  11: {'aaa': 10},\n",
       "  12: {},\n",
       "  13: 10,\n",
       "  14: {'aaa': 10},\n",
       "  24: <__main__.Person at 0x242fdcaee48>,\n",
       "  26: 10,\n",
       "  29: 10,\n",
       "  30: 10,\n",
       "  31: 'test',\n",
       "  32: 'test'},\n",
       " 'get_ipython': <bound method InteractiveShell.get_ipython of <ipykernel.zmqshell.ZMQInteractiveShell object at 0x00000242FDB667B8>>,\n",
       " 'exit': <IPython.core.autocall.ZMQExitAutocall at 0x242fdbc5908>,\n",
       " 'quit': <IPython.core.autocall.ZMQExitAutocall at 0x242fdbc5908>,\n",
       " '_': 'test',\n",
       " '__': 'test',\n",
       " '___': 10,\n",
       " '_i': 'james.aaa # 10은 단독으로 a에게 가는 것 james는 에러',\n",
       " '_ii': \"a.aaa=10\\n\\nprint('a.__dict__ :', a.__dict__)#10은 단독으로 a에게 감 \\nprint('a.aaa :', a.aaa)\",\n",
       " '_iii': \"james.test = 'test'\\n\\nprint('james.__dict__ :', james.__dict__)\\nprint('james.test :', james.test)\",\n",
       " '_i1': \"# 34.1 클래스와 메서드 만들기 --- p.495\\nclass Person:\\n    def greeting(self):\\n        print('Hello')\\n        \\n        \\n# 인스턴스 = 클래스()\\njames = Person()\\n\\nprint(Person.__dict__)\",\n",
       " 'Person': __main__.Person,\n",
       " 'james': <__main__.Person at 0x242fdcaee48>,\n",
       " '_i2': \"# 34.1 클래스와 메서드 만들기 --- p.495\\nclass Person:\\n    def greeting(self):\\n        print('Hello')\\n        \\n        \\n# 인스턴스 = 클래스()\\njames = Person()\\n\\nprint(Person.__dict__)\\nprint(james.__dict__)\",\n",
       " '_i3': \"# 34.1 클래스와 메서드 만들기 --- p.495\\nclass Person:\\n    def greeting(self):\\n        print('Hello')\\n        \\n        \\n# 인스턴스 = 클래스()\\njames = Person() # 변수 james가 Person의 인스턴스\\n\\nprint(Person.__dict__, end=' ')\\nprint(james.__dict__)\",\n",
       " '_i4': \"# 34.1 클래스와 메서드 만들기 --- p.495\\nclass Person:\\n    def greeting(self):\\n        print('Hello')\\n        \\n        \\n# 인스턴스 = 클래스()\\njames = Person() # 변수 james가 Person의 인스턴스\\n\\nprint(Person.__dict__, end='\\\\n')\\nprint(james.__dict__)\",\n",
       " '_i5': \"# 34.1 클래스와 메서드 만들기 --- p.495\\nclass Person:\\n    def greeting(self):\\n        print('Hello')\\n        \\n        \\n# 인스턴스 = 클래스()\\njames = Person() # 변수 james가 Person의 인스턴스\\n\\nprint(Person.__dict__)\\nprint('\\\\n')\\nprint(james.__dict__)\",\n",
       " '_i6': \"# 34.1 클래스와 메서드 만들기 --- p.495\\nclass Person:\\n    def greeting(self):\\n        print('Hello')\\n        \\n# 인스턴스 = 클래스()\\njames = Person() # 변수 james가 Person의 인스턴스\\n\\nprint('Person.__dict__ :', Person.__dict__)\\nprint('\\\\n')\\nprint('james.__dict__ :', james.__dict__)\",\n",
       " '_i7': 'james.greeting()',\n",
       " '_i8': 'a = Person()\\na.greeting()\\n\\nprint(id(james))\\nprint(id(a))',\n",
       " 'a': <__main__.Person at 0x242fdcfaf28>,\n",
       " '_i9': '# 34.1.1 메서드 호출하기 --- p.496\\njames.greeting()\\n\\na = Person()\\na.greeting()',\n",
       " '_i10': 'Person.__dict__',\n",
       " '_10': mappingproxy({'__module__': '__main__',\n",
       "               'greeting': <function __main__.Person.greeting(self)>,\n",
       "               '__dict__': <attribute '__dict__' of 'Person' objects>,\n",
       "               '__weakref__': <attribute '__weakref__' of 'Person' objects>,\n",
       "               '__doc__': None}),\n",
       " '_i11': 'a.__dict__',\n",
       " '_11': {'aaa': 10},\n",
       " '_i12': 'james.__dict__',\n",
       " '_12': {},\n",
       " '_i13': 'a.aaa=10\\na.aaa',\n",
       " '_13': 10,\n",
       " '_i14': 'a.__dict__ # 10은 단독으로 a에게 가는 것 ',\n",
       " '_14': {'aaa': 10},\n",
       " '_i15': 'james.aaa # 10은 단독으로 a에게 가는 것 james는 에러',\n",
       " '_i16': '#globals()',\n",
       " '_i17': \"# 34.1 클래스와 메서드 만들기 --- p.495\\nclass Person:\\n    def greeting(self):\\n        print('Hello')\\n        \\n# 인스턴스 = 클래스()\\njames = Person() # 변수 james가 Person의 인스턴스\",\n",
       " '_i18': \"# 34.1 클래스와 메서드 만들기 --- p.495\\nclass Person:\\n    def greeting(self):\\n        print('Hello')\\n        \\n# 인스턴스 = 클래스()\\njames = Person() # 변수 james가 Person의 인스턴스\",\n",
       " '_i19': '#globals()',\n",
       " '_i20': '# 34.1.1 메서드 호출하기 --- p.496\\njames.greeting()\\n\\na = Person()\\na.greeting()',\n",
       " '_i21': 'print(id(james))\\nprint(id(a))',\n",
       " '_i22': \"print('Person.__dict__ :', Person.__dict__)\\nprint('\\\\n')\\nprint('james.__dict__ :', james.__dict__)\\nprint('\\\\n')\\nprint('a.__dict__ :', a.__dict__)\",\n",
       " '_i23': \"james.test = 'test'\\nprint('james.__dict__ :', james.__dict__)\\nprint(james)\",\n",
       " '_i24': \"james.test = 'test'\\nprint('james.__dict__ :', james.__dict__)\\njames\",\n",
       " '_24': <__main__.Person at 0x242fdcaee48>,\n",
       " '_i25': \"james.test = 'test'\\nprint('james.__dict__ :', james.__dict__)\\nprint(james)\",\n",
       " '_i26': 'a.aaa=10\\na.aaa',\n",
       " '_26': 10,\n",
       " '_i27': 'a = Person()\\na.greeting()',\n",
       " '_i28': '# 34.1.1 메서드 호출하기 --- p.496\\njames.greeting()',\n",
       " '_i29': \"a.aaa=10\\nprint('a.__dict__ :', a.__dict__)\\nprint(a)\\na.aaa\",\n",
       " '_29': 10,\n",
       " '_i30': \"a.aaa=10\\nprint('a.__dict__ :', a.__dict__)#10은 단독으로 a에게 감 \\na.aaa\",\n",
       " '_30': 10,\n",
       " '_i31': \"james.test = 'test'\\n\\nprint('james.__dict__ :', james.__dict__)\\njames.test\",\n",
       " '_31': 'test',\n",
       " '_i32': \"james.test = 'test'\\n\\nprint(james.__dict__)\\njames.test\",\n",
       " '_32': 'test',\n",
       " '_i33': \"james.test = 'test'\\n\\nprint(james.__dict__)\\nprint(james.test)\",\n",
       " '_i34': \"james.test = 'test'\\n\\nprint('james.__dict__ :', james.__dict__)\\nprint('james.test :', james.test)\",\n",
       " '_i35': \"a.aaa=10\\n\\nprint('a.__dict__ :', a.__dict__)#10은 단독으로 a에게 감 \\nprint('a.aaa :', a.aaa)\",\n",
       " '_i36': 'james.aaa # 10은 단독으로 a에게 가는 것 james는 에러',\n",
       " '_i37': 'globals()'}"
      ]
     },
     "execution_count": 37,
     "metadata": {},
     "output_type": "execute_result"
    }
   ],
   "source": [
    "globals()"
   ]
  },
  {
   "cell_type": "code",
   "execution_count": 28,
   "metadata": {
    "scrolled": true
   },
   "outputs": [
    {
     "name": "stdout",
     "output_type": "stream",
     "text": [
      "Hello\n"
     ]
    }
   ],
   "source": [
    "# 34.1.1 메서드 호출하기 --- p.496\n",
    "james.greeting()"
   ]
  },
  {
   "cell_type": "code",
   "execution_count": 27,
   "metadata": {},
   "outputs": [
    {
     "name": "stdout",
     "output_type": "stream",
     "text": [
      "Hello\n"
     ]
    }
   ],
   "source": [
    "a = Person()\n",
    "a.greeting()"
   ]
  },
  {
   "cell_type": "code",
   "execution_count": 21,
   "metadata": {
    "scrolled": true
   },
   "outputs": [
    {
     "name": "stdout",
     "output_type": "stream",
     "text": [
      "2486749032008\n",
      "2486749273952\n"
     ]
    }
   ],
   "source": [
    "print(id(james))\n",
    "print(id(a))"
   ]
  },
  {
   "cell_type": "code",
   "execution_count": 22,
   "metadata": {},
   "outputs": [
    {
     "name": "stdout",
     "output_type": "stream",
     "text": [
      "Person.__dict__ : {'__module__': '__main__', 'greeting': <function Person.greeting at 0x00000242FDD76620>, '__dict__': <attribute '__dict__' of 'Person' objects>, '__weakref__': <attribute '__weakref__' of 'Person' objects>, '__doc__': None}\n",
      "\n",
      "\n",
      "james.__dict__ : {}\n",
      "\n",
      "\n",
      "a.__dict__ : {}\n"
     ]
    }
   ],
   "source": [
    "print('Person.__dict__ :', Person.__dict__)\n",
    "print('\\n')\n",
    "print('james.__dict__ :', james.__dict__)\n",
    "print('\\n')\n",
    "print('a.__dict__ :', a.__dict__)"
   ]
  },
  {
   "cell_type": "code",
   "execution_count": 34,
   "metadata": {},
   "outputs": [
    {
     "name": "stdout",
     "output_type": "stream",
     "text": [
      "james.__dict__ : {'test': 'test'}\n",
      "james.test : test\n"
     ]
    }
   ],
   "source": [
    "james.test = 'test'\n",
    "\n",
    "print('james.__dict__ :', james.__dict__)\n",
    "print('james.test :', james.test)"
   ]
  },
  {
   "cell_type": "code",
   "execution_count": 35,
   "metadata": {},
   "outputs": [
    {
     "name": "stdout",
     "output_type": "stream",
     "text": [
      "a.__dict__ : {'aaa': 10}\n",
      "a.aaa : 10\n"
     ]
    }
   ],
   "source": [
    "a.aaa=10\n",
    "\n",
    "print('a.__dict__ :', a.__dict__)#10은 단독으로 a에게 감 \n",
    "print('a.aaa :', a.aaa)"
   ]
  },
  {
   "cell_type": "code",
   "execution_count": 36,
   "metadata": {
    "scrolled": true
   },
   "outputs": [
    {
     "ename": "AttributeError",
     "evalue": "'Person' object has no attribute 'aaa'",
     "output_type": "error",
     "traceback": [
      "\u001b[1;31m---------------------------------------------------------------------------\u001b[0m",
      "\u001b[1;31mAttributeError\u001b[0m                            Traceback (most recent call last)",
      "\u001b[1;32m<ipython-input-36-39ce53a8254a>\u001b[0m in \u001b[0;36m<module>\u001b[1;34m\u001b[0m\n\u001b[1;32m----> 1\u001b[1;33m \u001b[0mjames\u001b[0m\u001b[1;33m.\u001b[0m\u001b[0maaa\u001b[0m \u001b[1;31m# 10은 단독으로 a에게 가는 것 james는 에러\u001b[0m\u001b[1;33m\u001b[0m\u001b[1;33m\u001b[0m\u001b[0m\n\u001b[0m",
      "\u001b[1;31mAttributeError\u001b[0m: 'Person' object has no attribute 'aaa'"
     ]
    }
   ],
   "source": [
    "james.aaa # 10은 단독으로 a에게 가는 것 james는 에러"
   ]
  },
  {
   "cell_type": "markdown",
   "metadata": {},
   "source": [
    ".__dict__\n",
    "를 쓸 때 앞에 a.__dict__ 클래스 안에서는 딕트를 만들 수 있지만 객체를 대상으로 딕트를 쓰면 no attribute가 뜬다.\n",
    "\n",
    "a = int(10)\n",
    "\n",
    "a.__dict__  :x\n",
    "int.__dict__:o\n",
    "\n",
    "\n",
    "--------------------------\n",
    "li = [1,2,3,4]\n",
    "\n",
    "li.__dict__  :x\n",
    "list.__dict__:o"
   ]
  },
  {
   "cell_type": "code",
   "execution_count": 9,
   "metadata": {},
   "outputs": [
    {
     "ename": "AttributeError",
     "evalue": "'int' object has no attribute '__dict__'",
     "output_type": "error",
     "traceback": [
      "\u001b[1;31m---------------------------------------------------------------------------\u001b[0m",
      "\u001b[1;31mAttributeError\u001b[0m                            Traceback (most recent call last)",
      "\u001b[1;32m<ipython-input-9-a2e74f971dfb>\u001b[0m in \u001b[0;36m<module>\u001b[1;34m\u001b[0m\n\u001b[0;32m      1\u001b[0m \u001b[0ma\u001b[0m \u001b[1;33m=\u001b[0m \u001b[0mint\u001b[0m\u001b[1;33m(\u001b[0m\u001b[1;36m10\u001b[0m\u001b[1;33m)\u001b[0m\u001b[1;33m\u001b[0m\u001b[1;33m\u001b[0m\u001b[0m\n\u001b[0;32m      2\u001b[0m \u001b[0ma\u001b[0m\u001b[1;33m\u001b[0m\u001b[1;33m\u001b[0m\u001b[0m\n\u001b[1;32m----> 3\u001b[1;33m \u001b[0ma\u001b[0m\u001b[1;33m.\u001b[0m\u001b[0m__dict__\u001b[0m \u001b[1;31m# AttributeError: 'int' object has no attribute '__dict__'\u001b[0m\u001b[1;33m\u001b[0m\u001b[1;33m\u001b[0m\u001b[0m\n\u001b[0m\u001b[0;32m      4\u001b[0m \u001b[0mint\u001b[0m\u001b[1;33m.\u001b[0m\u001b[0m__dict__\u001b[0m\u001b[1;33m\u001b[0m\u001b[1;33m\u001b[0m\u001b[0m\n",
      "\u001b[1;31mAttributeError\u001b[0m: 'int' object has no attribute '__dict__'"
     ]
    }
   ],
   "source": [
    "a = int(10)\n",
    "a\n",
    "a.__dict__ # AttributeError: 'int' object has no attribute '__dict__'\n",
    "int.__dict__"
   ]
  },
  {
   "cell_type": "code",
   "execution_count": 13,
   "metadata": {},
   "outputs": [
    {
     "ename": "AttributeError",
     "evalue": "'int' object has no attribute 'test'",
     "output_type": "error",
     "traceback": [
      "\u001b[1;31m---------------------------------------------------------------------------\u001b[0m",
      "\u001b[1;31mAttributeError\u001b[0m                            Traceback (most recent call last)",
      "\u001b[1;32m<ipython-input-13-05553314a648>\u001b[0m in \u001b[0;36m<module>\u001b[1;34m\u001b[0m\n\u001b[0;32m      1\u001b[0m \u001b[0ma\u001b[0m \u001b[1;33m=\u001b[0m \u001b[0mint\u001b[0m\u001b[1;33m(\u001b[0m\u001b[1;36m10\u001b[0m\u001b[1;33m)\u001b[0m\u001b[1;33m\u001b[0m\u001b[1;33m\u001b[0m\u001b[0m\n\u001b[0;32m      2\u001b[0m \u001b[0ma\u001b[0m \u001b[1;33m=\u001b[0m \u001b[0ma\u001b[0m \u001b[1;33m+\u001b[0m \u001b[1;36m10\u001b[0m\u001b[1;33m\u001b[0m\u001b[1;33m\u001b[0m\u001b[0m\n\u001b[1;32m----> 3\u001b[1;33m \u001b[0ma\u001b[0m \u001b[1;33m=\u001b[0m \u001b[0ma\u001b[0m\u001b[1;33m.\u001b[0m\u001b[0mtest\u001b[0m\u001b[1;33m(\u001b[0m\u001b[1;33m)\u001b[0m\u001b[1;33m\u001b[0m\u001b[1;33m\u001b[0m\u001b[0m\n\u001b[0m\u001b[0;32m      4\u001b[0m \u001b[0mint\u001b[0m\u001b[1;33m.\u001b[0m\u001b[0m__dict__\u001b[0m\u001b[1;33m\u001b[0m\u001b[1;33m\u001b[0m\u001b[0m\n",
      "\u001b[1;31mAttributeError\u001b[0m: 'int' object has no attribute 'test'"
     ]
    }
   ],
   "source": [
    "a = int(10)\n",
    "a = a + 10\n",
    "a = a.test()\n",
    "int.__dict__"
   ]
  },
  {
   "cell_type": "code",
   "execution_count": 14,
   "metadata": {},
   "outputs": [
    {
     "data": {
      "text/plain": [
       "{'x': 10, 'y': 20}"
      ]
     },
     "execution_count": 14,
     "metadata": {},
     "output_type": "execute_result"
    }
   ],
   "source": [
    "c = dict(x = 10, y = 20)\n",
    "c"
   ]
  },
  {
   "cell_type": "code",
   "execution_count": 15,
   "metadata": {},
   "outputs": [
    {
     "data": {
      "text/plain": [
       "{'x': 10, 'y': 20}"
      ]
     },
     "execution_count": 15,
     "metadata": {},
     "output_type": "execute_result"
    }
   ],
   "source": [
    "d = {'x': 10, 'y': 20} \n",
    "d # c랑 d랑 똑같이 딕셔너리로 똑같음"
   ]
  },
  {
   "cell_type": "code",
   "execution_count": 17,
   "metadata": {},
   "outputs": [
    {
     "data": {
      "text/plain": [
       "[1, 2, 3, 4]"
      ]
     },
     "execution_count": 17,
     "metadata": {},
     "output_type": "execute_result"
    }
   ],
   "source": [
    "li = [1,2,3,4]\n",
    "li"
   ]
  },
  {
   "cell_type": "code",
   "execution_count": 18,
   "metadata": {},
   "outputs": [
    {
     "data": {
      "text/plain": [
       "mappingproxy({'__repr__': <slot wrapper '__repr__' of 'list' objects>,\n",
       "              '__hash__': None,\n",
       "              '__getattribute__': <slot wrapper '__getattribute__' of 'list' objects>,\n",
       "              '__lt__': <slot wrapper '__lt__' of 'list' objects>,\n",
       "              '__le__': <slot wrapper '__le__' of 'list' objects>,\n",
       "              '__eq__': <slot wrapper '__eq__' of 'list' objects>,\n",
       "              '__ne__': <slot wrapper '__ne__' of 'list' objects>,\n",
       "              '__gt__': <slot wrapper '__gt__' of 'list' objects>,\n",
       "              '__ge__': <slot wrapper '__ge__' of 'list' objects>,\n",
       "              '__iter__': <slot wrapper '__iter__' of 'list' objects>,\n",
       "              '__init__': <slot wrapper '__init__' of 'list' objects>,\n",
       "              '__len__': <slot wrapper '__len__' of 'list' objects>,\n",
       "              '__getitem__': <method '__getitem__' of 'list' objects>,\n",
       "              '__setitem__': <slot wrapper '__setitem__' of 'list' objects>,\n",
       "              '__delitem__': <slot wrapper '__delitem__' of 'list' objects>,\n",
       "              '__add__': <slot wrapper '__add__' of 'list' objects>,\n",
       "              '__mul__': <slot wrapper '__mul__' of 'list' objects>,\n",
       "              '__rmul__': <slot wrapper '__rmul__' of 'list' objects>,\n",
       "              '__contains__': <slot wrapper '__contains__' of 'list' objects>,\n",
       "              '__iadd__': <slot wrapper '__iadd__' of 'list' objects>,\n",
       "              '__imul__': <slot wrapper '__imul__' of 'list' objects>,\n",
       "              '__new__': <function list.__new__(*args, **kwargs)>,\n",
       "              '__reversed__': <method '__reversed__' of 'list' objects>,\n",
       "              '__sizeof__': <method '__sizeof__' of 'list' objects>,\n",
       "              'clear': <method 'clear' of 'list' objects>,\n",
       "              'copy': <method 'copy' of 'list' objects>,\n",
       "              'append': <method 'append' of 'list' objects>,\n",
       "              'insert': <method 'insert' of 'list' objects>,\n",
       "              'extend': <method 'extend' of 'list' objects>,\n",
       "              'pop': <method 'pop' of 'list' objects>,\n",
       "              'remove': <method 'remove' of 'list' objects>,\n",
       "              'index': <method 'index' of 'list' objects>,\n",
       "              'count': <method 'count' of 'list' objects>,\n",
       "              'reverse': <method 'reverse' of 'list' objects>,\n",
       "              'sort': <method 'sort' of 'list' objects>,\n",
       "              '__doc__': 'Built-in mutable sequence.\\n\\nIf no argument is given, the constructor creates a new empty list.\\nThe argument must be an iterable if specified.'})"
      ]
     },
     "execution_count": 18,
     "metadata": {},
     "output_type": "execute_result"
    }
   ],
   "source": [
    "list.__dict__\n",
    "#기본타입은 dict를 못 만들게 해 놨음! => li.__dict__ 안됨"
   ]
  },
  {
   "cell_type": "code",
   "execution_count": 19,
   "metadata": {},
   "outputs": [
    {
     "data": {
      "text/plain": [
       "[0, 1, 2, 3, 4, 5, 6, 7, 8, 9]"
      ]
     },
     "execution_count": 19,
     "metadata": {},
     "output_type": "execute_result"
    }
   ],
   "source": [
    "b = list(range(10))\n",
    "b"
   ]
  },
  {
   "cell_type": "code",
   "execution_count": 20,
   "metadata": {},
   "outputs": [
    {
     "data": {
      "text/plain": [
       "[0, 1, 2, 3, 4, 5, 6, 7, 8, 9, 20]"
      ]
     },
     "execution_count": 20,
     "metadata": {},
     "output_type": "execute_result"
    }
   ],
   "source": [
    "b.append(20)\n",
    "b"
   ]
  },
  {
   "cell_type": "code",
   "execution_count": 24,
   "metadata": {},
   "outputs": [
    {
     "data": {
      "text/plain": [
       "mappingproxy({'__repr__': <slot wrapper '__repr__' of 'list' objects>,\n",
       "              '__hash__': None,\n",
       "              '__getattribute__': <slot wrapper '__getattribute__' of 'list' objects>,\n",
       "              '__lt__': <slot wrapper '__lt__' of 'list' objects>,\n",
       "              '__le__': <slot wrapper '__le__' of 'list' objects>,\n",
       "              '__eq__': <slot wrapper '__eq__' of 'list' objects>,\n",
       "              '__ne__': <slot wrapper '__ne__' of 'list' objects>,\n",
       "              '__gt__': <slot wrapper '__gt__' of 'list' objects>,\n",
       "              '__ge__': <slot wrapper '__ge__' of 'list' objects>,\n",
       "              '__iter__': <slot wrapper '__iter__' of 'list' objects>,\n",
       "              '__init__': <slot wrapper '__init__' of 'list' objects>,\n",
       "              '__len__': <slot wrapper '__len__' of 'list' objects>,\n",
       "              '__getitem__': <method '__getitem__' of 'list' objects>,\n",
       "              '__setitem__': <slot wrapper '__setitem__' of 'list' objects>,\n",
       "              '__delitem__': <slot wrapper '__delitem__' of 'list' objects>,\n",
       "              '__add__': <slot wrapper '__add__' of 'list' objects>,\n",
       "              '__mul__': <slot wrapper '__mul__' of 'list' objects>,\n",
       "              '__rmul__': <slot wrapper '__rmul__' of 'list' objects>,\n",
       "              '__contains__': <slot wrapper '__contains__' of 'list' objects>,\n",
       "              '__iadd__': <slot wrapper '__iadd__' of 'list' objects>,\n",
       "              '__imul__': <slot wrapper '__imul__' of 'list' objects>,\n",
       "              '__new__': <function list.__new__(*args, **kwargs)>,\n",
       "              '__reversed__': <method '__reversed__' of 'list' objects>,\n",
       "              '__sizeof__': <method '__sizeof__' of 'list' objects>,\n",
       "              'clear': <method 'clear' of 'list' objects>,\n",
       "              'copy': <method 'copy' of 'list' objects>,\n",
       "              'append': <method 'append' of 'list' objects>,\n",
       "              'insert': <method 'insert' of 'list' objects>,\n",
       "              'extend': <method 'extend' of 'list' objects>,\n",
       "              'pop': <method 'pop' of 'list' objects>,\n",
       "              'remove': <method 'remove' of 'list' objects>,\n",
       "              'index': <method 'index' of 'list' objects>,\n",
       "              'count': <method 'count' of 'list' objects>,\n",
       "              'reverse': <method 'reverse' of 'list' objects>,\n",
       "              'sort': <method 'sort' of 'list' objects>,\n",
       "              '__doc__': 'Built-in mutable sequence.\\n\\nIf no argument is given, the constructor creates a new empty list.\\nThe argument must be an iterable if specified.'})"
      ]
     },
     "execution_count": 24,
     "metadata": {},
     "output_type": "execute_result"
    }
   ],
   "source": [
    "#b.__dict__ # 안됨\n",
    "list.__dict__"
   ]
  },
  {
   "cell_type": "markdown",
   "metadata": {},
   "source": [
    "## 34.1.3 인스턴스와 객체의 차이점? --- p.497"
   ]
  },
  {
   "cell_type": "code",
   "execution_count": 25,
   "metadata": {},
   "outputs": [
    {
     "data": {
      "text/plain": [
       "[0, 1, 2, 3, 4, 5, 6, 7, 8, 9]"
      ]
     },
     "execution_count": 25,
     "metadata": {},
     "output_type": "execute_result"
    }
   ],
   "source": [
    "a = list(range(10))\n",
    "a"
   ]
  },
  {
   "cell_type": "code",
   "execution_count": 26,
   "metadata": {},
   "outputs": [
    {
     "data": {
      "text/plain": [
       "(0, 1, 2, 3, 4, 5, 6, 7, 8, 9)"
      ]
     },
     "execution_count": 26,
     "metadata": {},
     "output_type": "execute_result"
    }
   ],
   "source": [
    "a = tuple(range(10))\n",
    "a"
   ]
  },
  {
   "cell_type": "code",
   "execution_count": 27,
   "metadata": {},
   "outputs": [
    {
     "name": "stdout",
     "output_type": "stream",
     "text": [
      "Hello\n"
     ]
    }
   ],
   "source": [
    "class Person:\n",
    "    def greeting(self):\n",
    "        print('Hello')\n",
    "    def hello(self):\n",
    "        self.greeting()\n",
    "        \n",
    "james = Person()\n",
    "james.hello()"
   ]
  },
  {
   "cell_type": "code",
   "execution_count": 28,
   "metadata": {},
   "outputs": [
    {
     "name": "stdout",
     "output_type": "stream",
     "text": [
      "Hello\n",
      "global test\n"
     ]
    }
   ],
   "source": [
    "class Person:\n",
    "    def greeting(self):\n",
    "        print('Hello')\n",
    "    def hello(self):\n",
    "        self.greeting()\n",
    "        \n",
    "def test():\n",
    "    print('global test')\n",
    "        \n",
    "james.hello()\n",
    "james.hello = test\n",
    "james.hello()"
   ]
  },
  {
   "cell_type": "code",
   "execution_count": 29,
   "metadata": {
    "scrolled": true
   },
   "outputs": [
    {
     "data": {
      "text/plain": [
       "mappingproxy({'__module__': '__main__',\n",
       "              'greeting': <function __main__.Person.greeting(self)>,\n",
       "              'hello': <function __main__.Person.hello(self)>,\n",
       "              '__dict__': <attribute '__dict__' of 'Person' objects>,\n",
       "              '__weakref__': <attribute '__weakref__' of 'Person' objects>,\n",
       "              '__doc__': None})"
      ]
     },
     "execution_count": 29,
     "metadata": {},
     "output_type": "execute_result"
    }
   ],
   "source": [
    "Person.__dict__"
   ]
  },
  {
   "cell_type": "code",
   "execution_count": 30,
   "metadata": {},
   "outputs": [
    {
     "name": "stdout",
     "output_type": "stream",
     "text": [
      "Hello\n"
     ]
    }
   ],
   "source": [
    "Person.__dict__['greeting'](james) # 딕셔너리로 봐도 무방하다!!"
   ]
  },
  {
   "cell_type": "code",
   "execution_count": null,
   "metadata": {},
   "outputs": [],
   "source": [
    "def add(a,b):\n",
    "    return a+b\n",
    "add"
   ]
  },
  {
   "cell_type": "code",
   "execution_count": 33,
   "metadata": {},
   "outputs": [
    {
     "name": "stdout",
     "output_type": "stream",
     "text": [
      "<__main__.Person object at 0x000001D15EB83BA8>\n",
      "<__main__.Person object at 0x000001D15EB83BA8>\n"
     ]
    }
   ],
   "source": [
    "class Person:\n",
    "    def greeting(self):\n",
    "        print(self)\n",
    "        \n",
    "james = Person()\n",
    "james.greeting() #00000 빼고, 대소문자 상관없이 보면\n",
    "james # 값이 똑같은 것을 확인할 수 있음\n",
    "\n",
    "#Person.__dict__['greeting']() # self주소값?이 없어서 에러뜸\n",
    "Person.__dict__['greeting'](james) # james.greeting() 랑 같은 주소! self 주소값 james를 넣어줌"
   ]
  },
  {
   "cell_type": "code",
   "execution_count": 34,
   "metadata": {
    "scrolled": true
   },
   "outputs": [
    {
     "name": "stdout",
     "output_type": "stream",
     "text": [
      "False\n"
     ]
    },
    {
     "data": {
      "text/plain": [
       "True"
      ]
     },
     "execution_count": 34,
     "metadata": {},
     "output_type": "execute_result"
    }
   ],
   "source": [
    "# isinstance(인스턴스, 클래스)\n",
    "\n",
    "class Person:\n",
    "    pass\n",
    "james = Person()\n",
    "isinstance(james, Person)\n",
    "a = 10 # int(10)\n",
    "print(isinstance(a, Person))\n",
    "isinstance(a, int)"
   ]
  },
  {
   "cell_type": "code",
   "execution_count": 35,
   "metadata": {},
   "outputs": [],
   "source": [
    "class Person:\n",
    "    def __init__(self):\n",
    "        hello = '안녕하세요'\n",
    "    def greeting(self):\n",
    "        print(self.hello)"
   ]
  },
  {
   "cell_type": "code",
   "execution_count": 38,
   "metadata": {},
   "outputs": [
    {
     "name": "stdout",
     "output_type": "stream",
     "text": [
      "안녕하세요\n"
     ]
    }
   ],
   "source": [
    "def f():\n",
    "    hello = '안녕하세요' # 로컬변수\n",
    "    print(hello) # 안녕하세요\n",
    "    #print(locals()) # {'hello': '안녕하세요'}\n",
    "    \n",
    "f()"
   ]
  },
  {
   "cell_type": "code",
   "execution_count": null,
   "metadata": {},
   "outputs": [],
   "source": [
    "def f():\n",
    "    hello = '안녕하세요' # 로컬변수\n",
    "    print(hello) # 안녕하세요\n",
    "    #print(locals()) # {'hello': '안녕하세요'}\n",
    "    \n",
    "f()"
   ]
  },
  {
   "cell_type": "code",
   "execution_count": 46,
   "metadata": {},
   "outputs": [
    {
     "name": "stdout",
     "output_type": "stream",
     "text": [
      "__init__\n",
      "안녕하세요\n",
      "__init__\n",
      "안녕하세요\n",
      "밥 먹어써\n",
      "안녕하세요\n"
     ]
    }
   ],
   "source": [
    "class Person:\n",
    "    def __init__(self):\n",
    "        self.hello = '안녕하세요' #객체 안에 변수를 만들고 싶을 때 self.변수\n",
    "        print('__init__')\n",
    "    def greeting(self):\n",
    "        print(self.hello)\n",
    "        \n",
    "a = Person()\n",
    "a.greeting()\n",
    "b = Person()\n",
    "b.greeting()\n",
    "b.hello = '밥 먹어써'\n",
    "b.greeting()\n",
    "a.greeting()"
   ]
  },
  {
   "cell_type": "code",
   "execution_count": 41,
   "metadata": {},
   "outputs": [
    {
     "name": "stdout",
     "output_type": "stream",
     "text": [
      "self\n",
      "1998749047384\n"
     ]
    }
   ],
   "source": [
    "class Person:\n",
    "    def __init__(self):\n",
    "        print('self')\n",
    "        \n",
    "james = Person()\n",
    "print(id(james))"
   ]
  },
  {
   "cell_type": "code",
   "execution_count": 50,
   "metadata": {},
   "outputs": [
    {
     "name": "stdout",
     "output_type": "stream",
     "text": [
      "마리아, 20, 서울시 서초구 반포동\n",
      "영희, 22, 서울시 강남구\n"
     ]
    }
   ],
   "source": [
    "class Person:\n",
    "    def __init__(self, name, age, address):\n",
    "        self.hello = '안녕하세요'\n",
    "        self.name = name\n",
    "        self.age = age\n",
    "        self.address = address\n",
    "    def info(self):\n",
    "        print('{0}, {1}, {2}'.format(self.name, self.age, self.address))\n",
    "        \n",
    "maria = Person('마리아', 20, '서울시 서초구 반포동')\n",
    "maria.info()\n",
    "\n",
    "a = Person('영희', 22, '서울시 강남구')\n",
    "a.info()"
   ]
  },
  {
   "cell_type": "code",
   "execution_count": 60,
   "metadata": {},
   "outputs": [
    {
     "name": "stdout",
     "output_type": "stream",
     "text": [
      "마리아, 20, 서울시 서초구 반포동\n",
      "140714123218144\n",
      "영희, 22, 서울시 강남구\n",
      "140714123218144\n"
     ]
    }
   ],
   "source": [
    "print(id(maria.info()))\n",
    "print(id(a.info()))"
   ]
  },
  {
   "cell_type": "code",
   "execution_count": 63,
   "metadata": {},
   "outputs": [
    {
     "data": {
      "text/plain": [
       "('마리아', 20, '서울시')"
      ]
     },
     "execution_count": 63,
     "metadata": {},
     "output_type": "execute_result"
    }
   ],
   "source": [
    "class Person:\n",
    "    def __init__(self, *args): #*args: 가변인자? 위치인수?\n",
    "        self.name = args[0]\n",
    "        self.age = args[1]\n",
    "        self.address = args[2]\n",
    "        \n",
    "maria = Person(*['마리아', 20, '서울시'])\n",
    "maria.name, maria.age, maria.address"
   ]
  },
  {
   "cell_type": "code",
   "execution_count": 65,
   "metadata": {},
   "outputs": [
    {
     "name": "stdout",
     "output_type": "stream",
     "text": [
      "1\t2\t3\t4\t"
     ]
    }
   ],
   "source": [
    "def func(*args):\n",
    "    for i in args:\n",
    "        print(i, sep = ',', end = '\\t')\n",
    "        \n",
    "func(*[1,2,3,4])"
   ]
  },
  {
   "cell_type": "code",
   "execution_count": 74,
   "metadata": {},
   "outputs": [
    {
     "name": "stdout",
     "output_type": "stream",
     "text": [
      "<__main__.Person object at 0x000001D15EB9ECF8>\n"
     ]
    }
   ],
   "source": [
    "class Person:\n",
    "    def __init__(self, **kwargs):\n",
    "        self.name = kwargs['name']\n",
    "        self.age = kwargs['age']\n",
    "        self.address = kwargs['address']\n",
    "        \n",
    "#maria1 = Person(*['마리아', 20, '서울시'])\n",
    "maria2 = Person(**{'name':'마리아', 'age' : '20', 'address': '서울시'})\n",
    "\n",
    "print(maria2)"
   ]
  },
  {
   "cell_type": "code",
   "execution_count": 76,
   "metadata": {},
   "outputs": [
    {
     "data": {
      "text/plain": [
       "{'x': 10, 'y': 20}"
      ]
     },
     "execution_count": 76,
     "metadata": {},
     "output_type": "execute_result"
    }
   ],
   "source": [
    "d = {'x' : 10, 'y' : 20}\n",
    "d"
   ]
  },
  {
   "cell_type": "code",
   "execution_count": 77,
   "metadata": {},
   "outputs": [
    {
     "data": {
      "text/plain": [
       "{'x': 10, 'y': 20, 'z': 30}"
      ]
     },
     "execution_count": 77,
     "metadata": {},
     "output_type": "execute_result"
    }
   ],
   "source": [
    "d['z'] = 30\n",
    "d"
   ]
  },
  {
   "cell_type": "code",
   "execution_count": 79,
   "metadata": {},
   "outputs": [
    {
     "data": {
      "text/plain": [
       "('홍길동', 30)"
      ]
     },
     "execution_count": 79,
     "metadata": {},
     "output_type": "execute_result"
    }
   ],
   "source": [
    "class Person:\n",
    "    __slots__ = ['name', 'age']\n",
    "    pass\n",
    "\n",
    "maria = Person()\n",
    "\n",
    "maria.name = '홍길동'\n",
    "maria.age = 30\n",
    "maria.name, maria.age"
   ]
  },
  {
   "cell_type": "code",
   "execution_count": 84,
   "metadata": {},
   "outputs": [
    {
     "name": "stdout",
     "output_type": "stream",
     "text": [
      "영희, 22, 서울시 강남구\n"
     ]
    },
    {
     "data": {
      "text/plain": [
       "('영희', '홍길동')"
      ]
     },
     "execution_count": 84,
     "metadata": {},
     "output_type": "execute_result"
    }
   ],
   "source": [
    "a.info()\n",
    "a.name, maria.name\n"
   ]
  },
  {
   "cell_type": "code",
   "execution_count": 85,
   "metadata": {},
   "outputs": [
    {
     "data": {
      "text/plain": [
       "mappingproxy({'__module__': '__main__',\n",
       "              '__slots__': ['name', 'age'],\n",
       "              'age': <member 'age' of 'Person' objects>,\n",
       "              'name': <member 'name' of 'Person' objects>,\n",
       "              '__doc__': None})"
      ]
     },
     "execution_count": 85,
     "metadata": {},
     "output_type": "execute_result"
    }
   ],
   "source": [
    "Person.__dict__"
   ]
  },
  {
   "cell_type": "code",
   "execution_count": 110,
   "metadata": {},
   "outputs": [
    {
     "data": {
      "text/plain": [
       "'마리아'"
      ]
     },
     "execution_count": 110,
     "metadata": {},
     "output_type": "execute_result"
    }
   ],
   "source": [
    "class Person:\n",
    "    def __init__(self, name, age, address, wallet):\n",
    "        self.hello = '안녕하세요'\n",
    "        self.name = name\n",
    "        self.age = age\n",
    "        self.address = address\n",
    "        self.__wallet = wallet\n",
    "        \n",
    "        def pay(self, amount):\n",
    "            self.__wallet -=amount\n",
    "            print('이제 {0}원 남았네요'.format(self.__wallet))\n",
    "                    \n",
    "maria = Person('마리아', 20, '서울시 서초구 반포동', 10000)\n",
    "\n",
    "maria.name"
   ]
  },
  {
   "cell_type": "code",
   "execution_count": 92,
   "metadata": {},
   "outputs": [
    {
     "data": {
      "text/plain": [
       "{'hello': '안녕하세요', 'name': '마리아', 'age': 20, 'address': '서울시 서초구 반포동'}"
      ]
     },
     "execution_count": 92,
     "metadata": {},
     "output_type": "execute_result"
    }
   ],
   "source": [
    "maria.__dict__"
   ]
  },
  {
   "cell_type": "code",
   "execution_count": 97,
   "metadata": {},
   "outputs": [
    {
     "ename": "AttributeError",
     "evalue": "'Person' object has no attribute 'pay'",
     "output_type": "error",
     "traceback": [
      "\u001b[1;31m---------------------------------------------------------------------------\u001b[0m",
      "\u001b[1;31mAttributeError\u001b[0m                            Traceback (most recent call last)",
      "\u001b[1;32m<ipython-input-97-16347ce980c6>\u001b[0m in \u001b[0;36m<module>\u001b[1;34m\u001b[0m\n\u001b[1;32m----> 1\u001b[1;33m \u001b[0mmaria\u001b[0m\u001b[1;33m.\u001b[0m\u001b[0mpay\u001b[0m\u001b[1;33m(\u001b[0m\u001b[1;36m3000\u001b[0m\u001b[1;33m)\u001b[0m\u001b[1;33m\u001b[0m\u001b[1;33m\u001b[0m\u001b[0m\n\u001b[0m",
      "\u001b[1;31mAttributeError\u001b[0m: 'Person' object has no attribute 'pay'"
     ]
    }
   ],
   "source": [
    "maria.pay(3000)"
   ]
  },
  {
   "cell_type": "code",
   "execution_count": 100,
   "metadata": {},
   "outputs": [
    {
     "ename": "AttributeError",
     "evalue": "'Person' object has no attribute '__Person__wallet'",
     "output_type": "error",
     "traceback": [
      "\u001b[1;31m---------------------------------------------------------------------------\u001b[0m",
      "\u001b[1;31mAttributeError\u001b[0m                            Traceback (most recent call last)",
      "\u001b[1;32m<ipython-input-100-0f2f95244305>\u001b[0m in \u001b[0;36m<module>\u001b[1;34m\u001b[0m\n\u001b[1;32m----> 1\u001b[1;33m \u001b[0mmaria\u001b[0m\u001b[1;33m.\u001b[0m\u001b[0m__Person__wallet\u001b[0m\u001b[1;33m\u001b[0m\u001b[1;33m\u001b[0m\u001b[0m\n\u001b[0m",
      "\u001b[1;31mAttributeError\u001b[0m: 'Person' object has no attribute '__Person__wallet'"
     ]
    }
   ],
   "source": [
    "maria.__Person__wallet"
   ]
  },
  {
   "cell_type": "markdown",
   "metadata": {},
   "source": [
    "## UNIT35 클래스 속성과 정적, 클래스 메서드 사용하기 --- p.511"
   ]
  },
  {
   "cell_type": "code",
   "execution_count": 114,
   "metadata": {},
   "outputs": [
    {
     "name": "stdout",
     "output_type": "stream",
     "text": [
      "['책', '열쇠', '치약']\n",
      "['책', '열쇠', '치약']\n"
     ]
    }
   ],
   "source": [
    "class Person:\n",
    "    bag = []\n",
    "    \n",
    "    def put_bag(self, stuff):\n",
    "        #self.bag.append(stuff) #?????? 둘이 차이가\n",
    "        Person.bag.append(stuff)#?????? 뭐라구?????\n",
    "        \n",
    "james = Person()\n",
    "james.put_bag('책')\n",
    "\n",
    "maria = Person()\n",
    "maria.put_bag('열쇠')\n",
    "\n",
    "john = Person()\n",
    "john.put_bag('치약')\n",
    "\n",
    "print(james.bag)\n",
    "print(maria.bag)\n"
   ]
  },
  {
   "cell_type": "code",
   "execution_count": 115,
   "metadata": {},
   "outputs": [
    {
     "name": "stdout",
     "output_type": "stream",
     "text": [
      "{}\n"
     ]
    },
    {
     "data": {
      "text/plain": [
       "mappingproxy({'__module__': '__main__',\n",
       "              'bag': ['책', '열쇠', '치약'],\n",
       "              'put_bag': <function __main__.Person.put_bag(self, stuff)>,\n",
       "              '__dict__': <attribute '__dict__' of 'Person' objects>,\n",
       "              '__weakref__': <attribute '__weakref__' of 'Person' objects>,\n",
       "              '__doc__': None})"
      ]
     },
     "execution_count": 115,
     "metadata": {},
     "output_type": "execute_result"
    }
   ],
   "source": [
    "print(james.__dict__)\n",
    "Person.__dict__"
   ]
  },
  {
   "cell_type": "code",
   "execution_count": 116,
   "metadata": {},
   "outputs": [],
   "source": [
    "# 클래스 속성 : 모든 인스턴스(객체)가 공유. 인스턴스(객체) 전체가 사용해야 하는 값을 저장할 때 사용\n",
    "# 인스턴스 속성 : 인스턴스별로 독립되어 있음. 각 인스턴스가 값을 따로 저장해야 할 때 사용"
   ]
  },
  {
   "cell_type": "code",
   "execution_count": 120,
   "metadata": {},
   "outputs": [
    {
     "name": "stdout",
     "output_type": "stream",
     "text": [
      "10\n"
     ]
    }
   ],
   "source": [
    "# class 클래스이름:\n",
    "#    __속성 = 값\n",
    "class Knight:\n",
    "    __item_limit = 10\n",
    "    name = '기사'\n",
    "    \n",
    "    def print_item_limit(self):\n",
    "        print(Knight.__item_limit)\n",
    "        \n",
    "x = Knight()\n",
    "x.print_item_limit()"
   ]
  },
  {
   "cell_type": "code",
   "execution_count": 122,
   "metadata": {},
   "outputs": [
    {
     "name": "stdout",
     "output_type": "stream",
     "text": [
      "기사\n"
     ]
    },
    {
     "ename": "AttributeError",
     "evalue": "type object 'Knight' has no attribute '__item_limit'",
     "output_type": "error",
     "traceback": [
      "\u001b[1;31m---------------------------------------------------------------------------\u001b[0m",
      "\u001b[1;31mAttributeError\u001b[0m                            Traceback (most recent call last)",
      "\u001b[1;32m<ipython-input-122-accae2f04fe0>\u001b[0m in \u001b[0;36m<module>\u001b[1;34m\u001b[0m\n\u001b[0;32m      1\u001b[0m \u001b[0mprint\u001b[0m\u001b[1;33m(\u001b[0m\u001b[0mKnight\u001b[0m\u001b[1;33m.\u001b[0m\u001b[0mname\u001b[0m\u001b[1;33m)\u001b[0m\u001b[1;33m\u001b[0m\u001b[1;33m\u001b[0m\u001b[0m\n\u001b[1;32m----> 2\u001b[1;33m \u001b[0mprint\u001b[0m\u001b[1;33m(\u001b[0m\u001b[0mKnight\u001b[0m\u001b[1;33m.\u001b[0m\u001b[0m__item_limit\u001b[0m\u001b[1;33m)\u001b[0m\u001b[1;33m\u001b[0m\u001b[1;33m\u001b[0m\u001b[0m\n\u001b[0m",
      "\u001b[1;31mAttributeError\u001b[0m: type object 'Knight' has no attribute '__item_limit'"
     ]
    }
   ],
   "source": [
    "print(Knight.name)\n",
    "print(Knight.__item_limit) # 동적메소드?라서 에러뜬대"
   ]
  },
  {
   "cell_type": "markdown",
   "metadata": {},
   "source": [
    "### 35.2 정적 메서드 사용하기 --- p.516"
   ]
  },
  {
   "cell_type": "code",
   "execution_count": 127,
   "metadata": {},
   "outputs": [
    {
     "name": "stdout",
     "output_type": "stream",
     "text": [
      "30\n",
      "200\n"
     ]
    }
   ],
   "source": [
    "class Calc:\n",
    "    @staticmethod #데코레이터\n",
    "    def add(a,b):\n",
    "        print(a + b)\n",
    "        \n",
    "    @staticmethod\n",
    "    def mul(a,b):\n",
    "        print(a*b)\n",
    "        \n",
    "#   + : add, - : sub, * : mul, / : div\n",
    "Calc.add(10,20)\n",
    "Calc.mul(10,20)"
   ]
  },
  {
   "cell_type": "code",
   "execution_count": 130,
   "metadata": {},
   "outputs": [
    {
     "data": {
      "text/plain": [
       "{1, 2, 3, 4, 5}"
      ]
     },
     "execution_count": 130,
     "metadata": {},
     "output_type": "execute_result"
    }
   ],
   "source": [
    "a = {1,2,3,4}\n",
    "a.update({5})\n",
    "a"
   ]
  },
  {
   "cell_type": "code",
   "execution_count": 131,
   "metadata": {},
   "outputs": [
    {
     "data": {
      "text/plain": [
       "{1, 2, 3, 4, 5}"
      ]
     },
     "execution_count": 131,
     "metadata": {},
     "output_type": "execute_result"
    }
   ],
   "source": [
    "set.union({1,2,3,4}, {5})"
   ]
  },
  {
   "cell_type": "code",
   "execution_count": 132,
   "metadata": {},
   "outputs": [
    {
     "name": "stdout",
     "output_type": "stream",
     "text": [
      "2명 생성\n"
     ]
    }
   ],
   "source": [
    "class Person:\n",
    "    count=0\n",
    "    \n",
    "    def __init__(self):\n",
    "        Person.count +=1\n",
    "        \n",
    "    # staticmethod vs classmethod\n",
    "    # @staticmethod : 클래스로 호출하지만 주소가 넘어가지 않음\n",
    "    # @classmethod : 주소가 넘어감?\n",
    "    @classmethod\n",
    "    def print_count(cls):\n",
    "        print('{0}명 생성'.format(cls.count))\n",
    "        \n",
    "james = Person()\n",
    "maria = Person()\n",
    "\n",
    "Person.print_count()"
   ]
  },
  {
   "cell_type": "code",
   "execution_count": 133,
   "metadata": {},
   "outputs": [
    {
     "name": "stdout",
     "output_type": "stream",
     "text": [
      "3명 생성\n"
     ]
    }
   ],
   "source": [
    "a = Person()\n",
    "Person.print_count()"
   ]
  },
  {
   "cell_type": "markdown",
   "metadata": {},
   "source": [
    "## UNIT36 클래스 상속 사용하기 --- p.523"
   ]
  },
  {
   "cell_type": "markdown",
   "metadata": {},
   "source": [
    "### 36.1 사람 클래스로 학생 클래스 만들기 --- p.524"
   ]
  },
  {
   "cell_type": "code",
   "execution_count": 1,
   "metadata": {},
   "outputs": [
    {
     "name": "stdout",
     "output_type": "stream",
     "text": [
      "공부하기\n",
      "안녕하세요\n"
     ]
    }
   ],
   "source": [
    "class Person:\n",
    "    def greeting(self):\n",
    "        print('안녕하세요')\n",
    "        \n",
    "class Student(Person):\n",
    "    def study(self):\n",
    "        print('공부하기')\n",
    "        \n",
    "class Teacher:\n",
    "    def teach(self):\n",
    "        print('가르치다')\n",
    "    def greeting(self):\n",
    "        print('안녕하세요')\n",
    "        \n",
    "class chdonghaksang:\n",
    "    def play(self):\n",
    "        print('놀기')\n",
    "    def greeting(self):\n",
    "        print('안녕하세요')\n",
    "        \n",
    "        \n",
    "james = Student()\n",
    "james.study()\n",
    "james.greeting()\n",
    "\n",
    "John = Teacher()\n",
    "John.teach()\n",
    "John.greeting()"
   ]
  },
  {
   "cell_type": "code",
   "execution_count": 12,
   "metadata": {},
   "outputs": [
    {
     "name": "stdout",
     "output_type": "stream",
     "text": [
      "name: 철수\n",
      "name: 영희\n",
      "name: 민수\n"
     ]
    }
   ],
   "source": [
    "class Person:\n",
    "    def __init__(self, name):\n",
    "        self.name = name\n",
    "    def greeting(self):\n",
    "        print('안녕하세요')\n",
    "    def print_name(self):\n",
    "        print('name: {}'.format(self.name))\n",
    "        \n",
    "class PersonList:\n",
    "    def __init__(self):\n",
    "        self.person_list = []\n",
    "        \n",
    "    def append_person(self, person):\n",
    "        self.person_list.append(person)\n",
    "    def print_list(self):\n",
    "        for i in self.person_list:\n",
    "            #print(i.name)\n",
    "            i.print_name()\n",
    "        \n",
    "        \n",
    "\n",
    "a = Person('철수')\n",
    "b = Person('영희')\n",
    "c = Person('민수')\n",
    "\n",
    "L = PersonList()\n",
    "L.append_person(a)\n",
    "L.append_person(b)\n",
    "L.append_person(c)\n",
    "\n",
    "L.print_list()"
   ]
  },
  {
   "cell_type": "code",
   "execution_count": 5,
   "metadata": {},
   "outputs": [
    {
     "name": "stdout",
     "output_type": "stream",
     "text": [
      "name: 철수\n",
      "name: 영희\n",
      "name: 민수\n"
     ]
    }
   ],
   "source": [
    "a.print_name()\n",
    "b.print_name()\n",
    "c.print_name()"
   ]
  },
  {
   "cell_type": "code",
   "execution_count": 6,
   "metadata": {},
   "outputs": [
    {
     "name": "stdout",
     "output_type": "stream",
     "text": [
      "철수\n",
      "영희\n",
      "민수\n"
     ]
    }
   ],
   "source": [
    "t = []\n",
    "t.append('철수')\n",
    "t.append('영희')\n",
    "t.append('민수')\n",
    "\n",
    "for i in t:\n",
    "    print(i)"
   ]
  },
  {
   "cell_type": "markdown",
   "metadata": {},
   "source": [
    "### 36.3 기반 클래스의 속성 사용하기 --- p.527 "
   ]
  },
  {
   "cell_type": "code",
   "execution_count": 13,
   "metadata": {},
   "outputs": [
    {
     "name": "stdout",
     "output_type": "stream",
     "text": [
      "Person __init__\n"
     ]
    }
   ],
   "source": [
    "class Person:\n",
    "    def __init__(self):\n",
    "        print('Person __init__')\n",
    "        self.hello = '안녕하세요'\n",
    "        \n",
    "class Student(Person):\n",
    "    def study():\n",
    "        print('공부합니다.')\n",
    "        \n",
    "s1 = Student()"
   ]
  },
  {
   "cell_type": "code",
   "execution_count": 27,
   "metadata": {},
   "outputs": [
    {
     "name": "stdout",
     "output_type": "stream",
     "text": [
      "Person __init__\n"
     ]
    },
    {
     "data": {
      "text/plain": [
       "'안녕하세요'"
      ]
     },
     "execution_count": 27,
     "metadata": {},
     "output_type": "execute_result"
    }
   ],
   "source": [
    "class Person:\n",
    "    def __init__(self):\n",
    "        print('Person __init__')\n",
    "        self.hello = '안녕하세요'\n",
    "        \n",
    "    def test(self):\n",
    "        self.s = 'Person test'\n",
    "        \n",
    "class Student(Person):\n",
    "#     def __init__(self):\n",
    "#         print('Student __init__')\n",
    "#         self.school = '파이썬 코딩 도장'\n",
    "    def study():\n",
    "        print('공부합니다.')\n",
    "        \n",
    "s1 = Student()\n",
    "s1.hello\n",
    "#p = Person()"
   ]
  },
  {
   "cell_type": "code",
   "execution_count": 22,
   "metadata": {},
   "outputs": [
    {
     "name": "stdout",
     "output_type": "stream",
     "text": [
      "안녕하세요\n"
     ]
    }
   ],
   "source": [
    "print(p.hello)\n",
    "\n",
    "# init이 두 개가 있어서 스튜던트가 상속받은 펄슨에 있느 헬로를 불러들이지 않고, init 자체의 값을 불러오기 때문에 에러가 뜬다.\n",
    "# 그래서 스튜던트의 값을 초기화하는 super을 사용하면 됨"
   ]
  },
  {
   "cell_type": "code",
   "execution_count": 25,
   "metadata": {},
   "outputs": [
    {
     "name": "stdout",
     "output_type": "stream",
     "text": [
      "Student __init__\n",
      "Person __init__\n",
      "Person __init__\n"
     ]
    }
   ],
   "source": [
    "class Person:\n",
    "    def __init__(self):\n",
    "        print('Person __init__')\n",
    "        self.hello = '안녕하세요'\n",
    "        \n",
    "    def test(self):\n",
    "        self.s = 'Person test'\n",
    "        \n",
    "class Student(Person):\n",
    "    def __init__(self):\n",
    "        print('Student __init__')\n",
    "        super().__init__()\n",
    "        self.school = '파이썬 코딩 도장'\n",
    "    def study():\n",
    "        print('공부합니다.')\n",
    "        \n",
    "s1 = Student()\n",
    "s1.hello\n",
    "#p = Person()"
   ]
  },
  {
   "cell_type": "code",
   "execution_count": 28,
   "metadata": {
    "scrolled": true
   },
   "outputs": [
    {
     "name": "stdout",
     "output_type": "stream",
     "text": [
      "안녕하세요\n"
     ]
    }
   ],
   "source": [
    "class Person:\n",
    "    def greeting(self):\n",
    "        print('안녕하세요')\n",
    "        \n",
    "class Student(Person):\n",
    "    pass\n",
    "\n",
    "james = Student()\n",
    "james.greeting()"
   ]
  },
  {
   "cell_type": "code",
   "execution_count": null,
   "metadata": {},
   "outputs": [],
   "source": []
  },
  {
   "cell_type": "code",
   "execution_count": null,
   "metadata": {},
   "outputs": [],
   "source": []
  },
  {
   "cell_type": "markdown",
   "metadata": {},
   "source": [
    "### 36.4 메서드 오버라이딩 사용하기 --- p.530"
   ]
  },
  {
   "cell_type": "code",
   "execution_count": 31,
   "metadata": {},
   "outputs": [
    {
     "name": "stdout",
     "output_type": "stream",
     "text": [
      "안녕하세요. 저는 코딩 도장 학생입니다.\n"
     ]
    }
   ],
   "source": [
    "class Person:\n",
    "    def greeting(self):\n",
    "        print('안녕하세요')\n",
    "        \n",
    "class Student(Person):\n",
    "    \n",
    "    def greeting(self):\n",
    "        print('안녕하세요. 저는 코딩 도장 학생입니다.')\n",
    "\n",
    "james = Student()\n",
    "james.greeting()"
   ]
  },
  {
   "cell_type": "code",
   "execution_count": 32,
   "metadata": {},
   "outputs": [
    {
     "name": "stdout",
     "output_type": "stream",
     "text": [
      "안녕하세요\n",
      "저는 코딩 도장 학생입니다.\n"
     ]
    }
   ],
   "source": [
    "# 방법2 super 사용\n",
    "\n",
    "class Person:\n",
    "    def greeting(self):\n",
    "        print('안녕하세요')\n",
    "        \n",
    "class Student(Person):\n",
    "    \n",
    "    def greeting(self):\n",
    "        super().greeting()\n",
    "        print('저는 코딩 도장 학생입니다.')\n",
    "\n",
    "james = Student()\n",
    "james.greeting()"
   ]
  },
  {
   "cell_type": "code",
   "execution_count": 38,
   "metadata": {},
   "outputs": [
    {
     "name": "stdout",
     "output_type": "stream",
     "text": [
      "class method func\n",
      "안녕하세요\n"
     ]
    }
   ],
   "source": [
    "#classmethod 사용\n",
    "\n",
    "class Person:\n",
    "    def greeting(self):\n",
    "        print('안녕하세요')\n",
    "    @classmethod\n",
    "    def func(cls):\n",
    "        print('class method func')\n",
    "        \n",
    "class Student(Person):\n",
    "    \n",
    "    def greeting(self):\n",
    "        super().greeting()\n",
    "        print('저는 코딩 도장 학생입니다.')\n",
    "\n",
    "        \n",
    "        \n",
    "Person.func()\n",
    "\n",
    "p = Person() #펄슨에 p라는 객체가 만들어짐\n",
    "p.greeting()\n",
    "#Person.greeting() #TypeError: greeting() missing 1 required positional argument: 'self'"
   ]
  },
  {
   "cell_type": "markdown",
   "metadata": {},
   "source": [
    "### 36.5 다중 상속 사용하기 --- p. 532"
   ]
  },
  {
   "cell_type": "code",
   "execution_count": 40,
   "metadata": {},
   "outputs": [
    {
     "name": "stdout",
     "output_type": "stream",
     "text": [
      "안녕하세요\n",
      "학점관리\n",
      "공부하기\n"
     ]
    }
   ],
   "source": [
    "class Person:\n",
    "    def greeting(self):\n",
    "        print('안녕하세요')\n",
    "        \n",
    "class University:\n",
    "    def manage_credit(self):\n",
    "        print('학점관리')\n",
    "        \n",
    "class Undergraduate(Person, University):\n",
    "    def study(self):\n",
    "        print('공부하기')\n",
    "        \n",
    "james = Undergraduate()\n",
    "james.greeting()\n",
    "james.manage_credit()\n",
    "james.study()"
   ]
  },
  {
   "cell_type": "code",
   "execution_count": 43,
   "metadata": {},
   "outputs": [
    {
     "name": "stdout",
     "output_type": "stream",
     "text": [
      "안녕하세요 B입니다.\n"
     ]
    }
   ],
   "source": [
    "# 36.5.1 다이아몬드 상속\n",
    "\n",
    "class A:\n",
    "    def greeting(self):\n",
    "        print('안녕하세요 A입니다.')\n",
    "        \n",
    "class B(A):\n",
    "    def greeting(self):\n",
    "        print('안녕하세요 B입니다.')\n",
    "        \n",
    "class C(A):\n",
    "    def greeting(self):\n",
    "        print('안녕하세요 C입니다.')\n",
    "        \n",
    "class D(B,C):\n",
    "    pass\n",
    "class E(B,C):\n",
    "    pass\n",
    "\n",
    "class F(D,E):\n",
    "    pass\n",
    "\n",
    "x = F()\n",
    "x.greeting()"
   ]
  },
  {
   "cell_type": "code",
   "execution_count": 44,
   "metadata": {},
   "outputs": [
    {
     "data": {
      "text/plain": [
       "[__main__.F,\n",
       " __main__.D,\n",
       " __main__.E,\n",
       " __main__.B,\n",
       " __main__.C,\n",
       " __main__.A,\n",
       " object]"
      ]
     },
     "execution_count": 44,
     "metadata": {},
     "output_type": "execute_result"
    }
   ],
   "source": [
    "# 36.5.2 메서드 탐색 순서 확인하기\n",
    "\n",
    "F.mro()"
   ]
  },
  {
   "cell_type": "code",
   "execution_count": 45,
   "metadata": {},
   "outputs": [
    {
     "data": {
      "text/plain": [
       "[int, object]"
      ]
     },
     "execution_count": 45,
     "metadata": {},
     "output_type": "execute_result"
    }
   ],
   "source": [
    "int.mro()"
   ]
  },
  {
   "cell_type": "code",
   "execution_count": 46,
   "metadata": {},
   "outputs": [
    {
     "data": {
      "text/plain": [
       "[__main__.X, object]"
      ]
     },
     "execution_count": 46,
     "metadata": {},
     "output_type": "execute_result"
    }
   ],
   "source": [
    "class X:\n",
    "    pass\n",
    "\n",
    "X.mro()"
   ]
  },
  {
   "cell_type": "markdown",
   "metadata": {},
   "source": [
    "### 36.6 추상 클래스 사용하기 --- p.536"
   ]
  },
  {
   "cell_type": "code",
   "execution_count": 49,
   "metadata": {},
   "outputs": [
    {
     "name": "stdout",
     "output_type": "stream",
     "text": [
      "수학하기\n",
      "버스로\n",
      "산수하기\n",
      "걸어가기\n"
     ]
    }
   ],
   "source": [
    "from abc import *\n",
    "\n",
    "class StudentBase(metaclass = ABCMeta): #추상클래스는 껍데기만 만드는 느낌인 대신\n",
    "    @abstractmethod\n",
    "    def study(self):\n",
    "        pass\n",
    "    \n",
    "    @abstractmethod\n",
    "    def go_to_school(self):\n",
    "        pass\n",
    "    \n",
    "class middle_Student(StudentBase): #추상클래스를 가져다 쓸 때 @abstractmethod 있는 것을 싹다 구현해야\n",
    "    def study(self):\n",
    "        print('수학하기')\n",
    "        \n",
    "    def go_to_school(self):\n",
    "        print('버스로')\n",
    "        \n",
    "class element_Student(StudentBase):\n",
    "    def study(self):\n",
    "        print('산수하기')\n",
    "        \n",
    "    def go_to_school(self):\n",
    "        print('걸어가기')\n",
    "        \n",
    "        \n",
    "james = middle_Student()\n",
    "james.study()\n",
    "james.go_to_school()\n",
    "\n",
    "s1 = element_Student()\n",
    "s1.study()\n",
    "s1.go_to_school()"
   ]
  },
  {
   "cell_type": "markdown",
   "metadata": {},
   "source": [
    "## UNIT37 두 점 사이의 거리 구하기 --- p.543"
   ]
  },
  {
   "cell_type": "code",
   "execution_count": 60,
   "metadata": {},
   "outputs": [
    {
     "name": "stdout",
     "output_type": "stream",
     "text": [
      "p1 : 30 20\n",
      "p2 : 60 50\n",
      "x: 30 y : 20\n",
      "x: 60 y : 50\n",
      "global print_val\n",
      "x: 30 y : 20\n",
      "classmethod print_val\n",
      "x: 30 y : 20\n"
     ]
    }
   ],
   "source": [
    "class Point2D:\n",
    "    def __init__(self, x, y):\n",
    "        self.x = x\n",
    "        self.y = y\n",
    "    def print_val(self):\n",
    "        print('x: {} y : {}'.format(self.x, self.y))\n",
    "        \n",
    "p1 = Point2D(y=20, x=30)\n",
    "p2 = Point2D(x=60, y=50)\n",
    "\n",
    "def print_val(point):                              # 전역함수\n",
    "    print('global print_val')\n",
    "    print('x: {} y : {}'.format(point.x, point.y))\n",
    "    \n",
    "class print_point:                                # 클래스메소드\n",
    "    @classmethod\n",
    "    def print_val(cls, point):\n",
    "        print('classmethod print_val')\n",
    "        print('x: {} y : {}'.format(point.x, point.y))\n",
    "\n",
    "       \n",
    "        \n",
    "        \n",
    "print('p1 : {} {}'.format(p1.x, p1.y))\n",
    "print('p2 : {} {}'.format(p2.x, p2.y))\n",
    "p1.print_val()\n",
    "p2.print_val()\n",
    "print_val(p1)\n",
    "\n",
    "print_point.print_val(p1)"
   ]
  },
  {
   "cell_type": "code",
   "execution_count": 61,
   "metadata": {},
   "outputs": [
    {
     "name": "stdout",
     "output_type": "stream",
     "text": [
      "42.42640687119285\n"
     ]
    }
   ],
   "source": [
    "import math\n",
    "\n",
    "class Point2D:\n",
    "    def __init__(self, x, y):\n",
    "        self.x = x\n",
    "        self.y = y\n",
    "        \n",
    "p1 = Point2D(x=30, y=20)\n",
    "p2 = Point2D(x=60, y=50)\n",
    "\n",
    "a = p2.x - p1.x\n",
    "b = p2.y - p1.y\n",
    "\n",
    "c = math.sqrt( (a*a) + (b*b) )\n",
    "print(c)"
   ]
  },
  {
   "cell_type": "code",
   "execution_count": 64,
   "metadata": {},
   "outputs": [
    {
     "name": "stdout",
     "output_type": "stream",
     "text": [
      "42.42640687119285\n"
     ]
    }
   ],
   "source": [
    "c2 = math.sqrt( math.pow(a,2) + math.pow(b,2) ) #거듭제곱 math.pow(값,지수)\n",
    "print(c2)"
   ]
  },
  {
   "cell_type": "code",
   "execution_count": 66,
   "metadata": {},
   "outputs": [
    {
     "name": "stdout",
     "output_type": "stream",
     "text": [
      "42.42640687119285\n"
     ]
    }
   ],
   "source": [
    "c3 = math.sqrt( a**2 + b**2 ) #거듭제곱 math.pow(값,지수)\n",
    "print(c3)"
   ]
  },
  {
   "cell_type": "code",
   "execution_count": 70,
   "metadata": {},
   "outputs": [
    {
     "name": "stdout",
     "output_type": "stream",
     "text": [
      "42.42640687119285\n",
      "42.42640687119285\n"
     ]
    },
    {
     "ename": "TypeError",
     "evalue": "distance() takes 2 positional arguments but 3 were given",
     "output_type": "error",
     "traceback": [
      "\u001b[1;31m---------------------------------------------------------------------------\u001b[0m",
      "\u001b[1;31mTypeError\u001b[0m                                 Traceback (most recent call last)",
      "\u001b[1;32m<ipython-input-70-6e6a1720d164>\u001b[0m in \u001b[0;36m<module>\u001b[1;34m\u001b[0m\n\u001b[0;32m     31\u001b[0m \u001b[0mprint\u001b[0m\u001b[1;33m(\u001b[0m\u001b[0md1\u001b[0m\u001b[1;33m)\u001b[0m\u001b[1;33m\u001b[0m\u001b[1;33m\u001b[0m\u001b[0m\n\u001b[0;32m     32\u001b[0m \u001b[1;33m\u001b[0m\u001b[0m\n\u001b[1;32m---> 33\u001b[1;33m \u001b[0md2\u001b[0m \u001b[1;33m=\u001b[0m \u001b[0mp1\u001b[0m\u001b[1;33m.\u001b[0m\u001b[0mdistance\u001b[0m\u001b[1;33m(\u001b[0m\u001b[0mp1\u001b[0m\u001b[1;33m,\u001b[0m \u001b[0mp2\u001b[0m\u001b[1;33m)\u001b[0m\u001b[1;33m\u001b[0m\u001b[1;33m\u001b[0m\u001b[0m\n\u001b[0m\u001b[0;32m     34\u001b[0m \u001b[0mprint\u001b[0m\u001b[1;33m(\u001b[0m\u001b[0md2\u001b[0m\u001b[1;33m)\u001b[0m\u001b[1;33m\u001b[0m\u001b[1;33m\u001b[0m\u001b[0m\n",
      "\u001b[1;31mTypeError\u001b[0m: distance() takes 2 positional arguments but 3 were given"
     ]
    }
   ],
   "source": [
    "import math\n",
    "\n",
    "class Point2D:\n",
    "    def __init__(self, x, y):\n",
    "        self.x = x\n",
    "        self.y = y\n",
    "    def distance(self, point):\n",
    "        a = self.x - point.x\n",
    "        b = self.y - point.y\n",
    "        c = math.sqrt( a**2 + b**2 )\n",
    "        return c\n",
    "        \n",
    "def distance(self, point):\n",
    "    a = self.x - point.x\n",
    "    b = self.y - point.y\n",
    "    c = math.sqrt( a**2 + b**2 )\n",
    "    print('global distance')\n",
    "    return c        \n",
    "                \n",
    "        \n",
    "        \n",
    "p1 = Point2D(x=30, y=20)\n",
    "p2 = Point2D(x=60, y=50)\n",
    "\n",
    "dis = p1.distance(p2)\n",
    "print(dis)\n",
    "\n",
    "\n",
    "\n",
    "d1 = p1.distance(p2)\n",
    "print(d1)\n",
    "\n",
    "d2 = p1.distance(p1, p2)\n",
    "print(d2)"
   ]
  },
  {
   "cell_type": "markdown",
   "metadata": {},
   "source": [
    "## UNIT38 예외 처리 사용하기 --- p.555"
   ]
  },
  {
   "cell_type": "code",
   "execution_count": null,
   "metadata": {},
   "outputs": [],
   "source": [
    "def ten_div(x):\n",
    "    return 10 / x\n",
    "\n",
    "ten_div(2)"
   ]
  },
  {
   "cell_type": "markdown",
   "metadata": {},
   "source": [
    "### 38.1 try except로 사용하기"
   ]
  },
  {
   "cell_type": "code",
   "execution_count": null,
   "metadata": {},
   "outputs": [],
   "source": [
    "try:\n",
    "    n = int(input())\n",
    "    ten_div(n)\n",
    "except:\n",
    "    print('예외 발생')\n",
    "    \n",
    "print('종료')"
   ]
  },
  {
   "cell_type": "code",
   "execution_count": null,
   "metadata": {},
   "outputs": [],
   "source": [
    "n = input()\n",
    "\n",
    "print(type(n))"
   ]
  },
  {
   "cell_type": "code",
   "execution_count": null,
   "metadata": {},
   "outputs": [],
   "source": [
    "y = [10,20,30]\n",
    "\n",
    "try:\n",
    "    index, x = map(int, input('인덱스와 나눌 숫자를 입력하세요: ').split())\n",
    "    print(y[index]/x)\n",
    "    \n",
    "except ZeroDivisionError:\n",
    "    print('숫자를 0으로 나눌 수 없습니다.',e)\n",
    "\n",
    "except IndexError:\n",
    "    print('잘못된 인덱스입니다.',e)"
   ]
  },
  {
   "cell_type": "code",
   "execution_count": 1,
   "metadata": {},
   "outputs": [
    {
     "name": "stdout",
     "output_type": "stream",
     "text": [
      "나눌 숫자를 입력하세요: 0\n",
      "숫자를 0으로 나눌 수 없습니다.\n",
      "종료\n"
     ]
    }
   ],
   "source": [
    "try:\n",
    "    x = int(input('나눌 숫자를 입력하세요: '))\n",
    "    y = 10 / x\n",
    "except ZeroDivisionError:\n",
    "    print('숫자를 0으로 나눌 수 없습니다.')\n",
    "else:\n",
    "    print(y)\n",
    "    \n",
    "print('종료')"
   ]
  },
  {
   "cell_type": "code",
   "execution_count": 2,
   "metadata": {},
   "outputs": [
    {
     "name": "stdout",
     "output_type": "stream",
     "text": [
      "나눌 숫자를 입력하세요: 0\n",
      "숫자를 0으로 나눌 수 없습니다.\n",
      "코드 실행이 끝났습니다.\n"
     ]
    }
   ],
   "source": [
    "try:\n",
    "    x = int(input('나눌 숫자를 입력하세요: '))\n",
    "    y = 10 / x\n",
    "except ZeroDivisionError:\n",
    "    print('숫자를 0으로 나눌 수 없습니다.')\n",
    "else:\n",
    "    print(y)\n",
    "    \n",
    "finally:\n",
    "    print('코드 실행이 끝났습니다.')"
   ]
  },
  {
   "cell_type": "markdown",
   "metadata": {},
   "source": [
    "### 38.3 예외 발생시키기 --- p.562"
   ]
  },
  {
   "cell_type": "code",
   "execution_count": 4,
   "metadata": {},
   "outputs": [
    {
     "name": "stdout",
     "output_type": "stream",
     "text": [
      "3의 배수를 입력하세요 5\n",
      "예외가 발생했습니다. 3의 배수가 아닙니다.\n"
     ]
    }
   ],
   "source": [
    "# 38.3.1 raise의 처리 과정\n",
    "try:\n",
    "    x = int(input('3의 배수를 입력하세요 '))\n",
    "    if x % 3 != 0:\n",
    "        raise Exception('3의 배수가 아닙니다.')\n",
    "    print(x)\n",
    "except Exception as e:\n",
    "    print('예외가 발생했습니다.' ,e)"
   ]
  },
  {
   "cell_type": "code",
   "execution_count": 8,
   "metadata": {},
   "outputs": [],
   "source": [
    "def three_multiple():\n",
    "    x = int(input('3의 배수를 입력하세요 '))\n",
    "    if x % 3 != 0:\n",
    "        raise Exception('3의 배수가 아닙니다.')\n",
    "    print(x)"
   ]
  },
  {
   "cell_type": "code",
   "execution_count": 9,
   "metadata": {},
   "outputs": [
    {
     "name": "stdout",
     "output_type": "stream",
     "text": [
      "3의 배수를 입력하세요 5\n",
      "예외가 발생했습니다. 3의 배수가 아닙니다.\n"
     ]
    }
   ],
   "source": [
    "try:\n",
    "    three_multiple()\n",
    "except Exception as e:\n",
    "    print('예외가 발생했습니다.',e)"
   ]
  },
  {
   "cell_type": "code",
   "execution_count": 12,
   "metadata": {},
   "outputs": [
    {
     "name": "stdout",
     "output_type": "stream",
     "text": [
      "3의 배수를 입력하세요: 3\n",
      "3\n"
     ]
    }
   ],
   "source": [
    "# 38.3.2 현재 예외를 다시 발생시키기\n",
    "\n",
    "x = int(input('3의 배수를 입력하세요: '))\n",
    "assert x % 3 == 0, '3의 배수가 아닙니다.'\n",
    "print(x)"
   ]
  },
  {
   "cell_type": "markdown",
   "metadata": {},
   "source": [
    "### 38.4 예외 만들기 --- p.566"
   ]
  },
  {
   "cell_type": "code",
   "execution_count": 13,
   "metadata": {},
   "outputs": [
    {
     "name": "stdout",
     "output_type": "stream",
     "text": [
      "3의 배수를 입력하세요5\n",
      "예외가 발생했습니다. 3의 배수가 아닙니다.\n"
     ]
    }
   ],
   "source": [
    "class NotThreeMultipleError(Exception):\n",
    "    def __init__(self):\n",
    "        super().__init__('3의 배수가 아닙니다.')\n",
    "        \n",
    "def three_multiple():\n",
    "    try:\n",
    "        x = int(input('3의 배수를 입력하세요'))\n",
    "        if x % 3 != 0:\n",
    "            raise NotThreeMultipleError\n",
    "        print(x)\n",
    "    except Exception as e:\n",
    "        print('예외가 발생했습니다.', e)\n",
    "        \n",
    "three_multiple()"
   ]
  },
  {
   "cell_type": "markdown",
   "metadata": {},
   "source": [
    "## UNIT39 이터레이터 사용하기 --- p. 570"
   ]
  },
  {
   "cell_type": "markdown",
   "metadata": {},
   "source": [
    "### 39.1 반복 가능한 객체 알아보기 --- p.570"
   ]
  },
  {
   "cell_type": "code",
   "execution_count": 14,
   "metadata": {},
   "outputs": [
    {
     "name": "stdout",
     "output_type": "stream",
     "text": [
      "['__add__', '__class__', '__contains__', '__delattr__', '__delitem__', '__dir__', '__doc__', '__eq__', '__format__', '__ge__', '__getattribute__', '__getitem__', '__gt__', '__hash__', '__iadd__', '__imul__', '__init__', '__init_subclass__', '__iter__', '__le__', '__len__', '__lt__', '__mul__', '__ne__', '__new__', '__reduce__', '__reduce_ex__', '__repr__', '__reversed__', '__rmul__', '__setattr__', '__setitem__', '__sizeof__', '__str__', '__subclasshook__', 'append', 'clear', 'copy', 'count', 'extend', 'index', 'insert', 'pop', 'remove', 'reverse', 'sort']\n"
     ]
    }
   ],
   "source": [
    "a = [1,2,3]\n",
    "print(dir(a)) #next가 없어서 다음 값을 못 가져옴"
   ]
  },
  {
   "cell_type": "code",
   "execution_count": 15,
   "metadata": {},
   "outputs": [
    {
     "name": "stdout",
     "output_type": "stream",
     "text": [
      "1\n",
      "2\n",
      "3\n"
     ]
    }
   ],
   "source": [
    "for i in [1,2,3]:\n",
    "    print(i)"
   ]
  },
  {
   "cell_type": "code",
   "execution_count": 18,
   "metadata": {},
   "outputs": [
    {
     "name": "stdout",
     "output_type": "stream",
     "text": [
      "<list_iterator object at 0x0000022F6FA79278>\n",
      "['__class__', '__delattr__', '__dir__', '__doc__', '__eq__', '__format__', '__ge__', '__getattribute__', '__gt__', '__hash__', '__init__', '__init_subclass__', '__iter__', '__le__', '__length_hint__', '__lt__', '__ne__', '__new__', '__next__', '__reduce__', '__reduce_ex__', '__repr__', '__setattr__', '__setstate__', '__sizeof__', '__str__', '__subclasshook__']\n"
     ]
    }
   ],
   "source": [
    "it = [1,2,3].__iter__() 리스트 [1,2,3] / 의 값을 가져올 수 있는 것 __iter__() /\n",
    "print(it)\n",
    "print(dir(it))"
   ]
  },
  {
   "cell_type": "code",
   "execution_count": 23,
   "metadata": {
    "scrolled": false
   },
   "outputs": [
    {
     "ename": "StopIteration",
     "evalue": "",
     "output_type": "error",
     "traceback": [
      "\u001b[1;31m---------------------------------------------------------------------------\u001b[0m",
      "\u001b[1;31mStopIteration\u001b[0m                             Traceback (most recent call last)",
      "\u001b[1;32m<ipython-input-23-d425b24b998e>\u001b[0m in \u001b[0;36m<module>\u001b[1;34m\u001b[0m\n\u001b[1;32m----> 1\u001b[1;33m \u001b[0mit\u001b[0m\u001b[1;33m.\u001b[0m\u001b[0m__next__\u001b[0m\u001b[1;33m(\u001b[0m\u001b[1;33m)\u001b[0m \u001b[1;31m# it은 내부적으로 리스트 [1,2,3]을 의미하므로 / 순차적으로 __next__() / 값을 가져옴\u001b[0m\u001b[1;33m\u001b[0m\u001b[1;33m\u001b[0m\u001b[0m\n\u001b[0m\u001b[0;32m      2\u001b[0m \u001b[1;31m# 1 > 2 > 3 > StopIteration\u001b[0m\u001b[1;33m\u001b[0m\u001b[1;33m\u001b[0m\u001b[1;33m\u001b[0m\u001b[0m\n",
      "\u001b[1;31mStopIteration\u001b[0m: "
     ]
    }
   ],
   "source": [
    "it.__next__() # it은 내부적으로 리스트 [1,2,3]을 의미하므로 / 순차적으로 __next__() / 값을 가져옴\n",
    "# 1 > 2 > 3 > StopIteration"
   ]
  },
  {
   "cell_type": "code",
   "execution_count": 24,
   "metadata": {},
   "outputs": [
    {
     "name": "stdout",
     "output_type": "stream",
     "text": [
      "1\n",
      "2\n",
      "3\n",
      "4\n",
      "5\n",
      "6\n",
      "7\n",
      "8\n",
      "9\n"
     ]
    }
   ],
   "source": [
    "for i in [1,2,3,4,5,6,7,8,9]:\n",
    "    print(i)"
   ]
  },
  {
   "cell_type": "code",
   "execution_count": 25,
   "metadata": {},
   "outputs": [
    {
     "name": "stdout",
     "output_type": "stream",
     "text": [
      "['__bool__', '__class__', '__contains__', '__delattr__', '__dir__', '__doc__', '__eq__', '__format__', '__ge__', '__getattribute__', '__getitem__', '__gt__', '__hash__', '__init__', '__init_subclass__', '__iter__', '__le__', '__len__', '__lt__', '__ne__', '__new__', '__reduce__', '__reduce_ex__', '__repr__', '__reversed__', '__setattr__', '__sizeof__', '__str__', '__subclasshook__', 'count', 'index', 'start', 'step', 'stop']\n"
     ]
    }
   ],
   "source": [
    "print(dir(range(5))) # "
   ]
  },
  {
   "cell_type": "code",
   "execution_count": 26,
   "metadata": {},
   "outputs": [
    {
     "data": {
      "text/plain": [
       "<range_iterator at 0x22f6f99e910>"
      ]
     },
     "execution_count": 26,
     "metadata": {},
     "output_type": "execute_result"
    }
   ],
   "source": [
    "a = range(5).__iter__()\n",
    "a"
   ]
  },
  {
   "cell_type": "code",
   "execution_count": 27,
   "metadata": {},
   "outputs": [
    {
     "name": "stdout",
     "output_type": "stream",
     "text": [
      "['__class__', '__delattr__', '__dir__', '__doc__', '__eq__', '__format__', '__ge__', '__getattribute__', '__gt__', '__hash__', '__init__', '__init_subclass__', '__iter__', '__le__', '__length_hint__', '__lt__', '__ne__', '__new__', '__next__', '__reduce__', '__reduce_ex__', '__repr__', '__setattr__', '__setstate__', '__sizeof__', '__str__', '__subclasshook__']\n"
     ]
    }
   ],
   "source": [
    "print(dir(a))"
   ]
  },
  {
   "cell_type": "markdown",
   "metadata": {},
   "source": [
    "### 39.2 이터레이터 만들기 --- p.574"
   ]
  },
  {
   "cell_type": "code",
   "execution_count": 34,
   "metadata": {},
   "outputs": [
    {
     "name": "stdout",
     "output_type": "stream",
     "text": [
      "0 1 2 "
     ]
    },
    {
     "ename": "NameError",
     "evalue": "name 'Stopliteration' is not defined",
     "output_type": "error",
     "traceback": [
      "\u001b[1;31m---------------------------------------------------------------------------\u001b[0m",
      "\u001b[1;31mNameError\u001b[0m                                 Traceback (most recent call last)",
      "\u001b[1;32m<ipython-input-34-7ecfc7a510d1>\u001b[0m in \u001b[0;36m<module>\u001b[1;34m\u001b[0m\n\u001b[0;32m     16\u001b[0m \u001b[1;33m\u001b[0m\u001b[0m\n\u001b[0;32m     17\u001b[0m \u001b[1;33m\u001b[0m\u001b[0m\n\u001b[1;32m---> 18\u001b[1;33m \u001b[1;32mfor\u001b[0m \u001b[0mi\u001b[0m \u001b[1;32min\u001b[0m \u001b[0mCounter\u001b[0m\u001b[1;33m(\u001b[0m\u001b[1;36m3\u001b[0m\u001b[1;33m)\u001b[0m\u001b[1;33m:\u001b[0m\u001b[1;33m\u001b[0m\u001b[1;33m\u001b[0m\u001b[0m\n\u001b[0m\u001b[0;32m     19\u001b[0m     \u001b[0mprint\u001b[0m\u001b[1;33m(\u001b[0m\u001b[0mi\u001b[0m\u001b[1;33m,\u001b[0m \u001b[0mend\u001b[0m\u001b[1;33m=\u001b[0m \u001b[1;34m' '\u001b[0m\u001b[1;33m)\u001b[0m\u001b[1;33m\u001b[0m\u001b[1;33m\u001b[0m\u001b[0m\n",
      "\u001b[1;32m<ipython-input-34-7ecfc7a510d1>\u001b[0m in \u001b[0;36m__next__\u001b[1;34m(self)\u001b[0m\n\u001b[0;32m     13\u001b[0m             \u001b[1;32mreturn\u001b[0m \u001b[0mr\u001b[0m\u001b[1;33m\u001b[0m\u001b[1;33m\u001b[0m\u001b[0m\n\u001b[0;32m     14\u001b[0m         \u001b[1;32melse\u001b[0m\u001b[1;33m:\u001b[0m\u001b[1;33m\u001b[0m\u001b[1;33m\u001b[0m\u001b[0m\n\u001b[1;32m---> 15\u001b[1;33m             \u001b[1;32mraise\u001b[0m \u001b[0mStopliteration\u001b[0m\u001b[1;33m\u001b[0m\u001b[1;33m\u001b[0m\u001b[0m\n\u001b[0m\u001b[0;32m     16\u001b[0m \u001b[1;33m\u001b[0m\u001b[0m\n\u001b[0;32m     17\u001b[0m \u001b[1;33m\u001b[0m\u001b[0m\n",
      "\u001b[1;31mNameError\u001b[0m: name 'Stopliteration' is not defined"
     ]
    }
   ],
   "source": [
    "class Counter:\n",
    "    def __init__(self, stop):\n",
    "        self.current = 0\n",
    "        self.stop = stop\n",
    "        \n",
    "    def __iter__(self):\n",
    "        return self\n",
    "    \n",
    "    def __next__(self):\n",
    "        if self.current < self.stop:\n",
    "            r = self.current\n",
    "            self.current += 1\n",
    "            return r\n",
    "        else:\n",
    "            raise Stopliteration\n",
    "        \n",
    "        \n",
    "for i in Counter(3):\n",
    "    print(i, end= ' ')"
   ]
  },
  {
   "cell_type": "code",
   "execution_count": 41,
   "metadata": {
    "scrolled": true
   },
   "outputs": [
    {
     "name": "stdout",
     "output_type": "stream",
     "text": [
      "0 1 2 "
     ]
    }
   ],
   "source": [
    "class iterator:\n",
    "    def __init__(self, obj):\n",
    "        self.obj = obj\n",
    "                   \n",
    "    def __next__(self):\n",
    "        if self.obj.current < self.obj.stop:\n",
    "            r = self.obj.current\n",
    "            self.obj.current += 1\n",
    "            return r\n",
    "        else:\n",
    "            raise StopIteration\n",
    "        \n",
    "        \n",
    "class Counter:\n",
    "    def __init__(self, stop):\n",
    "        self.current = 0\n",
    "        self.stop = stop\n",
    "        \n",
    "    def __iter__(self):\n",
    "        return iterator(self)\n",
    "    \n",
    "    \n",
    "a = Counter(3)\n",
    "for i in a:\n",
    "    print(i, end= ' ')"
   ]
  },
  {
   "cell_type": "code",
   "execution_count": null,
   "metadata": {},
   "outputs": [],
   "source": [
    "#2021.10.29(금) "
   ]
  },
  {
   "cell_type": "code",
   "execution_count": 1,
   "metadata": {
    "scrolled": true
   },
   "outputs": [
    {
     "name": "stdout",
     "output_type": "stream",
     "text": [
      "1 2 3\n"
     ]
    },
    {
     "data": {
      "text/plain": [
       "(1, 2, 3)"
      ]
     },
     "execution_count": 1,
     "metadata": {},
     "output_type": "execute_result"
    }
   ],
   "source": [
    "a,b,c = map(int, input().split())\n",
    "a,b,c"
   ]
  },
  {
   "cell_type": "code",
   "execution_count": 1,
   "metadata": {},
   "outputs": [],
   "source": [
    "class mymap:\n",
    "    def __init__(self, t1, t2):\n",
    "        self.t1 = t1\n",
    "        self.t2 = t2\n",
    "        self.current = 0\n",
    "        self.stop = len(self.t2)\n",
    "        \n",
    "    def __iter__(self):\n",
    "        return self\n",
    "    \n",
    "    def __next__(self):\n",
    "        if self.current < self.stop:\n",
    "            r = self.t1(self.t2[self.current])\n",
    "            self.current += 1\n",
    "            return r\n",
    "        else:\n",
    "            raise StopIteration"
   ]
  },
  {
   "cell_type": "code",
   "execution_count": null,
   "metadata": {
    "scrolled": true
   },
   "outputs": [],
   "source": [
    "a,b = mymap(int, input().split())\n",
    "print(a, b)"
   ]
  },
  {
   "cell_type": "code",
   "execution_count": null,
   "metadata": {},
   "outputs": [],
   "source": [
    "map(int, input().split())"
   ]
  },
  {
   "cell_type": "code",
   "execution_count": 16,
   "metadata": {},
   "outputs": [
    {
     "name": "stdout",
     "output_type": "stream",
     "text": [
      "\n",
      "__getitem__\n"
     ]
    },
    {
     "data": {
      "text/plain": [
       "0"
      ]
     },
     "execution_count": 16,
     "metadata": {},
     "output_type": "execute_result"
    }
   ],
   "source": [
    "class Counter:\n",
    "    def __init__(self, stop):\n",
    "        self.stop = stop\n",
    "        \n",
    "    def __getitem__(self, index):\n",
    "        print('\\n__getitem__')\n",
    "        if index < self.stop:\n",
    "            return index\n",
    "        else:\n",
    "            raise IndexError\n",
    "            \n",
    "a = Counter(3)\n",
    "a[0]          # a.__getitem__(0)"
   ]
  },
  {
   "cell_type": "code",
   "execution_count": 3,
   "metadata": {
    "scrolled": true
   },
   "outputs": [
    {
     "name": "stdout",
     "output_type": "stream",
     "text": [
      "__getitem__\n",
      "0 __getitem__\n",
      "1 __getitem__\n",
      "2 __getitem__\n"
     ]
    }
   ],
   "source": [
    "a = Counter(3)\n",
    "for i in a: \n",
    "    print(i, end=' ')"
   ]
  },
  {
   "cell_type": "markdown",
   "metadata": {},
   "source": [
    "### 39.4 iter, next 함수 활용하기 --- p.578"
   ]
  },
  {
   "cell_type": "code",
   "execution_count": 18,
   "metadata": {},
   "outputs": [
    {
     "name": "stdout",
     "output_type": "stream",
     "text": [
      "3.7.3 (default, Mar 27 2019, 17:13:21) [MSC v.1915 64 bit (AMD64)]\n"
     ]
    }
   ],
   "source": [
    "# 버전확인\n",
    "import sys\n",
    "print(sys.version)"
   ]
  },
  {
   "cell_type": "code",
   "execution_count": 19,
   "metadata": {},
   "outputs": [
    {
     "data": {
      "text/plain": [
       "0"
      ]
     },
     "execution_count": 19,
     "metadata": {},
     "output_type": "execute_result"
    }
   ],
   "source": [
    "it = iter(range(3))\n",
    "next(it)"
   ]
  },
  {
   "cell_type": "code",
   "execution_count": 21,
   "metadata": {},
   "outputs": [],
   "source": [
    "class Counter:\n",
    "    def __init__(self, stop):\n",
    "        self.current = 0\n",
    "        self.stop = stop\n",
    "        \n",
    "    def __iter__(self):\n",
    "        return  self\n",
    "    \n",
    "    def __next__(self):\n",
    "        if self.current < self.stop:\n",
    "            r = self.current\n",
    "            self.current += 1\n",
    "            return r\n",
    "        else:\n",
    "            raise StopIteration"
   ]
  },
  {
   "cell_type": "code",
   "execution_count": 25,
   "metadata": {},
   "outputs": [
    {
     "data": {
      "text/plain": [
       "0"
      ]
     },
     "execution_count": 25,
     "metadata": {},
     "output_type": "execute_result"
    }
   ],
   "source": [
    "next(Counter(3))"
   ]
  },
  {
   "cell_type": "code",
   "execution_count": null,
   "metadata": {},
   "outputs": [],
   "source": [
    "#39.4.1 iter(호출가능한 객체, 반복을 끝낼 값)\n",
    "\n",
    "import random\n",
    "it = iter(lambda : random.randint(0,5), 2)"
   ]
  },
  {
   "cell_type": "code",
   "execution_count": 34,
   "metadata": {},
   "outputs": [
    {
     "name": "stdout",
     "output_type": "stream",
     "text": [
      "['__call__', '__class__', '__delattr__', '__dir__', '__doc__', '__eq__', '__format__', '__ge__', '__getattribute__', '__gt__', '__hash__', '__init__', '__init_subclass__', '__le__', '__lt__', '__module__', '__name__', '__ne__', '__new__', '__qualname__', '__reduce__', '__reduce_ex__', '__repr__', '__self__', '__setattr__', '__sizeof__', '__str__', '__subclasshook__', '__text_signature__']\n"
     ]
    }
   ],
   "source": [
    "print(dir(iter))"
   ]
  },
  {
   "cell_type": "code",
   "execution_count": 28,
   "metadata": {},
   "outputs": [
    {
     "name": "stdout",
     "output_type": "stream",
     "text": [
      "1 5 4 4 0 0 4 5 1 1 1 4 4 3 1 5 "
     ]
    }
   ],
   "source": [
    "import random\n",
    "\n",
    "while True:\n",
    "    i = random.randint(0,5)\n",
    "    if i == 2:\n",
    "        break;\n",
    "    print(i, end=' ')"
   ]
  },
  {
   "cell_type": "code",
   "execution_count": 29,
   "metadata": {},
   "outputs": [],
   "source": [
    "# 39.4.2 next(반복가능한 객체, 기본값)\n",
    "it = iter(range(3))"
   ]
  },
  {
   "cell_type": "code",
   "execution_count": 33,
   "metadata": {},
   "outputs": [
    {
     "ename": "StopIteration",
     "evalue": "",
     "output_type": "error",
     "traceback": [
      "\u001b[1;31m---------------------------------------------------------------------------\u001b[0m",
      "\u001b[1;31mStopIteration\u001b[0m                             Traceback (most recent call last)",
      "\u001b[1;32m<ipython-input-33-bc1ab118995a>\u001b[0m in \u001b[0;36m<module>\u001b[1;34m\u001b[0m\n\u001b[1;32m----> 1\u001b[1;33m \u001b[0mnext\u001b[0m\u001b[1;33m(\u001b[0m\u001b[0mit\u001b[0m\u001b[1;33m)\u001b[0m\u001b[1;33m\u001b[0m\u001b[1;33m\u001b[0m\u001b[0m\n\u001b[0m",
      "\u001b[1;31mStopIteration\u001b[0m: "
     ]
    }
   ],
   "source": [
    "next(it)"
   ]
  },
  {
   "cell_type": "code",
   "execution_count": 35,
   "metadata": {},
   "outputs": [],
   "source": [
    "# import random\n",
    "# it = iter(lambda : random.randint(0,5), 2)\n",
    "\n",
    "class myIter:\n",
    "    def __init__(self, func, val):\n",
    "        self.func = func\n",
    "        self.val = val\n",
    "        \n",
    "    def __next__(self):\n",
    "        ret = self.func()\n",
    "        if ret == 2:\n",
    "            raise StopIteration\n",
    "        return ret"
   ]
  },
  {
   "cell_type": "code",
   "execution_count": 43,
   "metadata": {},
   "outputs": [
    {
     "ename": "StopIteration",
     "evalue": "",
     "output_type": "error",
     "traceback": [
      "\u001b[1;31m---------------------------------------------------------------------------\u001b[0m",
      "\u001b[1;31mStopIteration\u001b[0m                             Traceback (most recent call last)",
      "\u001b[1;32m<ipython-input-43-eda19d4706dd>\u001b[0m in \u001b[0;36m<module>\u001b[1;34m\u001b[0m\n\u001b[0;32m      1\u001b[0m \u001b[0mit\u001b[0m \u001b[1;33m=\u001b[0m \u001b[0mmyIter\u001b[0m\u001b[1;33m(\u001b[0m\u001b[1;32mlambda\u001b[0m \u001b[1;33m:\u001b[0m \u001b[0mrandom\u001b[0m\u001b[1;33m.\u001b[0m\u001b[0mrandint\u001b[0m\u001b[1;33m(\u001b[0m\u001b[1;36m0\u001b[0m\u001b[1;33m,\u001b[0m\u001b[1;36m5\u001b[0m\u001b[1;33m)\u001b[0m\u001b[1;33m,\u001b[0m\u001b[1;36m2\u001b[0m\u001b[1;33m)\u001b[0m\u001b[1;33m\u001b[0m\u001b[1;33m\u001b[0m\u001b[0m\n\u001b[1;32m----> 2\u001b[1;33m \u001b[0mnext\u001b[0m\u001b[1;33m(\u001b[0m\u001b[0mit\u001b[0m\u001b[1;33m)\u001b[0m\u001b[1;33m\u001b[0m\u001b[1;33m\u001b[0m\u001b[0m\n\u001b[0m",
      "\u001b[1;32m<ipython-input-35-e14dcba7ac12>\u001b[0m in \u001b[0;36m__next__\u001b[1;34m(self)\u001b[0m\n\u001b[0;32m     10\u001b[0m         \u001b[0mret\u001b[0m \u001b[1;33m=\u001b[0m \u001b[0mself\u001b[0m\u001b[1;33m.\u001b[0m\u001b[0mfunc\u001b[0m\u001b[1;33m(\u001b[0m\u001b[1;33m)\u001b[0m\u001b[1;33m\u001b[0m\u001b[1;33m\u001b[0m\u001b[0m\n\u001b[0;32m     11\u001b[0m         \u001b[1;32mif\u001b[0m \u001b[0mret\u001b[0m \u001b[1;33m==\u001b[0m \u001b[1;36m2\u001b[0m\u001b[1;33m:\u001b[0m\u001b[1;33m\u001b[0m\u001b[1;33m\u001b[0m\u001b[0m\n\u001b[1;32m---> 12\u001b[1;33m             \u001b[1;32mraise\u001b[0m \u001b[0mStopIteration\u001b[0m\u001b[1;33m\u001b[0m\u001b[1;33m\u001b[0m\u001b[0m\n\u001b[0m\u001b[0;32m     13\u001b[0m         \u001b[1;32mreturn\u001b[0m \u001b[0mret\u001b[0m\u001b[1;33m\u001b[0m\u001b[1;33m\u001b[0m\u001b[0m\n",
      "\u001b[1;31mStopIteration\u001b[0m: "
     ]
    }
   ],
   "source": [
    "it = myIter(lambda : random.randint(0,5),2)\n",
    "next(it)"
   ]
  },
  {
   "cell_type": "markdown",
   "metadata": {},
   "source": [
    "## UNIT40 제너레이터 사용하기 --- p.584"
   ]
  },
  {
   "cell_type": "code",
   "execution_count": 44,
   "metadata": {},
   "outputs": [
    {
     "name": "stdout",
     "output_type": "stream",
     "text": [
      "c : 30\n"
     ]
    }
   ],
   "source": [
    "def func(a,b):\n",
    "    return a + b\n",
    "\n",
    "a=10\n",
    "b=20\n",
    "\n",
    "c=func(a,b)\n",
    "\n",
    "print('c : {}'.format(c))\n",
    "\n",
    "# cpu가 func(a,b)에서 일을 하다가 func이라는 녀석 호출로 인해 그 쪽으로 넘어가서 일을 함 \n",
    "# yield(포기의 개념)이제 그만 다시 쟤들 도와줘"
   ]
  },
  {
   "cell_type": "code",
   "execution_count": 46,
   "metadata": {},
   "outputs": [
    {
     "name": "stdout",
     "output_type": "stream",
     "text": [
      "a : 10\n",
      "a : 10\n",
      "a : 10\n"
     ]
    }
   ],
   "source": [
    "def func():\n",
    "    a = 10\n",
    "    print('a : {}'.format(a))\n",
    "    a = a+10\n",
    "    \n",
    "func()\n",
    "func()\n",
    "func()\n",
    "\n",
    "# a : 10\n",
    "# a : 10\n",
    "# a : 10\n",
    "\n",
    "# => 지역변수라서 func에 들어갔다 나올 때 초기화가 됨"
   ]
  },
  {
   "cell_type": "code",
   "execution_count": 57,
   "metadata": {
    "scrolled": true
   },
   "outputs": [
    {
     "name": "stdout",
     "output_type": "stream",
     "text": [
      "0\n",
      "1\n",
      "2\n"
     ]
    }
   ],
   "source": [
    "def number_generator(): #함수호출이 아니라 제너레이터 호출이고\n",
    "    a = 0\n",
    "    yield a\n",
    "    a += 1\n",
    "    yield a\n",
    "    a += 1\n",
    "    yield a\n",
    "    \n",
    "for i in number_generator():\n",
    "    print(i)   \n",
    "    \n",
    "    \n",
    "# => yield는 a에 0이 들어와서 플러스1 되면 a값이 1이 되는데, 포기개념 멈춰서 프린트 0"
   ]
  },
  {
   "cell_type": "code",
   "execution_count": 58,
   "metadata": {},
   "outputs": [
    {
     "data": {
      "text/plain": [
       "<generator object number_generator at 0x000001EC491197C8>"
      ]
     },
     "execution_count": 58,
     "metadata": {},
     "output_type": "execute_result"
    }
   ],
   "source": [
    "g = number_generator() #제너레이터를 g로 저장해서\n",
    "g"
   ]
  },
  {
   "cell_type": "code",
   "execution_count": 59,
   "metadata": {},
   "outputs": [
    {
     "data": {
      "text/plain": [
       "0"
      ]
     },
     "execution_count": 59,
     "metadata": {},
     "output_type": "execute_result"
    }
   ],
   "source": [
    "g.__next__() #함수로 쓰는 그런 느낌"
   ]
  },
  {
   "cell_type": "code",
   "execution_count": 60,
   "metadata": {},
   "outputs": [
    {
     "data": {
      "text/plain": [
       "1"
      ]
     },
     "execution_count": 60,
     "metadata": {},
     "output_type": "execute_result"
    }
   ],
   "source": [
    "g.__next__()"
   ]
  },
  {
   "cell_type": "code",
   "execution_count": 61,
   "metadata": {
    "scrolled": true
   },
   "outputs": [
    {
     "data": {
      "text/plain": [
       "2"
      ]
     },
     "execution_count": 61,
     "metadata": {},
     "output_type": "execute_result"
    }
   ],
   "source": [
    "g.__next__()"
   ]
  },
  {
   "cell_type": "code",
   "execution_count": 62,
   "metadata": {},
   "outputs": [
    {
     "name": "stdout",
     "output_type": "stream",
     "text": [
      "\n"
     ]
    }
   ],
   "source": [
    "def one_generator():\n",
    "    yield 1\n",
    "    return\n",
    "\n",
    "try:\n",
    "    g = one_generator()\n",
    "    next(g)\n",
    "    next(g)\n",
    "except StopIteration as e:\n",
    "    print(e)"
   ]
  },
  {
   "cell_type": "code",
   "execution_count": null,
   "metadata": {},
   "outputs": [],
   "source": [
    "def number_generator():\n",
    "    yield 0\n",
    "    yield 1\n",
    "    yield 2\n",
    "    return\n",
    "g = number_generator()\n",
    "\n",
    "a = next(g) #yield 0\n",
    "b = next(g) #yield 1\n",
    "c = next(g) #yield 2\n",
    "d = next(g)\n",
    "    "
   ]
  },
  {
   "cell_type": "markdown",
   "metadata": {},
   "source": [
    "### 40.2 제너레이터 만들기 --- p.590"
   ]
  },
  {
   "cell_type": "code",
   "execution_count": 68,
   "metadata": {},
   "outputs": [
    {
     "ename": "TypeError",
     "evalue": "number_generator() takes 0 positional arguments but 1 was given",
     "output_type": "error",
     "traceback": [
      "\u001b[1;31m---------------------------------------------------------------------------\u001b[0m",
      "\u001b[1;31mTypeError\u001b[0m                                 Traceback (most recent call last)",
      "\u001b[1;32m<ipython-input-68-c277846a261e>\u001b[0m in \u001b[0;36m<module>\u001b[1;34m\u001b[0m\n\u001b[0;32m      5\u001b[0m         \u001b[0mn\u001b[0m \u001b[1;33m+=\u001b[0m \u001b[1;36m1\u001b[0m\u001b[1;33m\u001b[0m\u001b[1;33m\u001b[0m\u001b[0m\n\u001b[0;32m      6\u001b[0m \u001b[1;33m\u001b[0m\u001b[0m\n\u001b[1;32m----> 7\u001b[1;33m \u001b[1;32mfor\u001b[0m \u001b[0mi\u001b[0m \u001b[1;32min\u001b[0m \u001b[0mnumber_generator\u001b[0m\u001b[1;33m(\u001b[0m\u001b[1;36m5\u001b[0m\u001b[1;33m)\u001b[0m\u001b[1;33m:\u001b[0m\u001b[1;33m\u001b[0m\u001b[1;33m\u001b[0m\u001b[0m\n\u001b[0m\u001b[0;32m      8\u001b[0m     \u001b[0mprint\u001b[0m\u001b[1;33m(\u001b[0m\u001b[0mi\u001b[0m\u001b[1;33m)\u001b[0m\u001b[1;33m\u001b[0m\u001b[1;33m\u001b[0m\u001b[0m\n",
      "\u001b[1;31mTypeError\u001b[0m: number_generator() takes 0 positional arguments but 1 was given"
     ]
    }
   ],
   "source": [
    "def number_generator():\n",
    "    n = 0\n",
    "    while n < stop:\n",
    "        yield n\n",
    "        n += 1\n",
    "        \n",
    "for i in number_generator(5):\n",
    "    print(i)"
   ]
  },
  {
   "cell_type": "code",
   "execution_count": 66,
   "metadata": {},
   "outputs": [
    {
     "name": "stdout",
     "output_type": "stream",
     "text": [
      "APPLE\n",
      "PEAR\n",
      "GRAPE\n",
      "PINEAPPLE\n",
      "ORANGE\n"
     ]
    }
   ],
   "source": [
    "def uper_generator(x):\n",
    "    for i in x:\n",
    "        yield i.upper()\n",
    "        \n",
    "fruits = ['apple', 'pear', 'grape', 'pineapple', 'orange']\n",
    "\n",
    "for i in uper_generator(fruits):\n",
    "    print(i)"
   ]
  },
  {
   "cell_type": "code",
   "execution_count": 72,
   "metadata": {},
   "outputs": [
    {
     "name": "stdout",
     "output_type": "stream",
     "text": [
      "1\n",
      "2\n",
      "3\n"
     ]
    }
   ],
   "source": [
    "def number_generator():\n",
    "    x = [1,2,3]\n",
    "    for i in x:\n",
    "        yield i\n",
    "        \n",
    "for i in number_generator(): \n",
    "    print(i)\n",
    "    \n",
    "\n",
    "# x에서 값을 가져와서 yield가 하나씩 꺼내와서 던짐"
   ]
  },
  {
   "cell_type": "code",
   "execution_count": 75,
   "metadata": {},
   "outputs": [
    {
     "name": "stdout",
     "output_type": "stream",
     "text": [
      "1\n",
      "2\n",
      "3\n"
     ]
    }
   ],
   "source": [
    "def number_generator():\n",
    "    x = [1,2,3]\n",
    "    yield from x\n",
    "\n",
    "#g = number_generator()\n",
    "for i in number_generator():\n",
    "    print(i)\n",
    "    \n",
    "    \n",
    "#  x에서 값을 던져주니까 yield 본인은 놀꺼야 대신 x에서 다렉으로 받아서 \n",
    "#  x = [1,2,3]의 여러 값이 있는데 하나씩 for문에 number_generator랑 연결이 되어 꺼내 써지는 느낌?\n",
    "# yield from을 쓰면 하나씩 말고 한꺼번에? 꺼내는 느낌?"
   ]
  },
  {
   "cell_type": "code",
   "execution_count": null,
   "metadata": {},
   "outputs": [],
   "source": [
    "# 40.3.1 yield from 에 제너레이터 객체 지정하기\n",
    "\n",
    "def number_generator(stop):\n",
    "    n = 0\n",
    "    while n < stop:\n",
    "        yield n\n",
    "        n += 1\n",
    "        \n",
    "def three_generator():\n",
    "    yield from number_generator(3)\n",
    "    \n",
    "for i in three_generator():\n",
    "    print(i)"
   ]
  },
  {
   "cell_type": "code",
   "execution_count": 76,
   "metadata": {},
   "outputs": [
    {
     "name": "stdout",
     "output_type": "stream",
     "text": [
      "[0, 2, 4, 6, 8, 10, 12, 14, 16, 18, 20, 22, 24, 26, 28, 30, 32, 34, 36, 38, 40, 42, 44, 46, 48]\n"
     ]
    }
   ],
   "source": [
    "print([i for i in range(50) if i% 2 == 0])"
   ]
  },
  {
   "cell_type": "code",
   "execution_count": 78,
   "metadata": {},
   "outputs": [
    {
     "data": {
      "text/plain": [
       "<generator object <genexpr> at 0x000001EC49119B10>"
      ]
     },
     "execution_count": 78,
     "metadata": {},
     "output_type": "execute_result"
    }
   ],
   "source": [
    "(i for i in range(50) if i% 2 == 0)"
   ]
  },
  {
   "cell_type": "code",
   "execution_count": 81,
   "metadata": {},
   "outputs": [
    {
     "name": "stdout",
     "output_type": "stream",
     "text": [
      "0 2 4 6 8 10 12 14 16 18 20 22 24 26 28 30 32 34 36 38 40 42 44 46 48 "
     ]
    }
   ],
   "source": [
    "# yield from 반복가능한 객체\n",
    "# yield from \n",
    "def test():\n",
    "    yield from(i for i in range(50) if i% 2 == 0)\n",
    "    \n",
    "for i in test():\n",
    "    print(i, end=' ')"
   ]
  },
  {
   "cell_type": "code",
   "execution_count": 82,
   "metadata": {},
   "outputs": [
    {
     "name": "stdout",
     "output_type": "stream",
     "text": [
      "[0, 2, 4, 6, 8, 10, 12, 14, 16, 18, 20, 22, 24, 26, 28, 30, 32, 34, 36, 38, 40, 42, 44, 46, 48]\n"
     ]
    }
   ],
   "source": [
    "# [i for i in range(50) if i% 2 == 0]\n",
    "\n",
    "a = []\n",
    "for i in range(50):\n",
    "    if i % 2 == 0:\n",
    "        a.append(i)\n",
    "print(a)"
   ]
  },
  {
   "cell_type": "markdown",
   "metadata": {},
   "source": [
    "## UNIT41 코루틴 사용하기 --- p.597"
   ]
  },
  {
   "cell_type": "markdown",
   "metadata": {},
   "source": [
    "### 41.1 코루틴에 값 보내기 --- p.599"
   ]
  },
  {
   "cell_type": "code",
   "execution_count": 83,
   "metadata": {},
   "outputs": [],
   "source": [
    "def number_coroutine():\n",
    "    while True:\n",
    "        x = (yield)\n",
    "        print(x)\n",
    "        \n",
    "co = number_coroutine()\n",
    "next(co)\n",
    "\n",
    "# 제너레이터를 생성하는것, next를 써야 그제서야 함수를 호출하는 것임"
   ]
  },
  {
   "cell_type": "code",
   "execution_count": 84,
   "metadata": {},
   "outputs": [
    {
     "name": "stdout",
     "output_type": "stream",
     "text": [
      "1\n"
     ]
    }
   ],
   "source": [
    "co.send(1)"
   ]
  },
  {
   "cell_type": "code",
   "execution_count": 85,
   "metadata": {},
   "outputs": [
    {
     "name": "stdout",
     "output_type": "stream",
     "text": [
      "2\n"
     ]
    }
   ],
   "source": [
    "co.send(2)"
   ]
  },
  {
   "cell_type": "code",
   "execution_count": 86,
   "metadata": {},
   "outputs": [
    {
     "name": "stdout",
     "output_type": "stream",
     "text": [
      "3\n"
     ]
    }
   ],
   "source": [
    "co.send(3)"
   ]
  },
  {
   "cell_type": "code",
   "execution_count": 87,
   "metadata": {},
   "outputs": [
    {
     "name": "stdout",
     "output_type": "stream",
     "text": [
      "50\n"
     ]
    }
   ],
   "source": [
    "co.send(50)"
   ]
  },
  {
   "cell_type": "code",
   "execution_count": 88,
   "metadata": {},
   "outputs": [
    {
     "name": "stdout",
     "output_type": "stream",
     "text": [
      "['__class__', '__del__', '__delattr__', '__dir__', '__doc__', '__eq__', '__format__', '__ge__', '__getattribute__', '__gt__', '__hash__', '__init__', '__init_subclass__', '__iter__', '__le__', '__lt__', '__name__', '__ne__', '__new__', '__next__', '__qualname__', '__reduce__', '__reduce_ex__', '__repr__', '__setattr__', '__sizeof__', '__str__', '__subclasshook__', 'close', 'gi_code', 'gi_frame', 'gi_running', 'gi_yieldfrom', 'send', 'throw']\n"
     ]
    }
   ],
   "source": [
    "print(dir(co))"
   ]
  },
  {
   "cell_type": "markdown",
   "metadata": {},
   "source": [
    "### 41.2 코루틴 바깥으로 값 전달하기 --- p.601"
   ]
  },
  {
   "cell_type": "code",
   "execution_count": 1,
   "metadata": {},
   "outputs": [
    {
     "name": "stdout",
     "output_type": "stream",
     "text": [
      "0\n"
     ]
    }
   ],
   "source": [
    "def sum_coroutine():\n",
    "    total = 0\n",
    "    while True:\n",
    "        x = (yield total)\n",
    "        total += x\n",
    "        \n",
    "co = sum_coroutine()\n",
    "print(next(co))"
   ]
  },
  {
   "cell_type": "code",
   "execution_count": 90,
   "metadata": {},
   "outputs": [
    {
     "name": "stdout",
     "output_type": "stream",
     "text": [
      "10\n"
     ]
    }
   ],
   "source": [
    "print(co.send(10))"
   ]
  },
  {
   "cell_type": "code",
   "execution_count": 91,
   "metadata": {},
   "outputs": [
    {
     "name": "stdout",
     "output_type": "stream",
     "text": [
      "40\n"
     ]
    }
   ],
   "source": [
    "print(co.send(30))"
   ]
  },
  {
   "cell_type": "code",
   "execution_count": 92,
   "metadata": {
    "scrolled": true
   },
   "outputs": [
    {
     "name": "stdout",
     "output_type": "stream",
     "text": [
      "40\n",
      "41\n",
      "43\n",
      "46\n",
      "50\n",
      "55\n",
      "61\n",
      "68\n",
      "76\n",
      "85\n"
     ]
    }
   ],
   "source": [
    "for i in range(10):\n",
    "    print(co.send(i)) "
   ]
  },
  {
   "cell_type": "code",
   "execution_count": 93,
   "metadata": {},
   "outputs": [],
   "source": [
    "co.close()"
   ]
  },
  {
   "cell_type": "markdown",
   "metadata": {},
   "source": [
    "### 41.3 코루틴을 종료하고 예외 처리하기"
   ]
  },
  {
   "cell_type": "code",
   "execution_count": 95,
   "metadata": {},
   "outputs": [
    {
     "name": "stdout",
     "output_type": "stream",
     "text": [
      "0 1 2 3 4 5 6 7 8 9 10 11 12 13 14 15 16 17 18 19 "
     ]
    }
   ],
   "source": [
    "def number_coroutine():\n",
    "    while True:\n",
    "        x = (yield)\n",
    "        print(x, end=' ')\n",
    "        \n",
    "co = number_coroutine()\n",
    "next(co)\n",
    "\n",
    "for i in range(20):\n",
    "    co.send(i)\n",
    "    \n",
    "\n",
    "co.close()"
   ]
  },
  {
   "cell_type": "code",
   "execution_count": 97,
   "metadata": {},
   "outputs": [],
   "source": [
    "def number_coroutine():\n",
    "    try:\n",
    "        while True:\n",
    "            x = (yield)\n",
    "            print(x, end = ' ')\n",
    "    except GeneratorExit:\n",
    "        print()\n",
    "        print('코루틴 종료')"
   ]
  },
  {
   "cell_type": "code",
   "execution_count": 98,
   "metadata": {},
   "outputs": [],
   "source": [
    "co = number_coroutine()\n",
    "next(co)"
   ]
  },
  {
   "cell_type": "code",
   "execution_count": 102,
   "metadata": {},
   "outputs": [
    {
     "name": "stdout",
     "output_type": "stream",
     "text": [
      "0 1 2 3 4 5 6 7 8 9 10 11 12 13 14 15 16 17 18 19 "
     ]
    }
   ],
   "source": [
    "for i in range(20):\n",
    "    co.send(i)"
   ]
  },
  {
   "cell_type": "code",
   "execution_count": 103,
   "metadata": {},
   "outputs": [
    {
     "name": "stdout",
     "output_type": "stream",
     "text": [
      "\n",
      "코루틴 종료\n"
     ]
    }
   ],
   "source": [
    "co.close()"
   ]
  },
  {
   "cell_type": "code",
   "execution_count": 107,
   "metadata": {},
   "outputs": [
    {
     "name": "stdout",
     "output_type": "stream",
     "text": [
      "x: 0 x: 1 x: 2 x: 3 x: 4 x: 5 x: 6 x: 7 x: 8 x: 9 x: 10 x: 11 x: 12 x: 13 x: 14 x: 15 x: 16 x: 17 x: 18 x: 19 "
     ]
    }
   ],
   "source": [
    "#41.3.2 코루틴 안에 예외 발생시키기 --- p.607\n",
    "\n",
    "def sum_coroutine():\n",
    "    try:\n",
    "        total = 0\n",
    "        while True:\n",
    "            x = (yield)\n",
    "            total += x\n",
    "            print('x: {}'.format(x), end = ' ')\n",
    "    except RuntimeError as e:\n",
    "        print(e)\n",
    "        yield total\n",
    "        \n",
    "co = sum_coroutine()\n",
    "next(co)\n",
    "\n",
    "for i in range(20):\n",
    "    co.send(i)\n",
    "    \n"
   ]
  },
  {
   "cell_type": "code",
   "execution_count": 106,
   "metadata": {},
   "outputs": [
    {
     "name": "stdout",
     "output_type": "stream",
     "text": [
      "예외로 코루틴 끝내기\n"
     ]
    },
    {
     "data": {
      "text/plain": [
       "190"
      ]
     },
     "execution_count": 106,
     "metadata": {},
     "output_type": "execute_result"
    }
   ],
   "source": [
    "a = co.throw(RuntimeError, '예외로 코루틴 끝내기')\n",
    "a"
   ]
  },
  {
   "cell_type": "markdown",
   "metadata": {},
   "source": [
    "### 41.4 하위 코루틴의 반환값 가져오기 --- p.608"
   ]
  },
  {
   "cell_type": "code",
   "execution_count": 2,
   "metadata": {},
   "outputs": [],
   "source": [
    "def accumulate():\n",
    "    total = 0\n",
    "    while True:\n",
    "        x = (yield)\n",
    "        print('x: {}'.format(x))\n",
    "        if x is None:\n",
    "            print('x: {}'.format(x))\n",
    "            return total\n",
    "#             raise StopIteration(total)\n",
    "        total += x\n",
    "        \n",
    "def sum_coroutine():\n",
    "    while True:\n",
    "        total = yield from accumulate()\n",
    "        print(total)\n",
    "    \n",
    "co = sum_coroutine()\n",
    "next(co)"
   ]
  },
  {
   "cell_type": "code",
   "execution_count": 124,
   "metadata": {},
   "outputs": [
    {
     "name": "stdout",
     "output_type": "stream",
     "text": [
      "x: 1\n",
      "x: 2\n",
      "x: 3\n",
      "x: 4\n"
     ]
    }
   ],
   "source": [
    "for i in range(1, 5):\n",
    "    co.send(i)"
   ]
  },
  {
   "cell_type": "code",
   "execution_count": 125,
   "metadata": {},
   "outputs": [
    {
     "name": "stdout",
     "output_type": "stream",
     "text": [
      "x: None\n",
      "x: None\n",
      "10\n"
     ]
    }
   ],
   "source": [
    "co.send(None)"
   ]
  },
  {
   "cell_type": "code",
   "execution_count": 114,
   "metadata": {},
   "outputs": [
    {
     "name": "stdout",
     "output_type": "stream",
     "text": [
      "5050\n"
     ]
    }
   ],
   "source": [
    "for i in range(1,101):\n",
    "    co.send(i)\n",
    "    \n",
    "co.send(None)"
   ]
  },
  {
   "cell_type": "code",
   "execution_count": 3,
   "metadata": {
    "scrolled": true
   },
   "outputs": [
    {
     "name": "stdout",
     "output_type": "stream",
     "text": [
      "x: 1\n"
     ]
    }
   ],
   "source": [
    "co.send(1)"
   ]
  },
  {
   "cell_type": "code",
   "execution_count": 8,
   "metadata": {},
   "outputs": [
    {
     "name": "stdout",
     "output_type": "stream",
     "text": [
      "a :  50\n",
      "x :  1\n"
     ]
    }
   ],
   "source": [
    "def number_coroutine():\n",
    "    x = 50\n",
    "    while True:\n",
    "        x = (yield x)\n",
    "        if x == 3:\n",
    "            return x\n",
    "        \n",
    "def print_coroutine():\n",
    "    while True:\n",
    "        x = yield from number_coroutine()\n",
    "        print('print_coroutine:',x) # 지역변수라서 print 안 찍히나?\n",
    "        \n",
    "co = print_coroutine()\n",
    "\n",
    "a = next(co)\n",
    "print('a : ', a)\n",
    "\n",
    "x = co.send(1)\n",
    "print('x : ', x)"
   ]
  },
  {
   "cell_type": "code",
   "execution_count": 129,
   "metadata": {},
   "outputs": [
    {
     "name": "stdout",
     "output_type": "stream",
     "text": [
      "print_coroutine: 3\n"
     ]
    }
   ],
   "source": [
    "x = co.send(3)"
   ]
  },
  {
   "cell_type": "code",
   "execution_count": 133,
   "metadata": {},
   "outputs": [
    {
     "name": "stdout",
     "output_type": "stream",
     "text": [
      "x: 1\n",
      "x: 2\n",
      "x: 3\n",
      "x: 4\n",
      "x: 5\n",
      "x: 6\n",
      "x: 7\n",
      "x: 8\n",
      "x: 9\n",
      "x: 10\n",
      "x: None\n",
      "x: None\n",
      "55\n",
      "x: 1\n",
      "x: 2\n",
      "x: 3\n",
      "x: 4\n",
      "x: 5\n",
      "x: 6\n",
      "x: 7\n",
      "x: 8\n",
      "x: 9\n",
      "x: 10\n",
      "x: 11\n",
      "x: 12\n",
      "x: 13\n",
      "x: 14\n",
      "x: 15\n",
      "x: 16\n",
      "x: 17\n",
      "x: 18\n",
      "x: 19\n",
      "x: 20\n",
      "x: 21\n",
      "x: 22\n",
      "x: 23\n",
      "x: 24\n",
      "x: 25\n",
      "x: 26\n",
      "x: 27\n",
      "x: 28\n",
      "x: 29\n",
      "x: 30\n",
      "x: 31\n",
      "x: 32\n",
      "x: 33\n",
      "x: 34\n",
      "x: 35\n",
      "x: 36\n",
      "x: 37\n",
      "x: 38\n",
      "x: 39\n",
      "x: 40\n",
      "x: 41\n",
      "x: 42\n",
      "x: 43\n",
      "x: 44\n",
      "x: 45\n",
      "x: 46\n",
      "x: 47\n",
      "x: 48\n",
      "x: 49\n",
      "x: 50\n",
      "x: 51\n",
      "x: 52\n",
      "x: 53\n",
      "x: 54\n",
      "x: 55\n",
      "x: 56\n",
      "x: 57\n",
      "x: 58\n",
      "x: 59\n",
      "x: 60\n",
      "x: 61\n",
      "x: 62\n",
      "x: 63\n",
      "x: 64\n",
      "x: 65\n",
      "x: 66\n",
      "x: 67\n",
      "x: 68\n",
      "x: 69\n",
      "x: 70\n",
      "x: 71\n",
      "x: 72\n",
      "x: 73\n",
      "x: 74\n",
      "x: 75\n",
      "x: 76\n",
      "x: 77\n",
      "x: 78\n",
      "x: 79\n",
      "x: 80\n",
      "x: 81\n",
      "x: 82\n",
      "x: 83\n",
      "x: 84\n",
      "x: 85\n",
      "x: 86\n",
      "x: 87\n",
      "x: 88\n",
      "x: 89\n",
      "x: 90\n",
      "x: 91\n",
      "x: 92\n",
      "x: 93\n",
      "x: 94\n",
      "x: 95\n",
      "x: 96\n",
      "x: 97\n",
      "x: 98\n",
      "x: 99\n",
      "x: 100\n",
      "x: None\n",
      "x: None\n",
      "5050\n"
     ]
    }
   ],
   "source": [
    "def number_coroutine():\n",
    "    total = 0\n",
    "    while True:\n",
    "        x = (yield)\n",
    "        if x is None:\n",
    "            raise StopIteration(total)\n",
    "        \n",
    "    total += x\n",
    "    \n",
    "def sum_coroutine():\n",
    "    while True:\n",
    "        total = yield from accumulate()\n",
    "        print(total)\n",
    "        \n",
    "co = sum_coroutine()\n",
    "next(co)\n",
    "\n",
    "for i in range(1,11):\n",
    "    co.send(i)\n",
    "co.send(None)\n",
    "\n",
    "for i in range(1, 101):\n",
    "    co.send(i)\n",
    "co.send(None)"
   ]
  },
  {
   "cell_type": "code",
   "execution_count": 135,
   "metadata": {},
   "outputs": [
    {
     "name": "stdout",
     "output_type": "stream",
     "text": [
      "50\n",
      "1\n"
     ]
    }
   ],
   "source": [
    "def number_coroutine():\n",
    "    try:\n",
    "        x = 50\n",
    "        while True:\n",
    "            x = (yield x)\n",
    "            if x == 3:\n",
    "                raise StopIteration\n",
    "                return 100\n",
    "            \n",
    "    except StopIteration as e:\n",
    "            print(e)\n",
    "            return 100\n",
    "        \n",
    "def print_coroutine():\n",
    "    while True:\n",
    "        x = yield from number_coroutine()\n",
    "        print('print_coroutine:',x)\n",
    "        \n",
    "co = print_coroutine()\n",
    "\n",
    "a = next(co)\n",
    "print(a)\n",
    "\n",
    "x = co.send(1)\n",
    "print(x)"
   ]
  },
  {
   "cell_type": "markdown",
   "metadata": {},
   "source": [
    "## UNIT42 데코레이터 사용하기 --- p.621"
   ]
  },
  {
   "cell_type": "code",
   "execution_count": 138,
   "metadata": {},
   "outputs": [
    {
     "name": "stdout",
     "output_type": "stream",
     "text": [
      "hello 함수 시작\n",
      "hello 함수 종료\n",
      "\n",
      "\n",
      "\n",
      "world 함수 시작\n",
      "world\n",
      "world 함수 종료\n"
     ]
    }
   ],
   "source": [
    "def hello():\n",
    "    print('hello 함수 시작')\n",
    "    print('hello 함수 종료')\n",
    "    \n",
    "def world():\n",
    "    print('world 함수 시작')\n",
    "    print('world')\n",
    "    print('world 함수 종료')\n",
    "    \n",
    "hello()\n",
    "print('\\n\\n')\n",
    "world()"
   ]
  },
  {
   "cell_type": "code",
   "execution_count": 11,
   "metadata": {},
   "outputs": [
    {
     "name": "stdout",
     "output_type": "stream",
     "text": [
      "hello\n",
      "\n",
      "\n",
      "\n",
      "hello 함수 시작\n",
      "hello\n",
      "hello 함수 종료\n"
     ]
    }
   ],
   "source": [
    "def trace(func):\n",
    "    def wrapper():\n",
    "        print(func.__name__, '함수 시작')\n",
    "        func()\n",
    "        print(func.__name__, '함수 종료')\n",
    "    return wrapper\n",
    "\n",
    "def hello():\n",
    "    print('hello')\n",
    "    \n",
    "#def world():\n",
    "#    print('world')\n",
    "\n",
    "hello()\n",
    "print('\\n\\n')\n",
    "trace_hello = trace(hello)\n",
    "#trace_world = trace(world)\n",
    "trace_hello()"
   ]
  },
  {
   "cell_type": "code",
   "execution_count": 144,
   "metadata": {},
   "outputs": [
    {
     "name": "stdout",
     "output_type": "stream",
     "text": [
      "test\n",
      "['__annotations__', '__call__', '__class__', '__closure__', '__code__', '__defaults__', '__delattr__', '__dict__', '__dir__', '__doc__', '__eq__', '__format__', '__ge__', '__get__', '__getattribute__', '__globals__', '__gt__', '__hash__', '__init__', '__init_subclass__', '__kwdefaults__', '__le__', '__lt__', '__module__', '__name__', '__ne__', '__new__', '__qualname__', '__reduce__', '__reduce_ex__', '__repr__', '__setattr__', '__sizeof__', '__str__', '__subclasshook__']\n",
      "{}\n"
     ]
    }
   ],
   "source": [
    "def test():\n",
    "    print('func')\n",
    "    \n",
    "print(test.__name__)\n",
    "print(dir(test))\n",
    "print(test.__dict__)"
   ]
  },
  {
   "cell_type": "code",
   "execution_count": 5,
   "metadata": {},
   "outputs": [],
   "source": [
    "# 질문시간 제너레이터에서 yield가 가지는 의미\n",
    "\n",
    "def number_coroute(x):\n",
    "    while True:\n",
    "        if x == 3:\n",
    "            return x\n",
    "        print(x)"
   ]
  },
  {
   "cell_type": "code",
   "execution_count": null,
   "metadata": {},
   "outputs": [],
   "source": [
    "# 211101 월"
   ]
  },
  {
   "cell_type": "code",
   "execution_count": 9,
   "metadata": {},
   "outputs": [],
   "source": [
    "class Calc:\n",
    "    @staticmethod # 데코레이터\n",
    "    def add(a, b):\n",
    "        print(a + b)"
   ]
  },
  {
   "cell_type": "code",
   "execution_count": null,
   "metadata": {},
   "outputs": [],
   "source": [
    "def hello():\n",
    "    print('hello')\n",
    "    \n",
    "hello()"
   ]
  },
  {
   "cell_type": "code",
   "execution_count": 12,
   "metadata": {},
   "outputs": [
    {
     "name": "stdout",
     "output_type": "stream",
     "text": [
      "hello\n",
      "\n",
      "\n",
      "\n",
      "hello 함수 시작\n",
      "hello\n",
      "hello 함수 종료\n"
     ]
    }
   ],
   "source": [
    "def trace(func):\n",
    "    def wrapper():\n",
    "        print(func.__name__, '함수 시작')\n",
    "        func()\n",
    "        print(func.__name__, '함수 종료')\n",
    "    return wrapper\n",
    "\n",
    "def hello():\n",
    "    print('hello')\n",
    "    \n",
    "hello()\n",
    "print('\\n\\n')\n",
    "trace_hello = trace(hello)\n",
    "trace_hello()"
   ]
  },
  {
   "cell_type": "code",
   "execution_count": 16,
   "metadata": {},
   "outputs": [
    {
     "name": "stdout",
     "output_type": "stream",
     "text": [
      "\n",
      "\n",
      "\n",
      "hello 함수 시작\n",
      "hello\n",
      "hello 함수 끝\n"
     ]
    }
   ],
   "source": [
    "# 42.1.1 @으로 데코레이터 사용하기 --- p.624\n",
    "\n",
    "def trace(func):\n",
    "    def wrapper():\n",
    "        print(func.__name__, '함수 시작')\n",
    "        func()\n",
    "        print(func.__name__, '함수 끝')\n",
    "    return wrapper\n",
    "\n",
    "def hello():\n",
    "    print('hello')\n",
    "    \n",
    "# hello = trace(hello)\n",
    "# hello()\n",
    "\n",
    "print('\\n\\n')\n",
    "\n",
    "@trace       # hello = trace(hello)\n",
    "def hello():\n",
    "    print('hello')\n",
    "# hello = trace(hello)\n",
    "\n",
    "hello()"
   ]
  },
  {
   "cell_type": "code",
   "execution_count": 17,
   "metadata": {},
   "outputs": [
    {
     "name": "stdout",
     "output_type": "stream",
     "text": [
      "decorator1\n",
      "decorator2\n",
      "hello\n"
     ]
    }
   ],
   "source": [
    "# 참고) 데코레이터를 여러 개 지정하기 --- p.625\n",
    "\n",
    "def decorator1(func):\n",
    "    def wrapper():\n",
    "        print('decorator1')\n",
    "        func()\n",
    "    return wrapper\n",
    "\n",
    "def decorator2(func):\n",
    "    def wrapper():\n",
    "        print('decorator2')\n",
    "        func()\n",
    "    return wrapper\n",
    "\n",
    "@decorator1\n",
    "@decorator2\n",
    "def hello():\n",
    "    print('hello')\n",
    "    \n",
    "hello()"
   ]
  },
  {
   "cell_type": "code",
   "execution_count": 18,
   "metadata": {},
   "outputs": [
    {
     "name": "stdout",
     "output_type": "stream",
     "text": [
      "add(a=10, b=20)->30\n"
     ]
    }
   ],
   "source": [
    "def trace(func):\n",
    "    def wrapper(a, b):         # wrapper함수 만들어 줌, add()에 있는 a,b도 받아줘야\n",
    "        r = func(a,b)\n",
    "        print('{0}(a={1}, b={2})->{3}'.format(func.__name__, a,b,r))\n",
    "    return wrapper\n",
    "\n",
    "\n",
    "@trace # 데코레이터\n",
    "def add(a,b):    # add = trace(add) add함수 안에 변수가 뭐냐에 따라 wrapper함수로 싸려고 하는 변수도 바뀜\n",
    "    return a + b # add()            = wraper() 포지션인데 받아줄 매개변수 필요\n",
    "\n",
    "\n",
    "add(10,20) # wrapper함수가 호출되는 시점"
   ]
  },
  {
   "cell_type": "code",
   "execution_count": 21,
   "metadata": {},
   "outputs": [
    {
     "name": "stdout",
     "output_type": "stream",
     "text": [
      "<class 'function'>\n"
     ]
    }
   ],
   "source": [
    "def fu():\n",
    "    pass\n",
    "\n",
    "fu.__name__\n",
    "print(type(fu))"
   ]
  },
  {
   "cell_type": "code",
   "execution_count": null,
   "metadata": {},
   "outputs": [],
   "source": [
    "def trace(func):\n",
    "    def wrapper(a, b):\n",
    "        r = func(a,b)\n",
    "        print('{0}(a={1}, b={2})->{3}'.format(func.__name__, a,b,r))\n",
    "    return wrapper\n",
    "\n",
    "def trace1(func):\n",
    "    def wrapper(a,b,c):        \n",
    "        r = func(a,b,c)\n",
    "        print('{0}(a={1}, b={2}, c={3})->{4}'.format(func.__name__, a,b,c,r))\n",
    "    return wrapper\n",
    "\n",
    "@trace # 데코레이터\n",
    "def add(a,b):   \n",
    "    return a + b \n",
    "\n",
    "@trace1             # 변수명을 안 바꿔주면 위에 있는 trace로 계속 돌아감\n",
    "def add1(a,b,c):      # add1 = trace(add1)\n",
    "    return a + b + c\n",
    "\n",
    "\n",
    "add(10,20)\n",
    "add1(10,20,30)"
   ]
  },
  {
   "cell_type": "code",
   "execution_count": 34,
   "metadata": {},
   "outputs": [
    {
     "name": "stdout",
     "output_type": "stream",
     "text": [
      "args :  (10, 20, 50, 30)\n",
      "kwargs :  {}\n",
      "get_max(args=(10, 20, 50, 30),kwargs={})->50\n",
      "\n",
      "\n",
      "args :  ()\n",
      "kwargs :  {'x': 10, 'y': 20, 'z': 30}\n",
      "get_min(args=(),kwargs={'x': 10, 'y': 20, 'z': 30})->10\n"
     ]
    }
   ],
   "source": [
    "# 42.2.1 가변인수 함수 데코레이터 --- p. 628\n",
    "\n",
    "def trace(func):\n",
    "    def wrapper(*args, **kwargs):\n",
    "        print('args : ', args)\n",
    "        print('kwargs : ', kwargs)\n",
    "        r= func(*args, **kwargs) # *, ** 으로 언패킹\n",
    "        #r= func(args) #튜플값이 하나로 들어가는데 *로 언패킹을 하지 않은 경우 튜플 전체가 결과로 나옴\n",
    "        print('{0}(args={1},kwargs={2})->{3}'.format(func.__name__,args,kwargs,r))\n",
    "    return wrapper\n",
    "\n",
    "\n",
    "@trace\n",
    "def get_max(*args): # 가변인자\n",
    "    return max(args)\n",
    "\n",
    "@trace\n",
    "def get_min(**kwargs):\n",
    "    return min((kwargs.values()))\n",
    "\n",
    "get_max(10,20,50,30)\n",
    "\n",
    "print('\\n')\n",
    "\n",
    "get_min(x=10, y=20, z=30)"
   ]
  },
  {
   "cell_type": "code",
   "execution_count": 41,
   "metadata": {},
   "outputs": [
    {
     "name": "stdout",
     "output_type": "stream",
     "text": [
      "args :  (50, 30, 20, 100, 90, 60, 80, 70)\n",
      "1\n",
      "2\n",
      "3\n",
      "4\n",
      "5\n",
      "6\n",
      "7\n"
     ]
    },
    {
     "data": {
      "text/plain": [
       "100"
      ]
     },
     "execution_count": 41,
     "metadata": {},
     "output_type": "execute_result"
    }
   ],
   "source": [
    "def mymax(*args):\n",
    "    max = 0\n",
    "    print('args : ',args)\n",
    "    max = args[0]\n",
    "    for i in range(1,len(args)):\n",
    "        print(i)\n",
    "        if max < args[i]:\n",
    "            max = args[i]\n",
    "            \n",
    "    return max\n",
    "    \n",
    "    \n",
    "mymax(50,30,20,100,90,60,80,70) # 하나하나\n",
    "#mymax((50,30,20,100,90,60,80,70)) #통짜하나"
   ]
  },
  {
   "cell_type": "code",
   "execution_count": 57,
   "metadata": {},
   "outputs": [
    {
     "name": "stdout",
     "output_type": "stream",
     "text": [
      "args :  (10, 20, 50, 30)\n",
      "args :  ((10, 20, 50, 30),)\n",
      "get_max(args=(10, 20, 50, 30),kwargs={})->(10, 20, 50, 30)\n",
      "\n",
      "\n",
      "get_min(args=(),kwargs={'x': 10, 'y': 20, 'z': 30})->10\n"
     ]
    }
   ],
   "source": [
    "#위에꺼 두 개 합침\n",
    "\n",
    "def trace(func):\n",
    "    def wrapper(*args, **kwargs):\n",
    "#         print('args : ', args)\n",
    "#         print('kwargs : ', kwargs)\n",
    "        r= func(*args, **kwargs) # *, ** 으로 언패킹\n",
    "        #r= func(args) #튜플값이 하나로 들어가는데 *로 언패킹을 하지 않은 경우 튜플 전체가 결과로 나옴\n",
    "        print('{0}(args={1},kwargs={2})->{3}'.format(func.__name__,args,kwargs,r))\n",
    "    return wrapper\n",
    "\n",
    "def mymin(*args):\n",
    "    tup = args[0]\n",
    "    lst = list(tup) #리스트로 바꿈\n",
    "    min = lst[0]\n",
    "          \n",
    "    for i in range(1, len(args)):\n",
    "        if min > lst[i]:\n",
    "            min = lst[i]\n",
    "    return min\n",
    "\n",
    "def mymax(*args):\n",
    "    max = 0\n",
    "    print('args : ',args)\n",
    "    max = args[0]\n",
    "    for i in range(1,len(args)):\n",
    "        print(i)\n",
    "        if max < args[i]:\n",
    "            max = args[i]\n",
    "    return max\n",
    "\n",
    "@trace\n",
    "def get_max(*args):\n",
    "    print('args : ', args)\n",
    "    return mymax(args)\n",
    "\n",
    "@trace\n",
    "def get_min(**kwargs):\n",
    "    return min(kwargs.values())\n",
    "\n",
    "\n",
    "get_max(10,20,50,30)\n",
    "print('\\n')\n",
    "get_min(x=10, y=20, z=30)"
   ]
  },
  {
   "cell_type": "code",
   "execution_count": 50,
   "metadata": {},
   "outputs": [
    {
     "name": "stdout",
     "output_type": "stream",
     "text": [
      "<class 'dict_values'>\n"
     ]
    }
   ],
   "source": [
    "d = {1: 'a', 2 : 'b'}\n",
    "print(type(d.values()))"
   ]
  },
  {
   "cell_type": "code",
   "execution_count": 52,
   "metadata": {},
   "outputs": [
    {
     "name": "stdout",
     "output_type": "stream",
     "text": [
      "dict_values(['a', 'b'])\n"
     ]
    }
   ],
   "source": [
    "a = d.values()\n",
    "print(a)"
   ]
  },
  {
   "cell_type": "code",
   "execution_count": 66,
   "metadata": {},
   "outputs": [
    {
     "ename": "SyntaxError",
     "evalue": "invalid syntax (<ipython-input-66-1da3f08e52f1>, line 9)",
     "output_type": "error",
     "traceback": [
      "\u001b[1;36m  File \u001b[1;32m\"<ipython-input-66-1da3f08e52f1>\"\u001b[1;36m, line \u001b[1;32m9\u001b[0m\n\u001b[1;33m    return wrapper\u001b[0m\n\u001b[1;37m         ^\u001b[0m\n\u001b[1;31mSyntaxError\u001b[0m\u001b[1;31m:\u001b[0m invalid syntax\n"
     ]
    }
   ],
   "source": [
    "# 참고) 메서드에 데코레이터 사용하기 --- p.629\n",
    "\n",
    "def trace(func):\n",
    "    def wrapper(self, a, b):\n",
    "        \n",
    "        r = func(self, a, b)\n",
    "        print('{0}(a={1},b={2})->{3}'.format(func.__name__, a, b, r)\n",
    "        return r\n",
    "    return wrapper\n",
    "\n",
    "class Calc:\n",
    "    \n",
    "    @trace\n",
    "    def add(self, a, b):\n",
    "        return a+b\n",
    "    \n",
    "c = Calc()\n",
    "print(c.add(10,20))\n",
    "\n",
    "#add(a=10, b=20)->30"
   ]
  },
  {
   "cell_type": "code",
   "execution_count": 75,
   "metadata": {},
   "outputs": [
    {
     "name": "stdout",
     "output_type": "stream",
     "text": [
      "add의 반환값은 7의 배수가 아닙니다\n",
      "wrapper의 반환값은 3의 배수입니다\n",
      "30\n",
      "add의 반환값은 7의 배수입니다\n",
      "wrapper의 반환값은 3의 배수가 아닙니다\n",
      "7\n"
     ]
    }
   ],
   "source": [
    "#42.3 매개변수가 있는 데코레이터 만들기 --- p.630\n",
    "\n",
    "def is_multiple(x):\n",
    "    def real_decorator(func):\n",
    "        def wrapper(a,b):\n",
    "            r = func(a,b)\n",
    "            if r % x == 0:\n",
    "                print('{0}의 반환값은 {1}의 배수입니다'.format(func.__name__,x))\n",
    "            else:\n",
    "                print('{0}의 반환값은 {1}의 배수가 아닙니다'.format(func.__name__,x))\n",
    "            return r\n",
    "        return wrapper\n",
    "    return real_decorator\n",
    "\n",
    "#@is_multiple(3)   # is_multiple(3)(add)\n",
    "#@is_multiple(7)\n",
    "\n",
    "def add(a,b):\n",
    "    return a + b\n",
    "\n",
    "#add = is_multiple(3)(add)\n",
    "#add = is_multiple(7)(add)\n",
    "add = is_multiple(3)(is_multiple(7)(add))\n",
    "\n",
    "print(add(10,20))\n",
    "print(add(2,5))"
   ]
  },
  {
   "cell_type": "code",
   "execution_count": null,
   "metadata": {},
   "outputs": [],
   "source": [
    "def fun(a):\n",
    "    print(a)\n",
    "    \n",
    "fun(a+b+c) # 산술연산자"
   ]
  },
  {
   "cell_type": "code",
   "execution_count": 78,
   "metadata": {},
   "outputs": [
    {
     "name": "stdout",
     "output_type": "stream",
     "text": [
      "add의 반환값은 7의 배수입니다\n",
      "add의 반환값은 3의 배수입니다\n"
     ]
    },
    {
     "data": {
      "text/plain": [
       "30"
      ]
     },
     "execution_count": 78,
     "metadata": {},
     "output_type": "execute_result"
    }
   ],
   "source": [
    "# 참고) 원래 함수 이름이 안나온다면? --- p.632\n",
    "import functools\n",
    "\n",
    "def is_multiple(x):\n",
    "    def real_decorator(func):\n",
    "        @functools.wraps(func)\n",
    "        def wrapper(a,b):\n",
    "            r = func(a,b)\n",
    "            if r % x ==0:\n",
    "                print('{0}의 반환값은 {1}의 배수입니다'.format(func.__name__,x))\n",
    "            else:\n",
    "                print('{0}의 반환값은 {1}의 배수입니다'.format(func.__name__,x))\n",
    "                \n",
    "            return r\n",
    "        return wrapper\n",
    "    return real_decorator\n",
    "\n",
    "@is_multiple(3)\n",
    "@is_multiple(7)\n",
    "def add(a,b):\n",
    "    return a+b\n",
    "\n",
    "add(10,20)"
   ]
  },
  {
   "cell_type": "code",
   "execution_count": 80,
   "metadata": {},
   "outputs": [
    {
     "name": "stdout",
     "output_type": "stream",
     "text": [
      "hello 함수시작\n",
      "hello\n",
      "hello 함수 끝\n"
     ]
    }
   ],
   "source": [
    "# 42.4 클래스로 데코레이터 만들기 --- p.633\n",
    "class Trace:\n",
    "    def __init__(self,func):\n",
    "        self.func = func\n",
    "        \n",
    "    def __call__(self):\n",
    "        print(self.func.__name__, '함수시작')\n",
    "        self.func()\n",
    "        print(self.func.__name__, '함수 끝')\n",
    "        \n",
    "@Trace\n",
    "def hello():\n",
    "    print('hello')\n",
    "    \n",
    "hello()"
   ]
  },
  {
   "cell_type": "code",
   "execution_count": 82,
   "metadata": {
    "scrolled": false
   },
   "outputs": [
    {
     "ename": "TypeError",
     "evalue": "__call__() takes 3 positional arguments but 5 were given",
     "output_type": "error",
     "traceback": [
      "\u001b[1;31m---------------------------------------------------------------------------\u001b[0m",
      "\u001b[1;31mTypeError\u001b[0m                                 Traceback (most recent call last)",
      "\u001b[1;32m<ipython-input-82-0c95fd7f73ae>\u001b[0m in \u001b[0;36m<module>\u001b[1;34m\u001b[0m\n\u001b[0;32m      7\u001b[0m \u001b[1;33m\u001b[0m\u001b[0m\n\u001b[0;32m      8\u001b[0m \u001b[0mm\u001b[0m \u001b[1;33m=\u001b[0m \u001b[0mmyadd\u001b[0m\u001b[1;33m(\u001b[0m\u001b[1;33m)\u001b[0m\u001b[1;33m\u001b[0m\u001b[1;33m\u001b[0m\u001b[0m\n\u001b[1;32m----> 9\u001b[1;33m \u001b[0mm\u001b[0m\u001b[1;33m(\u001b[0m\u001b[1;36m10\u001b[0m\u001b[1;33m,\u001b[0m\u001b[1;36m20\u001b[0m\u001b[1;33m,\u001b[0m\u001b[1;36m30\u001b[0m\u001b[1;33m,\u001b[0m\u001b[1;36m40\u001b[0m\u001b[1;33m)\u001b[0m\u001b[1;33m\u001b[0m\u001b[1;33m\u001b[0m\u001b[0m\n\u001b[0m",
      "\u001b[1;31mTypeError\u001b[0m: __call__() takes 3 positional arguments but 5 were given"
     ]
    }
   ],
   "source": [
    "# 42.5 클래스로 매개변수와 반환값을 처리하는 데코레이터 만들기 --- p.634\n",
    "\n",
    "class myadd:\n",
    "    \n",
    "    def __call__(self, a, b):\n",
    "        return a + b\n",
    "    \n",
    "m = myadd()\n",
    "m(10,20,30,40)"
   ]
  },
  {
   "cell_type": "code",
   "execution_count": 83,
   "metadata": {},
   "outputs": [
    {
     "name": "stdout",
     "output_type": "stream",
     "text": [
      "add의 반환값은 3의 배수입니다.\n",
      "30\n"
     ]
    }
   ],
   "source": [
    "# 42.5.1 클래스로 매개변수가 있는 데코레이터 만들기 --- p.636\n",
    "\n",
    "class IsMultiple:\n",
    "    def __init__(self, x):\n",
    "        self.x = x\n",
    "        \n",
    "    def __call__(self, func):\n",
    "        def wrapper(a,b):\n",
    "            \n",
    "            r = func(a,b)\n",
    "            if r % self.x == 0:\n",
    "                print('{0}의 반환값은 {1}의 배수입니다.'.format(func.__name__,self.x))\n",
    "            else:\n",
    "                print('{0}의 반환값은 {1}의 배수가 아닙니다.'.format(func.__name__,self.x))\n",
    "            return r\n",
    "        return wrapper\n",
    "            \n",
    "            \n",
    "@IsMultiple(3)   # add = IsMultiple(3)\n",
    "def add(a,b):\n",
    "    return a + b\n",
    "\n",
    "print(add(10,20))"
   ]
  },
  {
   "cell_type": "markdown",
   "metadata": {},
   "source": [
    "## UNIT43 정규표현식 사용하기 --- p. 641"
   ]
  },
  {
   "cell_type": "code",
   "execution_count": 6,
   "metadata": {},
   "outputs": [
    {
     "name": "stdout",
     "output_type": "stream",
     "text": [
      "<re.Match object; span=(0, 5), match='Hello'>\n",
      "None\n"
     ]
    }
   ],
   "source": [
    "# 43.1 문자열 판단하기 --- p.641\n",
    "\n",
    "import re # re regular expression\n",
    "a = re.match('Hello', 'Hello, world!') # 문자열o -> 정규표현식 매치 객체 반환됨\n",
    "b = re.match('Python', 'Hello, world!') # 문자열x -> 아무것도 반환되지 않음\n",
    "print(a)\n",
    "print(b)"
   ]
  },
  {
   "cell_type": "code",
   "execution_count": 7,
   "metadata": {},
   "outputs": [
    {
     "name": "stdout",
     "output_type": "stream",
     "text": [
      "<re.Match object; span=(0, 5), match='Hello'>\n",
      "<re.Match object; span=(7, 13), match='world!'>\n"
     ]
    }
   ],
   "source": [
    "# 43.1.1 문자열이 맨 앞에 오는지 맨 뒤에 오는지 판단하기 --- p. 642\n",
    "\n",
    "#re.search('패턴', '문자열')\n",
    "a = re.search('^Hello', 'Hello, world!')\n",
    "b = re.search('world!$', 'Hello, world!')\n",
    "print(a)\n",
    "print(b)"
   ]
  },
  {
   "cell_type": "code",
   "execution_count": 9,
   "metadata": {},
   "outputs": [
    {
     "data": {
      "text/plain": [
       "<re.Match object; span=(0, 5), match='world'>"
      ]
     },
     "execution_count": 9,
     "metadata": {},
     "output_type": "execute_result"
    }
   ],
   "source": [
    "# 43.1.2 지정된 문자열이 하나라도 포함되는지 판단하기 --- p. 642\n",
    "\n",
    "# re.match('문자열'|'문자열', '확인할 문자열')\n",
    "re.match('hello|world', 'world') # hello 또는 world가 있음 -> 패턴에 매칭됨"
   ]
  },
  {
   "cell_type": "code",
   "execution_count": 16,
   "metadata": {},
   "outputs": [
    {
     "name": "stdout",
     "output_type": "stream",
     "text": [
      "<re.Match object; span=(0, 4), match='1234'>\n",
      "<re.Match object; span=(0, 4), match='1234'>\n",
      "None\n"
     ]
    }
   ],
   "source": [
    "#43.2 범위 판단하기 --- p.643\n",
    "\n",
    "# * : 문자(숫자)가 0 이상 있는지 판단\n",
    "a = re.match('[0-9]*', '1234') # 1234는 0부터 9까지 숫자가 0개 이상이므로\n",
    "print(a) # 패턴 매칭됨\n",
    "\n",
    "# + : 문자(숫자)가 1 이상 있는지 판단\n",
    "b = re.match('[0-9]+', '1234')  # 1234는 0부터 9까지 숫자가 1개 이상이므로\n",
    "print(b)\n",
    "\n",
    "c = re.match('[0-9]+', 'abcd')  # abcd는 0부터 9까지 숫자가 1개 이상 없으므로\n",
    "print(c) # 패턴에 매칭되지 않음"
   ]
  },
  {
   "cell_type": "code",
   "execution_count": 13,
   "metadata": {
    "scrolled": true
   },
   "outputs": [
    {
     "name": "stdout",
     "output_type": "stream",
     "text": [
      "<re.Match object; span=(0, 1), match='3'>\n",
      "<re.Match object; span=(0, 2), match='13'>\n"
     ]
    }
   ],
   "source": [
    "re.match('1[2-3]', '13') #1[2-3] ->'12' '13' -가 or로 보면 됨"
   ]
  },
  {
   "cell_type": "code",
   "execution_count": 20,
   "metadata": {},
   "outputs": [
    {
     "name": "stdout",
     "output_type": "stream",
     "text": [
      "<re.Match object; span=(0, 1), match='b'>\n",
      "None\n",
      "<re.Match object; span=(0, 3), match='aab'>\n",
      "<re.Match object; span=(0, 3), match='aab'>\n"
     ]
    }
   ],
   "source": [
    "d = re.match('a*b', 'b') # b에는 a가 0개 이상 있으므로 패턴에 매칭됨\n",
    "print(d)\n",
    "\n",
    "e = re.match('a+b', 'b') # b에는 a가 1개 이상 없으므로 패턴에 매칭x \n",
    "print(e)\n",
    "\n",
    "f = re.match('a*b', 'aab') # aab에는 a가 0개 이상 있으므로 패턴에 매칭됨\n",
    "print(f)\n",
    "\n",
    "g = re.match('a+b', 'aab') # aab에는 a가 1개 이상 있으므로 패턴에 매칭됨\n",
    "print(g)"
   ]
  },
  {
   "cell_type": "code",
   "execution_count": 23,
   "metadata": {},
   "outputs": [
    {
     "name": "stdout",
     "output_type": "stream",
     "text": [
      "<re.Match object; span=(0, 3), match='abd'>\n",
      "<re.Match object; span=(0, 4), match='ab3c'>\n",
      "<re.Match object; span=(0, 4), match='abxd'>\n"
     ]
    }
   ],
   "source": [
    "# 43.2.1 문자가 한 개만 있는지 판단하기 --- p.644\n",
    "\n",
    "a = re.match('abc?d', 'abd') # abd에서 c 위치에 c가 0개 있으므로 패턴에 매칭\n",
    "print(a)\n",
    "\n",
    "b = re.match('ab[0-9]?c', 'ab3c') # [0-9]위치에 숫자가 1개 있으므로 패턴에 매칭\n",
    "print(b)\n",
    "\n",
    "c = re.match('ab.d', 'abxd') # .이 있는지 위치에 문자가 1개 있으므로 패턴에 매칭\n",
    "print(c)"
   ]
  },
  {
   "cell_type": "code",
   "execution_count": 30,
   "metadata": {},
   "outputs": [
    {
     "name": "stdout",
     "output_type": "stream",
     "text": [
      "<re.Match object; span=(0, 3), match='hhh'>\n",
      "<re.Match object; span=(0, 15), match='hellohellohello'>\n",
      "<re.Match object; span=(0, 13), match='010-1000-1000'>\n",
      "None\n",
      "<re.Match object; span=(0, 13), match='010-1000-1000'>\n"
     ]
    }
   ],
   "source": [
    "# 43.2.2 문자 개수 판단하기 --- p.644~645\n",
    "\n",
    "a = re.match('h{3}', 'hhhello') # h{3}는 h가 3개 있는지 판단\n",
    "print(a)\n",
    "\n",
    "b = re.match('(hello){3}', 'hellohellohelloworld')\n",
    "print(b)\n",
    "\n",
    "c = re.match('[0-9]{3}-[0-9]{4}-[0-9]{4}', '010-1000-1000')\n",
    "print(c)\n",
    "\n",
    "d = re.match('[0-9]{3}-[0-9]{4}-[0-9]{4}', '010-1000-100')\n",
    "print(d)\n",
    "\n",
    "e = re.match('[0-9]{2,3}-[0-9]{4}-[0-9]{4}', '010-1000-1000') #?????\n",
    "print(e)"
   ]
  },
  {
   "cell_type": "code",
   "execution_count": 35,
   "metadata": {},
   "outputs": [
    {
     "name": "stdout",
     "output_type": "stream",
     "text": [
      "<re.Match object; span=(0, 7), match='HHello1'>\n",
      "<re.Match object; span=(0, 7), match='HHello1'>\n",
      "<re.Match object; span=(0, 9), match='Hello1234'>\n",
      "<re.Match object; span=(0, 1), match='홍'>\n"
     ]
    }
   ],
   "source": [
    "# 43.2.3 숫자와 영문 문자를 조합해서 판단하기 --- p.645\n",
    "\n",
    "#abcdefg --- z [a-z]\n",
    "#ABC --- Z [A-Z]\n",
    "\n",
    "a = re.match('[A-Z]+[a-z]+[0-9]', 'HHello1234')\n",
    "print(a)\n",
    "\n",
    "b = re.match('[A-Z]*[a-z]+[0-9]', 'HHello1234') # * 앞에꺼 없어도 되니까 매칭됨\n",
    "print(b)\n",
    "\n",
    "c = re.match('[a-zA-Z0-9]+', 'Hello1234')\n",
    "print(c)\n",
    "\n",
    "d = re.match('[가-힣]', '홍길동') # 가부터 힣까지 1개 이상 있으므로 패턴매칭\n",
    "print(d)\n"
   ]
  },
  {
   "cell_type": "code",
   "execution_count": 37,
   "metadata": {},
   "outputs": [
    {
     "name": "stdout",
     "output_type": "stream",
     "text": [
      "None\n",
      "<re.Match object; span=(0, 1), match='H'>\n",
      "None\n",
      "None\n",
      "<re.Match object; span=(5, 9), match='1234'>\n"
     ]
    }
   ],
   "source": [
    "# 43.2.4 특정 문자 범위에 포함되지 않는지 판단하기 --- p.646\n",
    "\n",
    "#[^범위]*\n",
    "a=re.match('^[A-Z]+', '1234') #^[A-Z]+ : 대문자를 제외한 모든 문자 1개 이상 있는지\n",
    "print(a)\n",
    "\n",
    "b=re.match('^[A-Z]+', 'Hello')\n",
    "print(b)\n",
    "\n",
    "c=re.match('^[A-Z]+', 'helABo')\n",
    "print(c)\n",
    "\n",
    "d=re.search('^[A-Z]+', 'helABo')\n",
    "print(d)\n",
    "\n",
    "e=re.search('[0-9]+$', 'hello1234')\n",
    "print(e)"
   ]
  },
  {
   "cell_type": "code",
   "execution_count": 46,
   "metadata": {},
   "outputs": [
    {
     "name": "stdout",
     "output_type": "stream",
     "text": [
      "<re.Match object; span=(2, 4), match='**'>\n",
      "<re.Match object; span=(0, 1), match='a'>\n",
      "<re.Match object; span=(0, 4), match='1234'>\n",
      "None\n",
      "<re.Match object; span=(0, 8), match='Hello_12'>\n",
      "<re.Match object; span=(0, 8), match='()\\t,#$%^'>\n"
     ]
    }
   ],
   "source": [
    "# 43.2.5 특수 문자 판단하기 --- p.647\n",
    "\n",
    "a=re.search('\\*+', '1 **2')\n",
    "print(a)\n",
    "\n",
    "b=re.search('[$()a-z]', 'a$(document)')\n",
    "print(b)\n",
    "\n",
    "\n",
    "'''\n",
    "\\d :         =[0-9] =모든 숫자\n",
    "\\D :        =[^0-9] =숫자 제외한 모든 문자\n",
    "\\w :  =[a-zA-Z0-9_] =영문 대소문자, 숫자, 밑줄 문자 \n",
    "\\W : =[^a-zA-Z0-9_] =영문 대소문자, 숫자, 밑줄 문자 제외한 모든 문자\n",
    "'''\n",
    "c=re.match('\\d+', '1234') # 모든 숫자\n",
    "print(c)\n",
    "\n",
    "d=re.match('\\D+', '1hello') # 숫자 제외한 모든 문자\n",
    "print(d)\n",
    "\n",
    "e=re.match('\\w+', 'Hello_12 34')\n",
    "print(e)\n",
    "\n",
    "f=re.match('\\W+', '()\\t,#$%^')\n",
    "print(f)"
   ]
  },
  {
   "cell_type": "code",
   "execution_count": 47,
   "metadata": {},
   "outputs": [
    {
     "name": "stdout",
     "output_type": "stream",
     "text": [
      "None\n"
     ]
    }
   ],
   "source": [
    "# 43.2.6 공백 처리하기 --- p.647\n",
    "\n",
    "#\\s  =[\\t\\n\\r\\f\\v] = 공백, 탭, 새 줄, 캐리지 리턴, 폼피드, 수직탭 포함\n",
    "#\\S =[^\\t\\n\\r\\f\\v] = 공백 제외 위랑 같음\n",
    "f=re.match('\\s+', '()\\t,#$%^')\n",
    "print(f)"
   ]
  },
  {
   "cell_type": "code",
   "execution_count": 51,
   "metadata": {},
   "outputs": [
    {
     "name": "stdout",
     "output_type": "stream",
     "text": [
      "<re.Match object; span=(0, 4), match='1234'>\n",
      "<re.Match object; span=(0, 4), match='1234'>\n"
     ]
    }
   ],
   "source": [
    "# 참고) 같은 정규표현식 패턴을 자주 사용할 때\n",
    "\n",
    "p = re.compile('[0-9]+')\n",
    "print(p.match('1234'))\n",
    "\n",
    "pp = re.match('[0-9]+','1234')\n",
    "print(pp)"
   ]
  },
  {
   "cell_type": "code",
   "execution_count": 59,
   "metadata": {},
   "outputs": [
    {
     "name": "stdout",
     "output_type": "stream",
     "text": [
      "<re.Match object; span=(0, 6), match='10 295'>\n",
      "10\n",
      "295\n",
      "10 295\n",
      "10 295\n",
      "('10', '295')\n",
      "\n",
      "\n"
     ]
    },
    {
     "data": {
      "text/plain": [
       "['10', '295']"
      ]
     },
     "execution_count": 59,
     "metadata": {},
     "output_type": "execute_result"
    }
   ],
   "source": [
    "# 43.3 그룹 사용하기 --- p.648\n",
    "\n",
    "# (정규표현식)(정규표현식)\n",
    "\n",
    "m = re.match('([0-9]+) ([0-9]+)','10 295')\n",
    "print(m)\n",
    "print(m.group(1))\n",
    "print(m.group(2))\n",
    "print(m.group(0))#m.group()\n",
    "print(m.group()) #m.group(0)\n",
    "print(m.groups()) #튜플로 나옴\n",
    "\n",
    "print('\\n')\n",
    "\n",
    "lst = list(m.groups()) #튜플을 리스트로\n",
    "lst"
   ]
  },
  {
   "cell_type": "code",
   "execution_count": 64,
   "metadata": {},
   "outputs": [
    {
     "data": {
      "text/plain": [
       "<re.Match object; span=(0, 11), match='print(_val)'>"
      ]
     },
     "execution_count": 64,
     "metadata": {},
     "output_type": "execute_result"
    }
   ],
   "source": [
    "#(?P<이름>정규표현식)\n",
    "\n",
    "re.match('[a-zA-Z_][a-zA-Z0-9_]+\\(\\w+\\)', 'print(_val)')\n"
   ]
  },
  {
   "cell_type": "code",
   "execution_count": 70,
   "metadata": {
    "scrolled": true
   },
   "outputs": [
    {
     "ename": "error",
     "evalue": "nothing to repeat at position 0",
     "output_type": "error",
     "traceback": [
      "\u001b[1;31m---------------------------------------------------------------------------\u001b[0m",
      "\u001b[1;31merror\u001b[0m                                     Traceback (most recent call last)",
      "\u001b[1;32m<ipython-input-70-bd404f20007f>\u001b[0m in \u001b[0;36m<module>\u001b[1;34m\u001b[0m\n\u001b[1;32m----> 1\u001b[1;33m \u001b[0mm\u001b[0m\u001b[1;33m=\u001b[0m\u001b[0mre\u001b[0m\u001b[1;33m.\u001b[0m\u001b[0mmatch\u001b[0m\u001b[1;33m(\u001b[0m\u001b[1;34m'?P<func>[a-zA-Z_][a-zA-Z0-9_]+)\\((?P<arg>\\w+)\\)'\u001b[0m\u001b[1;33m,\u001b[0m \u001b[1;34m'print(_val)'\u001b[0m\u001b[1;33m)\u001b[0m\u001b[1;33m\u001b[0m\u001b[1;33m\u001b[0m\u001b[0m\n\u001b[0m\u001b[0;32m      2\u001b[0m \u001b[0mprint\u001b[0m\u001b[1;33m(\u001b[0m\u001b[0mm\u001b[0m\u001b[1;33m)\u001b[0m\u001b[1;33m\u001b[0m\u001b[1;33m\u001b[0m\u001b[0m\n\u001b[0;32m      3\u001b[0m \u001b[0mprint\u001b[0m\u001b[1;33m(\u001b[0m\u001b[0mm\u001b[0m\u001b[1;33m.\u001b[0m\u001b[0mgroup\u001b[0m\u001b[1;33m(\u001b[0m\u001b[1;34m'func'\u001b[0m\u001b[1;33m)\u001b[0m\u001b[1;33m)\u001b[0m\u001b[1;33m\u001b[0m\u001b[1;33m\u001b[0m\u001b[0m\n\u001b[0;32m      4\u001b[0m \u001b[0mprint\u001b[0m\u001b[1;33m(\u001b[0m\u001b[0mm\u001b[0m\u001b[1;33m.\u001b[0m\u001b[0mgroup\u001b[0m\u001b[1;33m(\u001b[0m\u001b[1;34m'arg'\u001b[0m\u001b[1;33m)\u001b[0m\u001b[1;33m)\u001b[0m\u001b[1;33m\u001b[0m\u001b[1;33m\u001b[0m\u001b[0m\n",
      "\u001b[1;32m~\\Anaconda3\\lib\\re.py\u001b[0m in \u001b[0;36mmatch\u001b[1;34m(pattern, string, flags)\u001b[0m\n\u001b[0;32m    171\u001b[0m     \"\"\"Try to apply the pattern at the start of the string, returning\n\u001b[0;32m    172\u001b[0m     a Match object, or None if no match was found.\"\"\"\n\u001b[1;32m--> 173\u001b[1;33m     \u001b[1;32mreturn\u001b[0m \u001b[0m_compile\u001b[0m\u001b[1;33m(\u001b[0m\u001b[0mpattern\u001b[0m\u001b[1;33m,\u001b[0m \u001b[0mflags\u001b[0m\u001b[1;33m)\u001b[0m\u001b[1;33m.\u001b[0m\u001b[0mmatch\u001b[0m\u001b[1;33m(\u001b[0m\u001b[0mstring\u001b[0m\u001b[1;33m)\u001b[0m\u001b[1;33m\u001b[0m\u001b[1;33m\u001b[0m\u001b[0m\n\u001b[0m\u001b[0;32m    174\u001b[0m \u001b[1;33m\u001b[0m\u001b[0m\n\u001b[0;32m    175\u001b[0m \u001b[1;32mdef\u001b[0m \u001b[0mfullmatch\u001b[0m\u001b[1;33m(\u001b[0m\u001b[0mpattern\u001b[0m\u001b[1;33m,\u001b[0m \u001b[0mstring\u001b[0m\u001b[1;33m,\u001b[0m \u001b[0mflags\u001b[0m\u001b[1;33m=\u001b[0m\u001b[1;36m0\u001b[0m\u001b[1;33m)\u001b[0m\u001b[1;33m:\u001b[0m\u001b[1;33m\u001b[0m\u001b[1;33m\u001b[0m\u001b[0m\n",
      "\u001b[1;32m~\\Anaconda3\\lib\\re.py\u001b[0m in \u001b[0;36m_compile\u001b[1;34m(pattern, flags)\u001b[0m\n\u001b[0;32m    284\u001b[0m     \u001b[1;32mif\u001b[0m \u001b[1;32mnot\u001b[0m \u001b[0msre_compile\u001b[0m\u001b[1;33m.\u001b[0m\u001b[0misstring\u001b[0m\u001b[1;33m(\u001b[0m\u001b[0mpattern\u001b[0m\u001b[1;33m)\u001b[0m\u001b[1;33m:\u001b[0m\u001b[1;33m\u001b[0m\u001b[1;33m\u001b[0m\u001b[0m\n\u001b[0;32m    285\u001b[0m         \u001b[1;32mraise\u001b[0m \u001b[0mTypeError\u001b[0m\u001b[1;33m(\u001b[0m\u001b[1;34m\"first argument must be string or compiled pattern\"\u001b[0m\u001b[1;33m)\u001b[0m\u001b[1;33m\u001b[0m\u001b[1;33m\u001b[0m\u001b[0m\n\u001b[1;32m--> 286\u001b[1;33m     \u001b[0mp\u001b[0m \u001b[1;33m=\u001b[0m \u001b[0msre_compile\u001b[0m\u001b[1;33m.\u001b[0m\u001b[0mcompile\u001b[0m\u001b[1;33m(\u001b[0m\u001b[0mpattern\u001b[0m\u001b[1;33m,\u001b[0m \u001b[0mflags\u001b[0m\u001b[1;33m)\u001b[0m\u001b[1;33m\u001b[0m\u001b[1;33m\u001b[0m\u001b[0m\n\u001b[0m\u001b[0;32m    287\u001b[0m     \u001b[1;32mif\u001b[0m \u001b[1;32mnot\u001b[0m \u001b[1;33m(\u001b[0m\u001b[0mflags\u001b[0m \u001b[1;33m&\u001b[0m \u001b[0mDEBUG\u001b[0m\u001b[1;33m)\u001b[0m\u001b[1;33m:\u001b[0m\u001b[1;33m\u001b[0m\u001b[1;33m\u001b[0m\u001b[0m\n\u001b[0;32m    288\u001b[0m         \u001b[1;32mif\u001b[0m \u001b[0mlen\u001b[0m\u001b[1;33m(\u001b[0m\u001b[0m_cache\u001b[0m\u001b[1;33m)\u001b[0m \u001b[1;33m>=\u001b[0m \u001b[0m_MAXCACHE\u001b[0m\u001b[1;33m:\u001b[0m\u001b[1;33m\u001b[0m\u001b[1;33m\u001b[0m\u001b[0m\n",
      "\u001b[1;32m~\\Anaconda3\\lib\\sre_compile.py\u001b[0m in \u001b[0;36mcompile\u001b[1;34m(p, flags)\u001b[0m\n\u001b[0;32m    762\u001b[0m     \u001b[1;32mif\u001b[0m \u001b[0misstring\u001b[0m\u001b[1;33m(\u001b[0m\u001b[0mp\u001b[0m\u001b[1;33m)\u001b[0m\u001b[1;33m:\u001b[0m\u001b[1;33m\u001b[0m\u001b[1;33m\u001b[0m\u001b[0m\n\u001b[0;32m    763\u001b[0m         \u001b[0mpattern\u001b[0m \u001b[1;33m=\u001b[0m \u001b[0mp\u001b[0m\u001b[1;33m\u001b[0m\u001b[1;33m\u001b[0m\u001b[0m\n\u001b[1;32m--> 764\u001b[1;33m         \u001b[0mp\u001b[0m \u001b[1;33m=\u001b[0m \u001b[0msre_parse\u001b[0m\u001b[1;33m.\u001b[0m\u001b[0mparse\u001b[0m\u001b[1;33m(\u001b[0m\u001b[0mp\u001b[0m\u001b[1;33m,\u001b[0m \u001b[0mflags\u001b[0m\u001b[1;33m)\u001b[0m\u001b[1;33m\u001b[0m\u001b[1;33m\u001b[0m\u001b[0m\n\u001b[0m\u001b[0;32m    765\u001b[0m     \u001b[1;32melse\u001b[0m\u001b[1;33m:\u001b[0m\u001b[1;33m\u001b[0m\u001b[1;33m\u001b[0m\u001b[0m\n\u001b[0;32m    766\u001b[0m         \u001b[0mpattern\u001b[0m \u001b[1;33m=\u001b[0m \u001b[1;32mNone\u001b[0m\u001b[1;33m\u001b[0m\u001b[1;33m\u001b[0m\u001b[0m\n",
      "\u001b[1;32m~\\Anaconda3\\lib\\sre_parse.py\u001b[0m in \u001b[0;36mparse\u001b[1;34m(str, flags, pattern)\u001b[0m\n\u001b[0;32m    928\u001b[0m \u001b[1;33m\u001b[0m\u001b[0m\n\u001b[0;32m    929\u001b[0m     \u001b[1;32mtry\u001b[0m\u001b[1;33m:\u001b[0m\u001b[1;33m\u001b[0m\u001b[1;33m\u001b[0m\u001b[0m\n\u001b[1;32m--> 930\u001b[1;33m         \u001b[0mp\u001b[0m \u001b[1;33m=\u001b[0m \u001b[0m_parse_sub\u001b[0m\u001b[1;33m(\u001b[0m\u001b[0msource\u001b[0m\u001b[1;33m,\u001b[0m \u001b[0mpattern\u001b[0m\u001b[1;33m,\u001b[0m \u001b[0mflags\u001b[0m \u001b[1;33m&\u001b[0m \u001b[0mSRE_FLAG_VERBOSE\u001b[0m\u001b[1;33m,\u001b[0m \u001b[1;36m0\u001b[0m\u001b[1;33m)\u001b[0m\u001b[1;33m\u001b[0m\u001b[1;33m\u001b[0m\u001b[0m\n\u001b[0m\u001b[0;32m    931\u001b[0m     \u001b[1;32mexcept\u001b[0m \u001b[0mVerbose\u001b[0m\u001b[1;33m:\u001b[0m\u001b[1;33m\u001b[0m\u001b[1;33m\u001b[0m\u001b[0m\n\u001b[0;32m    932\u001b[0m         \u001b[1;31m# the VERBOSE flag was switched on inside the pattern.  to be\u001b[0m\u001b[1;33m\u001b[0m\u001b[1;33m\u001b[0m\u001b[1;33m\u001b[0m\u001b[0m\n",
      "\u001b[1;32m~\\Anaconda3\\lib\\sre_parse.py\u001b[0m in \u001b[0;36m_parse_sub\u001b[1;34m(source, state, verbose, nested)\u001b[0m\n\u001b[0;32m    424\u001b[0m     \u001b[1;32mwhile\u001b[0m \u001b[1;32mTrue\u001b[0m\u001b[1;33m:\u001b[0m\u001b[1;33m\u001b[0m\u001b[1;33m\u001b[0m\u001b[0m\n\u001b[0;32m    425\u001b[0m         itemsappend(_parse(source, state, verbose, nested + 1,\n\u001b[1;32m--> 426\u001b[1;33m                            not nested and not items))\n\u001b[0m\u001b[0;32m    427\u001b[0m         \u001b[1;32mif\u001b[0m \u001b[1;32mnot\u001b[0m \u001b[0msourcematch\u001b[0m\u001b[1;33m(\u001b[0m\u001b[1;34m\"|\"\u001b[0m\u001b[1;33m)\u001b[0m\u001b[1;33m:\u001b[0m\u001b[1;33m\u001b[0m\u001b[1;33m\u001b[0m\u001b[0m\n\u001b[0;32m    428\u001b[0m             \u001b[1;32mbreak\u001b[0m\u001b[1;33m\u001b[0m\u001b[1;33m\u001b[0m\u001b[0m\n",
      "\u001b[1;32m~\\Anaconda3\\lib\\sre_parse.py\u001b[0m in \u001b[0;36m_parse\u001b[1;34m(source, state, verbose, nested, first)\u001b[0m\n\u001b[0;32m    649\u001b[0m             \u001b[1;32mif\u001b[0m \u001b[1;32mnot\u001b[0m \u001b[0mitem\u001b[0m \u001b[1;32mor\u001b[0m \u001b[0mitem\u001b[0m\u001b[1;33m[\u001b[0m\u001b[1;36m0\u001b[0m\u001b[1;33m]\u001b[0m\u001b[1;33m[\u001b[0m\u001b[1;36m0\u001b[0m\u001b[1;33m]\u001b[0m \u001b[1;32mis\u001b[0m \u001b[0mAT\u001b[0m\u001b[1;33m:\u001b[0m\u001b[1;33m\u001b[0m\u001b[1;33m\u001b[0m\u001b[0m\n\u001b[0;32m    650\u001b[0m                 raise source.error(\"nothing to repeat\",\n\u001b[1;32m--> 651\u001b[1;33m                                    source.tell() - here + len(this))\n\u001b[0m\u001b[0;32m    652\u001b[0m             \u001b[1;32mif\u001b[0m \u001b[0mitem\u001b[0m\u001b[1;33m[\u001b[0m\u001b[1;36m0\u001b[0m\u001b[1;33m]\u001b[0m\u001b[1;33m[\u001b[0m\u001b[1;36m0\u001b[0m\u001b[1;33m]\u001b[0m \u001b[1;32min\u001b[0m \u001b[0m_REPEATCODES\u001b[0m\u001b[1;33m:\u001b[0m\u001b[1;33m\u001b[0m\u001b[1;33m\u001b[0m\u001b[0m\n\u001b[0;32m    653\u001b[0m                 raise source.error(\"multiple repeat\",\n",
      "\u001b[1;31merror\u001b[0m: nothing to repeat at position 0"
     ]
    }
   ],
   "source": [
    "m=re.match('?P<func>[a-zA-Z_][a-zA-Z0-9_]+)\\((?P<arg>\\w+)\\)', 'print(_val)')\n",
    "print(m)\n",
    "print(m.group('func'))\n",
    "print(m.group('arg'))"
   ]
  },
  {
   "cell_type": "code",
   "execution_count": null,
   "metadata": {},
   "outputs": [],
   "source": []
  },
  {
   "cell_type": "code",
   "execution_count": 73,
   "metadata": {},
   "outputs": [
    {
     "name": "stdout",
     "output_type": "stream",
     "text": [
      "['1', '2', '4', '7', '834']\n",
      "['Fizz', 'Buzz', 'Fizz']\n"
     ]
    }
   ],
   "source": [
    "# 43.3.1 패턴에 매칭되는 모든 문자열 가져오기 --- p.650\n",
    "\n",
    "a= re.findall('[0-9]+', '1 2 Fizz 4 Buzz Fizz 7 test string 834')\n",
    "print(a)\n",
    "\n",
    "b=re.findall('[a-zA-Z]+zz', '1 2 Fizz 4 Buzz Fizz 7 test string 834')\n",
    "print(b)"
   ]
  },
  {
   "cell_type": "code",
   "execution_count": 4,
   "metadata": {},
   "outputs": [
    {
     "name": "stdout",
     "output_type": "stream",
     "text": [
      "<re.Match object; span=(0, 5), match='hello'>\n",
      "<re.Match object; span=(0, 5), match='hello'>\n"
     ]
    }
   ],
   "source": [
    "# 참고) *,+와 그룹 활용하기 --- p.650\n",
    "import re\n",
    "\n",
    "#             hel   l  o \n",
    "a= re.match('[a-z]+(.[a-z]+)+$', 'hello')\n",
    "print(a)\n",
    "\n",
    "#           hello\n",
    "b= re.match('[a-z]+(.[a-z]+)*$', 'hello')\n",
    "print(b)"
   ]
  },
  {
   "cell_type": "code",
   "execution_count": 84,
   "metadata": {},
   "outputs": [
    {
     "name": "stdout",
     "output_type": "stream",
     "text": [
      "fruit box fruit box\n",
      "n n Fizz n Buzz Fizz n n nn\n"
     ]
    },
    {
     "data": {
      "text/plain": [
       "'nn nn nFninznzn nn nBnunznzn nFninznzn nn nn nn'"
      ]
     },
     "execution_count": 84,
     "metadata": {},
     "output_type": "execute_result"
    }
   ],
   "source": [
    "#43.4 문자열 바꾸기 --- p.650\n",
    "\n",
    "#re.sub('패턴', '바꿀문자열', '문자열', 바꿀횟수)\n",
    "\n",
    "a = re.sub('apple|orange', 'fruit', 'apple box orange box')\n",
    "print(a)\n",
    "\n",
    "b = re.sub('[0-9]', 'n', '1 2 Fizz 4 Buzz Fizz 7 8 23')\n",
    "print(b)\n",
    "\n",
    "re.sub('[0-9]*', 'n', '1 2 Fizz 4 Buzz Fizz 7 8 23')"
   ]
  },
  {
   "cell_type": "code",
   "execution_count": 90,
   "metadata": {},
   "outputs": [
    {
     "name": "stdout",
     "output_type": "stream",
     "text": [
      "<class 're.Match'>\n",
      "<class 'str'>\n",
      "1\n",
      "<class 're.Match'>\n",
      "<class 'str'>\n",
      "2\n",
      "<class 're.Match'>\n",
      "<class 'str'>\n",
      "4\n",
      "<class 're.Match'>\n",
      "<class 'str'>\n",
      "7\n",
      "<class 're.Match'>\n",
      "<class 'str'>\n",
      "8\n"
     ]
    },
    {
     "data": {
      "text/plain": [
       "'10 20 Fizz 40 Buzz Fizz 70 80'"
      ]
     },
     "execution_count": 90,
     "metadata": {},
     "output_type": "execute_result"
    }
   ],
   "source": [
    "def multiple10(m):\n",
    "    print(type(m))\n",
    "    print(type(m.group()))\n",
    "    print(m.group())\n",
    "    n = int(m.group())\n",
    "    return str(n * 10)\n",
    "\n",
    "re.sub('[0-9]+', multiple10, '1 2 Fizz 4 Buzz Fizz 7 8')"
   ]
  },
  {
   "cell_type": "code",
   "execution_count": 88,
   "metadata": {
    "scrolled": true
   },
   "outputs": [
    {
     "ename": "TypeError",
     "evalue": "sub() missing 1 required positional argument: 'string'",
     "output_type": "error",
     "traceback": [
      "\u001b[1;31m---------------------------------------------------------------------------\u001b[0m",
      "\u001b[1;31mTypeError\u001b[0m                                 Traceback (most recent call last)",
      "\u001b[1;32m<ipython-input-88-59e00d44d25b>\u001b[0m in \u001b[0;36m<module>\u001b[1;34m\u001b[0m\n\u001b[1;32m----> 1\u001b[1;33m \u001b[0mm\u001b[0m \u001b[1;33m=\u001b[0m \u001b[0mre\u001b[0m\u001b[1;33m.\u001b[0m\u001b[0msub\u001b[0m\u001b[1;33m(\u001b[0m\u001b[1;34m'([0-9]+) ([0-9]+)'\u001b[0m\u001b[1;33m,\u001b[0m \u001b[1;34m'10 295'\u001b[0m\u001b[1;33m)\u001b[0m\u001b[1;33m\u001b[0m\u001b[1;33m\u001b[0m\u001b[0m\n\u001b[0m\u001b[0;32m      2\u001b[0m \u001b[0mprint\u001b[0m\u001b[1;33m(\u001b[0m\u001b[0mm\u001b[0m\u001b[1;33m.\u001b[0m\u001b[0mgroup\u001b[0m\u001b[1;33m(\u001b[0m\u001b[1;33m)\u001b[0m\u001b[1;33m)\u001b[0m\u001b[1;33m\u001b[0m\u001b[1;33m\u001b[0m\u001b[0m\n",
      "\u001b[1;31mTypeError\u001b[0m: sub() missing 1 required positional argument: 'string'"
     ]
    }
   ],
   "source": [
    "m = re.sub('([0-9]+) ([0-9]+)', '10 295')\n",
    "print(m.group())\n"
   ]
  },
  {
   "cell_type": "code",
   "execution_count": 93,
   "metadata": {},
   "outputs": [
    {
     "data": {
      "text/plain": [
       "'10 20 Fizz 40 Buzz Fizz 70 80'"
      ]
     },
     "execution_count": 93,
     "metadata": {},
     "output_type": "execute_result"
    }
   ],
   "source": [
    "re.sub('[0-9]+', lambda m: str(int(m.group()) * 10), '1 2 Fizz 4 Buzz Fizz 7 8')"
   ]
  },
  {
   "cell_type": "code",
   "execution_count": 94,
   "metadata": {},
   "outputs": [
    {
     "data": {
      "text/plain": [
       "'1234 hello 1234 hello'"
      ]
     },
     "execution_count": 94,
     "metadata": {},
     "output_type": "execute_result"
    }
   ],
   "source": [
    "# 43.4.1 찾은 문자열을 결과에 다시 사용하기 --- p.651\n",
    "\n",
    "re.sub('([a-z]+) ([0-9]+)', '\\\\2 \\\\1 \\\\2 \\\\1', 'hello 1234')"
   ]
  },
  {
   "cell_type": "code",
   "execution_count": 102,
   "metadata": {},
   "outputs": [
    {
     "data": {
      "text/plain": [
       "'{\"name\":\"james\"}'"
      ]
     },
     "execution_count": 102,
     "metadata": {},
     "output_type": "execute_result"
    }
   ],
   "source": [
    "re.sub('({\\s*)\"(\\w+)\":\\s\"(\\w+)\"(\\s*})', '<\\\\2>\\\\3</\\\\2>', '{\"name\":\"james\"}')"
   ]
  },
  {
   "cell_type": "code",
   "execution_count": 104,
   "metadata": {},
   "outputs": [
    {
     "data": {
      "text/plain": [
       "'<name>james</name>'"
      ]
     },
     "execution_count": 104,
     "metadata": {},
     "output_type": "execute_result"
    }
   ],
   "source": [
    "re.sub('({\\s*)\"(?P<key>\\w+)\":\"(?P<value>\\w+)\"(\\s*})', r'<\\g<key>>\\g<value></\\g<key>>', '{\"name\":\"james\"}')"
   ]
  },
  {
   "cell_type": "markdown",
   "metadata": {},
   "source": [
    "## UNIT44 모듈과 패키지 사용하기 --- p.655"
   ]
  },
  {
   "cell_type": "code",
   "execution_count": 9,
   "metadata": {},
   "outputs": [
    {
     "name": "stdout",
     "output_type": "stream",
     "text": [
      "{'__name__': '__main__', '__doc__': 'Automatically created module for IPython interactive environment', '__package__': None, '__loader__': None, '__spec__': None, '__builtin__': <module 'builtins' (built-in)>, '__builtins__': <module 'builtins' (built-in)>, '_ih': ['', 'import math', 'import math', 'globals()', 'math.pi', '# 44.1 import로 모듈 가져오기 --- p.656\\nimport math\\nglobals()', '# 44.1 import로 모듈 가져오기 --- p.656\\nimport math\\nglobals()\\nprint(math.pi)', '# 44.1 import로 모듈 가져오기 --- p.656\\nimport math\\nglobals()\\nmath.pi', '# 44.1 import로 모듈 가져오기 --- p.656\\nimport math\\nprint(globals())\\nmath.pi', \"# 44.1 import로 모듈 가져오기 --- p.656\\nimport math\\nprint(globals())\\nprint('\\\\n')\\nprint(math.pi)\"], '_oh': {3: {...}, 4: 3.141592653589793, 5: {...}, 7: 3.141592653589793, 8: 3.141592653589793}, '_dh': ['C:\\\\project\\\\Part_1'], 'In': ['', 'import math', 'import math', 'globals()', 'math.pi', '# 44.1 import로 모듈 가져오기 --- p.656\\nimport math\\nglobals()', '# 44.1 import로 모듈 가져오기 --- p.656\\nimport math\\nglobals()\\nprint(math.pi)', '# 44.1 import로 모듈 가져오기 --- p.656\\nimport math\\nglobals()\\nmath.pi', '# 44.1 import로 모듈 가져오기 --- p.656\\nimport math\\nprint(globals())\\nmath.pi', \"# 44.1 import로 모듈 가져오기 --- p.656\\nimport math\\nprint(globals())\\nprint('\\\\n')\\nprint(math.pi)\"], 'Out': {3: {...}, 4: 3.141592653589793, 5: {...}, 7: 3.141592653589793, 8: 3.141592653589793}, 'get_ipython': <bound method InteractiveShell.get_ipython of <ipykernel.zmqshell.ZMQInteractiveShell object at 0x0000024B430DB2B0>>, 'exit': <IPython.core.autocall.ZMQExitAutocall object at 0x0000024B458149B0>, 'quit': <IPython.core.autocall.ZMQExitAutocall object at 0x0000024B458149B0>, '_': 3.141592653589793, '__': 3.141592653589793, '___': {...}, '_i': '# 44.1 import로 모듈 가져오기 --- p.656\\nimport math\\nprint(globals())\\nmath.pi', '_ii': '# 44.1 import로 모듈 가져오기 --- p.656\\nimport math\\nglobals()\\nmath.pi', '_iii': '# 44.1 import로 모듈 가져오기 --- p.656\\nimport math\\nglobals()\\nprint(math.pi)', '_i1': 'import math', 'math': <module 'math' (built-in)>, '_i2': 'import math', '_i3': 'globals()', '_3': {...}, '_i4': 'math.pi', '_4': 3.141592653589793, '_i5': '# 44.1 import로 모듈 가져오기 --- p.656\\nimport math\\nglobals()', '_5': {...}, '_i6': '# 44.1 import로 모듈 가져오기 --- p.656\\nimport math\\nglobals()\\nprint(math.pi)', '_i7': '# 44.1 import로 모듈 가져오기 --- p.656\\nimport math\\nglobals()\\nmath.pi', '_7': 3.141592653589793, '_i8': '# 44.1 import로 모듈 가져오기 --- p.656\\nimport math\\nprint(globals())\\nmath.pi', '_8': 3.141592653589793, '_i9': \"# 44.1 import로 모듈 가져오기 --- p.656\\nimport math\\nprint(globals())\\nprint('\\\\n')\\nprint(math.pi)\"}\n",
      "\n",
      "\n",
      "3.141592653589793\n"
     ]
    }
   ],
   "source": [
    "# 44.1 import로 모듈 가져오기 --- p.656\n",
    "import math\n",
    "print(globals())\n",
    "print('\\n')\n",
    "print(math.pi)"
   ]
  },
  {
   "cell_type": "code",
   "execution_count": 10,
   "metadata": {},
   "outputs": [],
   "source": [
    "from math import pi as p, sqrt as s"
   ]
  },
  {
   "cell_type": "code",
   "execution_count": 16,
   "metadata": {},
   "outputs": [
    {
     "data": {
      "text/plain": [
       "<module 'math' (built-in)>"
      ]
     },
     "execution_count": 16,
     "metadata": {},
     "output_type": "execute_result"
    }
   ],
   "source": [
    "# 참고) 가져온 모듈 해제하기, 다시 가져오기 --- p.659\n",
    "import math\n",
    "import importlib\n",
    "\n",
    "importlib.reload(math) # 모듈 다시 가져옴"
   ]
  },
  {
   "cell_type": "code",
   "execution_count": 19,
   "metadata": {},
   "outputs": [
    {
     "data": {
      "text/plain": [
       "200"
      ]
     },
     "execution_count": 19,
     "metadata": {},
     "output_type": "execute_result"
    }
   ],
   "source": [
    "# 44.2 import로 패키지 가져오기 --- p.660\n",
    "import urllib.request\n",
    "response = urllib.request.urlopen('http://www.google.co.kr')\n",
    "response.status"
   ]
  },
  {
   "cell_type": "code",
   "execution_count": null,
   "metadata": {},
   "outputs": [],
   "source": []
  },
  {
   "cell_type": "code",
   "execution_count": null,
   "metadata": {},
   "outputs": [],
   "source": []
  },
  {
   "cell_type": "code",
   "execution_count": null,
   "metadata": {},
   "outputs": [],
   "source": []
  },
  {
   "cell_type": "code",
   "execution_count": null,
   "metadata": {},
   "outputs": [],
   "source": []
  },
  {
   "cell_type": "code",
   "execution_count": null,
   "metadata": {},
   "outputs": [],
   "source": []
  },
  {
   "cell_type": "code",
   "execution_count": null,
   "metadata": {},
   "outputs": [],
   "source": []
  },
  {
   "cell_type": "code",
   "execution_count": null,
   "metadata": {},
   "outputs": [],
   "source": []
  },
  {
   "cell_type": "code",
   "execution_count": null,
   "metadata": {},
   "outputs": [],
   "source": []
  },
  {
   "cell_type": "code",
   "execution_count": null,
   "metadata": {},
   "outputs": [],
   "source": []
  }
 ],
 "metadata": {
  "kernelspec": {
   "display_name": "Python 3",
   "language": "python",
   "name": "python3"
  },
  "language_info": {
   "codemirror_mode": {
    "name": "ipython",
    "version": 3
   },
   "file_extension": ".py",
   "mimetype": "text/x-python",
   "name": "python",
   "nbconvert_exporter": "python",
   "pygments_lexer": "ipython3",
   "version": "3.7.3"
  }
 },
 "nbformat": 4,
 "nbformat_minor": 2
}
