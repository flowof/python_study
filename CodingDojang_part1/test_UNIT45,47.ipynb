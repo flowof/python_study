{
 "cells": [
  {
   "cell_type": "code",
   "execution_count": 2,
   "metadata": {
    "scrolled": false
   },
   "outputs": [
    {
     "data": {
      "text/plain": [
       "{'__name__': '__main__',\n",
       " '__doc__': 'Automatically created module for IPython interactive environment',\n",
       " '__package__': None,\n",
       " '__loader__': None,\n",
       " '__spec__': None,\n",
       " '__builtin__': <module 'builtins' (built-in)>,\n",
       " '__builtins__': <module 'builtins' (built-in)>,\n",
       " '_ih': ['', 'import square2\\n\\nprint(square2.base)', 'globals()'],\n",
       " '_oh': {},\n",
       " '_dh': ['C:\\\\project\\\\Part_1'],\n",
       " 'In': ['', 'import square2\\n\\nprint(square2.base)', 'globals()'],\n",
       " 'Out': {},\n",
       " 'get_ipython': <bound method InteractiveShell.get_ipython of <ipykernel.zmqshell.ZMQInteractiveShell object at 0x00000202588AA518>>,\n",
       " 'exit': <IPython.core.autocall.ZMQExitAutocall at 0x2025c9c5908>,\n",
       " 'quit': <IPython.core.autocall.ZMQExitAutocall at 0x2025c9c5908>,\n",
       " '_': '',\n",
       " '__': '',\n",
       " '___': '',\n",
       " '_i': 'import square2\\n\\nprint(square2.base)',\n",
       " '_ii': '',\n",
       " '_iii': '',\n",
       " '_i1': 'import square2\\n\\nprint(square2.base)',\n",
       " '_i2': 'globals()'}"
      ]
     },
     "execution_count": 2,
     "metadata": {},
     "output_type": "execute_result"
    }
   ],
   "source": [
    "globals()"
   ]
  },
  {
   "cell_type": "markdown",
   "metadata": {},
   "source": [
    "```\n",
    "square.py\n",
    "\n",
    "base = 2    # 변수\n",
    "\n",
    "def square(n) :     # 함수\n",
    "\n",
    "    return base ** n\n",
    "```"
   ]
  },
  {
   "cell_type": "code",
   "execution_count": 9,
   "metadata": {
    "scrolled": true
   },
   "outputs": [
    {
     "name": "stdout",
     "output_type": "stream",
     "text": [
      "2\n"
     ]
    }
   ],
   "source": [
    "import square2\n",
    "\n",
    "print(square2.base)"
   ]
  },
  {
   "cell_type": "code",
   "execution_count": 10,
   "metadata": {},
   "outputs": [
    {
     "data": {
      "text/plain": [
       "{'__name__': '__main__',\n",
       " '__doc__': 'Automatically created module for IPython interactive environment',\n",
       " '__package__': None,\n",
       " '__loader__': None,\n",
       " '__spec__': None,\n",
       " '__builtin__': <module 'builtins' (built-in)>,\n",
       " '__builtins__': <module 'builtins' (built-in)>,\n",
       " '_ih': ['',\n",
       "  'import square2\\n\\nprint(square2.base)',\n",
       "  'globals()',\n",
       "  'import square2\\n\\nprint(square2.base)',\n",
       "  'print(square2.square(10))',\n",
       "  'import square2\\n\\nprint(square2.base)',\n",
       "  'import square2\\n\\nprint(square2.base)',\n",
       "  'base = 2 \\ndef square(n):\\n    return base**b',\n",
       "  'import square2\\n\\nprint(square2.base)',\n",
       "  'import square2\\n\\nprint(square2.base)',\n",
       "  'globals()'],\n",
       " '_oh': {2: {...}},\n",
       " '_dh': ['C:\\\\project\\\\Part_1'],\n",
       " 'In': ['',\n",
       "  'import square2\\n\\nprint(square2.base)',\n",
       "  'globals()',\n",
       "  'import square2\\n\\nprint(square2.base)',\n",
       "  'print(square2.square(10))',\n",
       "  'import square2\\n\\nprint(square2.base)',\n",
       "  'import square2\\n\\nprint(square2.base)',\n",
       "  'base = 2 \\ndef square(n):\\n    return base**b',\n",
       "  'import square2\\n\\nprint(square2.base)',\n",
       "  'import square2\\n\\nprint(square2.base)',\n",
       "  'globals()'],\n",
       " 'Out': {2: {...}},\n",
       " 'get_ipython': <bound method InteractiveShell.get_ipython of <ipykernel.zmqshell.ZMQInteractiveShell object at 0x00000202588AA518>>,\n",
       " 'exit': <IPython.core.autocall.ZMQExitAutocall at 0x2025c9c5908>,\n",
       " 'quit': <IPython.core.autocall.ZMQExitAutocall at 0x2025c9c5908>,\n",
       " '_': {...},\n",
       " '__': '',\n",
       " '___': '',\n",
       " '_i': 'import square2\\n\\nprint(square2.base)',\n",
       " '_ii': 'import square2\\n\\nprint(square2.base)',\n",
       " '_iii': 'base = 2 \\ndef square(n):\\n    return base**b',\n",
       " '_i1': 'import square2\\n\\nprint(square2.base)',\n",
       " '_i2': 'globals()',\n",
       " '_2': {...},\n",
       " '_i3': 'import square2\\n\\nprint(square2.base)',\n",
       " '_i4': 'print(square2.square(10))',\n",
       " '_i5': 'import square2\\n\\nprint(square2.base)',\n",
       " '_i6': 'import square2\\n\\nprint(square2.base)',\n",
       " '_i7': 'base = 2 \\ndef square(n):\\n    return base**b',\n",
       " 'base': 2,\n",
       " 'square': <function __main__.square(n)>,\n",
       " '_i8': 'import square2\\n\\nprint(square2.base)',\n",
       " '_i9': 'import square2\\n\\nprint(square2.base)',\n",
       " 'square2': <module 'square2' from 'C:\\\\project\\\\Part_1\\\\square2.py'>,\n",
       " '_i10': 'globals()'}"
      ]
     },
     "execution_count": 10,
     "metadata": {},
     "output_type": "execute_result"
    }
   ],
   "source": [
    "globals()"
   ]
  },
  {
   "cell_type": "code",
   "execution_count": 11,
   "metadata": {},
   "outputs": [
    {
     "name": "stdout",
     "output_type": "stream",
     "text": [
      "1024\n"
     ]
    }
   ],
   "source": [
    "print(square2.square(10))"
   ]
  },
  {
   "cell_type": "code",
   "execution_count": 12,
   "metadata": {
    "scrolled": true
   },
   "outputs": [
    {
     "name": "stdout",
     "output_type": "stream",
     "text": [
      "140713202193504\n"
     ]
    }
   ],
   "source": [
    "a = 10\n",
    "print(id(a))"
   ]
  },
  {
   "cell_type": "markdown",
   "metadata": {},
   "source": [
    "```\n",
    "person.py\n",
    "\n",
    "def __init__ (self, name, age, address):\n",
    "    self.name = name\n",
    "    self.age = ageself.address = address\n",
    "\n",
    "def greeting(self):\n",
    "    print('안녕하세요. 저는 {0}입니다.'.format(self.name))\n",
    "```"
   ]
  },
  {
   "cell_type": "code",
   "execution_count": 14,
   "metadata": {},
   "outputs": [
    {
     "data": {
      "text/plain": [
       "{'__name__': '__main__',\n",
       " '__doc__': 'Automatically created module for IPython interactive environment',\n",
       " '__package__': None,\n",
       " '__loader__': None,\n",
       " '__spec__': None,\n",
       " '__builtin__': <module 'builtins' (built-in)>,\n",
       " '__builtins__': <module 'builtins' (built-in)>,\n",
       " '_ih': ['',\n",
       "  'import square2\\n\\nprint(square2.base)',\n",
       "  'globals()',\n",
       "  'import square2\\n\\nprint(square2.base)',\n",
       "  'print(square2.square(10))',\n",
       "  'import square2\\n\\nprint(square2.base)',\n",
       "  'import square2\\n\\nprint(square2.base)',\n",
       "  'base = 2 \\ndef square(n):\\n    return base**b',\n",
       "  'import square2\\n\\nprint(square2.base)',\n",
       "  'import square2\\n\\nprint(square2.base)',\n",
       "  'globals()',\n",
       "  'print(square2.square(10))',\n",
       "  'a = 10\\nprint(id(a))',\n",
       "  \"import person\\n\\nmaria = person.Person('마리아', 20, '서울')\\nmaria.greeting()\",\n",
       "  'globals()'],\n",
       " '_oh': {2: {...}, 10: {...}},\n",
       " '_dh': ['C:\\\\project\\\\Part_1'],\n",
       " 'In': ['',\n",
       "  'import square2\\n\\nprint(square2.base)',\n",
       "  'globals()',\n",
       "  'import square2\\n\\nprint(square2.base)',\n",
       "  'print(square2.square(10))',\n",
       "  'import square2\\n\\nprint(square2.base)',\n",
       "  'import square2\\n\\nprint(square2.base)',\n",
       "  'base = 2 \\ndef square(n):\\n    return base**b',\n",
       "  'import square2\\n\\nprint(square2.base)',\n",
       "  'import square2\\n\\nprint(square2.base)',\n",
       "  'globals()',\n",
       "  'print(square2.square(10))',\n",
       "  'a = 10\\nprint(id(a))',\n",
       "  \"import person\\n\\nmaria = person.Person('마리아', 20, '서울')\\nmaria.greeting()\",\n",
       "  'globals()'],\n",
       " 'Out': {2: {...}, 10: {...}},\n",
       " 'get_ipython': <bound method InteractiveShell.get_ipython of <ipykernel.zmqshell.ZMQInteractiveShell object at 0x00000202588AA518>>,\n",
       " 'exit': <IPython.core.autocall.ZMQExitAutocall at 0x2025c9c5908>,\n",
       " 'quit': <IPython.core.autocall.ZMQExitAutocall at 0x2025c9c5908>,\n",
       " '_': {...},\n",
       " '__': {...},\n",
       " '___': '',\n",
       " '_i': \"import person\\n\\nmaria = person.Person('마리아', 20, '서울')\\nmaria.greeting()\",\n",
       " '_ii': 'a = 10\\nprint(id(a))',\n",
       " '_iii': 'print(square2.square(10))',\n",
       " '_i1': 'import square2\\n\\nprint(square2.base)',\n",
       " '_i2': 'globals()',\n",
       " '_2': {...},\n",
       " '_i3': 'import square2\\n\\nprint(square2.base)',\n",
       " '_i4': 'print(square2.square(10))',\n",
       " '_i5': 'import square2\\n\\nprint(square2.base)',\n",
       " '_i6': 'import square2\\n\\nprint(square2.base)',\n",
       " '_i7': 'base = 2 \\ndef square(n):\\n    return base**b',\n",
       " 'base': 2,\n",
       " 'square': <function __main__.square(n)>,\n",
       " '_i8': 'import square2\\n\\nprint(square2.base)',\n",
       " '_i9': 'import square2\\n\\nprint(square2.base)',\n",
       " 'square2': <module 'square2' from 'C:\\\\project\\\\Part_1\\\\square2.py'>,\n",
       " '_i10': 'globals()',\n",
       " '_10': {...},\n",
       " '_i11': 'print(square2.square(10))',\n",
       " '_i12': 'a = 10\\nprint(id(a))',\n",
       " 'a': 10,\n",
       " '_i13': \"import person\\n\\nmaria = person.Person('마리아', 20, '서울')\\nmaria.greeting()\",\n",
       " 'person': <module 'person' from 'C:\\\\project\\\\Part_1\\\\person.py'>,\n",
       " '_i14': 'globals()'}"
      ]
     },
     "execution_count": 14,
     "metadata": {},
     "output_type": "execute_result"
    }
   ],
   "source": [
    "globals()"
   ]
  },
  {
   "cell_type": "code",
   "execution_count": 28,
   "metadata": {
    "scrolled": false
   },
   "outputs": [
    {
     "ename": "ImportError",
     "evalue": "cannot import name 'Person' from 'person' (C:\\project\\Part_1\\person.py)",
     "output_type": "error",
     "traceback": [
      "\u001b[1;31m---------------------------------------------------------------------------\u001b[0m",
      "\u001b[1;31mImportError\u001b[0m                               Traceback (most recent call last)",
      "\u001b[1;32m<ipython-input-28-2f355515b50b>\u001b[0m in \u001b[0;36m<module>\u001b[1;34m\u001b[0m\n\u001b[1;32m----> 1\u001b[1;33m \u001b[1;32mfrom\u001b[0m \u001b[0mperson\u001b[0m \u001b[1;32mimport\u001b[0m \u001b[0mPerson\u001b[0m\u001b[1;33m\u001b[0m\u001b[1;33m\u001b[0m\u001b[0m\n\u001b[0m\u001b[0;32m      2\u001b[0m \u001b[1;33m\u001b[0m\u001b[0m\n\u001b[0;32m      3\u001b[0m \u001b[0mmaria\u001b[0m \u001b[1;33m=\u001b[0m \u001b[0mperson\u001b[0m\u001b[1;33m.\u001b[0m\u001b[0mPerson\u001b[0m\u001b[1;33m(\u001b[0m\u001b[1;34m'마리아'\u001b[0m\u001b[1;33m,\u001b[0m \u001b[1;36m20\u001b[0m\u001b[1;33m,\u001b[0m \u001b[1;34m'서울'\u001b[0m\u001b[1;33m)\u001b[0m\u001b[1;33m\u001b[0m\u001b[1;33m\u001b[0m\u001b[0m\n\u001b[0;32m      4\u001b[0m \u001b[0mmaria\u001b[0m\u001b[1;33m.\u001b[0m\u001b[0mgreeting\u001b[0m\u001b[1;33m(\u001b[0m\u001b[1;33m)\u001b[0m\u001b[1;33m\u001b[0m\u001b[1;33m\u001b[0m\u001b[0m\n",
      "\u001b[1;31mImportError\u001b[0m: cannot import name 'Person' from 'person' (C:\\project\\Part_1\\person.py)"
     ]
    }
   ],
   "source": [
    "from person import Person\n",
    "\n",
    "maria = person.Person('마리아', 20, '서울')\n",
    "maria.greeting()\n"
   ]
  },
  {
   "cell_type": "code",
   "execution_count": 22,
   "metadata": {},
   "outputs": [
    {
     "name": "stdout",
     "output_type": "stream",
     "text": [
      "hello 모듈 시작\n",
      "__name__:  __main__\n",
      "hello 모듈 끝\n"
     ]
    }
   ],
   "source": [
    "print('hello 모듈 시작')\n",
    "print('__name__: ', __name__)\n",
    "print('hello 모듈 끝')"
   ]
  },
  {
   "cell_type": "code",
   "execution_count": 30,
   "metadata": {},
   "outputs": [
    {
     "name": "stdout",
     "output_type": "stream",
     "text": [
      "main.py __name__:  __main__\n",
      "a :  20\n"
     ]
    },
    {
     "ename": "AttributeError",
     "evalue": "module 'hello' has no attribute 'a'",
     "output_type": "error",
     "traceback": [
      "\u001b[1;31m---------------------------------------------------------------------------\u001b[0m",
      "\u001b[1;31mAttributeError\u001b[0m                            Traceback (most recent call last)",
      "\u001b[1;32m<ipython-input-30-dbd5b86e7e54>\u001b[0m in \u001b[0;36m<module>\u001b[1;34m\u001b[0m\n\u001b[0;32m      3\u001b[0m \u001b[0mprint\u001b[0m\u001b[1;33m(\u001b[0m\u001b[1;34m'main.py __name__: '\u001b[0m\u001b[1;33m,\u001b[0m \u001b[0m__name__\u001b[0m\u001b[1;33m)\u001b[0m\u001b[1;33m\u001b[0m\u001b[1;33m\u001b[0m\u001b[0m\n\u001b[0;32m      4\u001b[0m \u001b[0mprint\u001b[0m\u001b[1;33m(\u001b[0m\u001b[1;34m'a : '\u001b[0m\u001b[1;33m,\u001b[0m \u001b[0ma\u001b[0m\u001b[1;33m)\u001b[0m\u001b[1;33m\u001b[0m\u001b[1;33m\u001b[0m\u001b[0m\n\u001b[1;32m----> 5\u001b[1;33m \u001b[0mprint\u001b[0m\u001b[1;33m(\u001b[0m\u001b[1;34m'hello : '\u001b[0m\u001b[1;33m,\u001b[0m \u001b[0mhello\u001b[0m\u001b[1;33m.\u001b[0m\u001b[0ma\u001b[0m\u001b[1;33m)\u001b[0m\u001b[1;33m\u001b[0m\u001b[1;33m\u001b[0m\u001b[0m\n\u001b[0m",
      "\u001b[1;31mAttributeError\u001b[0m: module 'hello' has no attribute 'a'"
     ]
    }
   ],
   "source": [
    "import hello\n",
    "a = 20\n",
    "print('main.py __name__: ', __name__)\n",
    "print('a : ', a)\n",
    "print('hello : ', hello.a)"
   ]
  },
  {
   "cell_type": "code",
   "execution_count": 29,
   "metadata": {
    "scrolled": false
   },
   "outputs": [
    {
     "name": "stdout",
     "output_type": "stream",
     "text": [
      "hello 모듈 시작\n",
      "__name__:  hello\n",
      "hello 모듈 끝\n"
     ]
    },
    {
     "data": {
      "text/plain": [
       "<module 'hello' from 'C:\\\\project\\\\Part_1\\\\hello.py'>"
      ]
     },
     "execution_count": 29,
     "metadata": {},
     "output_type": "execute_result"
    }
   ],
   "source": [
    "import importlib\n",
    "importlib.reload(hello)"
   ]
  },
  {
   "cell_type": "code",
   "execution_count": 33,
   "metadata": {},
   "outputs": [
    {
     "name": "stdout",
     "output_type": "stream",
     "text": [
      "110\n",
      "3000\n"
     ]
    }
   ],
   "source": [
    "# 45.2.1 스크립트 파일로 실행하거나 모듈로 사용하는 코드 만들기 --- p.674\n",
    "\n",
    "import calc # __name__변수값이 __main__일 때만 10, 20합과 곱 출력하도록\n",
    "\n",
    "#함수에 값 넣어서 출력하면 됨\n",
    "print(calc.add(50,60))\n",
    "print(calc.mul(50,60))"
   ]
  },
  {
   "cell_type": "markdown",
   "metadata": {},
   "source": [
    "## UNIT47 부록 --- p.719"
   ]
  },
  {
   "cell_type": "code",
   "execution_count": 1,
   "metadata": {},
   "outputs": [
    {
     "data": {
      "text/plain": [
       "'0b1101'"
      ]
     },
     "execution_count": 1,
     "metadata": {},
     "output_type": "execute_result"
    }
   ],
   "source": [
    "bin(13)"
   ]
  },
  {
   "cell_type": "code",
   "execution_count": 2,
   "metadata": {},
   "outputs": [
    {
     "data": {
      "text/plain": [
       "13"
      ]
     },
     "execution_count": 2,
     "metadata": {},
     "output_type": "execute_result"
    }
   ],
   "source": [
    "int('1101',2)"
   ]
  },
  {
   "cell_type": "code",
   "execution_count": 3,
   "metadata": {},
   "outputs": [
    {
     "data": {
      "text/plain": [
       "6"
      ]
     },
     "execution_count": 3,
     "metadata": {},
     "output_type": "execute_result"
    }
   ],
   "source": [
    "# 47.1.5 시프트 연산자 사용하기 --- p.722\n",
    "\n",
    "# << 또는 >> : 비트의 위치를 이동시킴\n",
    "a = 3\n",
    "b = 1\n",
    "a<<b"
   ]
  },
  {
   "cell_type": "markdown",
   "metadata": {},
   "source": [
    "### 47.3 bytes, bytearray 사용하기"
   ]
  },
  {
   "cell_type": "code",
   "execution_count": 6,
   "metadata": {},
   "outputs": [
    {
     "name": "stdout",
     "output_type": "stream",
     "text": [
      "b'\\x00\\x00\\x00\\x00\\x00\\x00\\x00\\x00\\x00\\x00'\n",
      "b'\\n\\x14\\x1e(2'\n"
     ]
    }
   ],
   "source": [
    "# 47.3.1 bytes --- p.724\n",
    "\n",
    "print(bytes(10))\n",
    "print(bytes([10,20,30,40,50]))"
   ]
  },
  {
   "cell_type": "code",
   "execution_count": 9,
   "metadata": {},
   "outputs": [
    {
     "data": {
      "text/plain": [
       "bytes"
      ]
     },
     "execution_count": 9,
     "metadata": {},
     "output_type": "execute_result"
    }
   ],
   "source": [
    "a = bytes(b'hello')\n",
    "type(a)"
   ]
  },
  {
   "cell_type": "code",
   "execution_count": 10,
   "metadata": {
    "scrolled": true
   },
   "outputs": [
    {
     "name": "stdout",
     "output_type": "stream",
     "text": [
      "['__add__', '__class__', '__contains__', '__delattr__', '__dir__', '__doc__', '__eq__', '__format__', '__ge__', '__getattribute__', '__getitem__', '__getnewargs__', '__gt__', '__hash__', '__init__', '__init_subclass__', '__iter__', '__le__', '__len__', '__lt__', '__mod__', '__mul__', '__ne__', '__new__', '__reduce__', '__reduce_ex__', '__repr__', '__rmod__', '__rmul__', '__setattr__', '__sizeof__', '__str__', '__subclasshook__', 'capitalize', 'center', 'count', 'decode', 'endswith', 'expandtabs', 'find', 'fromhex', 'hex', 'index', 'isalnum', 'isalpha', 'isascii', 'isdigit', 'islower', 'isspace', 'istitle', 'isupper', 'join', 'ljust', 'lower', 'lstrip', 'maketrans', 'partition', 'replace', 'rfind', 'rindex', 'rjust', 'rpartition', 'rsplit', 'rstrip', 'split', 'splitlines', 'startswith', 'strip', 'swapcase', 'title', 'translate', 'upper', 'zfill']\n"
     ]
    }
   ],
   "source": [
    "print(dir(a))"
   ]
  },
  {
   "cell_type": "code",
   "execution_count": 11,
   "metadata": {},
   "outputs": [
    {
     "data": {
      "text/plain": [
       "104"
      ]
     },
     "execution_count": 11,
     "metadata": {},
     "output_type": "execute_result"
    }
   ],
   "source": [
    "a[0]"
   ]
  },
  {
   "cell_type": "code",
   "execution_count": 12,
   "metadata": {},
   "outputs": [
    {
     "data": {
      "text/plain": [
       "list"
      ]
     },
     "execution_count": 12,
     "metadata": {},
     "output_type": "execute_result"
    }
   ],
   "source": [
    "lst = [10,20,30,40,50]\n",
    "type(lst)"
   ]
  },
  {
   "cell_type": "code",
   "execution_count": 13,
   "metadata": {},
   "outputs": [
    {
     "data": {
      "text/plain": [
       "80"
      ]
     },
     "execution_count": 13,
     "metadata": {},
     "output_type": "execute_result"
    }
   ],
   "source": [
    "lst.__sizeof__()"
   ]
  },
  {
   "cell_type": "code",
   "execution_count": 15,
   "metadata": {},
   "outputs": [
    {
     "data": {
      "text/plain": [
       "43"
      ]
     },
     "execution_count": 15,
     "metadata": {},
     "output_type": "execute_result"
    }
   ],
   "source": [
    "b = bytes([10,20,30,40,50,60,70,80,90,100])\n",
    "b.__sizeof__()"
   ]
  },
  {
   "cell_type": "code",
   "execution_count": 16,
   "metadata": {},
   "outputs": [
    {
     "data": {
      "text/plain": [
       "bytearray(b'hello')"
      ]
     },
     "execution_count": 16,
     "metadata": {},
     "output_type": "execute_result"
    }
   ],
   "source": [
    "x = bytearray(b'hello')\n",
    "x"
   ]
  },
  {
   "cell_type": "code",
   "execution_count": 17,
   "metadata": {},
   "outputs": [
    {
     "data": {
      "text/plain": [
       "bytearray(b'aello')"
      ]
     },
     "execution_count": 17,
     "metadata": {},
     "output_type": "execute_result"
    }
   ],
   "source": [
    "x[0] = ord('a')\n",
    "x"
   ]
  },
  {
   "cell_type": "code",
   "execution_count": 18,
   "metadata": {},
   "outputs": [
    {
     "data": {
      "text/plain": [
       "b'hello'"
      ]
     },
     "execution_count": 18,
     "metadata": {},
     "output_type": "execute_result"
    }
   ],
   "source": [
    "'hello'.encode() #디폴트 utf"
   ]
  },
  {
   "cell_type": "code",
   "execution_count": 20,
   "metadata": {},
   "outputs": [
    {
     "data": {
      "text/plain": [
       "b'\\xbe\\xc8\\xb3\\xe7'"
      ]
     },
     "execution_count": 20,
     "metadata": {},
     "output_type": "execute_result"
    }
   ],
   "source": [
    "'안녕'.encode('euc-kr') # 같은 안녕인데 euc라는 테이블로 디코디한 값"
   ]
  },
  {
   "cell_type": "code",
   "execution_count": 21,
   "metadata": {},
   "outputs": [
    {
     "ename": "UnicodeDecodeError",
     "evalue": "'utf-8' codec can't decode byte 0xbe in position 0: invalid start byte",
     "output_type": "error",
     "traceback": [
      "\u001b[1;31m---------------------------------------------------------------------------\u001b[0m",
      "\u001b[1;31mUnicodeDecodeError\u001b[0m                        Traceback (most recent call last)",
      "\u001b[1;32m<ipython-input-21-2c5bfadabcdb>\u001b[0m in \u001b[0;36m<module>\u001b[1;34m\u001b[0m\n\u001b[0;32m      1\u001b[0m \u001b[0mx\u001b[0m \u001b[1;33m=\u001b[0m \u001b[1;34m'안녕'\u001b[0m\u001b[1;33m.\u001b[0m\u001b[0mencode\u001b[0m\u001b[1;33m(\u001b[0m\u001b[1;34m'euc-kr'\u001b[0m\u001b[1;33m)\u001b[0m\u001b[1;33m\u001b[0m\u001b[1;33m\u001b[0m\u001b[0m\n\u001b[1;32m----> 2\u001b[1;33m \u001b[0mx\u001b[0m\u001b[1;33m.\u001b[0m\u001b[0mdecode\u001b[0m\u001b[1;33m(\u001b[0m\u001b[1;34m'utf-8'\u001b[0m\u001b[1;33m)\u001b[0m\u001b[1;33m\u001b[0m\u001b[1;33m\u001b[0m\u001b[0m\n\u001b[0m",
      "\u001b[1;31mUnicodeDecodeError\u001b[0m: 'utf-8' codec can't decode byte 0xbe in position 0: invalid start byte"
     ]
    }
   ],
   "source": [
    "x = '안녕'.encode('euc-kr')\n",
    "x.decode('utf-8') #테이블이 다르니까 당연히 에러가 담"
   ]
  },
  {
   "cell_type": "code",
   "execution_count": 22,
   "metadata": {},
   "outputs": [
    {
     "data": {
      "text/plain": [
       "'안녕'"
      ]
     },
     "execution_count": 22,
     "metadata": {},
     "output_type": "execute_result"
    }
   ],
   "source": [
    "x.decode('euc-kr')"
   ]
  },
  {
   "cell_type": "code",
   "execution_count": 23,
   "metadata": {},
   "outputs": [
    {
     "data": {
      "text/plain": [
       "'0b10011'"
      ]
     },
     "execution_count": 23,
     "metadata": {},
     "output_type": "execute_result"
    }
   ],
   "source": [
    "bin(0x13)"
   ]
  },
  {
   "cell_type": "code",
   "execution_count": 24,
   "metadata": {},
   "outputs": [
    {
     "data": {
      "text/plain": [
       "bytearray(b'\\xbe\\xc8\\xb3\\xe7')"
      ]
     },
     "execution_count": 24,
     "metadata": {},
     "output_type": "execute_result"
    }
   ],
   "source": [
    "x = bytearray(b'\\xbe\\xc8\\xb3\\xe7')\n",
    "x"
   ]
  },
  {
   "cell_type": "code",
   "execution_count": 1,
   "metadata": {},
   "outputs": [
    {
     "ename": "NameError",
     "evalue": "name 'x' is not defined",
     "output_type": "error",
     "traceback": [
      "\u001b[1;31m---------------------------------------------------------------------------\u001b[0m",
      "\u001b[1;31mNameError\u001b[0m                                 Traceback (most recent call last)",
      "\u001b[1;32m<ipython-input-1-20d764cffd6e>\u001b[0m in \u001b[0;36m<module>\u001b[1;34m\u001b[0m\n\u001b[1;32m----> 1\u001b[1;33m \u001b[0mx\u001b[0m\u001b[1;33m.\u001b[0m\u001b[0mdecode\u001b[0m\u001b[1;33m(\u001b[0m\u001b[1;34m'euc-kr'\u001b[0m\u001b[1;33m)\u001b[0m\u001b[1;33m\u001b[0m\u001b[1;33m\u001b[0m\u001b[0m\n\u001b[0m",
      "\u001b[1;31mNameError\u001b[0m: name 'x' is not defined"
     ]
    }
   ],
   "source": [
    "x.decode('euc-kr')"
   ]
  },
  {
   "cell_type": "code",
   "execution_count": 4,
   "metadata": {},
   "outputs": [
    {
     "name": "stdout",
     "output_type": "stream",
     "text": [
      "<class 'str'>\n",
      "now score :  000000\n"
     ]
    }
   ],
   "source": [
    "score = 0\n",
    "score_str = str(score).rjust(6, \"0\")\n",
    "print(type(score_str))\n",
    "print('now score : ', score_str)"
   ]
  },
  {
   "cell_type": "code",
   "execution_count": null,
   "metadata": {},
   "outputs": [],
   "source": []
  },
  {
   "cell_type": "code",
   "execution_count": 30,
   "metadata": {},
   "outputs": [
    {
     "name": "stdout",
     "output_type": "stream",
     "text": [
      "0 3 \n",
      "--------------------------------------------------\n",
      "0 "
     ]
    }
   ],
   "source": [
    "#step1\n",
    "\n",
    "flag = [0,0,0,0]\n",
    "flag[0] = 1\n",
    "flag[3] = 1\n",
    "\n",
    "for i in range(len(flag)):\n",
    "    if flag[i] == 1:\n",
    "        print(\"%d\" % i, end= ' ')\n",
    "        \n",
    "        \n",
    "print(\"\\n%s\" %('-'*50))\n",
    "flag[3] = 0\n",
    "\n",
    "for i in range(len(flag)):\n",
    "    if flag[i]  == 1:\n",
    "        print(\"%d\" % i, end=' ')"
   ]
  },
  {
   "cell_type": "code",
   "execution_count": 31,
   "metadata": {},
   "outputs": [],
   "source": [
    "#step2\n",
    "#비트 연산자를 활용한 flag 처리\n",
    "flag = 0\n",
    "flag = flag |1\n",
    "flag = flag |8\n",
    "\n",
    "for i in range(len(flag)):\n",
    "    if flag[i] == 1:\n",
    "        print(\"%d\" % i, end=' ')\n",
    "print(\"\\n%s\" %('-'*50))\n",
    "\n",
    "\n"
   ]
  },
  {
   "cell_type": "code",
   "execution_count": null,
   "metadata": {},
   "outputs": [],
   "source": [
    "#step3\n"
   ]
  },
  {
   "cell_type": "code",
   "execution_count": 32,
   "metadata": {},
   "outputs": [
    {
     "name": "stdout",
     "output_type": "stream",
     "text": [
      "96\n"
     ]
    }
   ],
   "source": [
    "import sys\n",
    "x = [1,2,3,4]\n",
    "print(sys.getsizeof(x))"
   ]
  },
  {
   "cell_type": "code",
   "execution_count": null,
   "metadata": {},
   "outputs": [],
   "source": [
    "#\n",
    "#\n",
    "flag = []\n",
    "for i in range(16):\n",
    "    flag.append(0)\n",
    "    \n",
    "# flag[70//64] = flag[70//64] | 1 <<(70%64)\n",
    "flag[70//64] |= (1 <<(70%64))\n"
   ]
  },
  {
   "cell_type": "code",
   "execution_count": null,
   "metadata": {},
   "outputs": [],
   "source": [
    "def bit_set(flag, index):\n",
    "    flag[index//64] |= (1 << (index))\n",
    "    \n",
    "def"
   ]
  },
  {
   "cell_type": "code",
   "execution_count": null,
   "metadata": {},
   "outputs": [],
   "source": []
  },
  {
   "cell_type": "code",
   "execution_count": null,
   "metadata": {},
   "outputs": [],
   "source": []
  }
 ],
 "metadata": {
  "kernelspec": {
   "display_name": "Python 3",
   "language": "python",
   "name": "python3"
  },
  "language_info": {
   "codemirror_mode": {
    "name": "ipython",
    "version": 3
   },
   "file_extension": ".py",
   "mimetype": "text/x-python",
   "name": "python",
   "nbconvert_exporter": "python",
   "pygments_lexer": "ipython3",
   "version": "3.7.3"
  }
 },
 "nbformat": 4,
 "nbformat_minor": 2
}
