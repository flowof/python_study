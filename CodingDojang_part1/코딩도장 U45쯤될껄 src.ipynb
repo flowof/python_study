{
 "cells": [
  {
   "cell_type": "code",
   "execution_count": null,
   "metadata": {},
   "outputs": [],
   "source": [
    "# 클래스는 객체를 표현하기 위한 문법\n",
    "\n",
    "def add(a, b):\n",
    "    return a + b\n",
    "\n",
    "a = 10\n",
    "b = 20\n",
    "\n",
    "\n",
    "c = add(a,b)\n",
    "c"
   ]
  },
  {
   "cell_type": "code",
   "execution_count": null,
   "metadata": {},
   "outputs": [],
   "source": [
    "#  student : 이름, 학년, 성적, 학번 , 출력 ,\n",
    "def info_print(s):\n",
    "    print('이름: ',s[0])\n",
    "    print('학년: ',s[1])\n",
    "    print('성적: ',s[2])\n",
    "\n",
    "def update_sungkuk(s,val):\n",
    "    s[2] = val\n",
    "\n",
    "\n",
    "s1 = ['철수',2,4.0,1234]\n",
    "\n",
    "\n",
    "s2 = ['영희',2,4.0,1234]\n",
    "\n",
    "\n",
    "info_print(s1)\n",
    "update_sungkuk(s1,4.5)\n",
    "info_print(s1)\n",
    "\n",
    "info_print(s2)\n",
    "update_sungkuk(s2,4.2)\n",
    "info_print(s2)"
   ]
  },
  {
   "cell_type": "code",
   "execution_count": null,
   "metadata": {},
   "outputs": [],
   "source": []
  },
  {
   "cell_type": "code",
   "execution_count": null,
   "metadata": {},
   "outputs": [],
   "source": [
    "globals()"
   ]
  },
  {
   "cell_type": "code",
   "execution_count": null,
   "metadata": {},
   "outputs": [],
   "source": [
    "class Person:\n",
    "    def greeting(self):\n",
    "        print('Hello')"
   ]
  },
  {
   "cell_type": "code",
   "execution_count": null,
   "metadata": {},
   "outputs": [],
   "source": []
  },
  {
   "cell_type": "code",
   "execution_count": null,
   "metadata": {},
   "outputs": [],
   "source": [
    "Person.__dict__"
   ]
  },
  {
   "cell_type": "code",
   "execution_count": null,
   "metadata": {},
   "outputs": [],
   "source": [
    "\n",
    "\n",
    "# 인스턴스 = 클래스()\n",
    "james = Person()"
   ]
  },
  {
   "cell_type": "code",
   "execution_count": null,
   "metadata": {},
   "outputs": [],
   "source": [
    "james.__dict__"
   ]
  },
  {
   "cell_type": "code",
   "execution_count": null,
   "metadata": {},
   "outputs": [],
   "source": [
    "james.test = 'test'\n",
    "james.__dict__"
   ]
  },
  {
   "cell_type": "code",
   "execution_count": null,
   "metadata": {},
   "outputs": [],
   "source": [
    "a = Person()\n",
    "a.greeting()"
   ]
  },
  {
   "cell_type": "code",
   "execution_count": null,
   "metadata": {},
   "outputs": [],
   "source": [
    "print(id(james))\n",
    "print(id(a))"
   ]
  },
  {
   "cell_type": "code",
   "execution_count": null,
   "metadata": {},
   "outputs": [],
   "source": [
    "Person.__dict__"
   ]
  },
  {
   "cell_type": "code",
   "execution_count": null,
   "metadata": {},
   "outputs": [],
   "source": [
    "a.__dict__"
   ]
  },
  {
   "cell_type": "code",
   "execution_count": null,
   "metadata": {},
   "outputs": [],
   "source": [
    "james.__dict__"
   ]
  },
  {
   "cell_type": "code",
   "execution_count": null,
   "metadata": {},
   "outputs": [],
   "source": [
    "a.aaa = 10\n",
    "a.aaa"
   ]
  },
  {
   "cell_type": "code",
   "execution_count": null,
   "metadata": {},
   "outputs": [],
   "source": [
    "a.__dict__"
   ]
  },
  {
   "cell_type": "code",
   "execution_count": null,
   "metadata": {},
   "outputs": [],
   "source": [
    "james.aaa"
   ]
  },
  {
   "cell_type": "code",
   "execution_count": null,
   "metadata": {},
   "outputs": [],
   "source": [
    "a.__dict__"
   ]
  },
  {
   "cell_type": "code",
   "execution_count": null,
   "metadata": {},
   "outputs": [],
   "source": [
    "james.__dict__"
   ]
  },
  {
   "cell_type": "code",
   "execution_count": null,
   "metadata": {},
   "outputs": [],
   "source": [
    "def add(a,b):\n",
    "    return a+b\n",
    "a.func = add"
   ]
  },
  {
   "cell_type": "code",
   "execution_count": null,
   "metadata": {},
   "outputs": [],
   "source": [
    "type(a.func)"
   ]
  },
  {
   "cell_type": "code",
   "execution_count": null,
   "metadata": {},
   "outputs": [],
   "source": [
    "type(a.aaa)"
   ]
  },
  {
   "cell_type": "code",
   "execution_count": null,
   "metadata": {},
   "outputs": [],
   "source": [
    "a.func(10,20)"
   ]
  },
  {
   "cell_type": "code",
   "execution_count": null,
   "metadata": {},
   "outputs": [],
   "source": [
    "a.__dict__"
   ]
  },
  {
   "cell_type": "code",
   "execution_count": null,
   "metadata": {},
   "outputs": [],
   "source": [
    "james.__dict__\n"
   ]
  },
  {
   "cell_type": "code",
   "execution_count": null,
   "metadata": {},
   "outputs": [],
   "source": [
    "james.greeting()"
   ]
  },
  {
   "cell_type": "code",
   "execution_count": null,
   "metadata": {},
   "outputs": [],
   "source": [
    "def test(a):\n",
    "    print(\"a: \",a)\n",
    "james.func = test"
   ]
  },
  {
   "cell_type": "code",
   "execution_count": null,
   "metadata": {},
   "outputs": [],
   "source": [
    "james.__dict__"
   ]
  },
  {
   "cell_type": "code",
   "execution_count": null,
   "metadata": {},
   "outputs": [],
   "source": [
    "a = int(10)\n",
    "a = a + 10"
   ]
  },
  {
   "cell_type": "code",
   "execution_count": null,
   "metadata": {},
   "outputs": [],
   "source": [
    "int.__dict__"
   ]
  },
  {
   "cell_type": "code",
   "execution_count": null,
   "metadata": {},
   "outputs": [],
   "source": [
    "c = dict()\n",
    "c"
   ]
  },
  {
   "cell_type": "code",
   "execution_count": null,
   "metadata": {},
   "outputs": [],
   "source": [
    "d = {'x': 10, 'y': 20}\n",
    "d"
   ]
  },
  {
   "cell_type": "code",
   "execution_count": null,
   "metadata": {},
   "outputs": [],
   "source": [
    "li = [1,2,3,4]\n",
    "li"
   ]
  },
  {
   "cell_type": "code",
   "execution_count": null,
   "metadata": {},
   "outputs": [],
   "source": [
    "list.__dict__"
   ]
  },
  {
   "cell_type": "code",
   "execution_count": null,
   "metadata": {},
   "outputs": [],
   "source": [
    "b =list(range(10))\n",
    "b"
   ]
  },
  {
   "cell_type": "code",
   "execution_count": null,
   "metadata": {},
   "outputs": [],
   "source": [
    "b.append(20)\n",
    "b"
   ]
  },
  {
   "cell_type": "code",
   "execution_count": null,
   "metadata": {},
   "outputs": [],
   "source": [
    "b.__dict__"
   ]
  },
  {
   "cell_type": "code",
   "execution_count": null,
   "metadata": {},
   "outputs": [],
   "source": [
    "b = {'x':10,'y':20}"
   ]
  },
  {
   "cell_type": "code",
   "execution_count": null,
   "metadata": {},
   "outputs": [],
   "source": [
    "class Person:\n",
    "    a = 10\n",
    "    pass\n",
    "\n",
    "Person.__dict__"
   ]
  },
  {
   "cell_type": "code",
   "execution_count": null,
   "metadata": {},
   "outputs": [],
   "source": [
    "t = Person()\n",
    "t"
   ]
  },
  {
   "cell_type": "code",
   "execution_count": null,
   "metadata": {},
   "outputs": [],
   "source": [
    "t.__dict__"
   ]
  },
  {
   "cell_type": "code",
   "execution_count": null,
   "metadata": {},
   "outputs": [],
   "source": [
    "t.k = 20\n",
    "t.__dict__"
   ]
  },
  {
   "cell_type": "code",
   "execution_count": null,
   "metadata": {},
   "outputs": [],
   "source": [
    "a =10"
   ]
  },
  {
   "cell_type": "code",
   "execution_count": null,
   "metadata": {},
   "outputs": [],
   "source": [
    "type(a)"
   ]
  },
  {
   "cell_type": "code",
   "execution_count": null,
   "metadata": {},
   "outputs": [],
   "source": [
    "type(t)"
   ]
  },
  {
   "cell_type": "code",
   "execution_count": null,
   "metadata": {},
   "outputs": [],
   "source": [
    "globals()"
   ]
  },
  {
   "cell_type": "code",
   "execution_count": null,
   "metadata": {},
   "outputs": [],
   "source": [
    "a = tuple(range(10))"
   ]
  },
  {
   "cell_type": "code",
   "execution_count": null,
   "metadata": {},
   "outputs": [],
   "source": [
    "class Person:\n",
    "    def greeting(self):\n",
    "        print('Hello')\n",
    "    def hello(self):\n",
    "        self.greeting()\n",
    "        \n",
    "def test():\n",
    "    print(\"global test\")\n",
    "james = Person()\n",
    "james.hello()\n",
    "print(type(Person.__dict__)) \n",
    "james.__dict__['hello'] = test\n",
    "print(type(james.__dict__))"
   ]
  },
  {
   "cell_type": "code",
   "execution_count": null,
   "metadata": {},
   "outputs": [],
   "source": [
    "Person.__dict__['func'] = test"
   ]
  },
  {
   "cell_type": "code",
   "execution_count": null,
   "metadata": {},
   "outputs": [],
   "source": [
    "Person.__dict__['greeting']"
   ]
  },
  {
   "cell_type": "code",
   "execution_count": null,
   "metadata": {},
   "outputs": [],
   "source": [
    "d = {'x':10,'y':20}\n",
    "d['x']"
   ]
  },
  {
   "cell_type": "code",
   "execution_count": null,
   "metadata": {},
   "outputs": [],
   "source": [
    "def add(a,b):\n",
    "    return a + b\n",
    "add"
   ]
  },
  {
   "cell_type": "code",
   "execution_count": null,
   "metadata": {},
   "outputs": [],
   "source": [
    "add(10,20)"
   ]
  },
  {
   "cell_type": "code",
   "execution_count": null,
   "metadata": {},
   "outputs": [],
   "source": [
    "def greeting():\n",
    "    print('global greeting')\n",
    "\n",
    "class Person:\n",
    "    def greeting(self):\n",
    "        print(self)\n",
    "        print(\"Person_greeting\")\n",
    "        \n",
    "    def hello(self):\n",
    "        self.greeting();\n",
    "        \n",
    "james = Person()\n",
    "james.greeting()\n",
    "james.__dict__['greeting'] = greeting\n",
    "james.greeting()\n"
   ]
  },
  {
   "cell_type": "code",
   "execution_count": null,
   "metadata": {},
   "outputs": [],
   "source": [
    "print(Person.greeting)"
   ]
  },
  {
   "cell_type": "code",
   "execution_count": null,
   "metadata": {},
   "outputs": [],
   "source": [
    "#isinstance(인스턴스, 클래스)\n",
    "class Person:\n",
    "    pass\n",
    "james = Person()\n",
    "isinstance(james, Person)\n",
    "a = 10   # int(10)\n",
    "print(isinstance(a,Person))\n",
    "isinstance(a,int)"
   ]
  },
  {
   "cell_type": "code",
   "execution_count": null,
   "metadata": {},
   "outputs": [],
   "source": [
    "class Person:\n",
    "    def __init__(self):\n",
    "        hello = '안녕하세요'\n",
    "    def greeting(self):\n",
    "        print(self.hello)\n",
    "        \n",
    "james = Person()\n",
    "james.greeting()"
   ]
  },
  {
   "cell_type": "code",
   "execution_count": null,
   "metadata": {},
   "outputs": [],
   "source": [
    "james.__dict__['hello'] = '안녕하세요'"
   ]
  },
  {
   "cell_type": "code",
   "execution_count": null,
   "metadata": {},
   "outputs": [],
   "source": [
    "james.greeting()\n"
   ]
  },
  {
   "cell_type": "code",
   "execution_count": null,
   "metadata": {},
   "outputs": [],
   "source": [
    "hello"
   ]
  },
  {
   "cell_type": "code",
   "execution_count": null,
   "metadata": {},
   "outputs": [],
   "source": [
    "class Person:\n",
    "    def __init__(self):\n",
    "        self.hello = '안녕하세요'\n",
    "        print('__init__')\n",
    "    def greeting(self):\n",
    "        print(self.hello)\n",
    "        \n",
    "a = Person()\n",
    "a.greeting()\n",
    "b = Person()\n",
    "b.greeting()\n",
    "b.hello = '밥먹어써'\n",
    "b.greeting()\n",
    "a.greeting()"
   ]
  },
  {
   "cell_type": "code",
   "execution_count": null,
   "metadata": {},
   "outputs": [],
   "source": [
    "class Person:\n",
    "    def __init__(self):\n",
    "        print(self)\n",
    "    \n",
    "james = Person()\n",
    "print(id(james))"
   ]
  },
  {
   "cell_type": "code",
   "execution_count": null,
   "metadata": {},
   "outputs": [],
   "source": [
    "class Person:\n",
    "    def __init__(self,name,age,address):\n",
    "        self.hello = '안녕하세요'\n",
    "        self.name = name\n",
    "        self.age = age\n",
    "        self.address = address\n",
    "    def info(self):\n",
    "        print(\"info called\")\n",
    "        print('{0}, {1}, {2}'.format(self.name, self.age, self.address))\n",
    "        return 10\n",
    "        \n",
    "maria = Person('마리아', 20, '서울시 서초구 반포동')\n",
    "maria.info()\n",
    "a = Person('영희',22,'서울시 강남구')\n",
    "a.info()"
   ]
  },
  {
   "cell_type": "code",
   "execution_count": null,
   "metadata": {},
   "outputs": [],
   "source": [
    "print(id(maria.info()))\n",
    "print(id(a.info()))"
   ]
  },
  {
   "cell_type": "code",
   "execution_count": null,
   "metadata": {},
   "outputs": [],
   "source": [
    "def add(a,b):\n",
    "    return a+b;\n",
    "\n",
    "a = add\n",
    "b = add\n",
    "print(id(a(10,20)))\n",
    "print(id(b(10,20)))"
   ]
  },
  {
   "cell_type": "code",
   "execution_count": null,
   "metadata": {},
   "outputs": [],
   "source": [
    "add"
   ]
  },
  {
   "cell_type": "code",
   "execution_count": null,
   "metadata": {},
   "outputs": [],
   "source": [
    "class Person:\n",
    "    def __init__(self, *args):\n",
    "        self.name =args[0]\n",
    "        self.age = args[1]\n",
    "        self.address = args[2]\n",
    "        \n",
    "maria = Person(*['마리아', 20,'서울시'])\n",
    "maria.name, maria.age , maria.address"
   ]
  },
  {
   "cell_type": "code",
   "execution_count": null,
   "metadata": {},
   "outputs": [],
   "source": [
    "def func(*args):\n",
    "    for i in args:\n",
    "        print(i,sep=',',end='\\t')\n",
    "        \n",
    "        \n",
    "func(*[1,2,3,4])"
   ]
  },
  {
   "cell_type": "code",
   "execution_count": null,
   "metadata": {},
   "outputs": [],
   "source": [
    "class Person:\n",
    "    def __init__(self, **kwargs):\n",
    "        self.name = kwargs['name']\n",
    "        self.age = kwargs['age']\n",
    "        self.address = kwargs['address']\n",
    "        \n",
    "maria1 = Person(name='마리아',age=20, address='서울시')\n",
    "maria2 = Person(**{'name':'마리아','age':20,'address':'서울시'})\n"
   ]
  },
  {
   "cell_type": "code",
   "execution_count": null,
   "metadata": {},
   "outputs": [],
   "source": [
    "class Person:\n",
    "    pass\n",
    "\n",
    "maria = Person()\n",
    "maria.__dict__\n",
    "maria.name = '마리아'\n",
    "maria.__dict__"
   ]
  },
  {
   "cell_type": "code",
   "execution_count": null,
   "metadata": {},
   "outputs": [],
   "source": [
    "james = Person()\n",
    "james.name"
   ]
  },
  {
   "cell_type": "code",
   "execution_count": null,
   "metadata": {},
   "outputs": [],
   "source": [
    "class Person:\n",
    "    def greeting(self):\n",
    "        self.hello = '안녕하세요'\n",
    "        \n",
    "maria = Person()\n",
    "maria.hello\n",
    "#maria.greeting()\n",
    "maria.hello"
   ]
  },
  {
   "cell_type": "code",
   "execution_count": null,
   "metadata": {},
   "outputs": [],
   "source": [
    "d = {'x':10,'y':20}\n",
    "d"
   ]
  },
  {
   "cell_type": "code",
   "execution_count": null,
   "metadata": {},
   "outputs": [],
   "source": [
    "d['z'] = 30\n"
   ]
  },
  {
   "cell_type": "code",
   "execution_count": null,
   "metadata": {},
   "outputs": [],
   "source": [
    "d"
   ]
  },
  {
   "cell_type": "code",
   "execution_count": null,
   "metadata": {},
   "outputs": [],
   "source": [
    "class Person:\n",
    "    __slots__=['name','age']\n",
    "    pass\n",
    "    \n",
    "maria = Person()\n",
    "a = Person()"
   ]
  },
  {
   "cell_type": "code",
   "execution_count": null,
   "metadata": {},
   "outputs": [],
   "source": [
    "maria.name = '홍길동'\n",
    "maria.age = 30\n",
    "maria.name, maria.age\n",
    "\n"
   ]
  },
  {
   "cell_type": "code",
   "execution_count": null,
   "metadata": {},
   "outputs": [],
   "source": [
    "a.name = '김길동'\n",
    "a.name, maria.name"
   ]
  },
  {
   "cell_type": "code",
   "execution_count": null,
   "metadata": {},
   "outputs": [],
   "source": [
    "Person.__dict__"
   ]
  },
  {
   "cell_type": "code",
   "execution_count": null,
   "metadata": {},
   "outputs": [],
   "source": [
    "class Person:\n",
    "    def __init__(self,name,age,address,wallet):\n",
    "        self.hello ='안녕하세요'\n",
    "        self.name = name\n",
    "        self.age = age\n",
    "        self.address = address\n",
    "        self.__wallet = wallet\n",
    "        \n",
    "    def pay(self,amount):\n",
    "        self.__wallet -=amount\n",
    "        print('이제 {0}원 남았네요'.format(self.__wallet))\n",
    "\n",
    "maria = Person('마리아', 20, '서울시',10000)\n"
   ]
  },
  {
   "cell_type": "code",
   "execution_count": null,
   "metadata": {},
   "outputs": [],
   "source": [
    "maria.pay(3000)"
   ]
  },
  {
   "cell_type": "code",
   "execution_count": null,
   "metadata": {},
   "outputs": [],
   "source": [
    "maria._Person__wallet"
   ]
  },
  {
   "cell_type": "code",
   "execution_count": null,
   "metadata": {},
   "outputs": [],
   "source": [
    "class Person:\n",
    "    bag = []\n",
    "    \n",
    "    def put_bag(self, stuff):\n",
    "        Person.bag.append(stuff)\n",
    "\n",
    "james = Person()\n",
    "james.put_bag('책')\n",
    "\n",
    "maria = Person()\n",
    "maria.put_bag('열쇠')\n",
    "\n",
    "john = Person()\n",
    "john.put_bag('치약')\n",
    "\n",
    "print(james.bag)\n",
    "print(maria.bag)\n",
    "james.__dict__['bag'] = 'james bag' \n",
    "print('\\n')\n",
    "print(james.bag)\n",
    "print(maria.bag)\n"
   ]
  },
  {
   "cell_type": "code",
   "execution_count": null,
   "metadata": {},
   "outputs": [],
   "source": [
    "james.__dict__"
   ]
  },
  {
   "cell_type": "code",
   "execution_count": null,
   "metadata": {},
   "outputs": [],
   "source": [
    "Person.__dict__"
   ]
  },
  {
   "cell_type": "code",
   "execution_count": null,
   "metadata": {},
   "outputs": [],
   "source": [
    "# 클래스 속성 : 모든 인스턴스(객체)가 공유. 인스턴스(객체) 전체가 사용해야 하는 값을 저장할때 사용\n",
    "# 인스턴스 속성: 인스턴스별로 독립되어 있음. 각 인스턴스가 값을 따로 저장해야 할 때 사용 "
   ]
  },
  {
   "cell_type": "code",
   "execution_count": null,
   "metadata": {},
   "outputs": [],
   "source": [
    "# class 클래스 이름:\n",
    "#    __속성 = 값\n",
    "class Knight:\n",
    "    __item_limit = 10\n",
    "    name = '기사'\n",
    "    \n",
    "    def print_item_limit(self):\n",
    "        print(Knight.__item_limit)\n",
    "        \n",
    "x = Knight()\n",
    "x.print_item_limit()"
   ]
  },
  {
   "cell_type": "code",
   "execution_count": null,
   "metadata": {},
   "outputs": [],
   "source": [
    "print(Knight.name)\n",
    "print(Knight.__item_limit)"
   ]
  },
  {
   "cell_type": "code",
   "execution_count": null,
   "metadata": {},
   "outputs": [],
   "source": [
    "class Calc:\n",
    "    @staticmethod\n",
    "    def add(a, b):\n",
    "        print(\"Calc add\")\n",
    "        print(a + b)\n",
    "        \n",
    "    @staticmethod\n",
    "    def mul(a,b):\n",
    "        print(\"Calc mul\")\n",
    "        print(a * b)\n",
    "        \n",
    "\n",
    "a=10\n",
    "b=20\n",
    "Calc.add(a,b)\n",
    "Calc.mul(a,b)"
   ]
  },
  {
   "cell_type": "code",
   "execution_count": null,
   "metadata": {},
   "outputs": [],
   "source": [
    "a = {1,2,3,4}\n",
    "a.update({5})\n",
    "a"
   ]
  },
  {
   "cell_type": "code",
   "execution_count": null,
   "metadata": {},
   "outputs": [],
   "source": [
    "a = set([1,2,3,4])\n",
    "a"
   ]
  },
  {
   "cell_type": "code",
   "execution_count": null,
   "metadata": {},
   "outputs": [],
   "source": [
    "set.union({1,2,3,4},{5})"
   ]
  },
  {
   "cell_type": "code",
   "execution_count": null,
   "metadata": {},
   "outputs": [],
   "source": [
    "class Person:\n",
    "    count = 0\n",
    "    \n",
    "    def __init__(self):\n",
    "        Person.count += 1\n",
    "        \n",
    "    @classmethod\n",
    "    def print_count(cls):\n",
    "        print('{0}명 생성'.format(cls.count))\n",
    "\n",
    "james=Person()\n",
    "maria=Person()\n",
    "    \n",
    "Person.print_count()"
   ]
  },
  {
   "cell_type": "code",
   "execution_count": null,
   "metadata": {},
   "outputs": [],
   "source": [
    "a = Person()\n",
    "Person.print_count()"
   ]
  },
  {
   "cell_type": "code",
   "execution_count": null,
   "metadata": {},
   "outputs": [],
   "source": [
    "class Person:\n",
    "    def greeting(self):\n",
    "        print('안녕하세요')\n",
    "\n",
    "class Student(Person):\n",
    "    def study(self):\n",
    "        print('공부하기')\n",
    "    \n",
    "\n",
    "class Teacher(Person):\n",
    "    def teach(self):\n",
    "        print(\"가르친다\")\n",
    "            \n",
    "class chodonghaksang(Person):\n",
    "    def play(self):\n",
    "        print('놀기')\n",
    "        \n",
    "james = Student()\n",
    "james.study()\n",
    "james.greeting()\n",
    "\n",
    "John = Teacher()\n",
    "John.teach()\n",
    "John.greeting()\n",
    "\n",
    "a = chodonghaksang()\n",
    "a.play()\n",
    "a.greeting()"
   ]
  },
  {
   "cell_type": "code",
   "execution_count": null,
   "metadata": {},
   "outputs": [],
   "source": [
    "class Person:\n",
    "    def __init__(self,name):\n",
    "        self.name = name\n",
    "    def greeting(self):\n",
    "        print('안녕하세요.')\n",
    "    def print_name(self):\n",
    "        print('name: {}'.format(self.name))\n",
    "        \n",
    "class PersonList:\n",
    "    def __init__(self):\n",
    "        self.person_list = []\n",
    "        \n",
    "    def append_person(self,person):\n",
    "        self.person_list.append(person)\n",
    "    def print_list(self):\n",
    "        for i in self.person_list:\n",
    "            #print(i.name)\n",
    "            i.print_name()\n",
    "        \n",
    "    \n",
    "        \n",
    "        \n",
    "a = Person('철수')\n",
    "b = Person('영희')\n",
    "c = Person('민수')\n",
    "\n",
    "L = PersonList()\n",
    "L.append_person(a)\n",
    "L.append_person(b)\n",
    "L.append_person(c)\n",
    "L.print_list()"
   ]
  },
  {
   "cell_type": "code",
   "execution_count": null,
   "metadata": {},
   "outputs": [],
   "source": [
    "a.print_name()\n",
    "b.print_name()\n",
    "c.print_name()"
   ]
  },
  {
   "cell_type": "code",
   "execution_count": null,
   "metadata": {},
   "outputs": [],
   "source": [
    "t = []\n",
    "t.append(\"철수\")\n",
    "t.append(\"영희\")\n",
    "t.append(\"민수\")"
   ]
  },
  {
   "cell_type": "code",
   "execution_count": null,
   "metadata": {},
   "outputs": [],
   "source": [
    "for i in t:\n",
    "    print(i)"
   ]
  },
  {
   "cell_type": "code",
   "execution_count": null,
   "metadata": {},
   "outputs": [],
   "source": [
    "for i in [1,2,3]:\n",
    "    print(i)"
   ]
  },
  {
   "cell_type": "code",
   "execution_count": null,
   "metadata": {},
   "outputs": [],
   "source": [
    "class Person:\n",
    "    def __init__(self):\n",
    "        print('Person __init__')\n",
    "        self.hello = '안녕하세요'\n",
    "        \n",
    "    def test(self):\n",
    "        self.s = 'Person test'\n",
    "        \n",
    "class Student(Person):\n",
    "    '''\n",
    "    def __init__(self):\n",
    "        print(\"Student __init__\")\n",
    "        super().__init__()\n",
    "        self.school = '파이썬 코딩 도장'\n",
    "    '''\n",
    "    def study():\n",
    "        print(\"공부합니다.\")\n",
    "        \n",
    "s1 = Student()\n",
    "s1.hello\n"
   ]
  },
  {
   "cell_type": "code",
   "execution_count": null,
   "metadata": {},
   "outputs": [],
   "source": [
    "class Person:\n",
    "    def greeting(self):\n",
    "        print('안녕하세요')\n",
    "    @classmethod\n",
    "    def func(cls):\n",
    "        print('class method func')\n",
    "        \n",
    "class Student(Person):\n",
    "   \n",
    "    def greeting(self):\n",
    "        super().greeting()\n",
    "        print('저는 코딩 도장 학생입니다.')\n",
    "    "
   ]
  },
  {
   "cell_type": "code",
   "execution_count": null,
   "metadata": {},
   "outputs": [],
   "source": [
    "s = Student()\n",
    "s.greeting()"
   ]
  },
  {
   "cell_type": "code",
   "execution_count": null,
   "metadata": {},
   "outputs": [],
   "source": [
    "p = Person()\n",
    "p.greeting()"
   ]
  },
  {
   "cell_type": "code",
   "execution_count": null,
   "metadata": {},
   "outputs": [],
   "source": [
    "class Person:\n",
    "    def greeting(self):\n",
    "        print('안녕하세요')\n",
    "        \n",
    "class University:\n",
    "    def manage_credit(self):\n",
    "        print('학점 관리')\n",
    "        \n",
    "class Undergraduate(Person,University):\n",
    "    def study(self):\n",
    "        print('공부하기')\n",
    "        \n",
    "james = Undergraduate()\n",
    "james.greeting()\n",
    "james.manage_credit()\n",
    "james.study()"
   ]
  },
  {
   "cell_type": "code",
   "execution_count": null,
   "metadata": {},
   "outputs": [],
   "source": [
    "class A:\n",
    "    def greeting(self):\n",
    "        print(\"안녕하세요 A입니다.\")\n",
    "class B(A):\n",
    "    def greeting(self):\n",
    "        print(\"안녕하세요. B입니다.\")\n",
    "class C(A):\n",
    "    def greeting(self):\n",
    "        print(\"안녕하세요 C입니다.\")\n",
    "        \n",
    "class D(B,C):\n",
    "    pass\n",
    "\n",
    "class E(B,C):\n",
    "    pass\n",
    "\n",
    "class F(D,E):\n",
    "    pass\n",
    "x = F()\n",
    "x.greeting()\n"
   ]
  },
  {
   "cell_type": "code",
   "execution_count": null,
   "metadata": {},
   "outputs": [],
   "source": [
    "F.mro()"
   ]
  },
  {
   "cell_type": "code",
   "execution_count": null,
   "metadata": {},
   "outputs": [],
   "source": [
    "a = int(10)"
   ]
  },
  {
   "cell_type": "code",
   "execution_count": null,
   "metadata": {},
   "outputs": [],
   "source": [
    "int.mro()"
   ]
  },
  {
   "cell_type": "code",
   "execution_count": null,
   "metadata": {},
   "outputs": [],
   "source": [
    "class X:\n",
    "    pass\n",
    "\n",
    "X.mro()"
   ]
  },
  {
   "cell_type": "code",
   "execution_count": null,
   "metadata": {},
   "outputs": [],
   "source": [
    "object.__dict__"
   ]
  },
  {
   "cell_type": "code",
   "execution_count": null,
   "metadata": {},
   "outputs": [],
   "source": [
    "from abc import *\n",
    "\n",
    "class StudentBase(metaclass=ABCMeta):\n",
    "    @abstractmethod\n",
    "    def study(self):\n",
    "        pass\n",
    "    \n",
    "    @abstractmethod\n",
    "    def go_to_school(self):\n",
    "        pass\n",
    "    \n",
    "    \n",
    "class middle_Student(StudentBase):\n",
    "    def study(self):\n",
    "        print('수학하기')\n",
    "        \n",
    "    def go_to_school(self):\n",
    "        print('버스로')\n",
    "        \n",
    "class element_Student(StudentBase):\n",
    "    def study(self):\n",
    "        print('산수하기')\n",
    "        \n",
    "    def go_to_school(self):\n",
    "        print('걸어가기')\n",
    "        \n",
    "james = middle_Student()\n",
    "james.study()\n",
    "james.go_to_school()\n",
    "s1 = element_Student()\n",
    "s1.study()\n",
    "s1.go_to_school()"
   ]
  },
  {
   "cell_type": "code",
   "execution_count": null,
   "metadata": {},
   "outputs": [],
   "source": [
    "class Point2D:\n",
    "    def __init__(self,x,y):\n",
    "        self.x = x\n",
    "        self.y = y\n",
    "    def print_val(self):\n",
    "        print('x: {} y :{}'.format(self.x,self.y))\n",
    "                \n",
    "p1 = Point2D(y=20,x=30)\n",
    "p2 = Point2D(x=60,y=50)\n",
    "\n",
    "def print_val(point):\n",
    "    print(\"global print_val\")\n",
    "    print('x: {} y :{}'.format(point.x,point.y))\n",
    "\n",
    "class Print_point:\n",
    "        @classmethod\n",
    "        def print_val(cls,point):\n",
    "            print(\"classmethod print_val\")\n",
    "            print('x: {} y :{}'.format(point.x,point.y))\n",
    "        \n",
    "        @staticmethod\n",
    "        def Sprint_val(point):\n",
    "            print(\"staticmethod print_val\")\n",
    "            print('x: {} y :{}'.format(point.x,point.y))\n",
    "            \n",
    "\n",
    "\n",
    "print('p1: {} {}'.format(p1.x,p1.y))\n",
    "print('p2: {} {}'.format(p2.x,p2.y))\n",
    "p1.print_val()\n",
    "p2.print_val()\n",
    "print_val(p1)\n",
    "\n",
    "Print_point.print_val(p1)\n",
    "Print_point.Sprint_val(p1)\n"
   ]
  },
  {
   "cell_type": "code",
   "execution_count": null,
   "metadata": {},
   "outputs": [],
   "source": [
    "import math\n",
    "\n",
    "class Point2D:\n",
    "    def __init__(self,x,y):\n",
    "        self.x = x\n",
    "        self.y = y\n",
    "        \n",
    "        \n",
    "        \n",
    "p1 = Point2D(x=30,y=20)\n",
    "p2 = Point2D(x=60,y=50)\n",
    "\n",
    "a = p2.x - p1.x\n",
    "b = p2.y - p1.y\n",
    "\n",
    "c = math.sqrt( (a * a)  + ( b * b))\n",
    "print(c)"
   ]
  },
  {
   "cell_type": "code",
   "execution_count": null,
   "metadata": {},
   "outputs": [],
   "source": [
    "c = math.sqrt( math.pow(a,2)  + math.pow(b,2) )\n",
    "print(c)"
   ]
  },
  {
   "cell_type": "code",
   "execution_count": null,
   "metadata": {},
   "outputs": [],
   "source": [
    "c = math.sqrt( a**2  + b**2 )\n",
    "print(c)"
   ]
  },
  {
   "cell_type": "code",
   "execution_count": null,
   "metadata": {},
   "outputs": [],
   "source": [
    "import math\n",
    "\n",
    "class Point2D:\n",
    "    def __init__(self,x,y):\n",
    "        self.x = x\n",
    "        self.y = y\n",
    "    def distance(self,point):\n",
    "        a = self.x - point.x\n",
    "        b = self.y - point.y\n",
    "        c = math.sqrt( a**2  + b**2 )\n",
    "        return c\n",
    "  \n",
    "\n",
    "\n",
    "\n",
    "def distance(self,point):\n",
    "    a = self.x - point.x\n",
    "    b = self.y - point.y\n",
    "    c = math.sqrt( a**2  + b**2 )\n",
    "    print(\"global distance\")\n",
    "    return c\n",
    "\n",
    "p1 = Point2D(x=30,y=20)\n",
    "p2 = Point2D(x=60,y=50)\n",
    "\n",
    "d1 = p1.distance(p2)\n",
    "print(d1)\n",
    "\n",
    "d2 = distance(p1,p2)\n",
    "print(d2)"
   ]
  },
  {
   "cell_type": "code",
   "execution_count": null,
   "metadata": {},
   "outputs": [],
   "source": [
    "def ten_div(x):\n",
    "    return 10 /x"
   ]
  },
  {
   "cell_type": "code",
   "execution_count": null,
   "metadata": {},
   "outputs": [],
   "source": [
    "ten_div(5)"
   ]
  },
  {
   "cell_type": "code",
   "execution_count": null,
   "metadata": {},
   "outputs": [],
   "source": [
    "ten_div(0)\n",
    "print('test')"
   ]
  },
  {
   "cell_type": "code",
   "execution_count": null,
   "metadata": {},
   "outputs": [],
   "source": [
    "try:\n",
    "    n = int(input())\n",
    "    ten_div(n)\n",
    "except:\n",
    "    print('예외 발생')\n",
    "\n",
    "print('종료')"
   ]
  },
  {
   "cell_type": "code",
   "execution_count": null,
   "metadata": {},
   "outputs": [],
   "source": [
    "n = input()\n",
    "print(type(n))"
   ]
  },
  {
   "cell_type": "code",
   "execution_count": null,
   "metadata": {},
   "outputs": [],
   "source": [
    "y = [10,20,30]\n",
    "\n",
    "try:\n",
    "    index, x = map(int,input('인덱스와 나눌 숫자를 입력하세요: ').split())\n",
    "    print(y[index]/x)\n",
    "    \n",
    "except ZeroDivisionError as e:\n",
    "    print('숫자를 0으로 나눌 수 없습니다.',e)\n",
    "except IndexError as e:\n",
    "    print('잘못된 인덱스 입니다.',e)"
   ]
  },
  {
   "cell_type": "code",
   "execution_count": null,
   "metadata": {},
   "outputs": [],
   "source": [
    "a = [1,2,3]\n",
    "a[5]"
   ]
  },
  {
   "cell_type": "code",
   "execution_count": null,
   "metadata": {},
   "outputs": [],
   "source": [
    "try:\n",
    "    x = int(input('나눌 숫자를 입력하세요: '))\n",
    "    y = 10 / x\n",
    "except ZeroDivisionError:\n",
    "    print('숫자를 0으로 나눌 수 없습니다.')\n",
    "else:\n",
    "    print(y)\n",
    "    \n",
    "print('종료')"
   ]
  },
  {
   "cell_type": "code",
   "execution_count": null,
   "metadata": {},
   "outputs": [],
   "source": [
    "try:\n",
    "    x = int(input('나눌 숫자를 입력하세요: '))\n",
    "    y = 10 / x\n",
    "except ZeroDivisionError:\n",
    "    print('숫자를 0으로 나눌 수 없습니다.')\n",
    "else:\n",
    "    print(y)\n",
    "    \n",
    "finally:\n",
    "    print('코드 실행이 끝났습니다.')"
   ]
  },
  {
   "cell_type": "code",
   "execution_count": null,
   "metadata": {},
   "outputs": [],
   "source": [
    "try:\n",
    "    x = int(input('3의 배수를 입력하세요 '))\n",
    "    if x % 3 != 0:\n",
    "        raise Exception('3의 배수가 아닙니다.')\n",
    "    print(x)\n",
    "except Exception as e:\n",
    "    print('예외가 발생했습니다.',e)"
   ]
  },
  {
   "cell_type": "code",
   "execution_count": null,
   "metadata": {},
   "outputs": [],
   "source": [
    "def three_multiple():\n",
    "    x = int(input('3의 배수를 입력하세요'))\n",
    "    if x % 3 != 0:\n",
    "        raise Exception('3의 배수가 아닙니다.')\n",
    "    print(x)"
   ]
  },
  {
   "cell_type": "code",
   "execution_count": null,
   "metadata": {},
   "outputs": [],
   "source": [
    "try:\n",
    "    three_multiple()\n",
    "except Exception as e:\n",
    "    print('예외가 발생했습니다.',e)"
   ]
  },
  {
   "cell_type": "code",
   "execution_count": null,
   "metadata": {},
   "outputs": [],
   "source": [
    "x = int(input('3의 배수를 입력하세요:'))\n",
    "assert x % 3 == 0, '3의 배수가 아닙니다.'\n",
    "print(x)"
   ]
  },
  {
   "cell_type": "code",
   "execution_count": null,
   "metadata": {},
   "outputs": [],
   "source": [
    "class NotThreeMultipleError(Exception):\n",
    "    def __init__(self):\n",
    "        super().__init__('3의 배수가 아닙니다.')\n",
    "        \n",
    "def three_multiple():\n",
    "    try:\n",
    "        x = int(input('3의 배수를 입력하세요'))\n",
    "        if x % 3 != 0:\n",
    "            raise NotThreeMultipleError\n",
    "        print(x)\n",
    "    except Exception as e:\n",
    "        print('예외가 발생했습니다.',e)\n",
    "        \n",
    "three_multiple()"
   ]
  },
  {
   "cell_type": "code",
   "execution_count": null,
   "metadata": {},
   "outputs": [],
   "source": [
    "a = [1,2,3]\n",
    "print(dir(a))"
   ]
  },
  {
   "cell_type": "code",
   "execution_count": null,
   "metadata": {},
   "outputs": [],
   "source": [
    "for i in [1,2,3]:\n",
    "    print(i)"
   ]
  },
  {
   "cell_type": "code",
   "execution_count": null,
   "metadata": {},
   "outputs": [],
   "source": [
    "print(dir([1,2,3]))"
   ]
  },
  {
   "cell_type": "code",
   "execution_count": null,
   "metadata": {},
   "outputs": [],
   "source": [
    "[1,2,3].__next__()"
   ]
  },
  {
   "cell_type": "code",
   "execution_count": null,
   "metadata": {},
   "outputs": [],
   "source": [
    "it = [1,2,3].__iter__()\n",
    "it"
   ]
  },
  {
   "cell_type": "code",
   "execution_count": null,
   "metadata": {},
   "outputs": [],
   "source": [
    "print(dir(it))"
   ]
  },
  {
   "cell_type": "code",
   "execution_count": null,
   "metadata": {},
   "outputs": [],
   "source": [
    "it.__next__()"
   ]
  },
  {
   "cell_type": "code",
   "execution_count": null,
   "metadata": {},
   "outputs": [],
   "source": [
    "it = [1,2,3].__iter__()\n",
    "it"
   ]
  },
  {
   "cell_type": "code",
   "execution_count": null,
   "metadata": {},
   "outputs": [],
   "source": [
    "it.__next__()"
   ]
  },
  {
   "cell_type": "code",
   "execution_count": null,
   "metadata": {},
   "outputs": [],
   "source": [
    "for i in range(5):\n",
    "    print(i)"
   ]
  },
  {
   "cell_type": "code",
   "execution_count": null,
   "metadata": {},
   "outputs": [],
   "source": [
    "it = range(5)\n",
    "it"
   ]
  },
  {
   "cell_type": "code",
   "execution_count": null,
   "metadata": {},
   "outputs": [],
   "source": [
    "a = it.__iter__()\n",
    "a"
   ]
  },
  {
   "cell_type": "code",
   "execution_count": null,
   "metadata": {},
   "outputs": [],
   "source": [
    "print(dir(range(5)))"
   ]
  },
  {
   "cell_type": "code",
   "execution_count": null,
   "metadata": {},
   "outputs": [],
   "source": [
    "a = range(5).__iter__()\n",
    "a"
   ]
  },
  {
   "cell_type": "code",
   "execution_count": null,
   "metadata": {},
   "outputs": [],
   "source": [
    "print(dir(a))"
   ]
  },
  {
   "cell_type": "code",
   "execution_count": null,
   "metadata": {},
   "outputs": [],
   "source": [
    "class Counter:\n",
    "    def __init__(self, stop):\n",
    "        self.current = 0\n",
    "        self.stop = stop\n",
    "        \n",
    "    def __iter__(self):\n",
    "        return self\n",
    "    \n",
    "    def __next__(self):\n",
    "        if self.current < self.stop:\n",
    "            r = self.current\n",
    "            self.current += 1\n",
    "            return r\n",
    "        else:\n",
    "            raise StopIteration\n",
    "            \n",
    "a = Counter(3)            \n",
    "for i in a:\n",
    "    print(i, end=' ')"
   ]
  },
  {
   "cell_type": "code",
   "execution_count": null,
   "metadata": {},
   "outputs": [],
   "source": [
    "for i in range(3):\n",
    "    print(i, end= ' ')"
   ]
  },
  {
   "cell_type": "code",
   "execution_count": null,
   "metadata": {},
   "outputs": [],
   "source": [
    "a = [0,1,2]\n",
    "for i in a:\n",
    "    print(i ,end = ' ')"
   ]
  },
  {
   "cell_type": "code",
   "execution_count": null,
   "metadata": {},
   "outputs": [],
   "source": [
    "print(dir([0,1,2]))"
   ]
  },
  {
   "cell_type": "code",
   "execution_count": null,
   "metadata": {},
   "outputs": [],
   "source": [
    "it = [0,1,2].__iter__()\n",
    "it"
   ]
  },
  {
   "cell_type": "code",
   "execution_count": null,
   "metadata": {},
   "outputs": [],
   "source": [
    "print(dir(it))"
   ]
  },
  {
   "cell_type": "code",
   "execution_count": null,
   "metadata": {},
   "outputs": [],
   "source": [
    "print(dir(range(3)))"
   ]
  },
  {
   "cell_type": "code",
   "execution_count": null,
   "metadata": {},
   "outputs": [],
   "source": [
    "it = range(3).__iter__()\n",
    "it"
   ]
  },
  {
   "cell_type": "code",
   "execution_count": null,
   "metadata": {},
   "outputs": [],
   "source": [
    "it.__next__()"
   ]
  },
  {
   "cell_type": "code",
   "execution_count": null,
   "metadata": {},
   "outputs": [],
   "source": []
  },
  {
   "cell_type": "code",
   "execution_count": null,
   "metadata": {},
   "outputs": [],
   "source": [
    "class iterator:  \n",
    "    def __init__(self,obj):\n",
    "        self.obj = obj\n",
    "\n",
    "    def __next__(self):\n",
    "        if self.obj.current < self.obj.stop:\n",
    "            r = self.obj.current\n",
    "            self.obj.current += 1\n",
    "            return r\n",
    "        else:\n",
    "            raise StopIteration\n",
    "\n",
    "\n",
    "class Counter:\n",
    "    def __init__(self, stop):\n",
    "        self.current = 0\n",
    "        self.stop = stop\n",
    "        \n",
    "    def __iter__(self):\n",
    "        return iterator(self)\n",
    "    \n",
    "a = Counter(3)\n",
    "for i in a:\n",
    "    print(i, end=' ')\n",
    "    "
   ]
  },
  {
   "cell_type": "code",
   "execution_count": null,
   "metadata": {},
   "outputs": [],
   "source": [
    "a,b,c = [1,2,3]\n",
    "a,b,c"
   ]
  },
  {
   "cell_type": "code",
   "execution_count": null,
   "metadata": {},
   "outputs": [],
   "source": [
    "a,b,c = Counter(3)\n",
    "a,b,c"
   ]
  },
  {
   "cell_type": "code",
   "execution_count": null,
   "metadata": {},
   "outputs": [],
   "source": [
    "for i in Counter(1,3):\n",
    "    print(i,end=' ')"
   ]
  },
  {
   "cell_type": "code",
   "execution_count": null,
   "metadata": {},
   "outputs": [],
   "source": [
    "a,b,c = map(int, input().split())\n",
    "a,b,c"
   ]
  },
  {
   "cell_type": "code",
   "execution_count": null,
   "metadata": {},
   "outputs": [],
   "source": [
    "map(int,input().split())"
   ]
  },
  {
   "cell_type": "code",
   "execution_count": null,
   "metadata": {},
   "outputs": [],
   "source": [
    "class mymap:\n",
    "    def __init__(self,t1,t2):\n",
    "        self.t1 = t1\n",
    "        self.t2 = t2\n",
    "        self.current = 0\n",
    "        self.stop = len(self.t2)\n",
    "        \n",
    "    def __iter__(self):\n",
    "        return self\n",
    "    \n",
    "    def __next__(self):\n",
    "        if self.current < self.stop:\n",
    "            r =  self.t1(self.t2[self.current])\n",
    "            self.current += 1\n",
    "            return r\n",
    "        else:\n",
    "            raise StopIteration"
   ]
  },
  {
   "cell_type": "code",
   "execution_count": null,
   "metadata": {},
   "outputs": [],
   "source": [
    "a,b  = mymap(float,input().split())\n",
    "a,b"
   ]
  },
  {
   "cell_type": "code",
   "execution_count": null,
   "metadata": {},
   "outputs": [],
   "source": [
    "input().split()"
   ]
  },
  {
   "cell_type": "code",
   "execution_count": null,
   "metadata": {},
   "outputs": [],
   "source": [
    "print(dir([]))"
   ]
  },
  {
   "cell_type": "code",
   "execution_count": null,
   "metadata": {},
   "outputs": [],
   "source": [
    "a = [1,2,3]\n",
    "a[0]  # a.__getitem__(0)"
   ]
  },
  {
   "cell_type": "code",
   "execution_count": null,
   "metadata": {},
   "outputs": [],
   "source": [
    "class Counter:\n",
    "    def __init__(self, stop):\n",
    "        self.stop = stop\n",
    "        \n",
    "    def __getitem__(self, index):\n",
    "        print('\\n__getitem__')\n",
    "        if index < self.stop:\n",
    "            return index\n",
    "        else:\n",
    "            raise IndexError\n",
    "            \n",
    "a = Counter(3)\n"
   ]
  },
  {
   "cell_type": "code",
   "execution_count": null,
   "metadata": {},
   "outputs": [],
   "source": [
    "a = Counter(3)\n",
    "for i in a:     #  a[0] a[1] a[2] a[3] a[4]\n",
    "    print(i, end=' ')"
   ]
  },
  {
   "cell_type": "code",
   "execution_count": null,
   "metadata": {},
   "outputs": [],
   "source": [
    "print(dir(range))"
   ]
  },
  {
   "cell_type": "code",
   "execution_count": null,
   "metadata": {},
   "outputs": [],
   "source": [
    "it = iter(range(3))\n",
    "next(it)"
   ]
  },
  {
   "cell_type": "code",
   "execution_count": null,
   "metadata": {},
   "outputs": [],
   "source": [
    "class Counter:\n",
    "    def __init__(self, stop):\n",
    "        self.current = 0\n",
    "        self.stop = stop\n",
    "        \n",
    "    def __iter__(self):\n",
    "        return self\n",
    "    \n",
    "    def __next__(self):\n",
    "        print('__next__')\n",
    "        if self.current < self.stop:\n",
    "            r = self.current\n",
    "            self.current += 1\n",
    "            return r\n",
    "        else:\n",
    "            raise StopIteration"
   ]
  },
  {
   "cell_type": "code",
   "execution_count": null,
   "metadata": {},
   "outputs": [],
   "source": [
    "it = iter(Counter(3))"
   ]
  },
  {
   "cell_type": "code",
   "execution_count": null,
   "metadata": {},
   "outputs": [],
   "source": [
    "next(it)"
   ]
  },
  {
   "cell_type": "code",
   "execution_count": null,
   "metadata": {},
   "outputs": [],
   "source": [
    "#  iter(호출가능한 객체, 반복을 끝낼값)\n",
    "\n",
    "import random\n",
    "it = iter(lambda : random.randint(0,5), 2)"
   ]
  },
  {
   "cell_type": "code",
   "execution_count": null,
   "metadata": {},
   "outputs": [],
   "source": [
    "next(it)"
   ]
  },
  {
   "cell_type": "code",
   "execution_count": null,
   "metadata": {},
   "outputs": [],
   "source": [
    "import random\n",
    "\n",
    "while True:\n",
    "    i = random.randint(0,5)\n",
    "    if i == 2:\n",
    "        break;\n",
    "    print(i, end=' ')"
   ]
  },
  {
   "cell_type": "code",
   "execution_count": null,
   "metadata": {},
   "outputs": [],
   "source": [
    "#import random\n",
    "#it = iter(lambda : random.randint(0,5), 2)\n",
    "\n",
    "\n",
    "class myiter:\n",
    "    def __init__(self,func,val):\n",
    "        self.func = func\n",
    "        self.val =  val\n",
    "        \n",
    "    def __next__(self):\n",
    "        ret = self.func()\n",
    "        if ret ==  2:\n",
    "            raise StopIteration\n",
    "        return ret"
   ]
  },
  {
   "cell_type": "code",
   "execution_count": null,
   "metadata": {},
   "outputs": [],
   "source": [
    "it = myiter(lambda : random.randint(0,5), 2)"
   ]
  },
  {
   "cell_type": "code",
   "execution_count": null,
   "metadata": {},
   "outputs": [],
   "source": [
    "next(it)"
   ]
  },
  {
   "cell_type": "code",
   "execution_count": null,
   "metadata": {},
   "outputs": [],
   "source": [
    "def number_generator():\n",
    "    a = 0\n",
    "    print('a: {}'.format(a))\n",
    "    yield a\n",
    "    a += 1\n",
    "    print('a: {}'.format(a))\n",
    "    yield a\n",
    "    a += 1\n",
    "    print('a: {}'.format(a))\n",
    "    yield a\n",
    "    \n"
   ]
  },
  {
   "cell_type": "code",
   "execution_count": null,
   "metadata": {},
   "outputs": [],
   "source": [
    "g = number_generator()"
   ]
  },
  {
   "cell_type": "code",
   "execution_count": null,
   "metadata": {},
   "outputs": [],
   "source": [
    "g"
   ]
  },
  {
   "cell_type": "code",
   "execution_count": null,
   "metadata": {},
   "outputs": [],
   "source": [
    "g.__next__()"
   ]
  },
  {
   "cell_type": "code",
   "execution_count": null,
   "metadata": {},
   "outputs": [],
   "source": [
    "g.__next__()"
   ]
  },
  {
   "cell_type": "code",
   "execution_count": null,
   "metadata": {},
   "outputs": [],
   "source": [
    "g.__next__()"
   ]
  },
  {
   "cell_type": "code",
   "execution_count": null,
   "metadata": {},
   "outputs": [],
   "source": [
    "g.__next__()"
   ]
  },
  {
   "cell_type": "code",
   "execution_count": null,
   "metadata": {},
   "outputs": [],
   "source": [
    "def number_generator():\n",
    "    yield 0\n",
    "    yield 1\n",
    "    yield 2\n",
    "    return\n",
    "g = number_generator()\n",
    "\n",
    "a = next(g)\n",
    "\n",
    "b = next(g)\n",
    "\n",
    "c = next(g)\n",
    "\n",
    "d = next(g)"
   ]
  },
  {
   "cell_type": "code",
   "execution_count": null,
   "metadata": {},
   "outputs": [],
   "source": [
    "def one_generator():\n",
    "    yield 1\n",
    "    return 'return에 지정한 값'\n",
    "\n",
    "try:\n",
    "    g = one_generator()\n",
    "    print(next(g))\n",
    "    print(next(g))\n",
    "except StopIteration as e:\n",
    "    print(e)"
   ]
  },
  {
   "cell_type": "code",
   "execution_count": null,
   "metadata": {},
   "outputs": [],
   "source": [
    "def add(a,b):\n",
    "    a+b\n",
    "    "
   ]
  },
  {
   "cell_type": "code",
   "execution_count": null,
   "metadata": {},
   "outputs": [],
   "source": [
    "c =  add(10,20)\n",
    "print(c)"
   ]
  },
  {
   "cell_type": "code",
   "execution_count": null,
   "metadata": {},
   "outputs": [],
   "source": [
    "def number_generator(stop):\n",
    "    n = 0\n",
    "    while n < stop:\n",
    "        yield n\n",
    "        n += 1\n",
    "        \n",
    "for i in number_generator(5):\n",
    "    print(i)"
   ]
  },
  {
   "cell_type": "code",
   "execution_count": null,
   "metadata": {},
   "outputs": [],
   "source": [
    "                                                                                   def upper_generator(x):\n",
    "                                                                                         for i in x:\n",
    "                                                                                             yield i.upper()\n",
    "        \n",
    "fruits = ['apple','pear','grape','pineapple','orange']\n",
    "\n",
    "for i in upper_generator(fruits):\n",
    "    print(i)"
   ]
  },
  {
   "cell_type": "code",
   "execution_count": null,
   "metadata": {},
   "outputs": [],
   "source": [
    "def number_generator():\n",
    "    x = [1,2,3]\n",
    "    for i in x:\n",
    "        yield i\n",
    "        \n",
    "for i in number_generator():\n",
    "    print(i)"
   ]
  },
  {
   "cell_type": "code",
   "execution_count": null,
   "metadata": {},
   "outputs": [],
   "source": [
    "def number_generator():\n",
    "    x = [1,2,3]\n",
    "    yield from x\n",
    "    \n",
    "    \n",
    "g = number_generator()\n",
    "#for i in number_generator():\n",
    "#    print(i)"
   ]
  },
  {
   "cell_type": "code",
   "execution_count": null,
   "metadata": {},
   "outputs": [],
   "source": [
    "print(dir([]))"
   ]
  },
  {
   "cell_type": "code",
   "execution_count": null,
   "metadata": {},
   "outputs": [],
   "source": [
    "def number_generator(stop):\n",
    "    n = 0\n",
    "    while n < stop:\n",
    "        yield n\n",
    "        n += 1\n",
    "        \n",
    "def three_generator():\n",
    "    yield  from number_generator(3)\n",
    "    \n",
    "    \n",
    "for i in three_generator():\n",
    "    print(i)\n",
    "        "
   ]
  },
  {
   "cell_type": "code",
   "execution_count": null,
   "metadata": {},
   "outputs": [],
   "source": [
    "print([i for i in range(50) if i % 2 == 0])"
   ]
  },
  {
   "cell_type": "code",
   "execution_count": null,
   "metadata": {},
   "outputs": [],
   "source": [
    "(i for i in range(50) if i % 2 == 0)"
   ]
  },
  {
   "cell_type": "code",
   "execution_count": null,
   "metadata": {},
   "outputs": [],
   "source": [
    "# yield from 반복가능한 객체\n",
    "# yield from 이터레이터\n",
    "# yield from 제너레이터객체 \n",
    "\n",
    "\n",
    "def test():\n",
    "    yield from (i for i in range(50) if i % 2 == 0)\n",
    "\n",
    "for i in test():\n",
    "    print(i,end = ' ')"
   ]
  },
  {
   "cell_type": "code",
   "execution_count": null,
   "metadata": {},
   "outputs": [],
   "source": [
    "#  [i for i in range(50) if i % 2 == 0]\n",
    "a = []\n",
    "for i in range(50):\n",
    "    if i % 2 == 0:\n",
    "        a.append(i)\n",
    "a"
   ]
  },
  {
   "cell_type": "code",
   "execution_count": null,
   "metadata": {},
   "outputs": [],
   "source": [
    "def number_coroutine():\n",
    "    while True:\n",
    "        x = (yield)\n",
    "        print(x)\n",
    "        \n",
    "co = number_coroutine()\n",
    "next(co)"
   ]
  },
  {
   "cell_type": "code",
   "execution_count": null,
   "metadata": {},
   "outputs": [],
   "source": [
    "co.send(1)"
   ]
  },
  {
   "cell_type": "code",
   "execution_count": null,
   "metadata": {},
   "outputs": [],
   "source": [
    "co.send(2)"
   ]
  },
  {
   "cell_type": "code",
   "execution_count": null,
   "metadata": {},
   "outputs": [],
   "source": [
    "co.send(3)"
   ]
  },
  {
   "cell_type": "code",
   "execution_count": null,
   "metadata": {},
   "outputs": [],
   "source": [
    "co.send(50)"
   ]
  },
  {
   "cell_type": "code",
   "execution_count": null,
   "metadata": {},
   "outputs": [],
   "source": [
    "print(dir(co))"
   ]
  },
  {
   "cell_type": "code",
   "execution_count": null,
   "metadata": {},
   "outputs": [],
   "source": [
    "def sum_coroutine():\n",
    "    total = 0\n",
    "    while True:\n",
    "        x =  (yield total)\n",
    "        total += x\n",
    "        if(x == 5):\n",
    "            return \n",
    "        \n",
    "co = sum_coroutine()\n",
    "print(next(co))"
   ]
  },
  {
   "cell_type": "code",
   "execution_count": null,
   "metadata": {},
   "outputs": [],
   "source": [
    "print(co.send(5))"
   ]
  },
  {
   "cell_type": "code",
   "execution_count": null,
   "metadata": {},
   "outputs": [],
   "source": [
    "print(co.send(30))"
   ]
  },
  {
   "cell_type": "code",
   "execution_count": null,
   "metadata": {},
   "outputs": [],
   "source": [
    "for i in range(10):\n",
    "    print(co.send(i))\n",
    "    "
   ]
  },
  {
   "cell_type": "code",
   "execution_count": null,
   "metadata": {},
   "outputs": [],
   "source": [
    "co.close()"
   ]
  },
  {
   "cell_type": "code",
   "execution_count": null,
   "metadata": {},
   "outputs": [],
   "source": [
    "def number_coroutine():\n",
    "    while True:\n",
    "        x = (yield)\n",
    "        print(x, end= ' ')\n",
    "        \n",
    "co =number_coroutine()\n",
    "next(co)\n",
    "\n",
    "for i in range(20):\n",
    "    co.send(i)"
   ]
  },
  {
   "cell_type": "code",
   "execution_count": null,
   "metadata": {},
   "outputs": [],
   "source": [
    "co.close()"
   ]
  },
  {
   "cell_type": "code",
   "execution_count": null,
   "metadata": {},
   "outputs": [],
   "source": [
    "def number_coroutine():\n",
    "    try:\n",
    "        while True:\n",
    "            x = (yield)\n",
    "            print(x, end= ' ')\n",
    "    except GeneratorExit:\n",
    "        print()\n",
    "        print('코루틴 종료')\n"
   ]
  },
  {
   "cell_type": "code",
   "execution_count": null,
   "metadata": {},
   "outputs": [],
   "source": [
    "co = number_coroutine()\n",
    "next(co)"
   ]
  },
  {
   "cell_type": "code",
   "execution_count": null,
   "metadata": {},
   "outputs": [],
   "source": [
    "for i in range(20):\n",
    "    co.send(i)"
   ]
  },
  {
   "cell_type": "code",
   "execution_count": null,
   "metadata": {},
   "outputs": [],
   "source": [
    "co.close()"
   ]
  },
  {
   "cell_type": "code",
   "execution_count": null,
   "metadata": {},
   "outputs": [],
   "source": [
    "def sum_coroutine():\n",
    "    try:\n",
    "        total = 0\n",
    "        while True:\n",
    "            x = (yield)\n",
    "            total += x\n",
    "            print('x: {}'.format(x),end=' ')\n",
    "    except RuntimeError as e:\n",
    "        print(e)\n",
    "        yield total\n",
    "        \n",
    "co =sum_coroutine()\n",
    "next(co)\n",
    "\n",
    "for i in range(20):\n",
    "    co.send(i)"
   ]
  },
  {
   "cell_type": "code",
   "execution_count": null,
   "metadata": {},
   "outputs": [],
   "source": [
    "a = co.throw(RuntimeError,'예외로 코루틴 끝내기')\n",
    "a"
   ]
  },
  {
   "cell_type": "code",
   "execution_count": null,
   "metadata": {},
   "outputs": [],
   "source": [
    "def accumulate():\n",
    "    total =0\n",
    "    while True:\n",
    "        x = (yield)\n",
    "        if x is None:\n",
    "            raise StopIteration(total)\n",
    "        total += x\n",
    "        \n",
    "def sum_coroutine():\n",
    "    while True:\n",
    "        total = yield from accumulate()\n",
    "        print(total)\n",
    "        \n",
    "co = sum_coroutine()\n",
    "next(co)"
   ]
  },
  {
   "cell_type": "code",
   "execution_count": null,
   "metadata": {},
   "outputs": [],
   "source": [
    "for i in range(1,5):\n",
    "    co.send(i)"
   ]
  },
  {
   "cell_type": "code",
   "execution_count": null,
   "metadata": {},
   "outputs": [],
   "source": [
    "co.send(None)"
   ]
  },
  {
   "cell_type": "code",
   "execution_count": null,
   "metadata": {},
   "outputs": [],
   "source": [
    "for i in range(1,101):\n",
    "    co.send(i)\n",
    "    \n",
    "co.send(None)"
   ]
  },
  {
   "cell_type": "code",
   "execution_count": null,
   "metadata": {},
   "outputs": [],
   "source": [
    "def number_coroutine():\n",
    "    try:\n",
    "        x = 50\n",
    "        while True:\n",
    "            x = (yield x)\n",
    "            if x == 3:\n",
    "                raise StopIteration(100)\n",
    "                #return 100\n",
    "    except StopIteration as e:\n",
    "        print(e)\n",
    "        return 100\n",
    "def print_coroutine():\n",
    "    \n",
    "        while True:\n",
    "            x = yield from number_coroutine()\n",
    "            print('print_coroutine:',x)\n",
    "    \n",
    "co = print_coroutine()\n",
    "\n",
    "a = next(co)\n",
    "print(a)\n",
    "x = co.send(1)\n",
    "print(x)"
   ]
  },
  {
   "cell_type": "code",
   "execution_count": null,
   "metadata": {},
   "outputs": [],
   "source": [
    "x = co.send(3)"
   ]
  },
  {
   "cell_type": "code",
   "execution_count": null,
   "metadata": {},
   "outputs": [],
   "source": [
    "def hello():\n",
    "    print('hello 함수 시작')\n",
    "    \n",
    "    print('hello')\n",
    "    # .....\n",
    "    print('hello 함수 종료')\n",
    "    \n",
    "def world():\n",
    "    print('world 함수 시작')\n",
    "    print('world')\n",
    "    print('world 함수 종료')\n",
    "    \n",
    "hello()\n",
    "print('\\n\\n')\n",
    "world()"
   ]
  },
  {
   "cell_type": "code",
   "execution_count": null,
   "metadata": {},
   "outputs": [],
   "source": [
    "def trace(func):\n",
    "    def wrapper():\n",
    "        print(func.__name__,'함수 시작')\n",
    "        func()\n",
    "        print(func.__name__,'함수 종료')\n",
    "    return wrapper\n",
    "\n",
    "def hello():\n",
    "    print('hello')\n",
    "    \n",
    "def world():\n",
    "    print('world')\n",
    "    \n",
    "hello = trace(hello)\n",
    "\n",
    "hello()\n",
    "    \n",
    "print(\"\\n\\n\")\n",
    "world = trace(world)\n",
    "world()\n",
    "    "
   ]
  },
  {
   "cell_type": "code",
   "execution_count": null,
   "metadata": {},
   "outputs": [],
   "source": [
    "def test():\n",
    "    print('func')\n",
    "    \n",
    "    \n",
    "print(test.__name__)\n",
    "print(dir(test))\n",
    "print(test.__dict__)"
   ]
  },
  {
   "cell_type": "code",
   "execution_count": null,
   "metadata": {},
   "outputs": [],
   "source": [
    "def number_coroutine():\n",
    "    x = 50\n",
    "    while True:\n",
    "        x = (yield x)\n",
    "        if x == 3:\n",
    "            return x\n",
    "   \n",
    "def print_coroutine():\n",
    "    \n",
    "    while True:\n",
    "        x = yield from number_coroutine()\n",
    "        print('print_coroutine:',x)\n",
    "    \n",
    "co = print_coroutine()\n",
    "\n",
    "a = next(co)\n",
    "print(a)\n",
    "x = co.send(1)\n",
    "print(x)"
   ]
  },
  {
   "cell_type": "code",
   "execution_count": null,
   "metadata": {},
   "outputs": [],
   "source": [
    "co.send(3)"
   ]
  },
  {
   "cell_type": "code",
   "execution_count": null,
   "metadata": {},
   "outputs": [],
   "source": [
    "co.send(3)"
   ]
  },
  {
   "cell_type": "code",
   "execution_count": null,
   "metadata": {},
   "outputs": [],
   "source": [
    "co.send(2)"
   ]
  },
  {
   "cell_type": "code",
   "execution_count": null,
   "metadata": {},
   "outputs": [],
   "source": [
    "co.send(3)"
   ]
  },
  {
   "cell_type": "code",
   "execution_count": null,
   "metadata": {},
   "outputs": [],
   "source": [
    "def number_coroutine():\n",
    "    x = 0\n",
    "    while True:\n",
    "        yield x\n",
    "        x +=1\n",
    "    \n",
    "    \n",
    "co = number_coroutine()\n",
    "next(co)\n"
   ]
  },
  {
   "cell_type": "code",
   "execution_count": null,
   "metadata": {},
   "outputs": [],
   "source": [
    "next(co)"
   ]
  },
  {
   "cell_type": "code",
   "execution_count": null,
   "metadata": {},
   "outputs": [],
   "source": [
    "class Calc:\n",
    "    @staticmethod\n",
    "    def add(a, b):\n",
    "        print(a + b)"
   ]
  },
  {
   "cell_type": "code",
   "execution_count": null,
   "metadata": {},
   "outputs": [],
   "source": [
    "def hello():\n",
    "    print('hello 함수 시작')\n",
    "    print('hello')\n",
    "    print('hello 함수 끝')\n",
    "    \n",
    "    \n",
    "hello()"
   ]
  },
  {
   "cell_type": "code",
   "execution_count": null,
   "metadata": {},
   "outputs": [],
   "source": [
    "def hello():\n",
    "    print('hello')\n",
    "    \n",
    "print('hello 함수 시작')\n",
    "hello()\n",
    "print(\"hello 함수 끝\")"
   ]
  },
  {
   "cell_type": "code",
   "execution_count": null,
   "metadata": {},
   "outputs": [],
   "source": [
    "def trace(func):\n",
    "    def wrapper():\n",
    "        print(func.__name__,'함수 시작')\n",
    "        func()\n",
    "        print(func.__name__,'함수 끝')\n",
    "    return wrapper\n",
    "\n",
    "def hello():\n",
    "    print('hello')\n",
    "    \n",
    "hello()\n",
    "print(\"\\n\\n\")\n",
    "trace_hello = trace(hello)\n",
    "trace_hello()"
   ]
  },
  {
   "cell_type": "code",
   "execution_count": null,
   "metadata": {},
   "outputs": [],
   "source": [
    "def trace(func):\n",
    "    def wrapper():\n",
    "        print(func.__name__,'함수 시작')\n",
    "        func()\n",
    "        print(func.__name__,'함수 끝')\n",
    "    return wrapper\n",
    "\n",
    "def hello():\n",
    "    print('hello')\n",
    "    \n",
    "hello = trace(hello)\n",
    "hello()"
   ]
  },
  {
   "cell_type": "code",
   "execution_count": null,
   "metadata": {},
   "outputs": [],
   "source": [
    "# @으로 데코레이터 사용하기\n",
    "def trace(func):\n",
    "    def wrapper():\n",
    "        print(func.__name__,'함수 시작')\n",
    "        func()\n",
    "        print(func.__name__,'함수 끝')\n",
    "    return wrapper\n",
    "\n",
    "\n",
    "#def hello():\n",
    "#    print('hello')\n",
    "\n",
    "#hello = trace(hello)\n",
    "#hello()\n",
    "\n",
    "print(\"\\n\\n\")\n",
    "\n",
    "@trace      #  hello = trace(hello)\n",
    "def hello():\n",
    "    print('hello')\n",
    "\n",
    "hello = trace(hello)\n",
    "    \n",
    "hello()"
   ]
  },
  {
   "cell_type": "code",
   "execution_count": null,
   "metadata": {},
   "outputs": [],
   "source": [
    "def decorator1(func):\n",
    "    def wrapper():\n",
    "        print('decorator1')\n",
    "        func()\n",
    "    return wrapper\n",
    "\n",
    "def decorator2(func):\n",
    "    def wrapper():\n",
    "        print('decorator2')\n",
    "        func()\n",
    "    return wrapper\n",
    "\n",
    "@decorator1\n",
    "@decorator2\n",
    "def hello():\n",
    "    print('hello')\n",
    "    \n",
    "hello()"
   ]
  },
  {
   "cell_type": "code",
   "execution_count": null,
   "metadata": {},
   "outputs": [],
   "source": [
    "def trace(func):\n",
    "    def wrapper(a,b):\n",
    "        r = func(a,b)\n",
    "        print('{0}(a={1},b={2})->{3}'.format(func.__name__,a,b,r))\n",
    "    return wrapper\n",
    "    \n",
    "    \n",
    "def trace1(func):\n",
    "    def wrapper(a,b,c):\n",
    "        r = func(a,b,c)\n",
    "        print('{0}(a={1},b={2},c={3})->{4}'.format(func.__name__,a,b,c,r))\n",
    "    return wrapper\n",
    "\n",
    "@trace                 #    add = trace(add)\n",
    "def add(a, b):         #    add(10,20)\n",
    "    return a + b\n",
    "\n",
    "@trace1\n",
    "def add1(a,b,c):     # add1 = trace(add1)\n",
    "    return a + b + c\n",
    "\n",
    "add(10,20)\n",
    "add1(10,20,30)   "
   ]
  },
  {
   "cell_type": "code",
   "execution_count": null,
   "metadata": {},
   "outputs": [],
   "source": [
    "\n"
   ]
  },
  {
   "cell_type": "code",
   "execution_count": null,
   "metadata": {},
   "outputs": [],
   "source": [
    "def trace(func):\n",
    "    def wrapper(*args,**kwargs):\n",
    "        r = func(*args,**kwargs)\n",
    "        print('{0}(args={1},kwargs={2})->{3}'.format(func.__name__,args,kwargs,r))\n",
    "    return wrapper\n",
    "\n",
    "def mymin(*args):\n",
    "    tup = args[0]\n",
    "    min = 1\n",
    "#    print(dir(tup))\n",
    "#    print(\"tup: \",tup)\n",
    "#    it = tup.__iter__()\n",
    "#    print(\"it[0]: \",it.__next__())\n",
    "#    print(\"it[1]: \",it.__next__())\n",
    " #   lst = list(tup)\n",
    "    \n",
    "#    min = lst[0]\n",
    "    \n",
    "#    for i in range(1,len(lst)):\n",
    "#        if min > lst[i]:\n",
    "#            min = lst[i] \n",
    "    min = 9999\n",
    "    for i in tup:\n",
    "        if min > i:\n",
    "            min = i\n",
    "    return min\n",
    "\n",
    "def mymax(*args):\n",
    "    max = 0\n",
    "    print(\"args: \",args)\n",
    "    max = args[0]\n",
    "    for i in range(1,len(args)):\n",
    "        if max < args[i]:\n",
    "            max = args[i]\n",
    "    return max\n",
    "\n",
    "@trace                  #get_max = trace(get_max)\n",
    "def get_max(*args):\n",
    "    print(\"args: \", args)\n",
    "    return mymax(*args)\n",
    "\n",
    "@trace\n",
    "def get_min(**kwargs):\n",
    "    return mymin(kwargs.values())\n",
    "\n",
    "get_max(10,20,50,30)\n",
    "get_min(x=10,y=20,z=30)"
   ]
  },
  {
   "cell_type": "code",
   "execution_count": null,
   "metadata": {},
   "outputs": [],
   "source": [
    "def trace(func):\n",
    "    def wrapper(self,a,b):\n",
    "        r = func(self,a,b)\n",
    "        print('{0}(a={1}, b={2})->{3}'.format(func.__name__,a,b,r))\n",
    "        return r\n",
    "    return wrapper\n",
    "\n",
    "class Calc:\n",
    "    \n",
    "    @trace\n",
    "    def add(self,a, b):\n",
    "        return a + b\n",
    "    \n",
    "c = Calc()\n",
    "print(c.add(10,20))\n",
    "\n",
    "#add(a=10,b=20)->30"
   ]
  },
  {
   "cell_type": "code",
   "execution_count": null,
   "metadata": {},
   "outputs": [],
   "source": [
    "def is_multiple(x):\n",
    "    def real_decorator(func):\n",
    "        def wrapper(a,b):\n",
    "            r = func(a,b)\n",
    "            if r % x == 0:\n",
    "                print('{0}의 반환값은 {1}의 배수입니다.'.format(func.__name__,x))\n",
    "            else:\n",
    "                print('{0}의 반환값은 {1}의 배수가 아닙니다.'.format(func.__name__,x))\n",
    "            return r\n",
    "        return wrapper\n",
    "    return real_decorator\n",
    " \n",
    "#@is_multiple(3)    \n",
    "#@is_multiple(7)         #   is_multiple(3)(add)\n",
    "def add(a, b):\n",
    "    return a + b\n",
    "\n",
    "add  = is_multiple(3)(is_multiple(7)(add))"
   ]
  },
  {
   "cell_type": "code",
   "execution_count": null,
   "metadata": {},
   "outputs": [],
   "source": [
    "print(add(10,20))"
   ]
  },
  {
   "cell_type": "code",
   "execution_count": null,
   "metadata": {},
   "outputs": [],
   "source": [
    "print(add(2,5))"
   ]
  },
  {
   "cell_type": "code",
   "execution_count": null,
   "metadata": {},
   "outputs": [],
   "source": [
    "import functools\n",
    "\n",
    "def is_multiple(x):\n",
    "    def real_decorator(func):\n",
    "        @functools.wraps(func)\n",
    "        def wrapper(a,b):\n",
    "            r = func(a,b)\n",
    "            if r % x == 0:\n",
    "                print('{0}의 반환값은 {1}의 배수입니다.'.format(func.__name__,x))\n",
    "            else:\n",
    "                print('{0}의 반환값은 {1}의 배수가 아닙니다.'.format(func.__name__,x))\n",
    "                \n",
    "            return r\n",
    "        return wrapper\n",
    "    return real_decorator\n",
    "@is_multiple(3)        #  add = ismultiple(3)(is_multiple(7)(add))\n",
    "@is_multiple(7)\n",
    "def add(a,b):\n",
    "    return a + b\n",
    "\n",
    "add(10,20)"
   ]
  },
  {
   "cell_type": "code",
   "execution_count": null,
   "metadata": {},
   "outputs": [],
   "source": [
    "class Trace:\n",
    "    def __init__(self,func):\n",
    "        self.func = func\n",
    "    def __call__(self):\n",
    "        print(self.func.__name__,'함수 시작')\n",
    "        self.func()\n",
    "        print(self.func.__name__,'함수 끝')\n",
    "\n",
    "@Trace         # hello = Trace(hello)                  \n",
    "def hello():\n",
    "    print('hello')\n",
    "    \n",
    "hello()"
   ]
  },
  {
   "cell_type": "code",
   "execution_count": null,
   "metadata": {},
   "outputs": [],
   "source": [
    "class mymath:\n",
    "    def add(self,a, b):\n",
    "        return a+b\n",
    "    def sub(self,a,b):\n",
    "        return a - b\n",
    "    \n",
    "    \n",
    "m = mymath()\n",
    "print(m.add(10,20))"
   ]
  },
  {
   "cell_type": "code",
   "execution_count": null,
   "metadata": {},
   "outputs": [],
   "source": [
    "class myadd:\n",
    "    \n",
    "    def __call__(self,a,b):\n",
    "        return a + b\n",
    "    \n",
    "m = myadd()\n",
    "m(10,20,30,40)"
   ]
  },
  {
   "cell_type": "code",
   "execution_count": null,
   "metadata": {},
   "outputs": [],
   "source": [
    "class myadd:\n",
    "    def __call__(self,*args):\n",
    "        total = 0\n",
    "        for i in args:\n",
    "            total += i\n",
    "        return total\n",
    "        \n",
    "m = myadd()\n",
    "m(10,20)"
   ]
  },
  {
   "cell_type": "code",
   "execution_count": null,
   "metadata": {},
   "outputs": [],
   "source": [
    "class IsMultiple:\n",
    "    def __init__(self, x):\n",
    "        self.x = x\n",
    "        \n",
    "    def __call__(self,func):\n",
    "        def wrapper(a,b):\n",
    "            \n",
    "            r = func(a,b)\n",
    "            if r % self.x == 0:\n",
    "                print('{0}의 반환값은 {1}의 배수입니다.'.format(func.__name__,self.x))\n",
    "            else:\n",
    "                print('{0}의 반환값은 {1}의 배수가 아닙니다..'.format(func.__name__,self.x))\n",
    "            return r\n",
    "        return wrapper\n",
    "   \n",
    "#@IsMultiple(3)    #  add = IsMultiple(3)(add)\n",
    "def add(a,b):\n",
    "    return a + b\n",
    "        \n",
    "class IsMultiple1:\n",
    "    def __init__(self, x,func):\n",
    "        self.x = x\n",
    "        self.func = func\n",
    "        \n",
    "    def __call__(self):\n",
    "        def wrapper(a,b):\n",
    "            \n",
    "            r = self.func(a,b)\n",
    "            if r % self.x == 0:\n",
    "                print('{0}의 반환값은 {1}의 배수입니다.'.format(self.func.__name__,self.x))\n",
    "            else:\n",
    "                print('{0}의 반환값은 {1}의 배수가 아닙니다..'.format(self.func.__name__,self.x))\n",
    "            return r\n",
    "        return wrapper\n",
    "        \n",
    "        \n",
    "\n",
    "\n",
    "add = IsMultiple1(3,add)\n",
    "#print(add.__dict__)\n",
    "#add = add() \n",
    "#print(add.__dict__)\n",
    "#add = add.__call__()\n",
    "#add = add()\n",
    "print(add(10,20))\n",
    "\n",
    "\n",
    "@IsMultiple(3)  # add1 = x(add1)\n",
    "def add1(a,b):\n",
    "    return a + b\n",
    "\n",
    "#add1 = wrapper\n",
    "\n",
    "print(add1(10,20))\n",
    "\n",
    "\n"
   ]
  },
  {
   "cell_type": "code",
   "execution_count": null,
   "metadata": {},
   "outputs": [],
   "source": [
    "import re   #re regular expression\n",
    "re.match('Hello',' Hello, world!')"
   ]
  },
  {
   "cell_type": "code",
   "execution_count": null,
   "metadata": {},
   "outputs": [],
   "source": [
    "re.match('Python','Hello, Python world!')"
   ]
  },
  {
   "cell_type": "code",
   "execution_count": null,
   "metadata": {},
   "outputs": [],
   "source": [
    "# re.search('패턴','문자열')\n",
    "re.search('^Hello',' Hello, world!')"
   ]
  },
  {
   "cell_type": "code",
   "execution_count": null,
   "metadata": {},
   "outputs": [],
   "source": [
    "re.search('world! $','Hello, world! ')"
   ]
  },
  {
   "cell_type": "code",
   "execution_count": null,
   "metadata": {},
   "outputs": [],
   "source": [
    "# 문자열 | 문자열"
   ]
  },
  {
   "cell_type": "code",
   "execution_count": null,
   "metadata": {},
   "outputs": [],
   "source": [
    "re.match('hello|world','world')"
   ]
  },
  {
   "cell_type": "code",
   "execution_count": null,
   "metadata": {},
   "outputs": [],
   "source": [
    "#  *    \n",
    "#  +\n",
    "re.match('[0-9]+','1223431234533334')"
   ]
  },
  {
   "cell_type": "code",
   "execution_count": null,
   "metadata": {},
   "outputs": [],
   "source": [
    "re.match('[0-9]+','a123')"
   ]
  },
  {
   "cell_type": "code",
   "execution_count": null,
   "metadata": {},
   "outputs": [],
   "source": [
    "re.match('a*b+', 'ab')"
   ]
  },
  {
   "cell_type": "code",
   "execution_count": null,
   "metadata": {},
   "outputs": [],
   "source": [
    "'abc' + 'def'"
   ]
  },
  {
   "cell_type": "code",
   "execution_count": null,
   "metadata": {},
   "outputs": [],
   "source": [
    "# 문자?    ? : 0개이거나 1개 \n",
    "# [0-9]?\n",
    "# .         모든것 중에 한개 "
   ]
  },
  {
   "cell_type": "code",
   "execution_count": null,
   "metadata": {},
   "outputs": [],
   "source": [
    "re.match('abc?d', 'abd')"
   ]
  },
  {
   "cell_type": "code",
   "execution_count": null,
   "metadata": {},
   "outputs": [],
   "source": [
    "re.match('ab[0-4]?c', 'ab5c')"
   ]
  },
  {
   "cell_type": "code",
   "execution_count": null,
   "metadata": {},
   "outputs": [],
   "source": [
    "re.match('ab.d','abxcd')"
   ]
  },
  {
   "cell_type": "code",
   "execution_count": null,
   "metadata": {},
   "outputs": [],
   "source": [
    "# 문자{개수}\n",
    "# (문자열){개수}\n",
    "\n",
    "re.match('h{3}', 'hhahello')"
   ]
  },
  {
   "cell_type": "code",
   "execution_count": null,
   "metadata": {},
   "outputs": [],
   "source": [
    "re.match('(hello ){3}', 'hello hello hello jfkkdsldf')"
   ]
  },
  {
   "cell_type": "code",
   "execution_count": null,
   "metadata": {},
   "outputs": [],
   "source": [
    "re.match('031-[0-9]{4}-[0-9]{4}', '031-1000-1000')"
   ]
  },
  {
   "cell_type": "code",
   "execution_count": null,
   "metadata": {},
   "outputs": [],
   "source": [
    "re.match('[0-9]{2,3}-[0-9]{3,4}-[0-9]{4}', '031-100-1000')"
   ]
  },
  {
   "cell_type": "code",
   "execution_count": null,
   "metadata": {},
   "outputs": [],
   "source": [
    "# abcdefg --- z   [a-z]\n",
    "# ABC ---     Z   [A-Z]"
   ]
  },
  {
   "cell_type": "code",
   "execution_count": null,
   "metadata": {},
   "outputs": [],
   "source": [
    "re.match('[A-Z]*[a-z]+[0-9]+', 'hello1234')"
   ]
  },
  {
   "cell_type": "code",
   "execution_count": null,
   "metadata": {},
   "outputs": [],
   "source": [
    "re.match('[가-힣]+','홍길동')"
   ]
  },
  {
   "cell_type": "code",
   "execution_count": null,
   "metadata": {},
   "outputs": [],
   "source": [
    "re.match('[0-9]+')"
   ]
  },
  {
   "cell_type": "code",
   "execution_count": null,
   "metadata": {},
   "outputs": [],
   "source": [
    "[^범위] *"
   ]
  },
  {
   "cell_type": "code",
   "execution_count": null,
   "metadata": {},
   "outputs": [],
   "source": [
    "re.match('[^A-Z]+','1234')"
   ]
  },
  {
   "cell_type": "code",
   "execution_count": null,
   "metadata": {},
   "outputs": [],
   "source": [
    "re.match('^[A-Z]+','Hello')"
   ]
  },
  {
   "cell_type": "code",
   "execution_count": null,
   "metadata": {},
   "outputs": [],
   "source": [
    "re.search('^[A-Z]+','helABlo')"
   ]
  },
  {
   "cell_type": "code",
   "execution_count": null,
   "metadata": {},
   "outputs": [],
   "source": [
    "re.search('[0-9]+$','hello1234')"
   ]
  },
  {
   "cell_type": "code",
   "execution_count": null,
   "metadata": {},
   "outputs": [],
   "source": [
    "re.search('\\*+','1 ** 2 ')"
   ]
  },
  {
   "cell_type": "code",
   "execution_count": null,
   "metadata": {},
   "outputs": [],
   "source": [
    "re.search('[$()a-z]+','h$(document)')"
   ]
  },
  {
   "cell_type": "code",
   "execution_count": null,
   "metadata": {},
   "outputs": [],
   "source": [
    "# \\d:   [0-9]\n",
    "# \\D:  [^0-9]\n",
    "# \\w : [a-zA-Z0-9_]\n",
    "# \\W : [^a-zA-Z0-9_]\n",
    "\n",
    "re.match('\\d+', '1234')"
   ]
  },
  {
   "cell_type": "code",
   "execution_count": null,
   "metadata": {},
   "outputs": [],
   "source": [
    "re.match('\\D+','1hello')"
   ]
  },
  {
   "cell_type": "code",
   "execution_count": null,
   "metadata": {},
   "outputs": [],
   "source": [
    "re.match('\\w+','Hello_12 34 ')"
   ]
  },
  {
   "cell_type": "code",
   "execution_count": null,
   "metadata": {},
   "outputs": [],
   "source": [
    "re.match('\\W+', ' ()\\t,#$%^')"
   ]
  },
  {
   "cell_type": "code",
   "execution_count": null,
   "metadata": {},
   "outputs": [],
   "source": [
    "# \\s  [ \\t\\n\\r\\f\\v]\n",
    "# \\S  [^ \\t\\n\\r\\f\\v]\n",
    "re.match('\\s+', ' \\t,#$%^')"
   ]
  },
  {
   "cell_type": "code",
   "execution_count": null,
   "metadata": {},
   "outputs": [],
   "source": [
    "re.search('\\S+', ' \\t,#$%^')"
   ]
  },
  {
   "cell_type": "code",
   "execution_count": null,
   "metadata": {},
   "outputs": [],
   "source": [
    "p = re.compile('[0-9]+')\n",
    "p.match('1234')"
   ]
  },
  {
   "cell_type": "code",
   "execution_count": null,
   "metadata": {},
   "outputs": [],
   "source": [
    "re.match('[0-9]+','1234')"
   ]
  },
  {
   "cell_type": "code",
   "execution_count": null,
   "metadata": {},
   "outputs": [],
   "source": [
    "# (정규표현식)(정규표현식)\n",
    "\n",
    "m = re.match( '([0-9]+)  ([0-9]+)', '10  295')\n",
    "m"
   ]
  },
  {
   "cell_type": "code",
   "execution_count": null,
   "metadata": {},
   "outputs": [],
   "source": [
    "m.group(1)"
   ]
  },
  {
   "cell_type": "code",
   "execution_count": null,
   "metadata": {},
   "outputs": [],
   "source": [
    "m.group(2)"
   ]
  },
  {
   "cell_type": "code",
   "execution_count": null,
   "metadata": {},
   "outputs": [],
   "source": [
    "m.group()"
   ]
  },
  {
   "cell_type": "code",
   "execution_count": null,
   "metadata": {
    "scrolled": true
   },
   "outputs": [],
   "source": [
    "m.group(0)"
   ]
  },
  {
   "cell_type": "code",
   "execution_count": null,
   "metadata": {},
   "outputs": [],
   "source": [
    "m.groups()"
   ]
  },
  {
   "cell_type": "code",
   "execution_count": null,
   "metadata": {},
   "outputs": [],
   "source": [
    "lst = list(m.groups())"
   ]
  },
  {
   "cell_type": "code",
   "execution_count": null,
   "metadata": {},
   "outputs": [],
   "source": [
    "lst"
   ]
  },
  {
   "cell_type": "code",
   "execution_count": null,
   "metadata": {},
   "outputs": [],
   "source": [
    "# (?P<이름>정규표현식)\n",
    "re.match('[a-zA-Z_][a-zA-Z0-9_]+\\(\\w+\\)','print(_val)' )"
   ]
  },
  {
   "cell_type": "code",
   "execution_count": null,
   "metadata": {},
   "outputs": [],
   "source": [
    "m = re.match('(?P<func>[a-zA-Z_][a-zA-Z0-9_]+)\\((?P<arg>\\w+)\\)','print(123)')"
   ]
  },
  {
   "cell_type": "code",
   "execution_count": null,
   "metadata": {},
   "outputs": [],
   "source": [
    "m.group('func')"
   ]
  },
  {
   "cell_type": "code",
   "execution_count": null,
   "metadata": {},
   "outputs": [],
   "source": [
    "m.group('arg')"
   ]
  },
  {
   "cell_type": "code",
   "execution_count": null,
   "metadata": {},
   "outputs": [],
   "source": [
    "re.findall('[0-9]+', '1 2 Fizz 4 Buzz Fizz 7 test string 834')"
   ]
  },
  {
   "cell_type": "code",
   "execution_count": null,
   "metadata": {},
   "outputs": [],
   "source": [
    "re.findall('[a-zA-Z]+zz', '1 2 Fizz 4 Buzz Fizz 7 test string 834')"
   ]
  },
  {
   "cell_type": "code",
   "execution_count": null,
   "metadata": {},
   "outputs": [],
   "source": [
    "#*, +\n",
    "\n",
    "re.match('[a-z]+(.[a-z]+)+$', 'hello')"
   ]
  },
  {
   "cell_type": "code",
   "execution_count": null,
   "metadata": {},
   "outputs": [],
   "source": [
    "re.match('[a-z]+(.[a-z]+)*$', 'hello.1234')"
   ]
  },
  {
   "cell_type": "code",
   "execution_count": null,
   "metadata": {},
   "outputs": [],
   "source": [
    "re.match('[a-z]+(.[a-z]+)+$', 'hello.')"
   ]
  },
  {
   "cell_type": "code",
   "execution_count": null,
   "metadata": {},
   "outputs": [],
   "source": [
    "re.sub('apple|orange', 'fruit','apple box orange tree')"
   ]
  },
  {
   "cell_type": "code",
   "execution_count": null,
   "metadata": {},
   "outputs": [],
   "source": [
    "re.sub('[0-9]+', 'n', '1 2 Fizz 4 Buzz Fizz 7 8 23')"
   ]
  },
  {
   "cell_type": "code",
   "execution_count": null,
   "metadata": {},
   "outputs": [],
   "source": [
    " re.match('[a-z]+(.[a-z]+)*$', 'hello.')"
   ]
  },
  {
   "cell_type": "code",
   "execution_count": null,
   "metadata": {},
   "outputs": [],
   "source": [
    "re.match('hello','helloworld')"
   ]
  },
  {
   "cell_type": "code",
   "execution_count": null,
   "metadata": {},
   "outputs": [],
   "source": [
    "def multiple10(m):\n",
    "  #  print(type(m))\n",
    "  #  print(type(m.group()))\n",
    "    n = int(m.group())\n",
    "    return 'test' + str(n * 10)\n",
    "\n",
    "re.sub('[0-9]+',multiple10, '1 2 Fizz 4 Buzz Fizz 7 8')"
   ]
  },
  {
   "cell_type": "code",
   "execution_count": null,
   "metadata": {},
   "outputs": [],
   "source": [
    "m = re.match('([0-9]+) ([0-9]+)', '10 295')\n",
    "print(type(m))"
   ]
  },
  {
   "cell_type": "code",
   "execution_count": null,
   "metadata": {},
   "outputs": [],
   "source": [
    "m.group(1)"
   ]
  },
  {
   "cell_type": "code",
   "execution_count": null,
   "metadata": {},
   "outputs": [],
   "source": [
    "m.group(2)"
   ]
  },
  {
   "cell_type": "code",
   "execution_count": null,
   "metadata": {},
   "outputs": [],
   "source": [
    "m.group()"
   ]
  },
  {
   "cell_type": "code",
   "execution_count": null,
   "metadata": {},
   "outputs": [],
   "source": [
    "re.sub('[0-9]+',lambda m: str(int(m.group())  * 10), '1 2 Fizz 4 Buzz Fizz 7 8')"
   ]
  },
  {
   "cell_type": "code",
   "execution_count": null,
   "metadata": {},
   "outputs": [],
   "source": [
    "re.sub('([a-z]+) ([0-9]+)', '\\\\2 \\\\1 \\\\2 \\\\1', 'hello 1234')"
   ]
  },
  {
   "cell_type": "code",
   "execution_count": null,
   "metadata": {},
   "outputs": [],
   "source": [
    "re.sub('({\\s*)\"(\\w+)\":\"(\\w+)\"(\\s*})', '<\\\\2>\\\\3</\\\\2>', '{ \"name\":\"james\" }')"
   ]
  },
  {
   "cell_type": "code",
   "execution_count": null,
   "metadata": {},
   "outputs": [],
   "source": [
    "re.sub('({\\s*)\"(\\w+)\"\\s*:\\s\"(\\w+)\"(\\s*})', '<\\\\2>\\\\3</\\\\2>', '{ \"name\" : \"james\" }')"
   ]
  },
  {
   "cell_type": "code",
   "execution_count": null,
   "metadata": {},
   "outputs": [],
   "source": [
    "re.sub('({\\s*)\"(?P<key>\\w+)\":\"(?P<value>\\w+)\"(\\s*})', '<\\\\g<key>>\\\\g<value></\\\\g<key>>', '{ \"name\":\"james\" }')"
   ]
  },
  {
   "cell_type": "code",
   "execution_count": null,
   "metadata": {},
   "outputs": [],
   "source": [
    "re.sub('({\\s*)\"(?P<key>\\w+)\":\"(?P<value>\\w+)\"(\\s*})', r'<\\g<key>>\\g<value></\\g<key>>', '{ \"name\":\"james\" }')"
   ]
  },
  {
   "cell_type": "code",
   "execution_count": null,
   "metadata": {},
   "outputs": [],
   "source": [
    "math.pi"
   ]
  },
  {
   "cell_type": "code",
   "execution_count": null,
   "metadata": {},
   "outputs": [],
   "source": [
    "globals()"
   ]
  },
  {
   "cell_type": "code",
   "execution_count": null,
   "metadata": {},
   "outputs": [],
   "source": [
    "import math"
   ]
  },
  {
   "cell_type": "code",
   "execution_count": null,
   "metadata": {},
   "outputs": [],
   "source": [
    "globals()"
   ]
  },
  {
   "cell_type": "code",
   "execution_count": null,
   "metadata": {},
   "outputs": [],
   "source": [
    "math.pi"
   ]
  },
  {
   "cell_type": "code",
   "execution_count": null,
   "metadata": {},
   "outputs": [],
   "source": [
    "del math"
   ]
  },
  {
   "cell_type": "code",
   "execution_count": null,
   "metadata": {},
   "outputs": [],
   "source": [
    "math.pi"
   ]
  },
  {
   "cell_type": "code",
   "execution_count": null,
   "metadata": {},
   "outputs": [],
   "source": [
    "globals()"
   ]
  },
  {
   "cell_type": "code",
   "execution_count": null,
   "metadata": {},
   "outputs": [],
   "source": [
    "math.pi"
   ]
  },
  {
   "cell_type": "code",
   "execution_count": null,
   "metadata": {},
   "outputs": [],
   "source": [
    "import math"
   ]
  },
  {
   "cell_type": "code",
   "execution_count": null,
   "metadata": {},
   "outputs": [],
   "source": [
    "globals()"
   ]
  },
  {
   "cell_type": "code",
   "execution_count": null,
   "metadata": {},
   "outputs": [],
   "source": [
    "math.pi"
   ]
  },
  {
   "cell_type": "code",
   "execution_count": null,
   "metadata": {},
   "outputs": [],
   "source": [
    "del math"
   ]
  },
  {
   "cell_type": "code",
   "execution_count": null,
   "metadata": {},
   "outputs": [],
   "source": [
    "globals()"
   ]
  },
  {
   "cell_type": "code",
   "execution_count": null,
   "metadata": {},
   "outputs": [],
   "source": [
    "math.pi"
   ]
  },
  {
   "cell_type": "code",
   "execution_count": null,
   "metadata": {},
   "outputs": [],
   "source": [
    "from math import pi"
   ]
  },
  {
   "cell_type": "code",
   "execution_count": null,
   "metadata": {},
   "outputs": [],
   "source": [
    "pi"
   ]
  },
  {
   "cell_type": "code",
   "execution_count": null,
   "metadata": {},
   "outputs": [],
   "source": [
    "math.pi"
   ]
  },
  {
   "cell_type": "code",
   "execution_count": null,
   "metadata": {},
   "outputs": [],
   "source": [
    "globals()"
   ]
  },
  {
   "cell_type": "code",
   "execution_count": null,
   "metadata": {},
   "outputs": [],
   "source": [
    "import math"
   ]
  },
  {
   "cell_type": "code",
   "execution_count": null,
   "metadata": {},
   "outputs": [],
   "source": [
    "from math import pi"
   ]
  },
  {
   "cell_type": "code",
   "execution_count": null,
   "metadata": {},
   "outputs": [],
   "source": [
    "from math import sqrt"
   ]
  },
  {
   "cell_type": "code",
   "execution_count": null,
   "metadata": {},
   "outputs": [],
   "source": [
    "sqrt(4.0)"
   ]
  },
  {
   "cell_type": "code",
   "execution_count": null,
   "metadata": {},
   "outputs": [],
   "source": [
    "del sqrt"
   ]
  },
  {
   "cell_type": "code",
   "execution_count": null,
   "metadata": {},
   "outputs": [],
   "source": [
    "sqrt(4.0)"
   ]
  },
  {
   "cell_type": "code",
   "execution_count": null,
   "metadata": {},
   "outputs": [],
   "source": [
    "from math import sqrt as s"
   ]
  },
  {
   "cell_type": "code",
   "execution_count": null,
   "metadata": {},
   "outputs": [],
   "source": [
    "globals()"
   ]
  },
  {
   "cell_type": "code",
   "execution_count": null,
   "metadata": {},
   "outputs": [],
   "source": [
    "s(4.0)"
   ]
  },
  {
   "cell_type": "code",
   "execution_count": null,
   "metadata": {},
   "outputs": [],
   "source": [
    "sqrt(4.0)"
   ]
  },
  {
   "cell_type": "code",
   "execution_count": null,
   "metadata": {},
   "outputs": [],
   "source": [
    "from math import sqrt"
   ]
  },
  {
   "cell_type": "code",
   "execution_count": null,
   "metadata": {},
   "outputs": [],
   "source": [
    "globals()"
   ]
  },
  {
   "cell_type": "code",
   "execution_count": null,
   "metadata": {},
   "outputs": [],
   "source": [
    "from math import pi as p, sqrt as s"
   ]
  },
  {
   "cell_type": "code",
   "execution_count": null,
   "metadata": {},
   "outputs": [],
   "source": [
    "import math"
   ]
  },
  {
   "cell_type": "code",
   "execution_count": null,
   "metadata": {},
   "outputs": [],
   "source": [
    "del math"
   ]
  },
  {
   "cell_type": "code",
   "execution_count": null,
   "metadata": {},
   "outputs": [],
   "source": [
    "import importlib"
   ]
  },
  {
   "cell_type": "code",
   "execution_count": null,
   "metadata": {},
   "outputs": [],
   "source": [
    "import math"
   ]
  },
  {
   "cell_type": "code",
   "execution_count": null,
   "metadata": {},
   "outputs": [],
   "source": [
    "importlib.reload(math)"
   ]
  },
  {
   "cell_type": "code",
   "execution_count": null,
   "metadata": {},
   "outputs": [],
   "source": [
    "import urllib.request"
   ]
  },
  {
   "cell_type": "code",
   "execution_count": null,
   "metadata": {
    "scrolled": false
   },
   "outputs": [],
   "source": [
    "globals()"
   ]
  },
  {
   "cell_type": "code",
   "execution_count": null,
   "metadata": {},
   "outputs": [],
   "source": [
    "response = urllib.request.urlopen('http://www.google.co.kr')\n",
    "response.status"
   ]
  },
  {
   "cell_type": "code",
   "execution_count": 1,
   "metadata": {},
   "outputs": [
    {
     "data": {
      "text/plain": [
       "{'__name__': '__main__',\n",
       " '__doc__': 'Automatically created module for IPython interactive environment',\n",
       " '__package__': None,\n",
       " '__loader__': None,\n",
       " '__spec__': None,\n",
       " '__builtin__': <module 'builtins' (built-in)>,\n",
       " '__builtins__': <module 'builtins' (built-in)>,\n",
       " '_ih': ['', 'globals()'],\n",
       " '_oh': {},\n",
       " '_dh': ['C:\\\\project'],\n",
       " 'In': ['', 'globals()'],\n",
       " 'Out': {},\n",
       " 'get_ipython': <function IPython.core.getipython.get_ipython()>,\n",
       " 'exit': <IPython.core.autocall.ZMQExitAutocall at 0x18f4ca7b610>,\n",
       " 'quit': <IPython.core.autocall.ZMQExitAutocall at 0x18f4ca7b610>,\n",
       " '_': '',\n",
       " '__': '',\n",
       " '___': '',\n",
       " 'lib2to3': <module 'lib2to3' from 'C:\\\\Users\\\\woongkeun\\\\anaconda3\\\\lib\\\\lib2to3\\\\__init__.py'>,\n",
       " 'json': <module 'json' from 'C:\\\\Users\\\\woongkeun\\\\anaconda3\\\\lib\\\\json\\\\__init__.py'>,\n",
       " '_2to3_refactoring_tool': <lib2to3.refactor.RefactoringTool at 0x18f4ca98970>,\n",
       " '_2to3_refactor_cell': <function __main__._2to3_refactor_cell(src)>,\n",
       " 'getsizeof': <function sys.getsizeof>,\n",
       " 'NamespaceMagics': IPython.core.magics.namespace.NamespaceMagics,\n",
       " '_nms': <IPython.core.magics.namespace.NamespaceMagics at 0x18f4cfa5b50>,\n",
       " '_Jupyter': <ipykernel.zmqshell.ZMQInteractiveShell at 0x18f4ca06820>,\n",
       " 'np': <module 'numpy' from 'C:\\\\Users\\\\woongkeun\\\\anaconda3\\\\lib\\\\site-packages\\\\numpy\\\\__init__.py'>,\n",
       " '_getsizeof': <function __main__._getsizeof(x)>,\n",
       " '_getshapeof': <function __main__._getshapeof(x)>,\n",
       " 'var_dic_list': <function __main__.var_dic_list()>,\n",
       " '_i': '',\n",
       " '_ii': '',\n",
       " '_iii': '',\n",
       " '_i1': 'globals()'}"
      ]
     },
     "execution_count": 1,
     "metadata": {},
     "output_type": "execute_result"
    }
   ],
   "source": [
    "globals()"
   ]
  },
  {
   "cell_type": "code",
   "execution_count": 2,
   "metadata": {},
   "outputs": [],
   "source": [
    "import urllib.request\n",
    "\n",
    "from urllib.request import Request, urlopen"
   ]
  },
  {
   "cell_type": "code",
   "execution_count": null,
   "metadata": {},
   "outputs": [],
   "source": [
    "globals()"
   ]
  },
  {
   "cell_type": "code",
   "execution_count": 4,
   "metadata": {},
   "outputs": [
    {
     "data": {
      "text/plain": [
       "200"
      ]
     },
     "execution_count": 4,
     "metadata": {},
     "output_type": "execute_result"
    }
   ],
   "source": [
    "req = Request('http://www.google.co.kr')\n",
    "response = urlopen(req)\n",
    "response.status"
   ]
  },
  {
   "cell_type": "code",
   "execution_count": 5,
   "metadata": {},
   "outputs": [
    {
     "name": "stdout",
     "output_type": "stream",
     "text": [
      "Collecting package metadata (current_repodata.json): ...working... done\n",
      "Solving environment: ...working... done\n",
      "\n",
      "# All requested packages already installed.\n",
      "\n"
     ]
    }
   ],
   "source": [
    "!conda install requests"
   ]
  },
  {
   "cell_type": "code",
   "execution_count": null,
   "metadata": {},
   "outputs": [],
   "source": []
  }
 ],
 "metadata": {
  "kernelspec": {
   "display_name": "Python 3",
   "language": "python",
   "name": "python3"
  },
  "language_info": {
   "codemirror_mode": {
    "name": "ipython",
    "version": 3
   },
   "file_extension": ".py",
   "mimetype": "text/x-python",
   "name": "python",
   "nbconvert_exporter": "python",
   "pygments_lexer": "ipython3",
   "version": "3.7.3"
  },
  "toc": {
   "base_numbering": 1,
   "nav_menu": {},
   "number_sections": true,
   "sideBar": true,
   "skip_h1_title": false,
   "title_cell": "Table of Contents",
   "title_sidebar": "Contents",
   "toc_cell": false,
   "toc_position": {},
   "toc_section_display": true,
   "toc_window_display": false
  },
  "varInspector": {
   "cols": {
    "lenName": 16,
    "lenType": 16,
    "lenVar": 40
   },
   "kernels_config": {
    "python": {
     "delete_cmd_postfix": "",
     "delete_cmd_prefix": "del ",
     "library": "var_list.py",
     "varRefreshCmd": "print(var_dic_list())"
    },
    "r": {
     "delete_cmd_postfix": ") ",
     "delete_cmd_prefix": "rm(",
     "library": "var_list.r",
     "varRefreshCmd": "cat(var_dic_list()) "
    }
   },
   "types_to_exclude": [
    "module",
    "function",
    "builtin_function_or_method",
    "instance",
    "_Feature"
   ],
   "window_display": false
  }
 },
 "nbformat": 4,
 "nbformat_minor": 5
}
