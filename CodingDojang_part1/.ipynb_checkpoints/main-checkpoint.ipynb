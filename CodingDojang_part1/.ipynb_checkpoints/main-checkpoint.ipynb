{
 "cells": [
  {
   "cell_type": "code",
   "execution_count": 2,
   "metadata": {
    "scrolled": false
   },
   "outputs": [
    {
     "data": {
      "text/plain": [
       "{'__name__': '__main__',\n",
       " '__doc__': 'Automatically created module for IPython interactive environment',\n",
       " '__package__': None,\n",
       " '__loader__': None,\n",
       " '__spec__': None,\n",
       " '__builtin__': <module 'builtins' (built-in)>,\n",
       " '__builtins__': <module 'builtins' (built-in)>,\n",
       " '_ih': ['', 'import square2\\n\\nprint(square2.base)', 'globals()'],\n",
       " '_oh': {},\n",
       " '_dh': ['C:\\\\project\\\\Part_1'],\n",
       " 'In': ['', 'import square2\\n\\nprint(square2.base)', 'globals()'],\n",
       " 'Out': {},\n",
       " 'get_ipython': <bound method InteractiveShell.get_ipython of <ipykernel.zmqshell.ZMQInteractiveShell object at 0x00000202588AA518>>,\n",
       " 'exit': <IPython.core.autocall.ZMQExitAutocall at 0x2025c9c5908>,\n",
       " 'quit': <IPython.core.autocall.ZMQExitAutocall at 0x2025c9c5908>,\n",
       " '_': '',\n",
       " '__': '',\n",
       " '___': '',\n",
       " '_i': 'import square2\\n\\nprint(square2.base)',\n",
       " '_ii': '',\n",
       " '_iii': '',\n",
       " '_i1': 'import square2\\n\\nprint(square2.base)',\n",
       " '_i2': 'globals()'}"
      ]
     },
     "execution_count": 2,
     "metadata": {},
     "output_type": "execute_result"
    }
   ],
   "source": [
    "globals()"
   ]
  },
  {
   "cell_type": "markdown",
   "metadata": {},
   "source": [
    "```\n",
    "square.py\n",
    "\n",
    "base = 2    # 변수\n",
    "\n",
    "def square(n) :     # 함수\n",
    "\n",
    "    return base ** n\n",
    "```"
   ]
  },
  {
   "cell_type": "code",
   "execution_count": 9,
   "metadata": {
    "scrolled": true
   },
   "outputs": [
    {
     "name": "stdout",
     "output_type": "stream",
     "text": [
      "2\n"
     ]
    }
   ],
   "source": [
    "import square2\n",
    "\n",
    "print(square2.base)"
   ]
  },
  {
   "cell_type": "code",
   "execution_count": 10,
   "metadata": {},
   "outputs": [
    {
     "data": {
      "text/plain": [
       "{'__name__': '__main__',\n",
       " '__doc__': 'Automatically created module for IPython interactive environment',\n",
       " '__package__': None,\n",
       " '__loader__': None,\n",
       " '__spec__': None,\n",
       " '__builtin__': <module 'builtins' (built-in)>,\n",
       " '__builtins__': <module 'builtins' (built-in)>,\n",
       " '_ih': ['',\n",
       "  'import square2\\n\\nprint(square2.base)',\n",
       "  'globals()',\n",
       "  'import square2\\n\\nprint(square2.base)',\n",
       "  'print(square2.square(10))',\n",
       "  'import square2\\n\\nprint(square2.base)',\n",
       "  'import square2\\n\\nprint(square2.base)',\n",
       "  'base = 2 \\ndef square(n):\\n    return base**b',\n",
       "  'import square2\\n\\nprint(square2.base)',\n",
       "  'import square2\\n\\nprint(square2.base)',\n",
       "  'globals()'],\n",
       " '_oh': {2: {...}},\n",
       " '_dh': ['C:\\\\project\\\\Part_1'],\n",
       " 'In': ['',\n",
       "  'import square2\\n\\nprint(square2.base)',\n",
       "  'globals()',\n",
       "  'import square2\\n\\nprint(square2.base)',\n",
       "  'print(square2.square(10))',\n",
       "  'import square2\\n\\nprint(square2.base)',\n",
       "  'import square2\\n\\nprint(square2.base)',\n",
       "  'base = 2 \\ndef square(n):\\n    return base**b',\n",
       "  'import square2\\n\\nprint(square2.base)',\n",
       "  'import square2\\n\\nprint(square2.base)',\n",
       "  'globals()'],\n",
       " 'Out': {2: {...}},\n",
       " 'get_ipython': <bound method InteractiveShell.get_ipython of <ipykernel.zmqshell.ZMQInteractiveShell object at 0x00000202588AA518>>,\n",
       " 'exit': <IPython.core.autocall.ZMQExitAutocall at 0x2025c9c5908>,\n",
       " 'quit': <IPython.core.autocall.ZMQExitAutocall at 0x2025c9c5908>,\n",
       " '_': {...},\n",
       " '__': '',\n",
       " '___': '',\n",
       " '_i': 'import square2\\n\\nprint(square2.base)',\n",
       " '_ii': 'import square2\\n\\nprint(square2.base)',\n",
       " '_iii': 'base = 2 \\ndef square(n):\\n    return base**b',\n",
       " '_i1': 'import square2\\n\\nprint(square2.base)',\n",
       " '_i2': 'globals()',\n",
       " '_2': {...},\n",
       " '_i3': 'import square2\\n\\nprint(square2.base)',\n",
       " '_i4': 'print(square2.square(10))',\n",
       " '_i5': 'import square2\\n\\nprint(square2.base)',\n",
       " '_i6': 'import square2\\n\\nprint(square2.base)',\n",
       " '_i7': 'base = 2 \\ndef square(n):\\n    return base**b',\n",
       " 'base': 2,\n",
       " 'square': <function __main__.square(n)>,\n",
       " '_i8': 'import square2\\n\\nprint(square2.base)',\n",
       " '_i9': 'import square2\\n\\nprint(square2.base)',\n",
       " 'square2': <module 'square2' from 'C:\\\\project\\\\Part_1\\\\square2.py'>,\n",
       " '_i10': 'globals()'}"
      ]
     },
     "execution_count": 10,
     "metadata": {},
     "output_type": "execute_result"
    }
   ],
   "source": [
    "globals()"
   ]
  },
  {
   "cell_type": "code",
   "execution_count": 11,
   "metadata": {},
   "outputs": [
    {
     "name": "stdout",
     "output_type": "stream",
     "text": [
      "1024\n"
     ]
    }
   ],
   "source": [
    "print(square2.square(10))"
   ]
  },
  {
   "cell_type": "code",
   "execution_count": 12,
   "metadata": {
    "scrolled": true
   },
   "outputs": [
    {
     "name": "stdout",
     "output_type": "stream",
     "text": [
      "140713202193504\n"
     ]
    }
   ],
   "source": [
    "a = 10\n",
    "print(id(a))"
   ]
  },
  {
   "cell_type": "markdown",
   "metadata": {},
   "source": [
    "```\n",
    "person.py\n",
    "\n",
    "def __init__ (self, name, age, address):\n",
    "    self.name = name\n",
    "    self.age = ageself.address = address\n",
    "\n",
    "def greeting(self):\n",
    "    print('안녕하세요. 저는 {0}입니다.'.format(self.name))\n",
    "```"
   ]
  },
  {
   "cell_type": "code",
   "execution_count": 14,
   "metadata": {},
   "outputs": [
    {
     "data": {
      "text/plain": [
       "{'__name__': '__main__',\n",
       " '__doc__': 'Automatically created module for IPython interactive environment',\n",
       " '__package__': None,\n",
       " '__loader__': None,\n",
       " '__spec__': None,\n",
       " '__builtin__': <module 'builtins' (built-in)>,\n",
       " '__builtins__': <module 'builtins' (built-in)>,\n",
       " '_ih': ['',\n",
       "  'import square2\\n\\nprint(square2.base)',\n",
       "  'globals()',\n",
       "  'import square2\\n\\nprint(square2.base)',\n",
       "  'print(square2.square(10))',\n",
       "  'import square2\\n\\nprint(square2.base)',\n",
       "  'import square2\\n\\nprint(square2.base)',\n",
       "  'base = 2 \\ndef square(n):\\n    return base**b',\n",
       "  'import square2\\n\\nprint(square2.base)',\n",
       "  'import square2\\n\\nprint(square2.base)',\n",
       "  'globals()',\n",
       "  'print(square2.square(10))',\n",
       "  'a = 10\\nprint(id(a))',\n",
       "  \"import person\\n\\nmaria = person.Person('마리아', 20, '서울')\\nmaria.greeting()\",\n",
       "  'globals()'],\n",
       " '_oh': {2: {...}, 10: {...}},\n",
       " '_dh': ['C:\\\\project\\\\Part_1'],\n",
       " 'In': ['',\n",
       "  'import square2\\n\\nprint(square2.base)',\n",
       "  'globals()',\n",
       "  'import square2\\n\\nprint(square2.base)',\n",
       "  'print(square2.square(10))',\n",
       "  'import square2\\n\\nprint(square2.base)',\n",
       "  'import square2\\n\\nprint(square2.base)',\n",
       "  'base = 2 \\ndef square(n):\\n    return base**b',\n",
       "  'import square2\\n\\nprint(square2.base)',\n",
       "  'import square2\\n\\nprint(square2.base)',\n",
       "  'globals()',\n",
       "  'print(square2.square(10))',\n",
       "  'a = 10\\nprint(id(a))',\n",
       "  \"import person\\n\\nmaria = person.Person('마리아', 20, '서울')\\nmaria.greeting()\",\n",
       "  'globals()'],\n",
       " 'Out': {2: {...}, 10: {...}},\n",
       " 'get_ipython': <bound method InteractiveShell.get_ipython of <ipykernel.zmqshell.ZMQInteractiveShell object at 0x00000202588AA518>>,\n",
       " 'exit': <IPython.core.autocall.ZMQExitAutocall at 0x2025c9c5908>,\n",
       " 'quit': <IPython.core.autocall.ZMQExitAutocall at 0x2025c9c5908>,\n",
       " '_': {...},\n",
       " '__': {...},\n",
       " '___': '',\n",
       " '_i': \"import person\\n\\nmaria = person.Person('마리아', 20, '서울')\\nmaria.greeting()\",\n",
       " '_ii': 'a = 10\\nprint(id(a))',\n",
       " '_iii': 'print(square2.square(10))',\n",
       " '_i1': 'import square2\\n\\nprint(square2.base)',\n",
       " '_i2': 'globals()',\n",
       " '_2': {...},\n",
       " '_i3': 'import square2\\n\\nprint(square2.base)',\n",
       " '_i4': 'print(square2.square(10))',\n",
       " '_i5': 'import square2\\n\\nprint(square2.base)',\n",
       " '_i6': 'import square2\\n\\nprint(square2.base)',\n",
       " '_i7': 'base = 2 \\ndef square(n):\\n    return base**b',\n",
       " 'base': 2,\n",
       " 'square': <function __main__.square(n)>,\n",
       " '_i8': 'import square2\\n\\nprint(square2.base)',\n",
       " '_i9': 'import square2\\n\\nprint(square2.base)',\n",
       " 'square2': <module 'square2' from 'C:\\\\project\\\\Part_1\\\\square2.py'>,\n",
       " '_i10': 'globals()',\n",
       " '_10': {...},\n",
       " '_i11': 'print(square2.square(10))',\n",
       " '_i12': 'a = 10\\nprint(id(a))',\n",
       " 'a': 10,\n",
       " '_i13': \"import person\\n\\nmaria = person.Person('마리아', 20, '서울')\\nmaria.greeting()\",\n",
       " 'person': <module 'person' from 'C:\\\\project\\\\Part_1\\\\person.py'>,\n",
       " '_i14': 'globals()'}"
      ]
     },
     "execution_count": 14,
     "metadata": {},
     "output_type": "execute_result"
    }
   ],
   "source": [
    "globals()"
   ]
  },
  {
   "cell_type": "code",
   "execution_count": 28,
   "metadata": {
    "scrolled": false
   },
   "outputs": [
    {
     "ename": "ImportError",
     "evalue": "cannot import name 'Person' from 'person' (C:\\project\\Part_1\\person.py)",
     "output_type": "error",
     "traceback": [
      "\u001b[1;31m---------------------------------------------------------------------------\u001b[0m",
      "\u001b[1;31mImportError\u001b[0m                               Traceback (most recent call last)",
      "\u001b[1;32m<ipython-input-28-2f355515b50b>\u001b[0m in \u001b[0;36m<module>\u001b[1;34m\u001b[0m\n\u001b[1;32m----> 1\u001b[1;33m \u001b[1;32mfrom\u001b[0m \u001b[0mperson\u001b[0m \u001b[1;32mimport\u001b[0m \u001b[0mPerson\u001b[0m\u001b[1;33m\u001b[0m\u001b[1;33m\u001b[0m\u001b[0m\n\u001b[0m\u001b[0;32m      2\u001b[0m \u001b[1;33m\u001b[0m\u001b[0m\n\u001b[0;32m      3\u001b[0m \u001b[0mmaria\u001b[0m \u001b[1;33m=\u001b[0m \u001b[0mperson\u001b[0m\u001b[1;33m.\u001b[0m\u001b[0mPerson\u001b[0m\u001b[1;33m(\u001b[0m\u001b[1;34m'마리아'\u001b[0m\u001b[1;33m,\u001b[0m \u001b[1;36m20\u001b[0m\u001b[1;33m,\u001b[0m \u001b[1;34m'서울'\u001b[0m\u001b[1;33m)\u001b[0m\u001b[1;33m\u001b[0m\u001b[1;33m\u001b[0m\u001b[0m\n\u001b[0;32m      4\u001b[0m \u001b[0mmaria\u001b[0m\u001b[1;33m.\u001b[0m\u001b[0mgreeting\u001b[0m\u001b[1;33m(\u001b[0m\u001b[1;33m)\u001b[0m\u001b[1;33m\u001b[0m\u001b[1;33m\u001b[0m\u001b[0m\n",
      "\u001b[1;31mImportError\u001b[0m: cannot import name 'Person' from 'person' (C:\\project\\Part_1\\person.py)"
     ]
    }
   ],
   "source": [
    "from person import Person\n",
    "\n",
    "maria = person.Person('마리아', 20, '서울')\n",
    "maria.greeting()\n"
   ]
  },
  {
   "cell_type": "code",
   "execution_count": 22,
   "metadata": {},
   "outputs": [
    {
     "name": "stdout",
     "output_type": "stream",
     "text": [
      "hello 모듈 시작\n",
      "__name__:  __main__\n",
      "hello 모듈 끝\n"
     ]
    }
   ],
   "source": [
    "print('hello 모듈 시작')\n",
    "print('__name__: ', __name__)\n",
    "print('hello 모듈 끝')"
   ]
  },
  {
   "cell_type": "code",
   "execution_count": 30,
   "metadata": {},
   "outputs": [
    {
     "name": "stdout",
     "output_type": "stream",
     "text": [
      "main.py __name__:  __main__\n",
      "a :  20\n"
     ]
    },
    {
     "ename": "AttributeError",
     "evalue": "module 'hello' has no attribute 'a'",
     "output_type": "error",
     "traceback": [
      "\u001b[1;31m---------------------------------------------------------------------------\u001b[0m",
      "\u001b[1;31mAttributeError\u001b[0m                            Traceback (most recent call last)",
      "\u001b[1;32m<ipython-input-30-dbd5b86e7e54>\u001b[0m in \u001b[0;36m<module>\u001b[1;34m\u001b[0m\n\u001b[0;32m      3\u001b[0m \u001b[0mprint\u001b[0m\u001b[1;33m(\u001b[0m\u001b[1;34m'main.py __name__: '\u001b[0m\u001b[1;33m,\u001b[0m \u001b[0m__name__\u001b[0m\u001b[1;33m)\u001b[0m\u001b[1;33m\u001b[0m\u001b[1;33m\u001b[0m\u001b[0m\n\u001b[0;32m      4\u001b[0m \u001b[0mprint\u001b[0m\u001b[1;33m(\u001b[0m\u001b[1;34m'a : '\u001b[0m\u001b[1;33m,\u001b[0m \u001b[0ma\u001b[0m\u001b[1;33m)\u001b[0m\u001b[1;33m\u001b[0m\u001b[1;33m\u001b[0m\u001b[0m\n\u001b[1;32m----> 5\u001b[1;33m \u001b[0mprint\u001b[0m\u001b[1;33m(\u001b[0m\u001b[1;34m'hello : '\u001b[0m\u001b[1;33m,\u001b[0m \u001b[0mhello\u001b[0m\u001b[1;33m.\u001b[0m\u001b[0ma\u001b[0m\u001b[1;33m)\u001b[0m\u001b[1;33m\u001b[0m\u001b[1;33m\u001b[0m\u001b[0m\n\u001b[0m",
      "\u001b[1;31mAttributeError\u001b[0m: module 'hello' has no attribute 'a'"
     ]
    }
   ],
   "source": [
    "import hello\n",
    "a = 20\n",
    "print('main.py __name__: ', __name__)\n",
    "print('a : ', a)\n",
    "print('hello : ', hello.a)"
   ]
  },
  {
   "cell_type": "code",
   "execution_count": 29,
   "metadata": {
    "scrolled": false
   },
   "outputs": [
    {
     "name": "stdout",
     "output_type": "stream",
     "text": [
      "hello 모듈 시작\n",
      "__name__:  hello\n",
      "hello 모듈 끝\n"
     ]
    },
    {
     "data": {
      "text/plain": [
       "<module 'hello' from 'C:\\\\project\\\\Part_1\\\\hello.py'>"
      ]
     },
     "execution_count": 29,
     "metadata": {},
     "output_type": "execute_result"
    }
   ],
   "source": [
    "import importlib\n",
    "importlib.reload(hello)"
   ]
  },
  {
   "cell_type": "code",
   "execution_count": 33,
   "metadata": {},
   "outputs": [
    {
     "name": "stdout",
     "output_type": "stream",
     "text": [
      "110\n",
      "3000\n"
     ]
    }
   ],
   "source": [
    "# 45.2.1 스크립트 파일로 실행하거나 모듈로 사용하는 코드 만들기 --- p.674\n",
    "\n",
    "import calc # __name__변수값이 __main__일 때만 10, 20합과 곱 출력하도록\n",
    "\n",
    "#함수에 값 넣어서 출력하면 됨\n",
    "print(calc.add(50,60))\n",
    "print(calc.mul(50,60))"
   ]
  },
  {
   "cell_type": "code",
   "execution_count": null,
   "metadata": {},
   "outputs": [],
   "source": []
  },
  {
   "cell_type": "code",
   "execution_count": null,
   "metadata": {},
   "outputs": [],
   "source": []
  },
  {
   "cell_type": "code",
   "execution_count": null,
   "metadata": {},
   "outputs": [],
   "source": []
  },
  {
   "cell_type": "code",
   "execution_count": null,
   "metadata": {},
   "outputs": [],
   "source": []
  },
  {
   "cell_type": "code",
   "execution_count": null,
   "metadata": {},
   "outputs": [],
   "source": []
  },
  {
   "cell_type": "code",
   "execution_count": null,
   "metadata": {},
   "outputs": [],
   "source": []
  },
  {
   "cell_type": "code",
   "execution_count": null,
   "metadata": {},
   "outputs": [],
   "source": []
  }
 ],
 "metadata": {
  "kernelspec": {
   "display_name": "Python 3",
   "language": "python",
   "name": "python3"
  },
  "language_info": {
   "codemirror_mode": {
    "name": "ipython",
    "version": 3
   },
   "file_extension": ".py",
   "mimetype": "text/x-python",
   "name": "python",
   "nbconvert_exporter": "python",
   "pygments_lexer": "ipython3",
   "version": "3.7.3"
  }
 },
 "nbformat": 4,
 "nbformat_minor": 2
}
