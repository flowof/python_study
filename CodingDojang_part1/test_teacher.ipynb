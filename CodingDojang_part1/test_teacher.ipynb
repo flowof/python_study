{
 "cells": [
  {
   "cell_type": "code",
   "execution_count": null,
   "metadata": {},
   "outputs": [],
   "source": [
    "import square2\n",
    "\n",
    "print(square2.base)"
   ]
  },
  {
   "cell_type": "code",
   "execution_count": null,
   "metadata": {},
   "outputs": [],
   "source": [
    "globals()"
   ]
  },
  {
   "cell_type": "code",
   "execution_count": null,
   "metadata": {},
   "outputs": [],
   "source": [
    "print(square2.base)"
   ]
  },
  {
   "cell_type": "code",
   "execution_count": null,
   "metadata": {},
   "outputs": [],
   "source": [
    "print(square2.square(10))"
   ]
  },
  {
   "cell_type": "code",
   "execution_count": null,
   "metadata": {},
   "outputs": [],
   "source": [
    "from square2 import base, square"
   ]
  },
  {
   "cell_type": "code",
   "execution_count": null,
   "metadata": {},
   "outputs": [],
   "source": [
    "globals()"
   ]
  },
  {
   "cell_type": "code",
   "execution_count": null,
   "metadata": {
    "scrolled": true
   },
   "outputs": [],
   "source": [
    "a = 10\n",
    "print(id(a))"
   ]
  },
  {
   "cell_type": "code",
   "execution_count": null,
   "metadata": {},
   "outputs": [],
   "source": [
    "import person\n",
    "\n",
    "maria = person.Person('마리아',20,'서울시')\n",
    "maria.greeting()\n",
    "\n",
    "del person"
   ]
  },
  {
   "cell_type": "code",
   "execution_count": null,
   "metadata": {},
   "outputs": [],
   "source": [
    "maria.greeting()"
   ]
  },
  {
   "cell_type": "code",
   "execution_count": null,
   "metadata": {},
   "outputs": [],
   "source": [
    "aaa = person.Person('홍길동',20,'서울')"
   ]
  },
  {
   "cell_type": "code",
   "execution_count": null,
   "metadata": {},
   "outputs": [],
   "source": [
    "globals()"
   ]
  },
  {
   "cell_type": "code",
   "execution_count": null,
   "metadata": {},
   "outputs": [],
   "source": [
    "from person import Person"
   ]
  },
  {
   "cell_type": "code",
   "execution_count": null,
   "metadata": {},
   "outputs": [],
   "source": [
    "globals()"
   ]
  },
  {
   "cell_type": "code",
   "execution_count": null,
   "metadata": {},
   "outputs": [],
   "source": [
    "maria = Person('마리아', 20,'서울시')"
   ]
  },
  {
   "cell_type": "code",
   "execution_count": null,
   "metadata": {},
   "outputs": [],
   "source": [
    "print('hello 모듈 시작')\n",
    "print('__name__: ', __name__)\n",
    "print('hello 모듈 끝')"
   ]
  },
  {
   "cell_type": "code",
   "execution_count": null,
   "metadata": {},
   "outputs": [],
   "source": [
    "import hello\n",
    "a = 20\n",
    "print('main.py __name__: ', __name__)\n",
    "print(\"a: \", a)\n",
    "print('hello: ',hello.a)"
   ]
  },
  {
   "cell_type": "code",
   "execution_count": null,
   "metadata": {},
   "outputs": [],
   "source": [
    "globals()"
   ]
  },
  {
   "cell_type": "code",
   "execution_count": null,
   "metadata": {},
   "outputs": [],
   "source": [
    "import sys\n",
    "print(sys.path)"
   ]
  },
  {
   "cell_type": "code",
   "execution_count": null,
   "metadata": {},
   "outputs": [],
   "source": [
    "bin(13)"
   ]
  },
  {
   "cell_type": "code",
   "execution_count": null,
   "metadata": {},
   "outputs": [],
   "source": [
    "int('1101',2)"
   ]
  },
  {
   "cell_type": "code",
   "execution_count": null,
   "metadata": {},
   "outputs": [],
   "source": [
    "a = 3\n",
    "b = 1\n",
    "a << b"
   ]
  },
  {
   "cell_type": "code",
   "execution_count": null,
   "metadata": {},
   "outputs": [],
   "source": [
    "a >> b"
   ]
  },
  {
   "cell_type": "code",
   "execution_count": null,
   "metadata": {},
   "outputs": [],
   "source": [
    "bytes(10)"
   ]
  },
  {
   "cell_type": "code",
   "execution_count": null,
   "metadata": {},
   "outputs": [],
   "source": [
    "bytes([10,20,30,40,50])"
   ]
  },
  {
   "cell_type": "code",
   "execution_count": null,
   "metadata": {},
   "outputs": [],
   "source": [
    "bytes(b'hello')"
   ]
  },
  {
   "cell_type": "code",
   "execution_count": null,
   "metadata": {},
   "outputs": [],
   "source": [
    "a = bytes(b'hello')\n",
    "type(a)"
   ]
  },
  {
   "cell_type": "code",
   "execution_count": null,
   "metadata": {},
   "outputs": [],
   "source": [
    "print(dir(a))"
   ]
  },
  {
   "cell_type": "code",
   "execution_count": null,
   "metadata": {},
   "outputs": [],
   "source": [
    "a[0] = 105"
   ]
  },
  {
   "cell_type": "code",
   "execution_count": null,
   "metadata": {},
   "outputs": [],
   "source": [
    "lst = [10,20,30,40,50]"
   ]
  },
  {
   "cell_type": "code",
   "execution_count": null,
   "metadata": {},
   "outputs": [],
   "source": [
    "print(dir(lst))"
   ]
  },
  {
   "cell_type": "code",
   "execution_count": null,
   "metadata": {},
   "outputs": [],
   "source": [
    "b = bytes([10,20,30,40,256])"
   ]
  },
  {
   "cell_type": "code",
   "execution_count": null,
   "metadata": {},
   "outputs": [],
   "source": [
    "x = bytearray(b'hello')\n",
    "x"
   ]
  },
  {
   "cell_type": "code",
   "execution_count": null,
   "metadata": {},
   "outputs": [],
   "source": [
    "x[0] = ord('a')\n",
    "x"
   ]
  },
  {
   "cell_type": "code",
   "execution_count": null,
   "metadata": {},
   "outputs": [],
   "source": [
    "type('hello')"
   ]
  },
  {
   "cell_type": "code",
   "execution_count": null,
   "metadata": {},
   "outputs": [],
   "source": [
    "'hello'.encode()"
   ]
  },
  {
   "cell_type": "code",
   "execution_count": null,
   "metadata": {},
   "outputs": [],
   "source": [
    "'안녕'.encode()"
   ]
  },
  {
   "cell_type": "code",
   "execution_count": null,
   "metadata": {},
   "outputs": [],
   "source": [
    "'안녕'.encode('utf-8')"
   ]
  },
  {
   "cell_type": "code",
   "execution_count": null,
   "metadata": {},
   "outputs": [],
   "source": [
    "'안녕'.encode('euc-kr')"
   ]
  },
  {
   "cell_type": "code",
   "execution_count": null,
   "metadata": {},
   "outputs": [],
   "source": [
    "x = '안녕'.encode('euc-kr')"
   ]
  },
  {
   "cell_type": "code",
   "execution_count": null,
   "metadata": {},
   "outputs": [],
   "source": [
    "x.decode('euc-kr')"
   ]
  },
  {
   "cell_type": "code",
   "execution_count": null,
   "metadata": {},
   "outputs": [],
   "source": [
    "bin(0x13)"
   ]
  },
  {
   "cell_type": "code",
   "execution_count": null,
   "metadata": {},
   "outputs": [],
   "source": [
    "x = bytearray(b'\\xbe\\xc8\\xb3\\xe7')\n",
    "x"
   ]
  },
  {
   "cell_type": "code",
   "execution_count": null,
   "metadata": {},
   "outputs": [],
   "source": [
    "x.decode('euc-kr')"
   ]
  },
  {
   "cell_type": "code",
   "execution_count": null,
   "metadata": {},
   "outputs": [],
   "source": [
    "'안녕'.encode('utf-8')"
   ]
  },
  {
   "cell_type": "code",
   "execution_count": null,
   "metadata": {},
   "outputs": [],
   "source": [
    "x = bytearray(b'\\xec\\x95\\x88\\xeb\\x85\\x95')\n",
    "x"
   ]
  },
  {
   "cell_type": "code",
   "execution_count": null,
   "metadata": {},
   "outputs": [],
   "source": [
    "x.decode('utf-8')"
   ]
  },
  {
   "cell_type": "code",
   "execution_count": null,
   "metadata": {},
   "outputs": [],
   "source": [
    "#step1\n",
    "\n",
    "flag = [0,0,0,0]\n",
    "flag[0] = 1\n",
    "flag[3] = 1\n",
    "\n",
    "for i in range(len(flag)):\n",
    "    if flag[i] == 1:\n",
    "        print(\"%d \" % i, end=' ')\n",
    "\n",
    "print(\"\\n%s\" %('-' * 50))        \n",
    "flag[3] = 0\n",
    "\n",
    "for i in range(len(flag)):\n",
    "    if flag[i] == 1:\n",
    "        print(\"%d \" % i, end=' ')"
   ]
  },
  {
   "cell_type": "code",
   "execution_count": null,
   "metadata": {},
   "outputs": [],
   "source": [
    "# step 2\n",
    "# 비트 연산자를 활용한 flag 처리\n",
    "flag = 0\n",
    "flag = flag | 1\n",
    "flag = flag | 8\n",
    "\n",
    "for i in range(4):\n",
    "    if(flag & 1<<i):\n",
    "        print(\"%d \" % i, end = ' ')\n",
    "print(\"\\n%s\" %('-' * 50))   \n",
    "\n",
    "\n",
    "flag = flag & ~8\n",
    "for i in range(4):\n",
    "    if(flag & 1<<i):\n",
    "        print(\"%d \" % i, end = ' ')   "
   ]
  },
  {
   "cell_type": "code",
   "execution_count": null,
   "metadata": {},
   "outputs": [],
   "source": [
    "# step 3\n",
    "# 비트 연산자를 활용한 flag 처리\n",
    "flag = 0\n",
    "flag = flag | 1 <<0   #  1 <<0\n",
    "flag = flag | 1 <<3  #  1 <<3\n",
    "\n",
    "for i in range(4):\n",
    "    if(flag & 1<<i):\n",
    "        print(\"%d \" % i, end = ' ')\n",
    "print(\"\\n%s\" %('-' * 50))   \n",
    "\n",
    "\n",
    "flag = flag & ~(1<<3)\n",
    "for i in range(4):\n",
    "    if(flag & 1<<i):\n",
    "        print(\"%d \" % i, end = ' ')   "
   ]
  },
  {
   "cell_type": "code",
   "execution_count": null,
   "metadata": {},
   "outputs": [],
   "source": [
    "#step 4\n",
    "# 1000개의 아이템 사용하기\n",
    "flag = []\n",
    "for i in range(16):\n",
    "    flag.append(0)\n",
    "\n",
    "#flag[70//64] = flag[70//64] | 1 <<(70%64)\n",
    "flag[700//64] |= (1 <<(700%64))\n",
    "\n",
    "flag[int(80/64)] |= (1 <<(80%64))\n",
    "\n",
    "for i in range(len(flag)*64):\n",
    "    if(flag[int(i/64)] & (1<<(i%64))):\n",
    "        print(\"%d \" % i, end = ' ')\n",
    "print(\"\\n%s\" %('-' * 50))   \n",
    "\n",
    "flag[int(80/64)] &= ~(1<<(80%64))\n",
    "\n",
    "for i in range(len(flag)*64):\n",
    "    if(flag[int(i/64)] & (1<<(i%64))):\n",
    "        print(\"%d \" % i, end = ' ')"
   ]
  },
  {
   "cell_type": "code",
   "execution_count": null,
   "metadata": {},
   "outputs": [],
   "source": [
    "#step 5\n",
    "# 함수를 이용한 모듈화 \n",
    "def bit_set(index):\n",
    "    flag[index//64] |= (1 <<(index%64))\n",
    "    \n",
    "def bit_clear(index):\n",
    "    flag[int(index/64)] &= ~(1<<(index%64))\n",
    "\n",
    "def bit_isset(index):\n",
    "    return flag[int(index/64)] & (1<<(index%64))\n",
    "    \n",
    "flag = []\n",
    "for i in range(16):\n",
    "    flag.append(0)\n",
    "\n",
    "    \n",
    "bit_set(700)  \n",
    "bit_set(800)\n",
    "\n",
    "\n",
    "for i in range(len(flag)*64):\n",
    "    if(bit_isset(i)):\n",
    "        print(\"%d \" % i, end = ' ')\n",
    "print(\"\\n%s\" %('-' * 50))   \n",
    "\n",
    "bit_clear(800)\n",
    "\n",
    "\n",
    "for i in range(len(flag)*64):\n",
    "    if(bit_isset(i)):\n",
    "        print(\"%d \" % i, end = ' ')"
   ]
  },
  {
   "cell_type": "code",
   "execution_count": null,
   "metadata": {},
   "outputs": [],
   "source": [
    "#step 6\n",
    "# BIT 자료형 생성, 초기화 및 할당\n",
    "def bit_set(index):\n",
    "    flag[index//64] |= (1 <<(index%64))\n",
    "    \n",
    "def bit_clear(index):\n",
    "    flag[int(index/64)] &= ~(1<<(index%64))\n",
    "\n",
    "def bit_isset(index):\n",
    "    return flag[int(index/64)] & (1<<(index%64))\n",
    "\n",
    "def BIT():\n",
    "    flag = []\n",
    "    for i in range(16):\n",
    "        flag.append(0)\n",
    "    return flag\n",
    "\n",
    "#------------------------------------------------------------\n",
    "\n",
    "flag = BIT()\n",
    "    \n",
    "bit_set(700)  \n",
    "bit_set(800)\n",
    "\n",
    "\n",
    "for i in range(len(flag)*64):\n",
    "    if(bit_isset(i)):\n",
    "        print(\"%d \" % i, end = ' ')\n",
    "print(\"\\n%s\" %('-' * 50))   \n",
    "\n",
    "bit_clear(800)\n",
    "\n",
    "\n",
    "for i in range(len(flag)*64):\n",
    "    if(bit_isset(i)):\n",
    "        print(\"%d \" % i, end = ' ')"
   ]
  },
  {
   "cell_type": "code",
   "execution_count": null,
   "metadata": {},
   "outputs": [],
   "source": [
    "#step 7\n",
    "# 루틴 테스트\n",
    "# main() 함수 만들기\n",
    "def bit_set(index):\n",
    "    flag[index//64] |= (1 <<(index%64))\n",
    "    \n",
    "def bit_clear(index):\n",
    "    flag[int(index/64)] &= ~(1<<(index%64))\n",
    "\n",
    "def bit_isset(index):\n",
    "    return flag[int(index/64)] & (1<<(index%64))\n",
    "\n",
    "def BIT():\n",
    "    flag = []\n",
    "    for i in range(16):\n",
    "        flag.append(0)\n",
    "    return flag\n",
    "\n",
    "#------------------------------------------------------------\n",
    "\n",
    "def main():\n",
    "    flag = BIT()\n",
    "    bit_set(700)  \n",
    "    bit_set(800)\n",
    "\n",
    "\n",
    "    for i in range(len(flag)*64):\n",
    "        if(bit_isset(i)):\n",
    "            print(\"%d \" % i, end = ' ')\n",
    "    print(\"\\n%s\" %('-' * 50))   \n",
    "    bit_clear(800)\n",
    "\n",
    "    for i in range(len(flag)*64):\n",
    "        if(bit_isset(i)):\n",
    "            print(\"%d \" % i, end = ' ')\n",
    "            \n",
    "if __name__ == '__main__':\n",
    "    main()"
   ]
  },
  {
   "cell_type": "code",
   "execution_count": null,
   "metadata": {},
   "outputs": [],
   "source": [
    "import bit\n",
    "import importlib\n",
    "importlib.reload(bit)"
   ]
  },
  {
   "cell_type": "code",
   "execution_count": 2,
   "metadata": {},
   "outputs": [
    {
     "name": "stdout",
     "output_type": "stream",
     "text": [
      "700  800  \n",
      "--------------------------------------------------\n",
      "700  "
     ]
    }
   ],
   "source": [
    "import sys\n",
    "sys.path.append(r'C:\\pythonlib')\n",
    "\n",
    "from bit import BIT, bit_set,bit_clear, bit_isset\n",
    "def main():\n",
    "    flag = BIT()\n",
    "    bit_set(flag,700)  \n",
    "    bit_set(flag,800)\n",
    "\n",
    "\n",
    "    for i in range(len(flag)*64):\n",
    "        if(bit_isset(flag,i)):\n",
    "            print(\"%d \" % i, end = ' ')\n",
    "    print(\"\\n%s\" %('-' * 50))   \n",
    "    bit_clear(flag, 800)\n",
    "\n",
    "    for i in range(len(flag)*64):\n",
    "        if(bit_isset(flag, i)):\n",
    "            print(\"%d \" % i, end = ' ')\n",
    "            \n",
    "if __name__ == '__main__':\n",
    "    main()"
   ]
  },
  {
   "cell_type": "code",
   "execution_count": null,
   "metadata": {},
   "outputs": [],
   "source": [
    "import sys\n",
    "print(sys.path)"
   ]
  },
  {
   "cell_type": "code",
   "execution_count": null,
   "metadata": {},
   "outputs": [],
   "source": [
    "sys.path.append(r'C:\\pythonlib')"
   ]
  },
  {
   "cell_type": "code",
   "execution_count": null,
   "metadata": {},
   "outputs": [],
   "source": [
    "print(sys.path)"
   ]
  },
  {
   "cell_type": "code",
   "execution_count": null,
   "metadata": {},
   "outputs": [],
   "source": []
  }
 ],
 "metadata": {
  "kernelspec": {
   "display_name": "Python 3",
   "language": "python",
   "name": "python3"
  },
  "language_info": {
   "codemirror_mode": {
    "name": "ipython",
    "version": 3
   },
   "file_extension": ".py",
   "mimetype": "text/x-python",
   "name": "python",
   "nbconvert_exporter": "python",
   "pygments_lexer": "ipython3",
   "version": "3.7.3"
  },
  "toc": {
   "base_numbering": 1,
   "nav_menu": {},
   "number_sections": true,
   "sideBar": true,
   "skip_h1_title": false,
   "title_cell": "Table of Contents",
   "title_sidebar": "Contents",
   "toc_cell": false,
   "toc_position": {},
   "toc_section_display": true,
   "toc_window_display": false
  },
  "varInspector": {
   "cols": {
    "lenName": 16,
    "lenType": 16,
    "lenVar": 40
   },
   "kernels_config": {
    "python": {
     "delete_cmd_postfix": "",
     "delete_cmd_prefix": "del ",
     "library": "var_list.py",
     "varRefreshCmd": "print(var_dic_list())"
    },
    "r": {
     "delete_cmd_postfix": ") ",
     "delete_cmd_prefix": "rm(",
     "library": "var_list.r",
     "varRefreshCmd": "cat(var_dic_list()) "
    }
   },
   "types_to_exclude": [
    "module",
    "function",
    "builtin_function_or_method",
    "instance",
    "_Feature"
   ],
   "window_display": false
  }
 },
 "nbformat": 4,
 "nbformat_minor": 5
}
