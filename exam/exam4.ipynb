{
 "cells": [
  {
   "cell_type": "code",
   "execution_count": 1,
   "metadata": {},
   "outputs": [
    {
     "data": {
      "text/html": [
       "<div>\n",
       "<style scoped>\n",
       "    .dataframe tbody tr th:only-of-type {\n",
       "        vertical-align: middle;\n",
       "    }\n",
       "\n",
       "    .dataframe tbody tr th {\n",
       "        vertical-align: top;\n",
       "    }\n",
       "\n",
       "    .dataframe thead th {\n",
       "        text-align: right;\n",
       "    }\n",
       "</style>\n",
       "<table border=\"1\" class=\"dataframe\">\n",
       "  <thead>\n",
       "    <tr style=\"text-align: right;\">\n",
       "      <th></th>\n",
       "      <th>mpg</th>\n",
       "      <th>cylinders</th>\n",
       "      <th>displacement</th>\n",
       "      <th>horsepower</th>\n",
       "      <th>weight</th>\n",
       "      <th>acceleration</th>\n",
       "      <th>model year</th>\n",
       "      <th>origin</th>\n",
       "      <th>name</th>\n",
       "    </tr>\n",
       "  </thead>\n",
       "  <tbody>\n",
       "    <tr>\n",
       "      <th>0</th>\n",
       "      <td>18.0</td>\n",
       "      <td>8</td>\n",
       "      <td>307.0</td>\n",
       "      <td>130.0</td>\n",
       "      <td>3504.0</td>\n",
       "      <td>12.0</td>\n",
       "      <td>70</td>\n",
       "      <td>1</td>\n",
       "      <td>chevrolet chevelle malibu</td>\n",
       "    </tr>\n",
       "    <tr>\n",
       "      <th>1</th>\n",
       "      <td>15.0</td>\n",
       "      <td>8</td>\n",
       "      <td>350.0</td>\n",
       "      <td>165.0</td>\n",
       "      <td>3693.0</td>\n",
       "      <td>11.5</td>\n",
       "      <td>70</td>\n",
       "      <td>1</td>\n",
       "      <td>buick skylark 320</td>\n",
       "    </tr>\n",
       "    <tr>\n",
       "      <th>2</th>\n",
       "      <td>18.0</td>\n",
       "      <td>8</td>\n",
       "      <td>318.0</td>\n",
       "      <td>150.0</td>\n",
       "      <td>3436.0</td>\n",
       "      <td>11.0</td>\n",
       "      <td>70</td>\n",
       "      <td>1</td>\n",
       "      <td>plymouth satellite</td>\n",
       "    </tr>\n",
       "    <tr>\n",
       "      <th>3</th>\n",
       "      <td>16.0</td>\n",
       "      <td>8</td>\n",
       "      <td>304.0</td>\n",
       "      <td>150.0</td>\n",
       "      <td>3433.0</td>\n",
       "      <td>12.0</td>\n",
       "      <td>70</td>\n",
       "      <td>1</td>\n",
       "      <td>amc rebel sst</td>\n",
       "    </tr>\n",
       "    <tr>\n",
       "      <th>4</th>\n",
       "      <td>17.0</td>\n",
       "      <td>8</td>\n",
       "      <td>302.0</td>\n",
       "      <td>140.0</td>\n",
       "      <td>3449.0</td>\n",
       "      <td>10.5</td>\n",
       "      <td>70</td>\n",
       "      <td>1</td>\n",
       "      <td>ford torino</td>\n",
       "    </tr>\n",
       "  </tbody>\n",
       "</table>\n",
       "</div>"
      ],
      "text/plain": [
       "    mpg  cylinders  displacement horsepower  weight  acceleration  model year  \\\n",
       "0  18.0          8         307.0      130.0  3504.0          12.0          70   \n",
       "1  15.0          8         350.0      165.0  3693.0          11.5          70   \n",
       "2  18.0          8         318.0      150.0  3436.0          11.0          70   \n",
       "3  16.0          8         304.0      150.0  3433.0          12.0          70   \n",
       "4  17.0          8         302.0      140.0  3449.0          10.5          70   \n",
       "\n",
       "   origin                       name  \n",
       "0       1  chevrolet chevelle malibu  \n",
       "1       1          buick skylark 320  \n",
       "2       1         plymouth satellite  \n",
       "3       1              amc rebel sst  \n",
       "4       1                ford torino  "
      ]
     },
     "metadata": {},
     "output_type": "display_data"
    },
    {
     "name": "stdout",
     "output_type": "stream",
     "text": [
      "\n",
      "\n"
     ]
    },
    {
     "data": {
      "text/html": [
       "<div>\n",
       "<style scoped>\n",
       "    .dataframe tbody tr th:only-of-type {\n",
       "        vertical-align: middle;\n",
       "    }\n",
       "\n",
       "    .dataframe tbody tr th {\n",
       "        vertical-align: top;\n",
       "    }\n",
       "\n",
       "    .dataframe thead th {\n",
       "        text-align: right;\n",
       "    }\n",
       "</style>\n",
       "<table border=\"1\" class=\"dataframe\">\n",
       "  <thead>\n",
       "    <tr style=\"text-align: right;\">\n",
       "      <th></th>\n",
       "      <th>mpg</th>\n",
       "      <th>cylinders</th>\n",
       "      <th>displacement</th>\n",
       "      <th>horsepower</th>\n",
       "      <th>weight</th>\n",
       "      <th>acceleration</th>\n",
       "      <th>model year</th>\n",
       "      <th>origin</th>\n",
       "      <th>name</th>\n",
       "    </tr>\n",
       "  </thead>\n",
       "  <tbody>\n",
       "    <tr>\n",
       "      <th>393</th>\n",
       "      <td>27.0</td>\n",
       "      <td>4</td>\n",
       "      <td>140.0</td>\n",
       "      <td>86.00</td>\n",
       "      <td>2790.0</td>\n",
       "      <td>15.6</td>\n",
       "      <td>82</td>\n",
       "      <td>1</td>\n",
       "      <td>ford mustang gl</td>\n",
       "    </tr>\n",
       "    <tr>\n",
       "      <th>394</th>\n",
       "      <td>44.0</td>\n",
       "      <td>4</td>\n",
       "      <td>97.0</td>\n",
       "      <td>52.00</td>\n",
       "      <td>2130.0</td>\n",
       "      <td>24.6</td>\n",
       "      <td>82</td>\n",
       "      <td>2</td>\n",
       "      <td>vw pickup</td>\n",
       "    </tr>\n",
       "    <tr>\n",
       "      <th>395</th>\n",
       "      <td>32.0</td>\n",
       "      <td>4</td>\n",
       "      <td>135.0</td>\n",
       "      <td>84.00</td>\n",
       "      <td>2295.0</td>\n",
       "      <td>11.6</td>\n",
       "      <td>82</td>\n",
       "      <td>1</td>\n",
       "      <td>dodge rampage</td>\n",
       "    </tr>\n",
       "    <tr>\n",
       "      <th>396</th>\n",
       "      <td>28.0</td>\n",
       "      <td>4</td>\n",
       "      <td>120.0</td>\n",
       "      <td>79.00</td>\n",
       "      <td>2625.0</td>\n",
       "      <td>18.6</td>\n",
       "      <td>82</td>\n",
       "      <td>1</td>\n",
       "      <td>ford ranger</td>\n",
       "    </tr>\n",
       "    <tr>\n",
       "      <th>397</th>\n",
       "      <td>31.0</td>\n",
       "      <td>4</td>\n",
       "      <td>119.0</td>\n",
       "      <td>82.00</td>\n",
       "      <td>2720.0</td>\n",
       "      <td>19.4</td>\n",
       "      <td>82</td>\n",
       "      <td>1</td>\n",
       "      <td>chevy s-10</td>\n",
       "    </tr>\n",
       "  </tbody>\n",
       "</table>\n",
       "</div>"
      ],
      "text/plain": [
       "      mpg  cylinders  displacement horsepower  weight  acceleration  \\\n",
       "393  27.0          4         140.0      86.00  2790.0          15.6   \n",
       "394  44.0          4          97.0      52.00  2130.0          24.6   \n",
       "395  32.0          4         135.0      84.00  2295.0          11.6   \n",
       "396  28.0          4         120.0      79.00  2625.0          18.6   \n",
       "397  31.0          4         119.0      82.00  2720.0          19.4   \n",
       "\n",
       "     model year  origin             name  \n",
       "393          82       1  ford mustang gl  \n",
       "394          82       2        vw pickup  \n",
       "395          82       1    dodge rampage  \n",
       "396          82       1      ford ranger  \n",
       "397          82       1       chevy s-10  "
      ]
     },
     "metadata": {},
     "output_type": "display_data"
    }
   ],
   "source": [
    "# 예제 3-1\n",
    "import pandas as pd\n",
    "\n",
    "# read_csv() 함수로 df 생성\n",
    "df = pd.read_csv('./data/auto-mpg.csv', header=None)\n",
    "\n",
    "# 열 이름을 지정\n",
    "df.columns = ['mpg','cylinders','displacement','horsepower','weight',\n",
    "              'acceleration','model year','origin','name']\n",
    "\n",
    "# 데이터프레임 df의 내용을 일부 확인 \n",
    "display(df.head())     # 처음 5개의 행\n",
    "print('\\n')\n",
    "display(df.tail())     # 마지막 5개의 행"
   ]
  },
  {
   "cell_type": "code",
   "execution_count": 2,
   "metadata": {},
   "outputs": [
    {
     "name": "stdout",
     "output_type": "stream",
     "text": [
      "(398, 9)\n",
      "\n",
      "\n"
     ]
    }
   ],
   "source": [
    "# df의 모양과 크기 확인: (행의 개수, 열의 개수)를 투플로 반환 \n",
    "print(df.shape)\n",
    "print('\\n')"
   ]
  },
  {
   "cell_type": "code",
   "execution_count": 3,
   "metadata": {},
   "outputs": [
    {
     "name": "stdout",
     "output_type": "stream",
     "text": [
      "<class 'pandas.core.frame.DataFrame'>\n",
      "RangeIndex: 398 entries, 0 to 397\n",
      "Data columns (total 9 columns):\n",
      " #   Column        Non-Null Count  Dtype  \n",
      "---  ------        --------------  -----  \n",
      " 0   mpg           398 non-null    float64\n",
      " 1   cylinders     398 non-null    int64  \n",
      " 2   displacement  398 non-null    float64\n",
      " 3   horsepower    398 non-null    object \n",
      " 4   weight        398 non-null    float64\n",
      " 5   acceleration  398 non-null    float64\n",
      " 6   model year    398 non-null    int64  \n",
      " 7   origin        398 non-null    int64  \n",
      " 8   name          398 non-null    object \n",
      "dtypes: float64(4), int64(3), object(2)\n",
      "memory usage: 28.1+ KB\n",
      "None\n",
      "\n",
      "\n"
     ]
    }
   ],
   "source": [
    "# 데이터프레임 df의 내용 확인 \n",
    "print(df.info())\n",
    "print('\\n')"
   ]
  },
  {
   "cell_type": "code",
   "execution_count": 4,
   "metadata": {},
   "outputs": [
    {
     "name": "stdout",
     "output_type": "stream",
     "text": [
      "mpg             float64\n",
      "cylinders         int64\n",
      "displacement    float64\n",
      "horsepower       object\n",
      "weight          float64\n",
      "acceleration    float64\n",
      "model year        int64\n",
      "origin            int64\n",
      "name             object\n",
      "dtype: object\n",
      "\n",
      "\n",
      "float64\n",
      "\n",
      "\n"
     ]
    }
   ],
   "source": [
    "\n",
    "# 데이터프레임 df의 자료형 확인 \n",
    "print(df.dtypes)\n",
    "print('\\n')\n",
    "\n",
    "# 시리즈(mog 열)의 자료형 확인 \n",
    "print(df.mpg.dtypes)\n",
    "print('\\n')"
   ]
  },
  {
   "cell_type": "code",
   "execution_count": 5,
   "metadata": {},
   "outputs": [
    {
     "name": "stdout",
     "output_type": "stream",
     "text": [
      "              mpg   cylinders  displacement       weight  acceleration  \\\n",
      "count  398.000000  398.000000    398.000000   398.000000    398.000000   \n",
      "mean    23.514573    5.454774    193.425879  2970.424623     15.568090   \n",
      "std      7.815984    1.701004    104.269838   846.841774      2.757689   \n",
      "min      9.000000    3.000000     68.000000  1613.000000      8.000000   \n",
      "25%     17.500000    4.000000    104.250000  2223.750000     13.825000   \n",
      "50%     23.000000    4.000000    148.500000  2803.500000     15.500000   \n",
      "75%     29.000000    8.000000    262.000000  3608.000000     17.175000   \n",
      "max     46.600000    8.000000    455.000000  5140.000000     24.800000   \n",
      "\n",
      "       model year      origin  \n",
      "count  398.000000  398.000000  \n",
      "mean    76.010050    1.572864  \n",
      "std      3.697627    0.802055  \n",
      "min     70.000000    1.000000  \n",
      "25%     73.000000    1.000000  \n",
      "50%     76.000000    1.000000  \n",
      "75%     79.000000    2.000000  \n",
      "max     82.000000    3.000000  \n",
      "\n",
      "\n",
      "               mpg   cylinders  displacement horsepower       weight  \\\n",
      "count   398.000000  398.000000    398.000000        398   398.000000   \n",
      "unique         NaN         NaN           NaN         94          NaN   \n",
      "top            NaN         NaN           NaN      150.0          NaN   \n",
      "freq           NaN         NaN           NaN         22          NaN   \n",
      "mean     23.514573    5.454774    193.425879        NaN  2970.424623   \n",
      "std       7.815984    1.701004    104.269838        NaN   846.841774   \n",
      "min       9.000000    3.000000     68.000000        NaN  1613.000000   \n",
      "25%      17.500000    4.000000    104.250000        NaN  2223.750000   \n",
      "50%      23.000000    4.000000    148.500000        NaN  2803.500000   \n",
      "75%      29.000000    8.000000    262.000000        NaN  3608.000000   \n",
      "max      46.600000    8.000000    455.000000        NaN  5140.000000   \n",
      "\n",
      "        acceleration  model year      origin        name  \n",
      "count     398.000000  398.000000  398.000000         398  \n",
      "unique           NaN         NaN         NaN         305  \n",
      "top              NaN         NaN         NaN  ford pinto  \n",
      "freq             NaN         NaN         NaN           6  \n",
      "mean       15.568090   76.010050    1.572864         NaN  \n",
      "std         2.757689    3.697627    0.802055         NaN  \n",
      "min         8.000000   70.000000    1.000000         NaN  \n",
      "25%        13.825000   73.000000    1.000000         NaN  \n",
      "50%        15.500000   76.000000    1.000000         NaN  \n",
      "75%        17.175000   79.000000    2.000000         NaN  \n",
      "max        24.800000   82.000000    3.000000         NaN  \n"
     ]
    }
   ],
   "source": [
    "# 데이터프레임 df의 기술통계 정보 확인 \n",
    "print(df.describe())\n",
    "print('\\n')\n",
    "print(df.describe(include='all'))"
   ]
  },
  {
   "cell_type": "code",
   "execution_count": 6,
   "metadata": {},
   "outputs": [
    {
     "name": "stdout",
     "output_type": "stream",
     "text": [
      "[숫자로 구성된 시리즈]\n",
      "count      8.00000\n",
      "mean      36.37500\n",
      "std       30.17538\n",
      "min        8.00000\n",
      "25%       17.75000\n",
      "50%       27.50000\n",
      "75%       44.25000\n",
      "max      100.00000\n",
      "dtype: float64\n",
      "[문자열로 구성된 시리즈]\n",
      "count      8\n",
      "unique     3\n",
      "top       AA\n",
      "freq       5\n",
      "dtype: object\n"
     ]
    }
   ],
   "source": [
    "sr1 = pd.Series([11,20,30,25,100,40,57,8])\n",
    "sr2 = pd.Series(['AA', 'BB', 'AA', 'BB', 'AA', 'AA', 'CC', 'AA'])\n",
    "print('[숫자로 구성된 시리즈]')\n",
    "print(sr1.describe())\n",
    "print('[문자열로 구성된 시리즈]')\n",
    "print(sr2.describe())"
   ]
  },
  {
   "cell_type": "code",
   "execution_count": 7,
   "metadata": {},
   "outputs": [
    {
     "name": "stdout",
     "output_type": "stream",
     "text": [
      "mpg             398\n",
      "cylinders       398\n",
      "displacement    398\n",
      "horsepower      398\n",
      "weight          398\n",
      "acceleration    398\n",
      "model year      398\n",
      "origin          398\n",
      "name            398\n",
      "dtype: int64\n",
      "\n",
      "\n"
     ]
    }
   ],
   "source": [
    "# 예제 3-2\n",
    "import pandas as pd\n",
    "\n",
    "# read_csv() 함수로 df 생성\n",
    "df = pd.read_csv('./data/auto-mpg.csv', header=None)\n",
    "\n",
    "# 열 이름을 지정\n",
    "df.columns = ['mpg','cylinders','displacement','horsepower','weight',\n",
    "              'acceleration','model year','origin','name']\n",
    "\n",
    "# 데이터프레임 df의 각 열이 가지고 있는 원소 개수 확인 \n",
    "print(df.count())\n",
    "print('\\n')"
   ]
  },
  {
   "cell_type": "code",
   "execution_count": 8,
   "metadata": {},
   "outputs": [
    {
     "name": "stdout",
     "output_type": "stream",
     "text": [
      "<class 'pandas.core.series.Series'>\n",
      "\n",
      "\n",
      "1    249\n",
      "3     79\n",
      "2     70\n",
      "Name: origin, dtype: int64\n",
      "\n",
      "\n",
      "<class 'pandas.core.series.Series'>\n"
     ]
    }
   ],
   "source": [
    "# df.count()가 반환하는 객체 타입 출력\n",
    "print(type(df.count()))\n",
    "print('\\n')\n",
    "\n",
    "# 데이터프레임 df의 특정 열이 가지고 있는 고유값 확인 \n",
    "unique_values = df['origin'].value_counts() \n",
    "print(unique_values)\n",
    "print('\\n')\n",
    "\n",
    "# value_counts 메소드가 반환하는 객체 타입 출력\n",
    "print(type(unique_values))"
   ]
  },
  {
   "cell_type": "code",
   "execution_count": 9,
   "metadata": {},
   "outputs": [
    {
     "name": "stdout",
     "output_type": "stream",
     "text": [
      "mpg               23.514573\n",
      "cylinders          5.454774\n",
      "displacement     193.425879\n",
      "weight          2970.424623\n",
      "acceleration      15.568090\n",
      "model year        76.010050\n",
      "origin             1.572864\n",
      "dtype: float64\n",
      "\n",
      "\n",
      "23.514572864321615\n",
      "23.514572864321615\n",
      "\n",
      "\n",
      "mpg         23.514573\n",
      "weight    2970.424623\n",
      "dtype: float64\n"
     ]
    }
   ],
   "source": [
    "# 예제 3-3\n",
    "import pandas as pd\n",
    "\n",
    "# read_csv() 함수로 df 생성\n",
    "df = pd.read_csv('./data/auto-mpg.csv', header=None)\n",
    "\n",
    "# 열 이름을 지정\n",
    "df.columns = ['mpg','cylinders','displacement','horsepower','weight',\n",
    "              'acceleration','model year','origin','name']\n",
    "\n",
    "# 평균값 \n",
    "print(df.mean())\n",
    "print('\\n')\n",
    "print(df['mpg'].mean())\n",
    "print(df.mpg.mean())\n",
    "print('\\n')\n",
    "print(df[['mpg','weight']].mean())"
   ]
  },
  {
   "cell_type": "code",
   "execution_count": null,
   "metadata": {},
   "outputs": [],
   "source": [
    "# 중간값 \n",
    "print(df.median())\n",
    "print('\\n')\n",
    "print(df['mpg'].median())"
   ]
  },
  {
   "cell_type": "code",
   "execution_count": null,
   "metadata": {},
   "outputs": [],
   "source": [
    "# 최대값 \n",
    "print(df.max())\n",
    "print('\\n')\n",
    "print(df['mpg'].max())"
   ]
  },
  {
   "cell_type": "code",
   "execution_count": null,
   "metadata": {},
   "outputs": [],
   "source": [
    "# 최소값 \n",
    "print(df.min())\n",
    "print('\\n')\n",
    "print(df['mpg'].min())"
   ]
  },
  {
   "cell_type": "code",
   "execution_count": null,
   "metadata": {},
   "outputs": [],
   "source": [
    "# 표준편차 \n",
    "print(df.std())\n",
    "print('\\n')\n",
    "print(df['mpg'].std())"
   ]
  },
  {
   "cell_type": "code",
   "execution_count": 10,
   "metadata": {},
   "outputs": [
    {
     "name": "stdout",
     "output_type": "stream",
     "text": [
      "                   mpg  cylinders  displacement    weight  acceleration  \\\n",
      "mpg           1.000000  -0.775396     -0.804203 -0.831741      0.420289   \n",
      "cylinders    -0.775396   1.000000      0.950721  0.896017     -0.505419   \n",
      "displacement -0.804203   0.950721      1.000000  0.932824     -0.543684   \n",
      "weight       -0.831741   0.896017      0.932824  1.000000     -0.417457   \n",
      "acceleration  0.420289  -0.505419     -0.543684 -0.417457      1.000000   \n",
      "model year    0.579267  -0.348746     -0.370164 -0.306564      0.288137   \n",
      "origin        0.563450  -0.562543     -0.609409 -0.581024      0.205873   \n",
      "\n",
      "              model year    origin  \n",
      "mpg             0.579267  0.563450  \n",
      "cylinders      -0.348746 -0.562543  \n",
      "displacement   -0.370164 -0.609409  \n",
      "weight         -0.306564 -0.581024  \n",
      "acceleration    0.288137  0.205873  \n",
      "model year      1.000000  0.180662  \n",
      "origin          0.180662  1.000000  \n",
      "\n",
      "\n",
      "             mpg    weight\n",
      "mpg     1.000000 -0.831741\n",
      "weight -0.831741  1.000000\n"
     ]
    }
   ],
   "source": [
    "# 상관계수 \n",
    "print(df.corr())\n",
    "print('\\n')\n",
    "print(df[['mpg','weight']].corr())"
   ]
  },
  {
   "cell_type": "code",
   "execution_count": null,
   "metadata": {},
   "outputs": [],
   "source": [
    "# 예제 3-4\n",
    "import pandas as pd\n",
    "\n",
    "df = pd.read_excel('./data/남북한발전전력량.xlsx')  # 데이터프레임 변환 \n",
    "display(df)\n",
    "df_ns = df.iloc[[0, 5], 2:]            # 남한, 북한 발전량 합계 데이터만 추출\n",
    "display(df_ns)\n",
    "df_ns.index = ['South','North']        # 행 인덱스 변경\n",
    "display(df_ns)\n",
    "#df_ns.columns = df_ns.columns.map(int) # 열 이름의 자료형을 정수형으로 변경\n",
    "print(df_ns.head())\n",
    "print('\\n')\n",
    "\n",
    "# 선 그래프 그리기\n",
    "df_ns.plot()\n",
    "\n",
    "# 행, 열 전치하여 다시 그리기\n",
    "tdf_ns = df_ns.T\n",
    "print(tdf_ns.head())\n",
    "print('\\n')\n",
    "tdf_ns.plot()"
   ]
  },
  {
   "cell_type": "code",
   "execution_count": 11,
   "metadata": {},
   "outputs": [
    {
     "name": "stdout",
     "output_type": "stream",
     "text": [
      "     South North\n",
      "1991  1186   263\n",
      "1992  1310   247\n",
      "1993  1444   221\n",
      "1994  1650   231\n",
      "1995  1847   230\n",
      "\n",
      "\n"
     ]
    },
    {
     "data": {
      "text/plain": [
       "<AxesSubplot:>"
      ]
     },
     "execution_count": 11,
     "metadata": {},
     "output_type": "execute_result"
    },
    {
     "data": {
      "image/png": "[encoded data removed]",
      "text/plain": [
       "<Figure size 432x288 with 1 Axes>"
      ]
     },
     "metadata": {
      "needs_background": "light"
     },
     "output_type": "display_data"
    }
   ],
   "source": [
    "# 예제 3-5\n",
    "import pandas as pd\n",
    "\n",
    "df = pd.read_excel('./data/남북한발전전력량.xlsx')  # 데이터프레임 변환 \n",
    "\n",
    "df_ns = df.iloc[[0, 5], 3:]            # 남한, 북한 발전량 합계 데이터만 추출\n",
    "df_ns.index = ['South','North']        # 행 인덱스 변경\n",
    "df_ns.columns = df_ns.columns.map(int) # 열 이름의 자료형을 정수형으로 변경\n",
    "\n",
    "# 행, 열 전치하여 막대 그래프 그리기\n",
    "tdf_ns = df_ns.T\n",
    "print(tdf_ns.head())\n",
    "print('\\n')\n",
    "tdf_ns.plot(kind='bar')"
   ]
  },
  {
   "cell_type": "code",
   "execution_count": null,
   "metadata": {},
   "outputs": [],
   "source": [
    "# 예제 3-6\n",
    "import pandas as pd\n",
    "\n",
    "df = pd.read_excel('./data/남북한발전전력량.xlsx')  # 데이터프레임 변환 \n",
    "\n",
    "df_ns = df.iloc[[0, 5], 3:]            # 남한, 북한 발전량 합계 데이터만 추출\n",
    "df_ns.index = ['South','North']        # 행 인덱스 변경\n",
    "df_ns.columns = df_ns.columns.map(int) # 열 이름의 자료형을 정수형으로 변경\n",
    "\n",
    "# 행, 열 전치하여 히스토그램 그리기\n",
    "tdf_ns = df_ns.T\n",
    "tdf_ns.plot(kind='hist')"
   ]
  },
  {
   "cell_type": "code",
   "execution_count": null,
   "metadata": {},
   "outputs": [],
   "source": [
    "# 예제 3-7\n",
    "import pandas as pd\n",
    "\n",
    "# read_csv() 함수로 df 생성\n",
    "df = pd.read_csv('./data/auto-mpg.csv', header=None)\n",
    "\n",
    "# 열 이름을 지정\n",
    "df.columns = ['mpg','cylinders','displacement','horsepower','weight',\n",
    "              'acceleration','model year','origin','name']\n",
    "\n",
    "# 2개의 열을 선택하여 산점도 그리기\n",
    "df.plot(x='weight',y='mpg', kind='scatter')"
   ]
  },
  {
   "cell_type": "code",
   "execution_count": null,
   "metadata": {},
   "outputs": [],
   "source": [
    "# 예제 3-8\n",
    "import pandas as pd\n",
    "\n",
    "# read_csv() 함수로 df 생성\n",
    "df = pd.read_csv('./data/auto-mpg.csv', header=None)\n",
    "\n",
    "# 열 이름을 지정\n",
    "df.columns = ['mpg','cylinders','displacement','horsepower','weight',\n",
    "              'acceleration','model year','origin','name']\n",
    "\n",
    "# 열을 선택하여 박스 플롯 그리기\n",
    "df[['mpg','cylinders']].plot(kind='box')"
   ]
  },
  {
   "cell_type": "code",
   "execution_count": null,
   "metadata": {},
   "outputs": [],
   "source": [
    "data = {\n",
    "    'name':['둘리', '또치', '도우너', '희동이'],\n",
    "    '국어':[90, 80, 70, 70],\n",
    "    '영어':[99, 98, 97, 46],\n",
    "    '수학':[90, 70, 70, 60],\n",
    "}\n",
    "df = pd.DataFrame(data)\n",
    "display(df)\n",
    "df.set_index('name', inplace=True)\n",
    "display(df)"
   ]
  },
  {
   "cell_type": "code",
   "execution_count": null,
   "metadata": {},
   "outputs": [],
   "source": [
    "from matplotlib import font_manager, rc\n",
    "font_path = \"data/malgun.ttf\"   #폰트파일의 위치\n",
    "font_name = font_manager.FontProperties(fname=font_path).get_name()\n",
    "rc('font', family=font_name)"
   ]
  },
  {
   "cell_type": "code",
   "execution_count": null,
   "metadata": {},
   "outputs": [],
   "source": [
    "df.plot()"
   ]
  },
  {
   "cell_type": "code",
   "execution_count": null,
   "metadata": {},
   "outputs": [],
   "source": [
    "df.plot(color=[\"red\",\"green\",\"blue\"])"
   ]
  },
  {
   "cell_type": "code",
   "execution_count": null,
   "metadata": {},
   "outputs": [],
   "source": [
    "df.T.plot()"
   ]
  },
  {
   "cell_type": "code",
   "execution_count": null,
   "metadata": {},
   "outputs": [],
   "source": [
    "df.plot(kind='bar')"
   ]
  },
  {
   "cell_type": "code",
   "execution_count": null,
   "metadata": {},
   "outputs": [],
   "source": [
    "import matplotlib.pyplot as plt\n",
    "mycolors = plt.get_cmap(\"plasma\", len(df))"
   ]
  },
  {
   "cell_type": "code",
   "execution_count": null,
   "metadata": {},
   "outputs": [],
   "source": [
    "df.plot(kind='bar', color=mycolors(range(4)))"
   ]
  },
  {
   "cell_type": "code",
   "execution_count": null,
   "metadata": {},
   "outputs": [],
   "source": [
    "df.plot(kind='bar', stacked=True)"
   ]
  },
  {
   "cell_type": "code",
   "execution_count": null,
   "metadata": {},
   "outputs": [],
   "source": [
    "df.plot(kind='barh')"
   ]
  },
  {
   "cell_type": "code",
   "execution_count": null,
   "metadata": {},
   "outputs": [],
   "source": [
    "df.plot(kind='box')"
   ]
  },
  {
   "cell_type": "code",
   "execution_count": null,
   "metadata": {},
   "outputs": [],
   "source": [
    "mycolor = {\n",
    "    \"boxes\": \"red\",\n",
    "    \"whiskers\": \"blue\",\n",
    "    \"medians\": \"yellow\",\n",
    "    \"caps\": \"green\",\n",
    "}\n",
    "df.plot(kind='box', color=mycolor)"
   ]
  },
  {
   "cell_type": "code",
   "execution_count": null,
   "metadata": {},
   "outputs": [],
   "source": [
    "df.plot(kind='pie',y='국어')"
   ]
  },
  {
   "cell_type": "code",
   "execution_count": null,
   "metadata": {},
   "outputs": [],
   "source": [
    "df.plot(kind='pie',y='영어', legend=False)"
   ]
  },
  {
   "cell_type": "code",
   "execution_count": null,
   "metadata": {},
   "outputs": [],
   "source": [
    "df.plot(kind='pie',y='수학', legend=False)"
   ]
  },
  {
   "cell_type": "code",
   "execution_count": null,
   "metadata": {},
   "outputs": [],
   "source": [
    "sr = pd.Series([10,35,20,15,30], index=['둘리', '도우너', '또치', '희동이', '마이콜'])\n",
    "sr.plot()"
   ]
  },
  {
   "cell_type": "code",
   "execution_count": null,
   "metadata": {},
   "outputs": [],
   "source": [
    "sr.plot(c='r')"
   ]
  },
  {
   "cell_type": "code",
   "execution_count": null,
   "metadata": {},
   "outputs": [],
   "source": [
    "sr"
   ]
  },
  {
   "cell_type": "code",
   "execution_count": null,
   "metadata": {
    "tags": []
   },
   "outputs": [],
   "source": [
    "mycolors = plt.get_cmap(\"plasma\", len(sr))\n",
    "sr.plot(kind='bar', rot=20, color=mycolors(range(5)))"
   ]
  },
  {
   "cell_type": "code",
   "execution_count": null,
   "metadata": {},
   "outputs": [],
   "source": [
    "mycolors = plt.get_cmap(\"Pastel2\", len(sr))\n",
    "sr.plot(kind='barh', color=mycolors(range(5)))"
   ]
  },
  {
   "cell_type": "code",
   "execution_count": null,
   "metadata": {},
   "outputs": [],
   "source": [
    "r=sr.plot(kind='box')\n",
    "r.set_xticklabels(['둘리,도우너,또치,희동이,마이콜의 점수'])\n",
    "import matplotlib.pyplot as plt\n",
    "plt.savefig('output/test.png')"
   ]
  }
 ],
 "metadata": {
  "kernelspec": {
   "display_name": "Python 3",
   "language": "python",
   "name": "python3"
  },
  "language_info": {
   "codemirror_mode": {
    "name": "ipython",
    "version": 3
   },
   "file_extension": ".py",
   "mimetype": "text/x-python",
   "name": "python",
   "nbconvert_exporter": "python",
   "pygments_lexer": "ipython3",
   "version": "3.8.8"
  },
  "toc": {
   "base_numbering": 1,
   "nav_menu": {},
   "number_sections": true,
   "sideBar": true,
   "skip_h1_title": false,
   "title_cell": "Table of Contents",
   "title_sidebar": "Contents",
   "toc_cell": false,
   "toc_position": {},
   "toc_section_display": true,
   "toc_window_display": false
  },
  "varInspector": {
   "cols": {
    "lenName": 16,
    "lenType": 16,
    "lenVar": 40
   },
   "kernels_config": {
    "python": {
     "delete_cmd_postfix": "",
     "delete_cmd_prefix": "del ",
     "library": "var_list.py",
     "varRefreshCmd": "print(var_dic_list())"
    },
    "r": {
     "delete_cmd_postfix": ") ",
     "delete_cmd_prefix": "rm(",
     "library": "var_list.r",
     "varRefreshCmd": "cat(var_dic_list()) "
    }
   },
   "types_to_exclude": [
    "module",
    "function",
    "builtin_function_or_method",
    "instance",
    "_Feature"
   ],
   "window_display": false
  }
 },
 "nbformat": 4,
 "nbformat_minor": 4
}
