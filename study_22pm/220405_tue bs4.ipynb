{
 "cells": [
  {
   "cell_type": "markdown",
   "metadata": {},
   "source": [
    "## 웹 문서의 그림 이미지 파일을 PC에 저장하기"
   ]
  },
  {
   "cell_type": "code",
   "execution_count": null,
   "metadata": {},
   "outputs": [],
   "source": [
    "import requests\n",
    "from bs4 import BeautifulSoup\n",
    "\n",
    "url = \"https://en.wikipedia.org/wiki/Seoul_Metropolitan_Subway\"\n",
    "resp = requests.get(url)\n",
    "html_src = resp.text\n",
    "\n",
    "soup = BeautifulSoup(html_src, 'html.parser')\n",
    "\n",
    "target_img = soup.find(name='img', attrs={'alt': 'Seoul-metro-2009-20180916-103548.jpg'})\n",
    "print('HTML 요소: ', target_img)\n",
    "print('--'*25)\n",
    "target_img_resp = requests.get('http:'+target_img_src)\n",
    "out_file_path = \"download_image.jpg\"\n",
    "\n",
    "# with open(out_file_path, 'wb')\n",
    "# ~~~ 놓침"
   ]
  },
  {
   "cell_type": "markdown",
   "metadata": {},
   "source": [
    "## 웹 문서에 포함된 모든 하이퍼링크 추출하기"
   ]
  },
  {
   "cell_type": "code",
   "execution_count": 7,
   "metadata": {},
   "outputs": [
    {
     "name": "stdout",
     "output_type": "stream",
     "text": [
      "<class 'bs4.element.ResultSet'>\n",
      "568\n",
      "하이퍼링크의 개수:  59\n"
     ]
    }
   ],
   "source": [
    "import requests, re\n",
    "from bs4 import BeautifulSoup\n",
    "\n",
    "url = 'https://en.wikipedia.org/wiki/Seoul_Metapolitan_Subway'\n",
    "resp = requests.get(url)\n",
    "html_src = resp.text\n",
    "soup = BeautifulSoup(html_src, 'html.parser')\n",
    "\n",
    "links = soup.find_all('a')\n",
    "print(type(links))\n",
    "# print(dir(links))\n",
    "print(links.__sizeof__())\n",
    "print('하이퍼링크의 개수: ', len(links))\n",
    "print('-'*50)\n",
    "print('첫 3개의 원소: ', links[:3])\n",
    "print('-'*50)\n",
    "\n",
    "wiki_links = soup.find_all(name=\"a\", href=re.compile(\"/wiki/\"), limit=3)\n",
    "print(\"/wiki/문자열이 포함된 하이퍼링크: \", wiki_links)\n",
    "print('-'*50)\n",
    "\n",
    "exernal_links = soup.find_all(name=\"a\", attrs={'class':'external'})"
   ]
  },
  {
   "cell_type": "markdown",
   "metadata": {},
   "source": [
    "## CSS Selector 활용하기1"
   ]
  },
  {
   "cell_type": "code",
   "execution_count": 10,
   "metadata": {},
   "outputs": [
    {
     "ename": "TypeError",
     "evalue": "'NoneType' object is not callable",
     "output_type": "error",
     "traceback": [
      "\u001b[1;31m---------------------------------------------------------------------------\u001b[0m",
      "\u001b[1;31mTypeError\u001b[0m                                 Traceback (most recent call last)",
      "\u001b[1;32m<ipython-input-10-13d049db29ac>\u001b[0m in \u001b[0;36m<module>\u001b[1;34m\u001b[0m\n\u001b[0;32m      7\u001b[0m \u001b[0msoup\u001b[0m \u001b[1;33m=\u001b[0m \u001b[0mBeautifulSoup\u001b[0m\u001b[1;33m(\u001b[0m\u001b[0mhtml_src\u001b[0m\u001b[1;33m,\u001b[0m \u001b[1;34m'html.parser'\u001b[0m\u001b[1;33m)\u001b[0m\u001b[1;33m\u001b[0m\u001b[1;33m\u001b[0m\u001b[0m\n\u001b[0;32m      8\u001b[0m \u001b[1;33m\u001b[0m\u001b[0m\n\u001b[1;32m----> 9\u001b[1;33m \u001b[0msubway_image\u001b[0m \u001b[1;33m=\u001b[0m \u001b[0msoup\u001b[0m\u001b[1;33m.\u001b[0m\u001b[0mxpath\u001b[0m\u001b[1;33m(\u001b[0m\u001b[1;34m'//*[@id=\"mw-content-text\"]/div[1]/table[3]/tbody/tr[2]/td/a/img'\u001b[0m\u001b[1;33m)\u001b[0m\u001b[1;33m\u001b[0m\u001b[1;33m\u001b[0m\u001b[0m\n\u001b[0m\u001b[0;32m     10\u001b[0m \u001b[0mprint\u001b[0m\u001b[1;33m(\u001b[0m\u001b[0msubway_image\u001b[0m\u001b[1;33m)\u001b[0m\u001b[1;33m\u001b[0m\u001b[1;33m\u001b[0m\u001b[0m\n\u001b[0;32m     11\u001b[0m \u001b[0mprint\u001b[0m\u001b[1;33m(\u001b[0m\u001b[1;33m)\u001b[0m\u001b[1;33m\u001b[0m\u001b[1;33m\u001b[0m\u001b[0m\n",
      "\u001b[1;31mTypeError\u001b[0m: 'NoneType' object is not callable"
     ]
    }
   ],
   "source": [
    "import requests\n",
    "from bs4 import BeautifulSoup\n",
    "\n",
    "url = \"https://en.wikipedia.org/wiki/Seoul_Metropolitan_Subway\"\n",
    "resp = requests.get(url)\n",
    "html_src = resp.text\n",
    "soup = BeautifulSoup(html_src, 'html.parser')\n",
    "\n",
    "# case1 - select\n",
    "subway_image = soup.select('#mw-content-text > div.mw-parser-output > table:nth-child(5) > tbody > tr:nth-child(2) > td > a > img')\n",
    "print(subway_image)\n",
    "print()\n",
    "print(subway_image[0])\n",
    "\n",
    "# case2 - xpath\n",
    "subway_image = soup.xpath('//*[@id=\"mw-content-text\"]/div[1]/table[3]/tbody/tr[2]/td/a/img')\n",
    "print(subway_image)\n",
    "print()\n",
    "print(subway_image[0])\n",
    "\n",
    "# print(subway_image[0])\n",
    "# subway_image2 = soup.select('a > img')\n",
    "# print(len(subway_image2))\n",
    "# print()\n",
    "# for i in range(5):\n",
    "#     print(subway_image2[i])\n",
    "#     print()\n",
    "    "
   ]
  },
  {
   "cell_type": "code",
   "execution_count": null,
   "metadata": {},
   "outputs": [],
   "source": []
  },
  {
   "cell_type": "code",
   "execution_count": null,
   "metadata": {},
   "outputs": [],
   "source": []
  }
 ],
 "metadata": {
  "kernelspec": {
   "display_name": "Python 3",
   "language": "python",
   "name": "python3"
  },
  "language_info": {
   "codemirror_mode": {
    "name": "ipython",
    "version": 3
   },
   "file_extension": ".py",
   "mimetype": "text/x-python",
   "name": "python",
   "nbconvert_exporter": "python",
   "pygments_lexer": "ipython3",
   "version": "3.7.3"
  }
 },
 "nbformat": 4,
 "nbformat_minor": 2
}
